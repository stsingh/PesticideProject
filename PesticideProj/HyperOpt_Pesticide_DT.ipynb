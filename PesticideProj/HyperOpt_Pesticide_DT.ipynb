{
 "cells": [
  {
   "cell_type": "code",
   "execution_count": 27,
   "metadata": {},
   "outputs": [],
   "source": [
    "# copy x train five times for each model\n",
    "#different workflow patterns, (pca vs no pca, hyperopt vs no, high dim vs low)\n",
    "import numpy as np\n",
    "import pandas as pd\n",
    "import matplotlib.pyplot as plt\n",
    "from sklearn import preprocessing\n",
    "#from plotter import Plotter"
   ]
  },
  {
   "cell_type": "markdown",
   "metadata": {},
   "source": [
    "### Data preperation"
   ]
  },
  {
   "cell_type": "markdown",
   "metadata": {
    "heading_collapsed": true
   },
   "source": [
    "#### Load the data and generate descriptors"
   ]
  },
  {
   "cell_type": "code",
   "execution_count": 28,
   "metadata": {
    "hidden": true
   },
   "outputs": [
    {
     "data": {
      "text/html": [
       "<div>\n",
       "<style scoped>\n",
       "    .dataframe tbody tr th:only-of-type {\n",
       "        vertical-align: middle;\n",
       "    }\n",
       "\n",
       "    .dataframe tbody tr th {\n",
       "        vertical-align: top;\n",
       "    }\n",
       "\n",
       "    .dataframe thead th {\n",
       "        text-align: right;\n",
       "    }\n",
       "</style>\n",
       "<table border=\"1\" class=\"dataframe\">\n",
       "  <thead>\n",
       "    <tr style=\"text-align: right;\">\n",
       "      <th></th>\n",
       "      <th>Pesticide Name</th>\n",
       "      <th>EPA Tolerance (ppm)</th>\n",
       "      <th>Smiles</th>\n",
       "      <th>ExactMolWt</th>\n",
       "      <th>HeavyAtomMolWt</th>\n",
       "      <th>NumRadicalElectrons</th>\n",
       "      <th>NumValenceElectrons</th>\n",
       "      <th>HeavyAtomCount</th>\n",
       "      <th>NHOHCount</th>\n",
       "      <th>NOCount</th>\n",
       "      <th>...</th>\n",
       "      <th>FeatureAcceptorCount3D</th>\n",
       "      <th>FeatureDonorCount3D</th>\n",
       "      <th>FeatureAnionCount3D</th>\n",
       "      <th>FeatureCationCount3D</th>\n",
       "      <th>FeatureRingCount3D</th>\n",
       "      <th>FeatureHydrophobeCount3D</th>\n",
       "      <th>ConformerModelRMSD3D</th>\n",
       "      <th>EffectiveRotorCount3D</th>\n",
       "      <th>ConformerCount3D</th>\n",
       "      <th>Class</th>\n",
       "    </tr>\n",
       "  </thead>\n",
       "  <tbody>\n",
       "    <tr>\n",
       "      <th>0</th>\n",
       "      <td>Procymidone</td>\n",
       "      <td>NT</td>\n",
       "      <td>CC12CC1(C)C(=O)N(C2=O)c3cc(Cl)cc(Cl)c3</td>\n",
       "      <td>283.016684</td>\n",
       "      <td>273.054</td>\n",
       "      <td>0</td>\n",
       "      <td>94</td>\n",
       "      <td>18</td>\n",
       "      <td>0</td>\n",
       "      <td>3</td>\n",
       "      <td>...</td>\n",
       "      <td>2.0</td>\n",
       "      <td>0.0</td>\n",
       "      <td>0.0</td>\n",
       "      <td>0.0</td>\n",
       "      <td>2.0</td>\n",
       "      <td>0.0</td>\n",
       "      <td>0.6</td>\n",
       "      <td>1.4</td>\n",
       "      <td>3</td>\n",
       "      <td>1</td>\n",
       "    </tr>\n",
       "    <tr>\n",
       "      <th>1</th>\n",
       "      <td>Fenamiphos</td>\n",
       "      <td>NT</td>\n",
       "      <td>CCO[P](=O)(NC(C)C)Oc1ccc(SC)c(C)c1</td>\n",
       "      <td>303.105801</td>\n",
       "      <td>281.188</td>\n",
       "      <td>0</td>\n",
       "      <td>108</td>\n",
       "      <td>19</td>\n",
       "      <td>1</td>\n",
       "      <td>4</td>\n",
       "      <td>...</td>\n",
       "      <td>1.0</td>\n",
       "      <td>0.0</td>\n",
       "      <td>0.0</td>\n",
       "      <td>0.0</td>\n",
       "      <td>1.0</td>\n",
       "      <td>2.0</td>\n",
       "      <td>0.8</td>\n",
       "      <td>7.0</td>\n",
       "      <td>10</td>\n",
       "      <td>1</td>\n",
       "    </tr>\n",
       "    <tr>\n",
       "      <th>2</th>\n",
       "      <td>Metribuzin</td>\n",
       "      <td>NT</td>\n",
       "      <td>CSC1=NN=C(C(=O)N1N)C(C)(C)C</td>\n",
       "      <td>214.088832</td>\n",
       "      <td>200.182</td>\n",
       "      <td>0</td>\n",
       "      <td>78</td>\n",
       "      <td>14</td>\n",
       "      <td>2</td>\n",
       "      <td>5</td>\n",
       "      <td>...</td>\n",
       "      <td>2.0</td>\n",
       "      <td>1.0</td>\n",
       "      <td>0.0</td>\n",
       "      <td>0.0</td>\n",
       "      <td>1.0</td>\n",
       "      <td>2.0</td>\n",
       "      <td>0.6</td>\n",
       "      <td>2.0</td>\n",
       "      <td>3</td>\n",
       "      <td>1</td>\n",
       "    </tr>\n",
       "    <tr>\n",
       "      <th>3</th>\n",
       "      <td>Fenamiphos sulfone</td>\n",
       "      <td>NT</td>\n",
       "      <td>CCO[P](=O)(NC(C)C)Oc1ccc(c(C)c1)[S](C)(=O)=O</td>\n",
       "      <td>335.095630</td>\n",
       "      <td>313.186</td>\n",
       "      <td>0</td>\n",
       "      <td>120</td>\n",
       "      <td>21</td>\n",
       "      <td>1</td>\n",
       "      <td>6</td>\n",
       "      <td>...</td>\n",
       "      <td>3.0</td>\n",
       "      <td>0.0</td>\n",
       "      <td>0.0</td>\n",
       "      <td>0.0</td>\n",
       "      <td>1.0</td>\n",
       "      <td>1.0</td>\n",
       "      <td>0.8</td>\n",
       "      <td>7.0</td>\n",
       "      <td>10</td>\n",
       "      <td>1</td>\n",
       "    </tr>\n",
       "    <tr>\n",
       "      <th>4</th>\n",
       "      <td>Methiocarb</td>\n",
       "      <td>NT</td>\n",
       "      <td>CNC(=O)Oc1cc(C)c(SC)c(C)c1</td>\n",
       "      <td>225.082350</td>\n",
       "      <td>210.193</td>\n",
       "      <td>0</td>\n",
       "      <td>82</td>\n",
       "      <td>15</td>\n",
       "      <td>1</td>\n",
       "      <td>3</td>\n",
       "      <td>...</td>\n",
       "      <td>1.0</td>\n",
       "      <td>1.0</td>\n",
       "      <td>0.0</td>\n",
       "      <td>0.0</td>\n",
       "      <td>1.0</td>\n",
       "      <td>1.0</td>\n",
       "      <td>0.6</td>\n",
       "      <td>4.0</td>\n",
       "      <td>10</td>\n",
       "      <td>1</td>\n",
       "    </tr>\n",
       "  </tbody>\n",
       "</table>\n",
       "<p>5 rows × 60 columns</p>\n",
       "</div>"
      ],
      "text/plain": [
       "       Pesticide Name EPA Tolerance (ppm)  \\\n",
       "0         Procymidone                  NT   \n",
       "1          Fenamiphos                  NT   \n",
       "2          Metribuzin                  NT   \n",
       "3  Fenamiphos sulfone                  NT   \n",
       "4          Methiocarb                  NT   \n",
       "\n",
       "                                         Smiles  ExactMolWt  HeavyAtomMolWt  \\\n",
       "0        CC12CC1(C)C(=O)N(C2=O)c3cc(Cl)cc(Cl)c3  283.016684         273.054   \n",
       "1            CCO[P](=O)(NC(C)C)Oc1ccc(SC)c(C)c1  303.105801         281.188   \n",
       "2                   CSC1=NN=C(C(=O)N1N)C(C)(C)C  214.088832         200.182   \n",
       "3  CCO[P](=O)(NC(C)C)Oc1ccc(c(C)c1)[S](C)(=O)=O  335.095630         313.186   \n",
       "4                    CNC(=O)Oc1cc(C)c(SC)c(C)c1  225.082350         210.193   \n",
       "\n",
       "   NumRadicalElectrons  NumValenceElectrons  HeavyAtomCount  NHOHCount  \\\n",
       "0                    0                   94              18          0   \n",
       "1                    0                  108              19          1   \n",
       "2                    0                   78              14          2   \n",
       "3                    0                  120              21          1   \n",
       "4                    0                   82              15          1   \n",
       "\n",
       "   NOCount  ...  FeatureAcceptorCount3D  FeatureDonorCount3D  \\\n",
       "0        3  ...                     2.0                  0.0   \n",
       "1        4  ...                     1.0                  0.0   \n",
       "2        5  ...                     2.0                  1.0   \n",
       "3        6  ...                     3.0                  0.0   \n",
       "4        3  ...                     1.0                  1.0   \n",
       "\n",
       "   FeatureAnionCount3D  FeatureCationCount3D  FeatureRingCount3D  \\\n",
       "0                  0.0                   0.0                 2.0   \n",
       "1                  0.0                   0.0                 1.0   \n",
       "2                  0.0                   0.0                 1.0   \n",
       "3                  0.0                   0.0                 1.0   \n",
       "4                  0.0                   0.0                 1.0   \n",
       "\n",
       "   FeatureHydrophobeCount3D  ConformerModelRMSD3D  EffectiveRotorCount3D  \\\n",
       "0                       0.0                   0.6                    1.4   \n",
       "1                       2.0                   0.8                    7.0   \n",
       "2                       2.0                   0.6                    2.0   \n",
       "3                       1.0                   0.8                    7.0   \n",
       "4                       1.0                   0.6                    4.0   \n",
       "\n",
       "   ConformerCount3D  Class  \n",
       "0                 3      1  \n",
       "1                10      1  \n",
       "2                 3      1  \n",
       "3                10      1  \n",
       "4                10      1  \n",
       "\n",
       "[5 rows x 60 columns]"
      ]
     },
     "execution_count": 28,
     "metadata": {},
     "output_type": "execute_result"
    }
   ],
   "source": [
    "pest_data = pd.read_csv(\"Data/BinaryPesticideData.csv\", delimiter=\",\")\n",
    "pest_data = pest_data.drop(['LOD'], axis=1)\n",
    "pest_data[0:5]"
   ]
  },
  {
   "cell_type": "code",
   "execution_count": 29,
   "metadata": {
    "hidden": true
   },
   "outputs": [
    {
     "data": {
      "text/html": [
       "<div>\n",
       "<style scoped>\n",
       "    .dataframe tbody tr th:only-of-type {\n",
       "        vertical-align: middle;\n",
       "    }\n",
       "\n",
       "    .dataframe tbody tr th {\n",
       "        vertical-align: top;\n",
       "    }\n",
       "\n",
       "    .dataframe thead th {\n",
       "        text-align: right;\n",
       "    }\n",
       "</style>\n",
       "<table border=\"1\" class=\"dataframe\">\n",
       "  <thead>\n",
       "    <tr style=\"text-align: right;\">\n",
       "      <th></th>\n",
       "      <th>Pesticide Name</th>\n",
       "      <th>EPA Tolerance (ppm)</th>\n",
       "      <th>Smiles</th>\n",
       "      <th>ExactMolWt</th>\n",
       "      <th>HeavyAtomMolWt</th>\n",
       "      <th>NumRadicalElectrons</th>\n",
       "      <th>NumValenceElectrons</th>\n",
       "      <th>HeavyAtomCount</th>\n",
       "      <th>NHOHCount</th>\n",
       "      <th>NOCount</th>\n",
       "      <th>...</th>\n",
       "      <th>FeatureAcceptorCount3D</th>\n",
       "      <th>FeatureDonorCount3D</th>\n",
       "      <th>FeatureAnionCount3D</th>\n",
       "      <th>FeatureCationCount3D</th>\n",
       "      <th>FeatureRingCount3D</th>\n",
       "      <th>FeatureHydrophobeCount3D</th>\n",
       "      <th>ConformerModelRMSD3D</th>\n",
       "      <th>EffectiveRotorCount3D</th>\n",
       "      <th>ConformerCount3D</th>\n",
       "      <th>Class</th>\n",
       "    </tr>\n",
       "  </thead>\n",
       "  <tbody>\n",
       "    <tr>\n",
       "      <th>235</th>\n",
       "      <td>Oxamyl oxime</td>\n",
       "      <td>T</td>\n",
       "      <td>CSC(=N/O)/C(=O)N(C)C</td>\n",
       "      <td>162.046299</td>\n",
       "      <td>152.134</td>\n",
       "      <td>0</td>\n",
       "      <td>58</td>\n",
       "      <td>10</td>\n",
       "      <td>1</td>\n",
       "      <td>4</td>\n",
       "      <td>...</td>\n",
       "      <td>2.0</td>\n",
       "      <td>0.0</td>\n",
       "      <td>1.0</td>\n",
       "      <td>0.0</td>\n",
       "      <td>0.0</td>\n",
       "      <td>1.0</td>\n",
       "      <td>0.6</td>\n",
       "      <td>3.0</td>\n",
       "      <td>10</td>\n",
       "      <td>2</td>\n",
       "    </tr>\n",
       "    <tr>\n",
       "      <th>236</th>\n",
       "      <td>Pyriproxyfen</td>\n",
       "      <td>T</td>\n",
       "      <td>CC(COc1ccc(Oc2ccccc2)cc1)Oc3ccccn3</td>\n",
       "      <td>321.136493</td>\n",
       "      <td>302.224</td>\n",
       "      <td>0</td>\n",
       "      <td>122</td>\n",
       "      <td>24</td>\n",
       "      <td>0</td>\n",
       "      <td>4</td>\n",
       "      <td>...</td>\n",
       "      <td>4.0</td>\n",
       "      <td>0.0</td>\n",
       "      <td>0.0</td>\n",
       "      <td>0.0</td>\n",
       "      <td>3.0</td>\n",
       "      <td>0.0</td>\n",
       "      <td>1.0</td>\n",
       "      <td>7.0</td>\n",
       "      <td>10</td>\n",
       "      <td>2</td>\n",
       "    </tr>\n",
       "    <tr>\n",
       "      <th>237</th>\n",
       "      <td>Boscalid</td>\n",
       "      <td>T</td>\n",
       "      <td>Clc1ccc(cc1)c2ccccc2NC(=O)c3cccnc3Cl</td>\n",
       "      <td>342.032668</td>\n",
       "      <td>331.117</td>\n",
       "      <td>0</td>\n",
       "      <td>114</td>\n",
       "      <td>23</td>\n",
       "      <td>1</td>\n",
       "      <td>3</td>\n",
       "      <td>...</td>\n",
       "      <td>2.0</td>\n",
       "      <td>1.0</td>\n",
       "      <td>0.0</td>\n",
       "      <td>0.0</td>\n",
       "      <td>3.0</td>\n",
       "      <td>0.0</td>\n",
       "      <td>0.6</td>\n",
       "      <td>4.0</td>\n",
       "      <td>10</td>\n",
       "      <td>2</td>\n",
       "    </tr>\n",
       "    <tr>\n",
       "      <th>238</th>\n",
       "      <td>Fenpropathrin</td>\n",
       "      <td>T</td>\n",
       "      <td>CC1(C)C(C(=O)OC(C#N)c2cccc(Oc3ccccc3)c2)C1(C)C</td>\n",
       "      <td>349.167794</td>\n",
       "      <td>326.246</td>\n",
       "      <td>0</td>\n",
       "      <td>134</td>\n",
       "      <td>26</td>\n",
       "      <td>0</td>\n",
       "      <td>4</td>\n",
       "      <td>...</td>\n",
       "      <td>3.0</td>\n",
       "      <td>0.0</td>\n",
       "      <td>0.0</td>\n",
       "      <td>0.0</td>\n",
       "      <td>2.0</td>\n",
       "      <td>2.0</td>\n",
       "      <td>1.0</td>\n",
       "      <td>6.6</td>\n",
       "      <td>10</td>\n",
       "      <td>2</td>\n",
       "    </tr>\n",
       "    <tr>\n",
       "      <th>239</th>\n",
       "      <td>Carfentrazone ethyl</td>\n",
       "      <td>T</td>\n",
       "      <td>CCOC(=O)C(Cl)Cc1cc(N2N=C(C)N(C(F)F)C2=O)c(F)cc1Cl</td>\n",
       "      <td>411.036431</td>\n",
       "      <td>398.083</td>\n",
       "      <td>0</td>\n",
       "      <td>142</td>\n",
       "      <td>26</td>\n",
       "      <td>0</td>\n",
       "      <td>6</td>\n",
       "      <td>...</td>\n",
       "      <td>2.0</td>\n",
       "      <td>0.0</td>\n",
       "      <td>0.0</td>\n",
       "      <td>0.0</td>\n",
       "      <td>2.0</td>\n",
       "      <td>0.0</td>\n",
       "      <td>0.8</td>\n",
       "      <td>7.0</td>\n",
       "      <td>10</td>\n",
       "      <td>2</td>\n",
       "    </tr>\n",
       "  </tbody>\n",
       "</table>\n",
       "<p>5 rows × 60 columns</p>\n",
       "</div>"
      ],
      "text/plain": [
       "          Pesticide Name EPA Tolerance (ppm)  \\\n",
       "235         Oxamyl oxime                   T   \n",
       "236         Pyriproxyfen                   T   \n",
       "237             Boscalid                   T   \n",
       "238        Fenpropathrin                   T   \n",
       "239  Carfentrazone ethyl                   T   \n",
       "\n",
       "                                                Smiles  ExactMolWt  \\\n",
       "235                               CSC(=N/O)/C(=O)N(C)C  162.046299   \n",
       "236                 CC(COc1ccc(Oc2ccccc2)cc1)Oc3ccccn3  321.136493   \n",
       "237               Clc1ccc(cc1)c2ccccc2NC(=O)c3cccnc3Cl  342.032668   \n",
       "238     CC1(C)C(C(=O)OC(C#N)c2cccc(Oc3ccccc3)c2)C1(C)C  349.167794   \n",
       "239  CCOC(=O)C(Cl)Cc1cc(N2N=C(C)N(C(F)F)C2=O)c(F)cc1Cl  411.036431   \n",
       "\n",
       "     HeavyAtomMolWt  NumRadicalElectrons  NumValenceElectrons  HeavyAtomCount  \\\n",
       "235         152.134                    0                   58              10   \n",
       "236         302.224                    0                  122              24   \n",
       "237         331.117                    0                  114              23   \n",
       "238         326.246                    0                  134              26   \n",
       "239         398.083                    0                  142              26   \n",
       "\n",
       "     NHOHCount  NOCount  ...  FeatureAcceptorCount3D  FeatureDonorCount3D  \\\n",
       "235          1        4  ...                     2.0                  0.0   \n",
       "236          0        4  ...                     4.0                  0.0   \n",
       "237          1        3  ...                     2.0                  1.0   \n",
       "238          0        4  ...                     3.0                  0.0   \n",
       "239          0        6  ...                     2.0                  0.0   \n",
       "\n",
       "     FeatureAnionCount3D  FeatureCationCount3D  FeatureRingCount3D  \\\n",
       "235                  1.0                   0.0                 0.0   \n",
       "236                  0.0                   0.0                 3.0   \n",
       "237                  0.0                   0.0                 3.0   \n",
       "238                  0.0                   0.0                 2.0   \n",
       "239                  0.0                   0.0                 2.0   \n",
       "\n",
       "     FeatureHydrophobeCount3D  ConformerModelRMSD3D  EffectiveRotorCount3D  \\\n",
       "235                       1.0                   0.6                    3.0   \n",
       "236                       0.0                   1.0                    7.0   \n",
       "237                       0.0                   0.6                    4.0   \n",
       "238                       2.0                   1.0                    6.6   \n",
       "239                       0.0                   0.8                    7.0   \n",
       "\n",
       "     ConformerCount3D  Class  \n",
       "235                10      2  \n",
       "236                10      2  \n",
       "237                10      2  \n",
       "238                10      2  \n",
       "239                10      2  \n",
       "\n",
       "[5 rows x 60 columns]"
      ]
     },
     "execution_count": 29,
     "metadata": {},
     "output_type": "execute_result"
    }
   ],
   "source": [
    "pest_data.tail()"
   ]
  },
  {
   "cell_type": "code",
   "execution_count": 4,
   "metadata": {
    "hidden": true
   },
   "outputs": [
    {
     "data": {
      "text/plain": [
       "Pesticide Name              240\n",
       "EPA Tolerance (ppm)         240\n",
       "Smiles                      240\n",
       "ExactMolWt                  240\n",
       "HeavyAtomMolWt              240\n",
       "NumRadicalElectrons         240\n",
       "NumValenceElectrons         240\n",
       "HeavyAtomCount              240\n",
       "NHOHCount                   240\n",
       "NOCount                     240\n",
       "NumAliphaticCarbocycles     240\n",
       "NumAliphaticHeterocycles    240\n",
       "NumAliphaticRings           240\n",
       "NumAromaticCarbocycles      240\n",
       "NumAromaticHeterocycles     240\n",
       "NumAromaticRings            240\n",
       "NumHAcceptors               240\n",
       "NumHDonors                  240\n",
       "NumHeteroatoms              240\n",
       "NumRotatableBonds           240\n",
       "NumSaturatedCarbocycles     240\n",
       "NumSaturatedHeterocycles    240\n",
       "NumSaturatedRings           240\n",
       "RingCount                   240\n",
       "Halogens                    240\n",
       "MolecularFormula            240\n",
       "MolecularWeight             240\n",
       "CanonicalSMILES             240\n",
       "XLogP                       240\n",
       "ExactMass                   240\n",
       "TPSA                        240\n",
       "Complexity                  240\n",
       "Charge                      240\n",
       "HBondDonorCount             240\n",
       "HBondAcceptorCount          240\n",
       "RotatableBondCount          240\n",
       "HeavyAtomCount.1            240\n",
       "IsotopeAtomCount            240\n",
       "AtomStereoCount             240\n",
       "DefinedAtomStereoCount      240\n",
       "UndefinedAtomStereoCount    240\n",
       "BondStereoCount             240\n",
       "DefinedBondStereoCount      240\n",
       "UndefinedBondStereoCount    240\n",
       "CovalentUnitCount           240\n",
       "Volume3D                    240\n",
       "XStericQuadrupole3D         240\n",
       "YStericQuadrupole3D         240\n",
       "ZStericQuadrupole3D         240\n",
       "FeatureCount3D              240\n",
       "FeatureAcceptorCount3D      240\n",
       "FeatureDonorCount3D         240\n",
       "FeatureAnionCount3D         240\n",
       "FeatureCationCount3D        240\n",
       "FeatureRingCount3D          240\n",
       "FeatureHydrophobeCount3D    240\n",
       "ConformerModelRMSD3D        240\n",
       "EffectiveRotorCount3D       240\n",
       "ConformerCount3D            240\n",
       "Class                       240\n",
       "dtype: int64"
      ]
     },
     "execution_count": 4,
     "metadata": {},
     "output_type": "execute_result"
    }
   ],
   "source": [
    "pest_data.count()"
   ]
  },
  {
   "cell_type": "code",
   "execution_count": 5,
   "metadata": {
    "hidden": true
   },
   "outputs": [
    {
     "data": {
      "text/plain": [
       "dtype('int64')"
      ]
     },
     "execution_count": 5,
     "metadata": {},
     "output_type": "execute_result"
    }
   ],
   "source": [
    "pest_data[\"Class\"].dtype"
   ]
  },
  {
   "cell_type": "code",
   "execution_count": 6,
   "metadata": {
    "hidden": true
   },
   "outputs": [
    {
     "data": {
      "text/plain": [
       "Index(['Pesticide Name', 'EPA Tolerance (ppm)', 'Smiles', 'ExactMolWt',\n",
       "       'HeavyAtomMolWt', 'NumRadicalElectrons', 'NumValenceElectrons',\n",
       "       'HeavyAtomCount', 'NHOHCount', 'NOCount', 'NumAliphaticCarbocycles',\n",
       "       'NumAliphaticHeterocycles', 'NumAliphaticRings',\n",
       "       'NumAromaticCarbocycles', 'NumAromaticHeterocycles', 'NumAromaticRings',\n",
       "       'NumHAcceptors', 'NumHDonors', 'NumHeteroatoms', 'NumRotatableBonds',\n",
       "       'NumSaturatedCarbocycles', 'NumSaturatedHeterocycles',\n",
       "       'NumSaturatedRings', 'RingCount', 'Halogens', 'MolecularFormula',\n",
       "       'MolecularWeight', 'CanonicalSMILES', 'XLogP', 'ExactMass', 'TPSA',\n",
       "       'Complexity', 'Charge', 'HBondDonorCount', 'HBondAcceptorCount',\n",
       "       'RotatableBondCount', 'HeavyAtomCount.1', 'IsotopeAtomCount',\n",
       "       'AtomStereoCount', 'DefinedAtomStereoCount', 'UndefinedAtomStereoCount',\n",
       "       'BondStereoCount', 'DefinedBondStereoCount', 'UndefinedBondStereoCount',\n",
       "       'CovalentUnitCount', 'Volume3D', 'XStericQuadrupole3D',\n",
       "       'YStericQuadrupole3D', 'ZStericQuadrupole3D', 'FeatureCount3D',\n",
       "       'FeatureAcceptorCount3D', 'FeatureDonorCount3D', 'FeatureAnionCount3D',\n",
       "       'FeatureCationCount3D', 'FeatureRingCount3D',\n",
       "       'FeatureHydrophobeCount3D', 'ConformerModelRMSD3D',\n",
       "       'EffectiveRotorCount3D', 'ConformerCount3D', 'Class'],\n",
       "      dtype='object')"
      ]
     },
     "execution_count": 6,
     "metadata": {},
     "output_type": "execute_result"
    }
   ],
   "source": [
    "pest_data.columns"
   ]
  },
  {
   "cell_type": "code",
   "execution_count": 7,
   "metadata": {
    "hidden": true
   },
   "outputs": [
    {
     "data": {
      "text/html": [
       "<div>\n",
       "<style scoped>\n",
       "    .dataframe tbody tr th:only-of-type {\n",
       "        vertical-align: middle;\n",
       "    }\n",
       "\n",
       "    .dataframe tbody tr th {\n",
       "        vertical-align: top;\n",
       "    }\n",
       "\n",
       "    .dataframe thead th {\n",
       "        text-align: right;\n",
       "    }\n",
       "</style>\n",
       "<table border=\"1\" class=\"dataframe\">\n",
       "  <thead>\n",
       "    <tr style=\"text-align: right;\">\n",
       "      <th></th>\n",
       "      <th>ExactMolWt</th>\n",
       "      <th>HeavyAtomMolWt</th>\n",
       "      <th>NumRadicalElectrons</th>\n",
       "      <th>NumValenceElectrons</th>\n",
       "      <th>HeavyAtomCount</th>\n",
       "      <th>NHOHCount</th>\n",
       "      <th>NOCount</th>\n",
       "      <th>NumAliphaticCarbocycles</th>\n",
       "      <th>NumAliphaticHeterocycles</th>\n",
       "      <th>NumAliphaticRings</th>\n",
       "      <th>...</th>\n",
       "      <th>FeatureAcceptorCount3D</th>\n",
       "      <th>FeatureDonorCount3D</th>\n",
       "      <th>FeatureAnionCount3D</th>\n",
       "      <th>FeatureCationCount3D</th>\n",
       "      <th>FeatureRingCount3D</th>\n",
       "      <th>FeatureHydrophobeCount3D</th>\n",
       "      <th>ConformerModelRMSD3D</th>\n",
       "      <th>EffectiveRotorCount3D</th>\n",
       "      <th>ConformerCount3D</th>\n",
       "      <th>Class</th>\n",
       "    </tr>\n",
       "  </thead>\n",
       "  <tbody>\n",
       "    <tr>\n",
       "      <th>count</th>\n",
       "      <td>240.000000</td>\n",
       "      <td>240.000000</td>\n",
       "      <td>240.0</td>\n",
       "      <td>240.000000</td>\n",
       "      <td>240.000000</td>\n",
       "      <td>240.000000</td>\n",
       "      <td>240.000000</td>\n",
       "      <td>240.000000</td>\n",
       "      <td>240.000000</td>\n",
       "      <td>240.000000</td>\n",
       "      <td>...</td>\n",
       "      <td>240.000000</td>\n",
       "      <td>240.00000</td>\n",
       "      <td>240.000000</td>\n",
       "      <td>240.000000</td>\n",
       "      <td>240.000000</td>\n",
       "      <td>240.000000</td>\n",
       "      <td>240.000000</td>\n",
       "      <td>240.00000</td>\n",
       "      <td>240.000000</td>\n",
       "      <td>240.000000</td>\n",
       "    </tr>\n",
       "    <tr>\n",
       "      <th>mean</th>\n",
       "      <td>296.822371</td>\n",
       "      <td>282.050196</td>\n",
       "      <td>0.0</td>\n",
       "      <td>103.650000</td>\n",
       "      <td>19.129167</td>\n",
       "      <td>0.654167</td>\n",
       "      <td>4.279167</td>\n",
       "      <td>0.166667</td>\n",
       "      <td>0.183333</td>\n",
       "      <td>0.350000</td>\n",
       "      <td>...</td>\n",
       "      <td>1.866667</td>\n",
       "      <td>0.53750</td>\n",
       "      <td>0.100000</td>\n",
       "      <td>0.441667</td>\n",
       "      <td>1.562500</td>\n",
       "      <td>0.712500</td>\n",
       "      <td>0.741667</td>\n",
       "      <td>5.40000</td>\n",
       "      <td>8.604167</td>\n",
       "      <td>1.708333</td>\n",
       "    </tr>\n",
       "    <tr>\n",
       "      <th>std</th>\n",
       "      <td>81.867931</td>\n",
       "      <td>79.940445</td>\n",
       "      <td>0.0</td>\n",
       "      <td>29.072309</td>\n",
       "      <td>5.705828</td>\n",
       "      <td>0.892310</td>\n",
       "      <td>1.641889</td>\n",
       "      <td>0.445025</td>\n",
       "      <td>0.398393</td>\n",
       "      <td>0.680266</td>\n",
       "      <td>...</td>\n",
       "      <td>1.267114</td>\n",
       "      <td>0.73656</td>\n",
       "      <td>0.374948</td>\n",
       "      <td>0.735198</td>\n",
       "      <td>0.974706</td>\n",
       "      <td>0.908266</td>\n",
       "      <td>0.206011</td>\n",
       "      <td>2.57331</td>\n",
       "      <td>2.774206</td>\n",
       "      <td>0.455480</td>\n",
       "    </tr>\n",
       "    <tr>\n",
       "      <th>min</th>\n",
       "      <td>44.026215</td>\n",
       "      <td>40.021000</td>\n",
       "      <td>0.0</td>\n",
       "      <td>18.000000</td>\n",
       "      <td>3.000000</td>\n",
       "      <td>0.000000</td>\n",
       "      <td>0.000000</td>\n",
       "      <td>0.000000</td>\n",
       "      <td>0.000000</td>\n",
       "      <td>0.000000</td>\n",
       "      <td>...</td>\n",
       "      <td>0.000000</td>\n",
       "      <td>0.00000</td>\n",
       "      <td>0.000000</td>\n",
       "      <td>0.000000</td>\n",
       "      <td>0.000000</td>\n",
       "      <td>0.000000</td>\n",
       "      <td>0.400000</td>\n",
       "      <td>0.00000</td>\n",
       "      <td>1.000000</td>\n",
       "      <td>1.000000</td>\n",
       "    </tr>\n",
       "    <tr>\n",
       "      <th>25%</th>\n",
       "      <td>237.882259</td>\n",
       "      <td>222.210000</td>\n",
       "      <td>0.0</td>\n",
       "      <td>82.000000</td>\n",
       "      <td>15.000000</td>\n",
       "      <td>0.000000</td>\n",
       "      <td>3.000000</td>\n",
       "      <td>0.000000</td>\n",
       "      <td>0.000000</td>\n",
       "      <td>0.000000</td>\n",
       "      <td>...</td>\n",
       "      <td>1.000000</td>\n",
       "      <td>0.00000</td>\n",
       "      <td>0.000000</td>\n",
       "      <td>0.000000</td>\n",
       "      <td>1.000000</td>\n",
       "      <td>0.000000</td>\n",
       "      <td>0.600000</td>\n",
       "      <td>3.95000</td>\n",
       "      <td>10.000000</td>\n",
       "      <td>1.000000</td>\n",
       "    </tr>\n",
       "    <tr>\n",
       "      <th>50%</th>\n",
       "      <td>299.589972</td>\n",
       "      <td>282.830500</td>\n",
       "      <td>0.0</td>\n",
       "      <td>104.000000</td>\n",
       "      <td>19.000000</td>\n",
       "      <td>0.000000</td>\n",
       "      <td>4.000000</td>\n",
       "      <td>0.000000</td>\n",
       "      <td>0.000000</td>\n",
       "      <td>0.000000</td>\n",
       "      <td>...</td>\n",
       "      <td>2.000000</td>\n",
       "      <td>0.00000</td>\n",
       "      <td>0.000000</td>\n",
       "      <td>0.000000</td>\n",
       "      <td>2.000000</td>\n",
       "      <td>0.000000</td>\n",
       "      <td>0.800000</td>\n",
       "      <td>5.90000</td>\n",
       "      <td>10.000000</td>\n",
       "      <td>2.000000</td>\n",
       "    </tr>\n",
       "    <tr>\n",
       "      <th>75%</th>\n",
       "      <td>346.802600</td>\n",
       "      <td>327.363750</td>\n",
       "      <td>0.0</td>\n",
       "      <td>122.500000</td>\n",
       "      <td>23.000000</td>\n",
       "      <td>1.000000</td>\n",
       "      <td>5.000000</td>\n",
       "      <td>0.000000</td>\n",
       "      <td>0.000000</td>\n",
       "      <td>1.000000</td>\n",
       "      <td>...</td>\n",
       "      <td>3.000000</td>\n",
       "      <td>1.00000</td>\n",
       "      <td>0.000000</td>\n",
       "      <td>1.000000</td>\n",
       "      <td>2.000000</td>\n",
       "      <td>1.000000</td>\n",
       "      <td>0.800000</td>\n",
       "      <td>7.00000</td>\n",
       "      <td>10.000000</td>\n",
       "      <td>2.000000</td>\n",
       "    </tr>\n",
       "    <tr>\n",
       "      <th>max</th>\n",
       "      <td>682.023324</td>\n",
       "      <td>660.220000</td>\n",
       "      <td>0.0</td>\n",
       "      <td>210.000000</td>\n",
       "      <td>38.000000</td>\n",
       "      <td>5.000000</td>\n",
       "      <td>10.000000</td>\n",
       "      <td>2.000000</td>\n",
       "      <td>2.000000</td>\n",
       "      <td>3.000000</td>\n",
       "      <td>...</td>\n",
       "      <td>6.000000</td>\n",
       "      <td>4.00000</td>\n",
       "      <td>2.000000</td>\n",
       "      <td>3.000000</td>\n",
       "      <td>4.000000</td>\n",
       "      <td>6.000000</td>\n",
       "      <td>1.400000</td>\n",
       "      <td>13.00000</td>\n",
       "      <td>10.000000</td>\n",
       "      <td>2.000000</td>\n",
       "    </tr>\n",
       "  </tbody>\n",
       "</table>\n",
       "<p>8 rows × 55 columns</p>\n",
       "</div>"
      ],
      "text/plain": [
       "       ExactMolWt  HeavyAtomMolWt  NumRadicalElectrons  NumValenceElectrons  \\\n",
       "count  240.000000      240.000000                240.0           240.000000   \n",
       "mean   296.822371      282.050196                  0.0           103.650000   \n",
       "std     81.867931       79.940445                  0.0            29.072309   \n",
       "min     44.026215       40.021000                  0.0            18.000000   \n",
       "25%    237.882259      222.210000                  0.0            82.000000   \n",
       "50%    299.589972      282.830500                  0.0           104.000000   \n",
       "75%    346.802600      327.363750                  0.0           122.500000   \n",
       "max    682.023324      660.220000                  0.0           210.000000   \n",
       "\n",
       "       HeavyAtomCount   NHOHCount     NOCount  NumAliphaticCarbocycles  \\\n",
       "count      240.000000  240.000000  240.000000               240.000000   \n",
       "mean        19.129167    0.654167    4.279167                 0.166667   \n",
       "std          5.705828    0.892310    1.641889                 0.445025   \n",
       "min          3.000000    0.000000    0.000000                 0.000000   \n",
       "25%         15.000000    0.000000    3.000000                 0.000000   \n",
       "50%         19.000000    0.000000    4.000000                 0.000000   \n",
       "75%         23.000000    1.000000    5.000000                 0.000000   \n",
       "max         38.000000    5.000000   10.000000                 2.000000   \n",
       "\n",
       "       NumAliphaticHeterocycles  NumAliphaticRings  ...  \\\n",
       "count                240.000000         240.000000  ...   \n",
       "mean                   0.183333           0.350000  ...   \n",
       "std                    0.398393           0.680266  ...   \n",
       "min                    0.000000           0.000000  ...   \n",
       "25%                    0.000000           0.000000  ...   \n",
       "50%                    0.000000           0.000000  ...   \n",
       "75%                    0.000000           1.000000  ...   \n",
       "max                    2.000000           3.000000  ...   \n",
       "\n",
       "       FeatureAcceptorCount3D  FeatureDonorCount3D  FeatureAnionCount3D  \\\n",
       "count              240.000000            240.00000           240.000000   \n",
       "mean                 1.866667              0.53750             0.100000   \n",
       "std                  1.267114              0.73656             0.374948   \n",
       "min                  0.000000              0.00000             0.000000   \n",
       "25%                  1.000000              0.00000             0.000000   \n",
       "50%                  2.000000              0.00000             0.000000   \n",
       "75%                  3.000000              1.00000             0.000000   \n",
       "max                  6.000000              4.00000             2.000000   \n",
       "\n",
       "       FeatureCationCount3D  FeatureRingCount3D  FeatureHydrophobeCount3D  \\\n",
       "count            240.000000          240.000000                240.000000   \n",
       "mean               0.441667            1.562500                  0.712500   \n",
       "std                0.735198            0.974706                  0.908266   \n",
       "min                0.000000            0.000000                  0.000000   \n",
       "25%                0.000000            1.000000                  0.000000   \n",
       "50%                0.000000            2.000000                  0.000000   \n",
       "75%                1.000000            2.000000                  1.000000   \n",
       "max                3.000000            4.000000                  6.000000   \n",
       "\n",
       "       ConformerModelRMSD3D  EffectiveRotorCount3D  ConformerCount3D  \\\n",
       "count            240.000000              240.00000        240.000000   \n",
       "mean               0.741667                5.40000          8.604167   \n",
       "std                0.206011                2.57331          2.774206   \n",
       "min                0.400000                0.00000          1.000000   \n",
       "25%                0.600000                3.95000         10.000000   \n",
       "50%                0.800000                5.90000         10.000000   \n",
       "75%                0.800000                7.00000         10.000000   \n",
       "max                1.400000               13.00000         10.000000   \n",
       "\n",
       "            Class  \n",
       "count  240.000000  \n",
       "mean     1.708333  \n",
       "std      0.455480  \n",
       "min      1.000000  \n",
       "25%      1.000000  \n",
       "50%      2.000000  \n",
       "75%      2.000000  \n",
       "max      2.000000  \n",
       "\n",
       "[8 rows x 55 columns]"
      ]
     },
     "execution_count": 7,
     "metadata": {},
     "output_type": "execute_result"
    }
   ],
   "source": [
    "pest_data.describe()"
   ]
  },
  {
   "cell_type": "code",
   "execution_count": 8,
   "metadata": {
    "hidden": true
   },
   "outputs": [],
   "source": [
    "#pest_data.hist(column='Na_to_K', bins=100)"
   ]
  },
  {
   "cell_type": "code",
   "execution_count": 9,
   "metadata": {
    "hidden": true
   },
   "outputs": [],
   "source": [
    "#pest_data.hist(column='Age', bins=50)"
   ]
  },
  {
   "cell_type": "code",
   "execution_count": 30,
   "metadata": {
    "hidden": true
   },
   "outputs": [
    {
     "data": {
      "text/plain": [
       "array([[283.01668395, 273.054     ,  94.        ,  18.        ,\n",
       "          0.        ,   3.        ,   1.        ,   1.        ,\n",
       "          2.        ,   1.        ,   0.        ,   1.        ,\n",
       "          2.        ,   0.        ,   5.        ,   1.        ,\n",
       "          1.        ,   1.        ,   2.        ,   3.        ,\n",
       "          2.        , 284.13      ,   3.        , 283.016684  ,\n",
       "         37.4       , 405.        ,   0.        ,   0.        ,\n",
       "          2.        ,   1.        ,  18.        ,   0.        ,\n",
       "          2.        ,   0.        ,   2.        ,   0.        ,\n",
       "          0.        ,   0.        ,   1.        , 203.3       ,\n",
       "          7.89      ,   2.66      ,   0.89      ,   4.        ,\n",
       "          2.        ,   0.        ,   0.        ,   0.        ,\n",
       "          2.        ,   0.        ,   0.6       ,   1.4       ,\n",
       "          3.        ],\n",
       "       [303.10580119, 281.188     , 108.        ,  19.        ,\n",
       "          1.        ,   4.        ,   0.        ,   0.        ,\n",
       "          0.        ,   1.        ,   0.        ,   1.        ,\n",
       "          4.        ,   1.        ,   6.        ,   7.        ,\n",
       "          0.        ,   0.        ,   0.        ,   1.        ,\n",
       "          0.        , 303.36      ,   3.2       , 303.10580174,\n",
       "         72.9       , 314.        ,   0.        ,   1.        ,\n",
       "          5.        ,   7.        ,  19.        ,   0.        ,\n",
       "          1.        ,   0.        ,   1.        ,   0.        ,\n",
       "          0.        ,   0.        ,   1.        , 233.6       ,\n",
       "         10.53      ,   2.91      ,   1.34      ,   4.        ,\n",
       "          1.        ,   0.        ,   0.        ,   0.        ,\n",
       "          1.        ,   2.        ,   0.8       ,   7.        ,\n",
       "         10.        ]])"
      ]
     },
     "execution_count": 30,
     "metadata": {},
     "output_type": "execute_result"
    }
   ],
   "source": [
    "X = pest_data[[#'LOD',\n",
    "               'ExactMolWt', 'HeavyAtomMolWt', 'NumValenceElectrons', 'HeavyAtomCount', 'NHOHCount', \n",
    "                        'NOCount', 'NumAliphaticCarbocycles', 'NumAliphaticHeterocycles', 'NumAliphaticRings', \n",
    "                        'NumAromaticCarbocycles', 'NumAromaticHeterocycles', 'NumAromaticRings', 'NumHAcceptors', \n",
    "                        'NumHDonors', 'NumHeteroatoms', 'NumRotatableBonds', 'NumSaturatedCarbocycles', \n",
    "                        'NumSaturatedHeterocycles', 'NumSaturatedRings', 'RingCount', 'Halogens', \"MolecularWeight\", \n",
    "                        \"XLogP\", \"ExactMass\", \"TPSA\", \"Complexity\", \"Charge\", \"HBondDonorCount\", \n",
    "                        \"HBondAcceptorCount\", \"RotatableBondCount\", \"HeavyAtomCount\", \"IsotopeAtomCount\", \"AtomStereoCount\", \n",
    "                        \"DefinedAtomStereoCount\", \"UndefinedAtomStereoCount\", \"BondStereoCount\", \"DefinedBondStereoCount\", \n",
    "                        \"UndefinedBondStereoCount\", \"CovalentUnitCount\",\"Volume3D\", \"XStericQuadrupole3D\", \"YStericQuadrupole3D\", \n",
    "                        \"ZStericQuadrupole3D\", \"FeatureCount3D\", \"FeatureAcceptorCount3D\", \"FeatureDonorCount3D\", \"FeatureAnionCount3D\", \n",
    "                        \"FeatureCationCount3D\", \"FeatureRingCount3D\", \"FeatureHydrophobeCount3D\", \"ConformerModelRMSD3D\", \n",
    "                        \"EffectiveRotorCount3D\", \"ConformerCount3D\"]].values\n",
    "\n",
    "\n",
    "y = pest_data[['Class']].values\n",
    "#y[0:5]\n",
    "\n",
    "X[0:2]"
   ]
  },
  {
   "cell_type": "code",
   "execution_count": 31,
   "metadata": {
    "hidden": true
   },
   "outputs": [
    {
     "data": {
      "text/plain": [
       "array([[1],\n",
       "       [1],\n",
       "       [1],\n",
       "       [1],\n",
       "       [1]], dtype=int64)"
      ]
     },
     "execution_count": 31,
     "metadata": {},
     "output_type": "execute_result"
    }
   ],
   "source": [
    "y_array = pest_data[['Class']].to_numpy()\n",
    "y_array[0:5]"
   ]
  },
  {
   "cell_type": "code",
   "execution_count": 12,
   "metadata": {
    "hidden": true
   },
   "outputs": [],
   "source": [
    "pest_feats_array = X\n",
    "y = y_array"
   ]
  },
  {
   "cell_type": "code",
   "execution_count": 39,
   "metadata": {
    "hidden": true
   },
   "outputs": [
    {
     "data": {
      "text/plain": [
       "array([[-0.37672096,  7.35146325, -1.36969771, ...,  0.86462008,\n",
       "         0.63763199, -0.44582798],\n",
       "       [ 0.23188303, -0.83649599,  1.86547439, ...,  0.50090363,\n",
       "        -0.81411582, -0.22069463],\n",
       "       [-4.02410103, -1.42806754, -1.06507277, ...,  0.39073028,\n",
       "        -0.90132833, -1.54905889],\n",
       "       ...,\n",
       "       [ 1.25873943,  0.42172181, -3.03086217, ..., -0.56262534,\n",
       "         0.91421341, -0.68821212],\n",
       "       [ 4.52998284,  2.87163471,  0.4030525 , ..., -1.1250404 ,\n",
       "        -0.07063966, -0.45797793],\n",
       "       [ 4.74075739, -1.47960568, -0.0307702 , ..., -0.30309032,\n",
       "         1.04193355,  0.18330613]])"
      ]
     },
     "execution_count": 39,
     "metadata": {},
     "output_type": "execute_result"
    }
   ],
   "source": [
    "from sklearn.preprocessing import StandardScaler\n",
    "from sklearn.decomposition import PCA\n",
    "\n",
    "pest_feats_scaled = StandardScaler().fit_transform(pest_feats_array)  # Previously, a huge bias without scaling\n",
    "\n",
    "# one feature had 99% explanation\n",
    "\n",
    "pest_feats_pca = PCA(n_components=18).fit(pest_feats_scaled)\n",
    "pest_feats_pca_values = pest_feats_pca.transform(pest_feats_scaled)\n",
    "pest_feats_pca_values"
   ]
  },
  {
   "cell_type": "code",
   "execution_count": 40,
   "metadata": {
    "hidden": true
   },
   "outputs": [
    {
     "data": {
      "text/plain": [
       "array([0.30427204, 0.12770474, 0.10133478, 0.08528545, 0.0581771 ,\n",
       "       0.04446786, 0.03999223, 0.0322997 , 0.02871666, 0.02768237,\n",
       "       0.02099046, 0.01982549, 0.01658918, 0.01590529, 0.01215478,\n",
       "       0.01065372, 0.00839736, 0.00781981])"
      ]
     },
     "execution_count": 40,
     "metadata": {},
     "output_type": "execute_result"
    }
   ],
   "source": [
    "pest_feats_pca.explained_variance_ratio_"
   ]
  },
  {
   "cell_type": "code",
   "execution_count": 41,
   "metadata": {
    "hidden": true
   },
   "outputs": [
    {
     "data": {
      "text/plain": [
       "0.962269022505085"
      ]
     },
     "execution_count": 41,
     "metadata": {},
     "output_type": "execute_result"
    }
   ],
   "source": [
    "pest_feats_pca.explained_variance_ratio_.sum()"
   ]
  },
  {
   "cell_type": "code",
   "execution_count": 42,
   "metadata": {
    "hidden": true
   },
   "outputs": [
    {
     "data": {
      "text/plain": [
       "(240, 18)"
      ]
     },
     "execution_count": 42,
     "metadata": {},
     "output_type": "execute_result"
    }
   ],
   "source": [
    "#pest_data['Class'] = pest_data['Class'].astype(int)\n",
    "#y = np.asanyarray(pest_data['Class'])\n",
    "#y[0:5]\n",
    "\n",
    "X = pest_feats_pca_values[:]\n",
    "X.shape"
   ]
  },
  {
   "cell_type": "markdown",
   "metadata": {
    "heading_collapsed": true
   },
   "source": [
    "#### train_test_split"
   ]
  },
  {
   "cell_type": "code",
   "execution_count": 32,
   "metadata": {
    "hidden": true
   },
   "outputs": [
    {
     "name": "stdout",
     "output_type": "stream",
     "text": [
      "X_train and y_train shape:  (192, 53) (192, 1)\n",
      "X_test and y_test shape:  (48, 53) (48, 1)\n"
     ]
    }
   ],
   "source": [
    "from sklearn.model_selection import train_test_split\n",
    "\n",
    "X_train, X_test, y_train, y_test = train_test_split(X, y, test_size = 0.2, shuffle=True) #random_state = 3\n",
    "print ('X_train and y_train shape: ', X_train.shape, y_train.shape)\n",
    "print ('X_test and y_test shape: ', X_test.shape, y_test.shape)"
   ]
  },
  {
   "cell_type": "code",
   "execution_count": 33,
   "metadata": {
    "hidden": true
   },
   "outputs": [
    {
     "data": {
      "text/plain": [
       "array([[3.28203845e+02, 3.00228000e+02, 1.30000000e+02, 2.40000000e+01,\n",
       "        0.00000000e+00, 3.00000000e+00, 2.00000000e+00, 0.00000000e+00,\n",
       "        2.00000000e+00, 0.00000000e+00, 0.00000000e+00, 0.00000000e+00,\n",
       "        3.00000000e+00, 0.00000000e+00, 3.00000000e+00, 6.00000000e+00,\n",
       "        1.00000000e+00, 0.00000000e+00, 1.00000000e+00, 2.00000000e+00,\n",
       "        0.00000000e+00, 3.28400000e+02, 5.40000000e+00, 3.28203845e+02,\n",
       "        4.34000000e+01, 6.42000000e+02, 0.00000000e+00, 0.00000000e+00,\n",
       "        3.00000000e+00, 7.00000000e+00, 2.40000000e+01, 0.00000000e+00,\n",
       "        3.00000000e+00, 3.00000000e+00, 0.00000000e+00, 1.00000000e+00,\n",
       "        1.00000000e+00, 0.00000000e+00, 1.00000000e+00, 2.78600000e+02,\n",
       "        2.09300000e+01, 1.64000000e+00, 1.24000000e+00, 6.00000000e+00,\n",
       "        2.00000000e+00, 0.00000000e+00, 0.00000000e+00, 0.00000000e+00,\n",
       "        1.00000000e+00, 3.00000000e+00, 8.00000000e-01, 8.00000000e+00,\n",
       "        1.00000000e+01],\n",
       "       [2.55922578e+02, 2.49373000e+02, 7.40000000e+01, 1.20000000e+01,\n",
       "        1.00000000e+00, 4.00000000e+00, 0.00000000e+00, 0.00000000e+00,\n",
       "        0.00000000e+00, 0.00000000e+00, 0.00000000e+00, 0.00000000e+00,\n",
       "        4.00000000e+00, 1.00000000e+00, 8.00000000e+00, 3.00000000e+00,\n",
       "        0.00000000e+00, 0.00000000e+00, 0.00000000e+00, 0.00000000e+00,\n",
       "        3.00000000e+00, 2.57430000e+02, 5.00000000e-01, 2.55922579e+02,\n",
       "        5.58000000e+01, 1.83000000e+02, 0.00000000e+00, 1.00000000e+00,\n",
       "        4.00000000e+00, 3.00000000e+00, 1.20000000e+01, 0.00000000e+00,\n",
       "        1.00000000e+00, 0.00000000e+00, 1.00000000e+00, 0.00000000e+00,\n",
       "        0.00000000e+00, 0.00000000e+00, 1.00000000e+00, 1.56800000e+02,\n",
       "        4.27000000e+00, 1.94000000e+00, 1.45000000e+00, 3.00000000e+00,\n",
       "        2.00000000e+00, 1.00000000e+00, 0.00000000e+00, 0.00000000e+00,\n",
       "        0.00000000e+00, 0.00000000e+00, 6.00000000e-01, 4.00000000e+00,\n",
       "        1.00000000e+01]])"
      ]
     },
     "execution_count": 33,
     "metadata": {},
     "output_type": "execute_result"
    }
   ],
   "source": [
    "from sklearn.preprocessing import StandardScaler\n",
    "\n",
    "#X_train = StandardScaler().fit_transform(X_train)\n",
    "X_train[0:5]\n",
    "#X_test = StandardScaler().fit_transform(X_test)\n",
    "X_test[0:2]"
   ]
  },
  {
   "cell_type": "code",
   "execution_count": 34,
   "metadata": {
    "hidden": true
   },
   "outputs": [
    {
     "name": "stdout",
     "output_type": "stream",
     "text": [
      "Train set dimensions match and is equal to (192, 53) vs (192, 1)\n"
     ]
    }
   ],
   "source": [
    "#Just to be sure\n",
    "\n",
    "if X_train.shape[0] == y_train.shape[0]:\n",
    "    print(\"Train set dimensions match and is equal to\", X_train.shape, 'vs', y_train.shape)\n",
    "else:\n",
    "    print(\"Train set dimensions do not match\")"
   ]
  },
  {
   "cell_type": "markdown",
   "metadata": {},
   "source": [
    "### Decision Tree HyperOpt - Optimisation of model hyperparameters"
   ]
  },
  {
   "cell_type": "code",
   "execution_count": 35,
   "metadata": {},
   "outputs": [
    {
     "name": "stdout",
     "output_type": "stream",
     "text": [
      "100%|██████████████████████████████████████████████████| 1/1 [00:03<00:00,  3.72s/trial, best loss: 0.3589743589743589]\n",
      "100%|██████████████████████████████████████████████████| 2/2 [00:07<00:00,  7.04s/trial, best loss: 0.3589743589743589]\n",
      "100%|██████████████████████████████████████████████████| 3/3 [00:05<00:00,  5.55s/trial, best loss: 0.3589743589743589]\n",
      "100%|██████████████████████████████████████████████████| 4/4 [00:07<00:00,  7.73s/trial, best loss: 0.3589743589743589]\n",
      "100%|██████████████████████████████████████████████████| 5/5 [00:06<00:00,  6.08s/trial, best loss: 0.3589743589743589]\n",
      "100%|██████████████████████████████████████████████████| 6/6 [00:02<00:00,  2.68s/trial, best loss: 0.3589743589743589]\n",
      "100%|██████████████████████████████████████████████████| 7/7 [00:02<00:00,  2.86s/trial, best loss: 0.3589743589743589]\n",
      "100%|██████████████████████████████████████████████████| 8/8 [00:02<00:00,  2.99s/trial, best loss: 0.3589743589743589]\n",
      "100%|██████████████████████████████████████████████████| 9/9 [00:03<00:00,  3.02s/trial, best loss: 0.3589743589743589]\n",
      "100%|████████████████████████████████████████████████| 10/10 [00:05<00:00,  5.97s/trial, best loss: 0.3589743589743589]\n",
      "100%|████████████████████████████████████████████████| 11/11 [00:03<00:00,  3.17s/trial, best loss: 0.3589743589743589]\n",
      "100%|████████████████████████████████████████████████| 12/12 [00:08<00:00,  8.98s/trial, best loss: 0.3589743589743589]\n",
      "100%|████████████████████████████████████████████████| 13/13 [00:04<00:00,  4.77s/trial, best loss: 0.3589743589743589]\n",
      "100%|████████████████████████████████████████████████| 14/14 [00:04<00:00,  4.61s/trial, best loss: 0.3589743589743589]\n",
      "100%|████████████████████████████████████████████████| 15/15 [00:04<00:00,  4.21s/trial, best loss: 0.3589743589743589]\n",
      "100%|████████████████████████████████████████████████| 16/16 [00:07<00:00,  7.90s/trial, best loss: 0.3589743589743589]\n",
      "100%|████████████████████████████████████████████████| 17/17 [00:07<00:00,  7.89s/trial, best loss: 0.3589743589743589]\n",
      "100%|████████████████████████████████████████████████| 18/18 [00:07<00:00,  7.85s/trial, best loss: 0.3589743589743589]\n",
      "100%|████████████████████████████████████████████████| 19/19 [00:12<00:00, 12.08s/trial, best loss: 0.3589743589743589]\n",
      "100%|████████████████████████████████████████████████| 20/20 [00:09<00:00,  9.14s/trial, best loss: 0.3589743589743589]\n",
      "100%|████████████████████████████████████████████████| 21/21 [00:04<00:00,  4.41s/trial, best loss: 0.3589743589743589]\n",
      "100%|████████████████████████████████████████████████| 22/22 [00:05<00:00,  5.63s/trial, best loss: 0.3589743589743589]\n",
      " 96%|██████████████████████████████████████████████████████████████████████▊   | 22/23 [00:08<?, ?trial/s, best loss=?]\n"
     ]
    }
   ],
   "source": [
    "from hpsklearn import HyperoptEstimator, any_classifier, any_preprocessing #any_sparse_classifier\n",
    "from hyperopt import fmin, tpe\n",
    "from hpsklearn import decision_tree_classifier\n",
    "\n",
    "# preprocessing = []\n",
    "\n",
    "model_DT = HyperoptEstimator(classifier=decision_tree_classifier('myDT'), algo=tpe.suggest, max_evals=300, trial_timeout=500)\n",
    "\n",
    "# perform the search\n",
    "model_DT.fit(X_train, y_train.ravel())"
   ]
  },
  {
   "cell_type": "code",
   "execution_count": 21,
   "metadata": {
    "scrolled": true
   },
   "outputs": [
    {
     "name": "stdout",
     "output_type": "stream",
     "text": [
      "Accuracy_DT: 0.667\n",
      "{'learner': DecisionTreeClassifier(criterion='entropy', max_features=0.5143712667457783,\n",
      "                       random_state=4, splitter='random'), 'preprocs': (StandardScaler(),), 'ex_preprocs': ()}\n"
     ]
    }
   ],
   "source": [
    "accuracy_DT = model_DT.score(X_test, y_test)\n",
    "print(\"Accuracy_DT: %.3f\" % accuracy_DT)\n",
    "\n",
    "# model details\n",
    "print(model_DT.best_model())"
   ]
  },
  {
   "cell_type": "code",
   "execution_count": 22,
   "metadata": {
    "scrolled": true
   },
   "outputs": [
    {
     "name": "stdout",
     "output_type": "stream",
     "text": [
      "              precision    recall  f1-score   support\n",
      "\n",
      "           1       0.23      0.33      0.27         9\n",
      "           2       0.83      0.74      0.78        39\n",
      "\n",
      "    accuracy                           0.67        48\n",
      "   macro avg       0.53      0.54      0.53        48\n",
      "weighted avg       0.72      0.67      0.69        48\n",
      "\n"
     ]
    }
   ],
   "source": [
    "from sklearn.metrics import classification_report, accuracy_score\n",
    "y_hat_DT = model_DT.predict(X_test)\n",
    "print(classification_report(y_test, y_hat_DT))"
   ]
  },
  {
   "cell_type": "markdown",
   "metadata": {
    "heading_collapsed": true
   },
   "source": [
    "#### Cross-validation for better accuracy"
   ]
  },
  {
   "cell_type": "code",
   "execution_count": 23,
   "metadata": {},
   "outputs": [
    {
     "name": "stdout",
     "output_type": "stream",
     "text": [
      "0.5569500674763833\n"
     ]
    }
   ],
   "source": [
    "from sklearn.tree import DecisionTreeClassifier\n",
    "from sklearn.model_selection import cross_val_score\n",
    "\n",
    "model = DecisionTreeClassifier(criterion=\"gini\", splitter='best', max_depth = 12)\n",
    "\n",
    "score = cross_val_score(model, X_train, y_train, cv=5, scoring=\"accuracy\", n_jobs=-1).mean()\n",
    "print(score)"
   ]
  },
  {
   "cell_type": "code",
   "execution_count": 24,
   "metadata": {},
   "outputs": [
    {
     "name": "stdout",
     "output_type": "stream",
     "text": [
      "0.578272604588394\n"
     ]
    }
   ],
   "source": [
    "model = DecisionTreeClassifier(criterion=\"entropy\", splitter='best', max_depth = 12)\n",
    "\n",
    "score = cross_val_score(model, X_train, y_train, cv=5, scoring=\"accuracy\", n_jobs=-1).mean()\n",
    "print(score)"
   ]
  },
  {
   "cell_type": "code",
   "execution_count": 26,
   "metadata": {},
   "outputs": [],
   "source": [
    "import pickle\n",
    "with open('pesticide_dt_model.pkl', 'wb') as file:\n",
    "    pickle.dump(model_DT, file)"
   ]
  }
 ],
 "metadata": {
  "kernelspec": {
   "display_name": "Python 3.10.8 64-bit",
   "language": "python",
   "name": "python3"
  },
  "language_info": {
   "codemirror_mode": {
    "name": "ipython",
    "version": 3
   },
   "file_extension": ".py",
   "mimetype": "text/x-python",
   "name": "python",
   "nbconvert_exporter": "python",
   "pygments_lexer": "ipython3",
   "version": "3.10.8"
  },
  "toc": {
   "base_numbering": 1,
   "nav_menu": {},
   "number_sections": true,
   "sideBar": true,
   "skip_h1_title": false,
   "title_cell": "Table of Contents",
   "title_sidebar": "Contents",
   "toc_cell": false,
   "toc_position": {},
   "toc_section_display": true,
   "toc_window_display": false
  },
  "vscode": {
   "interpreter": {
    "hash": "521de7ff804989fc31d613f27fd0adb1b30586ac386b7ed63c994752af7c36a5"
   }
  }
 },
 "nbformat": 4,
 "nbformat_minor": 2
}
