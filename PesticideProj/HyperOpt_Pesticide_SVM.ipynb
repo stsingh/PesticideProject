{
 "cells": [
  {
   "cell_type": "code",
   "execution_count": 5,
   "metadata": {},
   "outputs": [],
   "source": [
    "#different workflow patterns, (pca vs no pca, hyperopt vs no, high dim vs low)\n",
    "import numpy as np\n",
    "import pandas as pd\n",
    "import matplotlib.pyplot as plt\n",
    "from sklearn import preprocessing\n",
    "from sklearn.metrics import classification_report\n",
    "from plotter import Plotter"
   ]
  },
  {
   "cell_type": "markdown",
   "metadata": {},
   "source": [
    "### Data preperation"
   ]
  },
  {
   "cell_type": "markdown",
   "metadata": {
    "heading_collapsed": true
   },
   "source": [
    "#### Load the data and generate descriptors"
   ]
  },
  {
   "cell_type": "code",
   "execution_count": 6,
   "metadata": {
    "hidden": true
   },
   "outputs": [
    {
     "data": {
      "text/html": [
       "<div>\n",
       "<style scoped>\n",
       "    .dataframe tbody tr th:only-of-type {\n",
       "        vertical-align: middle;\n",
       "    }\n",
       "\n",
       "    .dataframe tbody tr th {\n",
       "        vertical-align: top;\n",
       "    }\n",
       "\n",
       "    .dataframe thead th {\n",
       "        text-align: right;\n",
       "    }\n",
       "</style>\n",
       "<table border=\"1\" class=\"dataframe\">\n",
       "  <thead>\n",
       "    <tr style=\"text-align: right;\">\n",
       "      <th></th>\n",
       "      <th>Pesticide Name</th>\n",
       "      <th>LOD</th>\n",
       "      <th>EPA Tolerance (ppm)</th>\n",
       "      <th>Smiles</th>\n",
       "      <th>ExactMolWt</th>\n",
       "      <th>HeavyAtomMolWt</th>\n",
       "      <th>NumRadicalElectrons</th>\n",
       "      <th>NumValenceElectrons</th>\n",
       "      <th>HeavyAtomCount</th>\n",
       "      <th>NHOHCount</th>\n",
       "      <th>...</th>\n",
       "      <th>FeatureAcceptorCount3D</th>\n",
       "      <th>FeatureDonorCount3D</th>\n",
       "      <th>FeatureAnionCount3D</th>\n",
       "      <th>FeatureCationCount3D</th>\n",
       "      <th>FeatureRingCount3D</th>\n",
       "      <th>FeatureHydrophobeCount3D</th>\n",
       "      <th>ConformerModelRMSD3D</th>\n",
       "      <th>EffectiveRotorCount3D</th>\n",
       "      <th>ConformerCount3D</th>\n",
       "      <th>Class</th>\n",
       "    </tr>\n",
       "  </thead>\n",
       "  <tbody>\n",
       "    <tr>\n",
       "      <th>0</th>\n",
       "      <td>Procymidone</td>\n",
       "      <td>0.014</td>\n",
       "      <td>NT</td>\n",
       "      <td>CC12CC1(C)C(=O)N(C2=O)c3cc(Cl)cc(Cl)c3</td>\n",
       "      <td>283.016684</td>\n",
       "      <td>273.054</td>\n",
       "      <td>0</td>\n",
       "      <td>94</td>\n",
       "      <td>18</td>\n",
       "      <td>0</td>\n",
       "      <td>...</td>\n",
       "      <td>2.0</td>\n",
       "      <td>0.0</td>\n",
       "      <td>0.0</td>\n",
       "      <td>0.0</td>\n",
       "      <td>2.0</td>\n",
       "      <td>0.0</td>\n",
       "      <td>0.6</td>\n",
       "      <td>1.4</td>\n",
       "      <td>3</td>\n",
       "      <td>1</td>\n",
       "    </tr>\n",
       "    <tr>\n",
       "      <th>1</th>\n",
       "      <td>Fenamiphos</td>\n",
       "      <td>0.004</td>\n",
       "      <td>NT</td>\n",
       "      <td>CCO[P](=O)(NC(C)C)Oc1ccc(SC)c(C)c1</td>\n",
       "      <td>303.105801</td>\n",
       "      <td>281.188</td>\n",
       "      <td>0</td>\n",
       "      <td>108</td>\n",
       "      <td>19</td>\n",
       "      <td>1</td>\n",
       "      <td>...</td>\n",
       "      <td>1.0</td>\n",
       "      <td>0.0</td>\n",
       "      <td>0.0</td>\n",
       "      <td>0.0</td>\n",
       "      <td>1.0</td>\n",
       "      <td>2.0</td>\n",
       "      <td>0.8</td>\n",
       "      <td>7.0</td>\n",
       "      <td>10</td>\n",
       "      <td>1</td>\n",
       "    </tr>\n",
       "    <tr>\n",
       "      <th>2</th>\n",
       "      <td>Metribuzin</td>\n",
       "      <td>0.030</td>\n",
       "      <td>NT</td>\n",
       "      <td>CSC1=NN=C(C(=O)N1N)C(C)(C)C</td>\n",
       "      <td>214.088832</td>\n",
       "      <td>200.182</td>\n",
       "      <td>0</td>\n",
       "      <td>78</td>\n",
       "      <td>14</td>\n",
       "      <td>2</td>\n",
       "      <td>...</td>\n",
       "      <td>2.0</td>\n",
       "      <td>1.0</td>\n",
       "      <td>0.0</td>\n",
       "      <td>0.0</td>\n",
       "      <td>1.0</td>\n",
       "      <td>2.0</td>\n",
       "      <td>0.6</td>\n",
       "      <td>2.0</td>\n",
       "      <td>3</td>\n",
       "      <td>1</td>\n",
       "    </tr>\n",
       "    <tr>\n",
       "      <th>3</th>\n",
       "      <td>Fenamiphos sulfone</td>\n",
       "      <td>0.008</td>\n",
       "      <td>NT</td>\n",
       "      <td>CCO[P](=O)(NC(C)C)Oc1ccc(c(C)c1)[S](C)(=O)=O</td>\n",
       "      <td>335.095630</td>\n",
       "      <td>313.186</td>\n",
       "      <td>0</td>\n",
       "      <td>120</td>\n",
       "      <td>21</td>\n",
       "      <td>1</td>\n",
       "      <td>...</td>\n",
       "      <td>3.0</td>\n",
       "      <td>0.0</td>\n",
       "      <td>0.0</td>\n",
       "      <td>0.0</td>\n",
       "      <td>1.0</td>\n",
       "      <td>1.0</td>\n",
       "      <td>0.8</td>\n",
       "      <td>7.0</td>\n",
       "      <td>10</td>\n",
       "      <td>1</td>\n",
       "    </tr>\n",
       "    <tr>\n",
       "      <th>4</th>\n",
       "      <td>Methiocarb</td>\n",
       "      <td>0.043</td>\n",
       "      <td>NT</td>\n",
       "      <td>CNC(=O)Oc1cc(C)c(SC)c(C)c1</td>\n",
       "      <td>225.082350</td>\n",
       "      <td>210.193</td>\n",
       "      <td>0</td>\n",
       "      <td>82</td>\n",
       "      <td>15</td>\n",
       "      <td>1</td>\n",
       "      <td>...</td>\n",
       "      <td>1.0</td>\n",
       "      <td>1.0</td>\n",
       "      <td>0.0</td>\n",
       "      <td>0.0</td>\n",
       "      <td>1.0</td>\n",
       "      <td>1.0</td>\n",
       "      <td>0.6</td>\n",
       "      <td>4.0</td>\n",
       "      <td>10</td>\n",
       "      <td>1</td>\n",
       "    </tr>\n",
       "  </tbody>\n",
       "</table>\n",
       "<p>5 rows × 61 columns</p>\n",
       "</div>"
      ],
      "text/plain": [
       "       Pesticide Name    LOD EPA Tolerance (ppm)  \\\n",
       "0         Procymidone  0.014                  NT   \n",
       "1          Fenamiphos  0.004                  NT   \n",
       "2          Metribuzin  0.030                  NT   \n",
       "3  Fenamiphos sulfone  0.008                  NT   \n",
       "4          Methiocarb  0.043                  NT   \n",
       "\n",
       "                                         Smiles  ExactMolWt  HeavyAtomMolWt  \\\n",
       "0        CC12CC1(C)C(=O)N(C2=O)c3cc(Cl)cc(Cl)c3  283.016684         273.054   \n",
       "1            CCO[P](=O)(NC(C)C)Oc1ccc(SC)c(C)c1  303.105801         281.188   \n",
       "2                   CSC1=NN=C(C(=O)N1N)C(C)(C)C  214.088832         200.182   \n",
       "3  CCO[P](=O)(NC(C)C)Oc1ccc(c(C)c1)[S](C)(=O)=O  335.095630         313.186   \n",
       "4                    CNC(=O)Oc1cc(C)c(SC)c(C)c1  225.082350         210.193   \n",
       "\n",
       "   NumRadicalElectrons  NumValenceElectrons  HeavyAtomCount  NHOHCount  ...  \\\n",
       "0                    0                   94              18          0  ...   \n",
       "1                    0                  108              19          1  ...   \n",
       "2                    0                   78              14          2  ...   \n",
       "3                    0                  120              21          1  ...   \n",
       "4                    0                   82              15          1  ...   \n",
       "\n",
       "   FeatureAcceptorCount3D  FeatureDonorCount3D  FeatureAnionCount3D  \\\n",
       "0                     2.0                  0.0                  0.0   \n",
       "1                     1.0                  0.0                  0.0   \n",
       "2                     2.0                  1.0                  0.0   \n",
       "3                     3.0                  0.0                  0.0   \n",
       "4                     1.0                  1.0                  0.0   \n",
       "\n",
       "   FeatureCationCount3D  FeatureRingCount3D  FeatureHydrophobeCount3D  \\\n",
       "0                   0.0                 2.0                       0.0   \n",
       "1                   0.0                 1.0                       2.0   \n",
       "2                   0.0                 1.0                       2.0   \n",
       "3                   0.0                 1.0                       1.0   \n",
       "4                   0.0                 1.0                       1.0   \n",
       "\n",
       "   ConformerModelRMSD3D  EffectiveRotorCount3D  ConformerCount3D  Class  \n",
       "0                   0.6                    1.4                 3      1  \n",
       "1                   0.8                    7.0                10      1  \n",
       "2                   0.6                    2.0                 3      1  \n",
       "3                   0.8                    7.0                10      1  \n",
       "4                   0.6                    4.0                10      1  \n",
       "\n",
       "[5 rows x 61 columns]"
      ]
     },
     "execution_count": 6,
     "metadata": {},
     "output_type": "execute_result"
    }
   ],
   "source": [
    "pest_data = pd.read_csv(\"Data/BinaryPesticideData.csv\", delimiter=\",\")\n",
    "pest_data[0:5]"
   ]
  },
  {
   "cell_type": "code",
   "execution_count": 7,
   "metadata": {
    "hidden": true
   },
   "outputs": [
    {
     "data": {
      "text/html": [
       "<div>\n",
       "<style scoped>\n",
       "    .dataframe tbody tr th:only-of-type {\n",
       "        vertical-align: middle;\n",
       "    }\n",
       "\n",
       "    .dataframe tbody tr th {\n",
       "        vertical-align: top;\n",
       "    }\n",
       "\n",
       "    .dataframe thead th {\n",
       "        text-align: right;\n",
       "    }\n",
       "</style>\n",
       "<table border=\"1\" class=\"dataframe\">\n",
       "  <thead>\n",
       "    <tr style=\"text-align: right;\">\n",
       "      <th></th>\n",
       "      <th>Pesticide Name</th>\n",
       "      <th>LOD</th>\n",
       "      <th>EPA Tolerance (ppm)</th>\n",
       "      <th>Smiles</th>\n",
       "      <th>ExactMolWt</th>\n",
       "      <th>HeavyAtomMolWt</th>\n",
       "      <th>NumRadicalElectrons</th>\n",
       "      <th>NumValenceElectrons</th>\n",
       "      <th>HeavyAtomCount</th>\n",
       "      <th>NHOHCount</th>\n",
       "      <th>...</th>\n",
       "      <th>FeatureAcceptorCount3D</th>\n",
       "      <th>FeatureDonorCount3D</th>\n",
       "      <th>FeatureAnionCount3D</th>\n",
       "      <th>FeatureCationCount3D</th>\n",
       "      <th>FeatureRingCount3D</th>\n",
       "      <th>FeatureHydrophobeCount3D</th>\n",
       "      <th>ConformerModelRMSD3D</th>\n",
       "      <th>EffectiveRotorCount3D</th>\n",
       "      <th>ConformerCount3D</th>\n",
       "      <th>Class</th>\n",
       "    </tr>\n",
       "  </thead>\n",
       "  <tbody>\n",
       "    <tr>\n",
       "      <th>235</th>\n",
       "      <td>Oxamyl oxime</td>\n",
       "      <td>0.001</td>\n",
       "      <td>T</td>\n",
       "      <td>CSC(=N/O)/C(=O)N(C)C</td>\n",
       "      <td>162.046299</td>\n",
       "      <td>152.134</td>\n",
       "      <td>0</td>\n",
       "      <td>58</td>\n",
       "      <td>10</td>\n",
       "      <td>1</td>\n",
       "      <td>...</td>\n",
       "      <td>2.0</td>\n",
       "      <td>0.0</td>\n",
       "      <td>1.0</td>\n",
       "      <td>0.0</td>\n",
       "      <td>0.0</td>\n",
       "      <td>1.0</td>\n",
       "      <td>0.6</td>\n",
       "      <td>3.0</td>\n",
       "      <td>10</td>\n",
       "      <td>2</td>\n",
       "    </tr>\n",
       "    <tr>\n",
       "      <th>236</th>\n",
       "      <td>Pyriproxyfen</td>\n",
       "      <td>0.014</td>\n",
       "      <td>T</td>\n",
       "      <td>CC(COc1ccc(Oc2ccccc2)cc1)Oc3ccccn3</td>\n",
       "      <td>321.136493</td>\n",
       "      <td>302.224</td>\n",
       "      <td>0</td>\n",
       "      <td>122</td>\n",
       "      <td>24</td>\n",
       "      <td>0</td>\n",
       "      <td>...</td>\n",
       "      <td>4.0</td>\n",
       "      <td>0.0</td>\n",
       "      <td>0.0</td>\n",
       "      <td>0.0</td>\n",
       "      <td>3.0</td>\n",
       "      <td>0.0</td>\n",
       "      <td>1.0</td>\n",
       "      <td>7.0</td>\n",
       "      <td>10</td>\n",
       "      <td>2</td>\n",
       "    </tr>\n",
       "    <tr>\n",
       "      <th>237</th>\n",
       "      <td>Boscalid</td>\n",
       "      <td>0.001</td>\n",
       "      <td>T</td>\n",
       "      <td>Clc1ccc(cc1)c2ccccc2NC(=O)c3cccnc3Cl</td>\n",
       "      <td>342.032668</td>\n",
       "      <td>331.117</td>\n",
       "      <td>0</td>\n",
       "      <td>114</td>\n",
       "      <td>23</td>\n",
       "      <td>1</td>\n",
       "      <td>...</td>\n",
       "      <td>2.0</td>\n",
       "      <td>1.0</td>\n",
       "      <td>0.0</td>\n",
       "      <td>0.0</td>\n",
       "      <td>3.0</td>\n",
       "      <td>0.0</td>\n",
       "      <td>0.6</td>\n",
       "      <td>4.0</td>\n",
       "      <td>10</td>\n",
       "      <td>2</td>\n",
       "    </tr>\n",
       "    <tr>\n",
       "      <th>238</th>\n",
       "      <td>Fenpropathrin</td>\n",
       "      <td>0.026</td>\n",
       "      <td>T</td>\n",
       "      <td>CC1(C)C(C(=O)OC(C#N)c2cccc(Oc3ccccc3)c2)C1(C)C</td>\n",
       "      <td>349.167794</td>\n",
       "      <td>326.246</td>\n",
       "      <td>0</td>\n",
       "      <td>134</td>\n",
       "      <td>26</td>\n",
       "      <td>0</td>\n",
       "      <td>...</td>\n",
       "      <td>3.0</td>\n",
       "      <td>0.0</td>\n",
       "      <td>0.0</td>\n",
       "      <td>0.0</td>\n",
       "      <td>2.0</td>\n",
       "      <td>2.0</td>\n",
       "      <td>1.0</td>\n",
       "      <td>6.6</td>\n",
       "      <td>10</td>\n",
       "      <td>2</td>\n",
       "    </tr>\n",
       "    <tr>\n",
       "      <th>239</th>\n",
       "      <td>Carfentrazone ethyl</td>\n",
       "      <td>0.003</td>\n",
       "      <td>T</td>\n",
       "      <td>CCOC(=O)C(Cl)Cc1cc(N2N=C(C)N(C(F)F)C2=O)c(F)cc1Cl</td>\n",
       "      <td>411.036431</td>\n",
       "      <td>398.083</td>\n",
       "      <td>0</td>\n",
       "      <td>142</td>\n",
       "      <td>26</td>\n",
       "      <td>0</td>\n",
       "      <td>...</td>\n",
       "      <td>2.0</td>\n",
       "      <td>0.0</td>\n",
       "      <td>0.0</td>\n",
       "      <td>0.0</td>\n",
       "      <td>2.0</td>\n",
       "      <td>0.0</td>\n",
       "      <td>0.8</td>\n",
       "      <td>7.0</td>\n",
       "      <td>10</td>\n",
       "      <td>2</td>\n",
       "    </tr>\n",
       "  </tbody>\n",
       "</table>\n",
       "<p>5 rows × 61 columns</p>\n",
       "</div>"
      ],
      "text/plain": [
       "          Pesticide Name    LOD EPA Tolerance (ppm)  \\\n",
       "235         Oxamyl oxime  0.001                   T   \n",
       "236         Pyriproxyfen  0.014                   T   \n",
       "237             Boscalid  0.001                   T   \n",
       "238        Fenpropathrin  0.026                   T   \n",
       "239  Carfentrazone ethyl  0.003                   T   \n",
       "\n",
       "                                                Smiles  ExactMolWt  \\\n",
       "235                               CSC(=N/O)/C(=O)N(C)C  162.046299   \n",
       "236                 CC(COc1ccc(Oc2ccccc2)cc1)Oc3ccccn3  321.136493   \n",
       "237               Clc1ccc(cc1)c2ccccc2NC(=O)c3cccnc3Cl  342.032668   \n",
       "238     CC1(C)C(C(=O)OC(C#N)c2cccc(Oc3ccccc3)c2)C1(C)C  349.167794   \n",
       "239  CCOC(=O)C(Cl)Cc1cc(N2N=C(C)N(C(F)F)C2=O)c(F)cc1Cl  411.036431   \n",
       "\n",
       "     HeavyAtomMolWt  NumRadicalElectrons  NumValenceElectrons  HeavyAtomCount  \\\n",
       "235         152.134                    0                   58              10   \n",
       "236         302.224                    0                  122              24   \n",
       "237         331.117                    0                  114              23   \n",
       "238         326.246                    0                  134              26   \n",
       "239         398.083                    0                  142              26   \n",
       "\n",
       "     NHOHCount  ...  FeatureAcceptorCount3D  FeatureDonorCount3D  \\\n",
       "235          1  ...                     2.0                  0.0   \n",
       "236          0  ...                     4.0                  0.0   \n",
       "237          1  ...                     2.0                  1.0   \n",
       "238          0  ...                     3.0                  0.0   \n",
       "239          0  ...                     2.0                  0.0   \n",
       "\n",
       "     FeatureAnionCount3D  FeatureCationCount3D  FeatureRingCount3D  \\\n",
       "235                  1.0                   0.0                 0.0   \n",
       "236                  0.0                   0.0                 3.0   \n",
       "237                  0.0                   0.0                 3.0   \n",
       "238                  0.0                   0.0                 2.0   \n",
       "239                  0.0                   0.0                 2.0   \n",
       "\n",
       "     FeatureHydrophobeCount3D  ConformerModelRMSD3D  EffectiveRotorCount3D  \\\n",
       "235                       1.0                   0.6                    3.0   \n",
       "236                       0.0                   1.0                    7.0   \n",
       "237                       0.0                   0.6                    4.0   \n",
       "238                       2.0                   1.0                    6.6   \n",
       "239                       0.0                   0.8                    7.0   \n",
       "\n",
       "     ConformerCount3D  Class  \n",
       "235                10      2  \n",
       "236                10      2  \n",
       "237                10      2  \n",
       "238                10      2  \n",
       "239                10      2  \n",
       "\n",
       "[5 rows x 61 columns]"
      ]
     },
     "execution_count": 7,
     "metadata": {},
     "output_type": "execute_result"
    }
   ],
   "source": [
    "pest_data.tail()"
   ]
  },
  {
   "cell_type": "code",
   "execution_count": 8,
   "metadata": {
    "hidden": true
   },
   "outputs": [
    {
     "data": {
      "text/plain": [
       "Pesticide Name              240\n",
       "LOD                         240\n",
       "EPA Tolerance (ppm)         240\n",
       "Smiles                      240\n",
       "ExactMolWt                  240\n",
       "                           ... \n",
       "FeatureHydrophobeCount3D    240\n",
       "ConformerModelRMSD3D        240\n",
       "EffectiveRotorCount3D       240\n",
       "ConformerCount3D            240\n",
       "Class                       240\n",
       "Length: 61, dtype: int64"
      ]
     },
     "execution_count": 8,
     "metadata": {},
     "output_type": "execute_result"
    }
   ],
   "source": [
    "pest_data.count()"
   ]
  },
  {
   "cell_type": "code",
   "execution_count": 9,
   "metadata": {
    "hidden": true
   },
   "outputs": [
    {
     "data": {
      "text/plain": [
       "dtype('int64')"
      ]
     },
     "execution_count": 9,
     "metadata": {},
     "output_type": "execute_result"
    }
   ],
   "source": [
    "pest_data[\"Class\"].dtype"
   ]
  },
  {
   "cell_type": "code",
   "execution_count": 10,
   "metadata": {
    "hidden": true
   },
   "outputs": [
    {
     "data": {
      "text/plain": [
       "Index(['Pesticide Name', 'LOD', 'EPA Tolerance (ppm)', 'Smiles', 'ExactMolWt',\n",
       "       'HeavyAtomMolWt', 'NumRadicalElectrons', 'NumValenceElectrons',\n",
       "       'HeavyAtomCount', 'NHOHCount', 'NOCount', 'NumAliphaticCarbocycles',\n",
       "       'NumAliphaticHeterocycles', 'NumAliphaticRings',\n",
       "       'NumAromaticCarbocycles', 'NumAromaticHeterocycles', 'NumAromaticRings',\n",
       "       'NumHAcceptors', 'NumHDonors', 'NumHeteroatoms', 'NumRotatableBonds',\n",
       "       'NumSaturatedCarbocycles', 'NumSaturatedHeterocycles',\n",
       "       'NumSaturatedRings', 'RingCount', 'Halogens', 'MolecularFormula',\n",
       "       'MolecularWeight', 'CanonicalSMILES', 'XLogP', 'ExactMass', 'TPSA',\n",
       "       'Complexity', 'Charge', 'HBondDonorCount', 'HBondAcceptorCount',\n",
       "       'RotatableBondCount', 'HeavyAtomCount.1', 'IsotopeAtomCount',\n",
       "       'AtomStereoCount', 'DefinedAtomStereoCount', 'UndefinedAtomStereoCount',\n",
       "       'BondStereoCount', 'DefinedBondStereoCount', 'UndefinedBondStereoCount',\n",
       "       'CovalentUnitCount', 'Volume3D', 'XStericQuadrupole3D',\n",
       "       'YStericQuadrupole3D', 'ZStericQuadrupole3D', 'FeatureCount3D',\n",
       "       'FeatureAcceptorCount3D', 'FeatureDonorCount3D', 'FeatureAnionCount3D',\n",
       "       'FeatureCationCount3D', 'FeatureRingCount3D',\n",
       "       'FeatureHydrophobeCount3D', 'ConformerModelRMSD3D',\n",
       "       'EffectiveRotorCount3D', 'ConformerCount3D', 'Class'],\n",
       "      dtype='object')"
      ]
     },
     "execution_count": 10,
     "metadata": {},
     "output_type": "execute_result"
    }
   ],
   "source": [
    "pest_data.columns"
   ]
  },
  {
   "cell_type": "code",
   "execution_count": 11,
   "metadata": {
    "hidden": true
   },
   "outputs": [
    {
     "data": {
      "text/html": [
       "<div>\n",
       "<style scoped>\n",
       "    .dataframe tbody tr th:only-of-type {\n",
       "        vertical-align: middle;\n",
       "    }\n",
       "\n",
       "    .dataframe tbody tr th {\n",
       "        vertical-align: top;\n",
       "    }\n",
       "\n",
       "    .dataframe thead th {\n",
       "        text-align: right;\n",
       "    }\n",
       "</style>\n",
       "<table border=\"1\" class=\"dataframe\">\n",
       "  <thead>\n",
       "    <tr style=\"text-align: right;\">\n",
       "      <th></th>\n",
       "      <th>LOD</th>\n",
       "      <th>ExactMolWt</th>\n",
       "      <th>HeavyAtomMolWt</th>\n",
       "      <th>NumRadicalElectrons</th>\n",
       "      <th>NumValenceElectrons</th>\n",
       "      <th>HeavyAtomCount</th>\n",
       "      <th>NHOHCount</th>\n",
       "      <th>NOCount</th>\n",
       "      <th>NumAliphaticCarbocycles</th>\n",
       "      <th>NumAliphaticHeterocycles</th>\n",
       "      <th>...</th>\n",
       "      <th>FeatureAcceptorCount3D</th>\n",
       "      <th>FeatureDonorCount3D</th>\n",
       "      <th>FeatureAnionCount3D</th>\n",
       "      <th>FeatureCationCount3D</th>\n",
       "      <th>FeatureRingCount3D</th>\n",
       "      <th>FeatureHydrophobeCount3D</th>\n",
       "      <th>ConformerModelRMSD3D</th>\n",
       "      <th>EffectiveRotorCount3D</th>\n",
       "      <th>ConformerCount3D</th>\n",
       "      <th>Class</th>\n",
       "    </tr>\n",
       "  </thead>\n",
       "  <tbody>\n",
       "    <tr>\n",
       "      <th>count</th>\n",
       "      <td>240.000000</td>\n",
       "      <td>240.000000</td>\n",
       "      <td>240.000000</td>\n",
       "      <td>240.0</td>\n",
       "      <td>240.000000</td>\n",
       "      <td>240.000000</td>\n",
       "      <td>240.000000</td>\n",
       "      <td>240.000000</td>\n",
       "      <td>240.000000</td>\n",
       "      <td>240.000000</td>\n",
       "      <td>...</td>\n",
       "      <td>240.000000</td>\n",
       "      <td>240.00000</td>\n",
       "      <td>240.000000</td>\n",
       "      <td>240.000000</td>\n",
       "      <td>240.000000</td>\n",
       "      <td>240.000000</td>\n",
       "      <td>240.000000</td>\n",
       "      <td>240.00000</td>\n",
       "      <td>240.000000</td>\n",
       "      <td>240.000000</td>\n",
       "    </tr>\n",
       "    <tr>\n",
       "      <th>mean</th>\n",
       "      <td>0.013313</td>\n",
       "      <td>296.822371</td>\n",
       "      <td>282.050196</td>\n",
       "      <td>0.0</td>\n",
       "      <td>103.650000</td>\n",
       "      <td>19.129167</td>\n",
       "      <td>0.654167</td>\n",
       "      <td>4.279167</td>\n",
       "      <td>0.166667</td>\n",
       "      <td>0.183333</td>\n",
       "      <td>...</td>\n",
       "      <td>1.866667</td>\n",
       "      <td>0.53750</td>\n",
       "      <td>0.100000</td>\n",
       "      <td>0.441667</td>\n",
       "      <td>1.562500</td>\n",
       "      <td>0.712500</td>\n",
       "      <td>0.741667</td>\n",
       "      <td>5.40000</td>\n",
       "      <td>8.604167</td>\n",
       "      <td>1.708333</td>\n",
       "    </tr>\n",
       "    <tr>\n",
       "      <th>std</th>\n",
       "      <td>0.026594</td>\n",
       "      <td>81.867931</td>\n",
       "      <td>79.940445</td>\n",
       "      <td>0.0</td>\n",
       "      <td>29.072309</td>\n",
       "      <td>5.705828</td>\n",
       "      <td>0.892310</td>\n",
       "      <td>1.641889</td>\n",
       "      <td>0.445025</td>\n",
       "      <td>0.398393</td>\n",
       "      <td>...</td>\n",
       "      <td>1.267114</td>\n",
       "      <td>0.73656</td>\n",
       "      <td>0.374948</td>\n",
       "      <td>0.735198</td>\n",
       "      <td>0.974706</td>\n",
       "      <td>0.908266</td>\n",
       "      <td>0.206011</td>\n",
       "      <td>2.57331</td>\n",
       "      <td>2.774206</td>\n",
       "      <td>0.455480</td>\n",
       "    </tr>\n",
       "    <tr>\n",
       "      <th>min</th>\n",
       "      <td>0.000100</td>\n",
       "      <td>44.026215</td>\n",
       "      <td>40.021000</td>\n",
       "      <td>0.0</td>\n",
       "      <td>18.000000</td>\n",
       "      <td>3.000000</td>\n",
       "      <td>0.000000</td>\n",
       "      <td>0.000000</td>\n",
       "      <td>0.000000</td>\n",
       "      <td>0.000000</td>\n",
       "      <td>...</td>\n",
       "      <td>0.000000</td>\n",
       "      <td>0.00000</td>\n",
       "      <td>0.000000</td>\n",
       "      <td>0.000000</td>\n",
       "      <td>0.000000</td>\n",
       "      <td>0.000000</td>\n",
       "      <td>0.400000</td>\n",
       "      <td>0.00000</td>\n",
       "      <td>1.000000</td>\n",
       "      <td>1.000000</td>\n",
       "    </tr>\n",
       "    <tr>\n",
       "      <th>25%</th>\n",
       "      <td>0.002000</td>\n",
       "      <td>237.882259</td>\n",
       "      <td>222.210000</td>\n",
       "      <td>0.0</td>\n",
       "      <td>82.000000</td>\n",
       "      <td>15.000000</td>\n",
       "      <td>0.000000</td>\n",
       "      <td>3.000000</td>\n",
       "      <td>0.000000</td>\n",
       "      <td>0.000000</td>\n",
       "      <td>...</td>\n",
       "      <td>1.000000</td>\n",
       "      <td>0.00000</td>\n",
       "      <td>0.000000</td>\n",
       "      <td>0.000000</td>\n",
       "      <td>1.000000</td>\n",
       "      <td>0.000000</td>\n",
       "      <td>0.600000</td>\n",
       "      <td>3.95000</td>\n",
       "      <td>10.000000</td>\n",
       "      <td>1.000000</td>\n",
       "    </tr>\n",
       "    <tr>\n",
       "      <th>50%</th>\n",
       "      <td>0.005000</td>\n",
       "      <td>299.589972</td>\n",
       "      <td>282.830500</td>\n",
       "      <td>0.0</td>\n",
       "      <td>104.000000</td>\n",
       "      <td>19.000000</td>\n",
       "      <td>0.000000</td>\n",
       "      <td>4.000000</td>\n",
       "      <td>0.000000</td>\n",
       "      <td>0.000000</td>\n",
       "      <td>...</td>\n",
       "      <td>2.000000</td>\n",
       "      <td>0.00000</td>\n",
       "      <td>0.000000</td>\n",
       "      <td>0.000000</td>\n",
       "      <td>2.000000</td>\n",
       "      <td>0.000000</td>\n",
       "      <td>0.800000</td>\n",
       "      <td>5.90000</td>\n",
       "      <td>10.000000</td>\n",
       "      <td>2.000000</td>\n",
       "    </tr>\n",
       "    <tr>\n",
       "      <th>75%</th>\n",
       "      <td>0.015000</td>\n",
       "      <td>346.802600</td>\n",
       "      <td>327.363750</td>\n",
       "      <td>0.0</td>\n",
       "      <td>122.500000</td>\n",
       "      <td>23.000000</td>\n",
       "      <td>1.000000</td>\n",
       "      <td>5.000000</td>\n",
       "      <td>0.000000</td>\n",
       "      <td>0.000000</td>\n",
       "      <td>...</td>\n",
       "      <td>3.000000</td>\n",
       "      <td>1.00000</td>\n",
       "      <td>0.000000</td>\n",
       "      <td>1.000000</td>\n",
       "      <td>2.000000</td>\n",
       "      <td>1.000000</td>\n",
       "      <td>0.800000</td>\n",
       "      <td>7.00000</td>\n",
       "      <td>10.000000</td>\n",
       "      <td>2.000000</td>\n",
       "    </tr>\n",
       "    <tr>\n",
       "      <th>max</th>\n",
       "      <td>0.250000</td>\n",
       "      <td>682.023324</td>\n",
       "      <td>660.220000</td>\n",
       "      <td>0.0</td>\n",
       "      <td>210.000000</td>\n",
       "      <td>38.000000</td>\n",
       "      <td>5.000000</td>\n",
       "      <td>10.000000</td>\n",
       "      <td>2.000000</td>\n",
       "      <td>2.000000</td>\n",
       "      <td>...</td>\n",
       "      <td>6.000000</td>\n",
       "      <td>4.00000</td>\n",
       "      <td>2.000000</td>\n",
       "      <td>3.000000</td>\n",
       "      <td>4.000000</td>\n",
       "      <td>6.000000</td>\n",
       "      <td>1.400000</td>\n",
       "      <td>13.00000</td>\n",
       "      <td>10.000000</td>\n",
       "      <td>2.000000</td>\n",
       "    </tr>\n",
       "  </tbody>\n",
       "</table>\n",
       "<p>8 rows × 56 columns</p>\n",
       "</div>"
      ],
      "text/plain": [
       "              LOD  ExactMolWt  HeavyAtomMolWt  NumRadicalElectrons  \\\n",
       "count  240.000000  240.000000      240.000000                240.0   \n",
       "mean     0.013313  296.822371      282.050196                  0.0   \n",
       "std      0.026594   81.867931       79.940445                  0.0   \n",
       "min      0.000100   44.026215       40.021000                  0.0   \n",
       "25%      0.002000  237.882259      222.210000                  0.0   \n",
       "50%      0.005000  299.589972      282.830500                  0.0   \n",
       "75%      0.015000  346.802600      327.363750                  0.0   \n",
       "max      0.250000  682.023324      660.220000                  0.0   \n",
       "\n",
       "       NumValenceElectrons  HeavyAtomCount   NHOHCount     NOCount  \\\n",
       "count           240.000000      240.000000  240.000000  240.000000   \n",
       "mean            103.650000       19.129167    0.654167    4.279167   \n",
       "std              29.072309        5.705828    0.892310    1.641889   \n",
       "min              18.000000        3.000000    0.000000    0.000000   \n",
       "25%              82.000000       15.000000    0.000000    3.000000   \n",
       "50%             104.000000       19.000000    0.000000    4.000000   \n",
       "75%             122.500000       23.000000    1.000000    5.000000   \n",
       "max             210.000000       38.000000    5.000000   10.000000   \n",
       "\n",
       "       NumAliphaticCarbocycles  NumAliphaticHeterocycles  ...  \\\n",
       "count               240.000000                240.000000  ...   \n",
       "mean                  0.166667                  0.183333  ...   \n",
       "std                   0.445025                  0.398393  ...   \n",
       "min                   0.000000                  0.000000  ...   \n",
       "25%                   0.000000                  0.000000  ...   \n",
       "50%                   0.000000                  0.000000  ...   \n",
       "75%                   0.000000                  0.000000  ...   \n",
       "max                   2.000000                  2.000000  ...   \n",
       "\n",
       "       FeatureAcceptorCount3D  FeatureDonorCount3D  FeatureAnionCount3D  \\\n",
       "count              240.000000            240.00000           240.000000   \n",
       "mean                 1.866667              0.53750             0.100000   \n",
       "std                  1.267114              0.73656             0.374948   \n",
       "min                  0.000000              0.00000             0.000000   \n",
       "25%                  1.000000              0.00000             0.000000   \n",
       "50%                  2.000000              0.00000             0.000000   \n",
       "75%                  3.000000              1.00000             0.000000   \n",
       "max                  6.000000              4.00000             2.000000   \n",
       "\n",
       "       FeatureCationCount3D  FeatureRingCount3D  FeatureHydrophobeCount3D  \\\n",
       "count            240.000000          240.000000                240.000000   \n",
       "mean               0.441667            1.562500                  0.712500   \n",
       "std                0.735198            0.974706                  0.908266   \n",
       "min                0.000000            0.000000                  0.000000   \n",
       "25%                0.000000            1.000000                  0.000000   \n",
       "50%                0.000000            2.000000                  0.000000   \n",
       "75%                1.000000            2.000000                  1.000000   \n",
       "max                3.000000            4.000000                  6.000000   \n",
       "\n",
       "       ConformerModelRMSD3D  EffectiveRotorCount3D  ConformerCount3D  \\\n",
       "count            240.000000              240.00000        240.000000   \n",
       "mean               0.741667                5.40000          8.604167   \n",
       "std                0.206011                2.57331          2.774206   \n",
       "min                0.400000                0.00000          1.000000   \n",
       "25%                0.600000                3.95000         10.000000   \n",
       "50%                0.800000                5.90000         10.000000   \n",
       "75%                0.800000                7.00000         10.000000   \n",
       "max                1.400000               13.00000         10.000000   \n",
       "\n",
       "            Class  \n",
       "count  240.000000  \n",
       "mean     1.708333  \n",
       "std      0.455480  \n",
       "min      1.000000  \n",
       "25%      1.000000  \n",
       "50%      2.000000  \n",
       "75%      2.000000  \n",
       "max      2.000000  \n",
       "\n",
       "[8 rows x 56 columns]"
      ]
     },
     "execution_count": 11,
     "metadata": {},
     "output_type": "execute_result"
    }
   ],
   "source": [
    "pest_data.describe()"
   ]
  },
  {
   "cell_type": "code",
   "execution_count": 12,
   "metadata": {
    "hidden": true
   },
   "outputs": [],
   "source": [
    "#pest_data.hist(column='Na_to_K', bins=100)"
   ]
  },
  {
   "cell_type": "code",
   "execution_count": 13,
   "metadata": {
    "hidden": true
   },
   "outputs": [],
   "source": [
    "#pest_data.hist(column='Age', bins=50)"
   ]
  },
  {
   "cell_type": "code",
   "execution_count": 14,
   "metadata": {
    "hidden": true
   },
   "outputs": [
    {
     "data": {
      "text/plain": [
       "array([[1.40000000e-02, 2.83016684e+02, 2.73054000e+02, 9.40000000e+01,\n",
       "        1.80000000e+01, 0.00000000e+00, 3.00000000e+00, 1.00000000e+00,\n",
       "        1.00000000e+00, 2.00000000e+00, 1.00000000e+00, 0.00000000e+00,\n",
       "        1.00000000e+00, 2.00000000e+00, 0.00000000e+00, 5.00000000e+00,\n",
       "        1.00000000e+00, 1.00000000e+00, 1.00000000e+00, 2.00000000e+00,\n",
       "        3.00000000e+00, 2.00000000e+00, 2.84130000e+02, 3.00000000e+00,\n",
       "        2.83016684e+02, 3.74000000e+01, 4.05000000e+02, 0.00000000e+00,\n",
       "        0.00000000e+00, 2.00000000e+00, 1.00000000e+00, 1.80000000e+01,\n",
       "        0.00000000e+00, 2.00000000e+00, 0.00000000e+00, 2.00000000e+00,\n",
       "        0.00000000e+00, 0.00000000e+00, 0.00000000e+00, 1.00000000e+00,\n",
       "        2.03300000e+02, 7.89000000e+00, 2.66000000e+00, 8.90000000e-01,\n",
       "        4.00000000e+00, 2.00000000e+00, 0.00000000e+00, 0.00000000e+00,\n",
       "        0.00000000e+00, 2.00000000e+00, 0.00000000e+00, 6.00000000e-01,\n",
       "        1.40000000e+00, 3.00000000e+00],\n",
       "       [4.00000000e-03, 3.03105801e+02, 2.81188000e+02, 1.08000000e+02,\n",
       "        1.90000000e+01, 1.00000000e+00, 4.00000000e+00, 0.00000000e+00,\n",
       "        0.00000000e+00, 0.00000000e+00, 1.00000000e+00, 0.00000000e+00,\n",
       "        1.00000000e+00, 4.00000000e+00, 1.00000000e+00, 6.00000000e+00,\n",
       "        7.00000000e+00, 0.00000000e+00, 0.00000000e+00, 0.00000000e+00,\n",
       "        1.00000000e+00, 0.00000000e+00, 3.03360000e+02, 3.20000000e+00,\n",
       "        3.03105802e+02, 7.29000000e+01, 3.14000000e+02, 0.00000000e+00,\n",
       "        1.00000000e+00, 5.00000000e+00, 7.00000000e+00, 1.90000000e+01,\n",
       "        0.00000000e+00, 1.00000000e+00, 0.00000000e+00, 1.00000000e+00,\n",
       "        0.00000000e+00, 0.00000000e+00, 0.00000000e+00, 1.00000000e+00,\n",
       "        2.33600000e+02, 1.05300000e+01, 2.91000000e+00, 1.34000000e+00,\n",
       "        4.00000000e+00, 1.00000000e+00, 0.00000000e+00, 0.00000000e+00,\n",
       "        0.00000000e+00, 1.00000000e+00, 2.00000000e+00, 8.00000000e-01,\n",
       "        7.00000000e+00, 1.00000000e+01]])"
      ]
     },
     "execution_count": 14,
     "metadata": {},
     "output_type": "execute_result"
    }
   ],
   "source": [
    "X = pest_data[['LOD', 'ExactMolWt', 'HeavyAtomMolWt', 'NumValenceElectrons', 'HeavyAtomCount', 'NHOHCount', \n",
    "                        'NOCount', 'NumAliphaticCarbocycles', 'NumAliphaticHeterocycles', 'NumAliphaticRings', \n",
    "                        'NumAromaticCarbocycles', 'NumAromaticHeterocycles', 'NumAromaticRings', 'NumHAcceptors', \n",
    "                        'NumHDonors', 'NumHeteroatoms', 'NumRotatableBonds', 'NumSaturatedCarbocycles', \n",
    "                        'NumSaturatedHeterocycles', 'NumSaturatedRings', 'RingCount', 'Halogens', \"MolecularWeight\", \n",
    "                        \"XLogP\", \"ExactMass\", \"TPSA\", \"Complexity\", \"Charge\", \"HBondDonorCount\", \n",
    "                        \"HBondAcceptorCount\", \"RotatableBondCount\", \"HeavyAtomCount\", \"IsotopeAtomCount\", \"AtomStereoCount\", \n",
    "                        \"DefinedAtomStereoCount\", \"UndefinedAtomStereoCount\", \"BondStereoCount\", \"DefinedBondStereoCount\", \n",
    "                        \"UndefinedBondStereoCount\", \"CovalentUnitCount\",\"Volume3D\", \"XStericQuadrupole3D\", \"YStericQuadrupole3D\", \n",
    "                        \"ZStericQuadrupole3D\", \"FeatureCount3D\", \"FeatureAcceptorCount3D\", \"FeatureDonorCount3D\", \"FeatureAnionCount3D\", \n",
    "                        \"FeatureCationCount3D\", \"FeatureRingCount3D\", \"FeatureHydrophobeCount3D\", \"ConformerModelRMSD3D\", \n",
    "                        \"EffectiveRotorCount3D\", \"ConformerCount3D\"]].values\n",
    "\n",
    "\n",
    "y = pest_data[['Class']].values\n",
    "#y[0:5]\n",
    "\n",
    "X[0:2]"
   ]
  },
  {
   "cell_type": "code",
   "execution_count": 28,
   "metadata": {},
   "outputs": [
    {
     "data": {
      "text/plain": [
       "(240, 18)"
      ]
     },
     "execution_count": 28,
     "metadata": {},
     "output_type": "execute_result"
    }
   ],
   "source": [
    "X.shape"
   ]
  },
  {
   "cell_type": "code",
   "execution_count": 15,
   "metadata": {
    "hidden": true
   },
   "outputs": [
    {
     "data": {
      "text/plain": [
       "array([[1],\n",
       "       [1],\n",
       "       [1],\n",
       "       [1],\n",
       "       [1]], dtype=int64)"
      ]
     },
     "execution_count": 15,
     "metadata": {},
     "output_type": "execute_result"
    }
   ],
   "source": [
    "y_array = pest_data[['Class']].to_numpy()\n",
    "y_array[0:5]"
   ]
  },
  {
   "cell_type": "code",
   "execution_count": 16,
   "metadata": {
    "hidden": true
   },
   "outputs": [],
   "source": [
    "pest_feats_array = X\n",
    "y = y_array"
   ]
  },
  {
   "cell_type": "code",
   "execution_count": 17,
   "metadata": {
    "hidden": true
   },
   "outputs": [
    {
     "data": {
      "text/plain": [
       "array([[-0.38172713,  7.34651081, -1.45784533, ..., -0.02354543,\n",
       "         0.79472852,  0.61704106],\n",
       "       [ 0.25380124, -0.83135807,  1.87731163, ...,  0.52952181,\n",
       "         0.49706464, -0.78630769],\n",
       "       [-4.05825424, -1.43292535, -1.11888741, ...,  2.27281405,\n",
       "         0.11460249, -0.91583163],\n",
       "       ...,\n",
       "       [ 1.2837196 ,  0.42218071, -2.88301013, ..., -0.23199105,\n",
       "        -0.53712472,  0.92457317],\n",
       "       [ 4.49176828,  2.86421085,  0.29362712, ...,  0.0375824 ,\n",
       "        -1.1256568 , -0.07445442],\n",
       "       [ 4.76059474, -1.47722347,  0.04087042, ...,  0.81132719,\n",
       "        -0.46446512,  1.01131178]])"
      ]
     },
     "execution_count": 17,
     "metadata": {},
     "output_type": "execute_result"
    }
   ],
   "source": [
    "from sklearn.preprocessing import StandardScaler\n",
    "from sklearn.decomposition import PCA\n",
    "\n",
    "pest_feats_scaled = StandardScaler().fit_transform(pest_feats_array)  # Previously, a huge bias without scaling\n",
    "\n",
    "# one feature had 99% explanation\n",
    "\n",
    "pest_feats_pca = PCA(n_components=18).fit(pest_feats_scaled)\n",
    "pest_feats_pca_values = pest_feats_pca.transform(pest_feats_scaled)\n",
    "pest_feats_pca_values"
   ]
  },
  {
   "cell_type": "code",
   "execution_count": 18,
   "metadata": {
    "hidden": true
   },
   "outputs": [
    {
     "data": {
      "text/plain": [
       "array([0.29927445, 0.12520607, 0.09989821, 0.08433809, 0.05745664,\n",
       "       0.04384194, 0.03960146, 0.03180862, 0.03003908, 0.02732521,\n",
       "       0.02085093, 0.02022818, 0.01626626, 0.01596335, 0.01488377,\n",
       "       0.01159804, 0.01033055, 0.00822051])"
      ]
     },
     "execution_count": 18,
     "metadata": {},
     "output_type": "execute_result"
    }
   ],
   "source": [
    "pest_feats_pca.explained_variance_ratio_"
   ]
  },
  {
   "cell_type": "code",
   "execution_count": 19,
   "metadata": {
    "hidden": true
   },
   "outputs": [
    {
     "data": {
      "text/plain": [
       "0.9571313434933594"
      ]
     },
     "execution_count": 19,
     "metadata": {},
     "output_type": "execute_result"
    }
   ],
   "source": [
    "pest_feats_pca.explained_variance_ratio_.sum()"
   ]
  },
  {
   "cell_type": "code",
   "execution_count": 20,
   "metadata": {
    "hidden": true
   },
   "outputs": [
    {
     "data": {
      "text/plain": [
       "(240, 18)"
      ]
     },
     "execution_count": 20,
     "metadata": {},
     "output_type": "execute_result"
    }
   ],
   "source": [
    "#pest_data['Class'] = pest_data['Class'].astype(int)\n",
    "#y = np.asanyarray(pest_data['Class'])\n",
    "#y[0:5]\n",
    "\n",
    "X = pest_feats_pca_values[:]\n",
    "X.shape"
   ]
  },
  {
   "cell_type": "markdown",
   "metadata": {
    "heading_collapsed": true
   },
   "source": [
    "#### train_test_split"
   ]
  },
  {
   "cell_type": "code",
   "execution_count": 21,
   "metadata": {
    "hidden": true
   },
   "outputs": [
    {
     "name": "stdout",
     "output_type": "stream",
     "text": [
      "X_train and y_train shape:  (192, 18) (192, 1)\n",
      "X_test and y_test shape:  (48, 18) (48, 1)\n"
     ]
    }
   ],
   "source": [
    "from sklearn.model_selection import train_test_split\n",
    "\n",
    "X_train, X_test, y_train, y_test = train_test_split(X, y, test_size = 0.2, shuffle=True) #random_state = 3\n",
    "print ('X_train and y_train shape: ', X_train.shape, y_train.shape)\n",
    "print ('X_test and y_test shape: ', X_test.shape, y_test.shape)"
   ]
  },
  {
   "cell_type": "code",
   "execution_count": 22,
   "metadata": {
    "hidden": true
   },
   "outputs": [
    {
     "data": {
      "text/plain": [
       "array([[ 1.01891085, -0.63100203,  2.25837316, -1.05318461, -1.89112043,\n",
       "        -1.63279883,  0.2776333 , -2.69957192, -1.53998207, -0.23591766,\n",
       "        -0.72457379,  0.4544896 ,  1.28931317, -0.01089315,  1.03243433,\n",
       "        -1.42121959, -0.29210725, -0.73851629],\n",
       "       [-0.40722339, -1.13815499, -3.33246474, -0.68306239,  1.14044583,\n",
       "        -1.14078525,  1.90114056,  0.02232286, -2.40799442,  1.24742868,\n",
       "         0.11181242,  0.46011536, -1.18116254, -0.37778262, -0.56361762,\n",
       "        -0.30613904,  0.66911279,  0.05846545]])"
      ]
     },
     "execution_count": 22,
     "metadata": {},
     "output_type": "execute_result"
    }
   ],
   "source": [
    "from sklearn.preprocessing import StandardScaler\n",
    "\n",
    "#X_train = StandardScaler().fit_transform(X_train)\n",
    "X_train[0:5]\n",
    "#X_test = StandardScaler().fit_transform(X_test)\n",
    "X_test[0:2]"
   ]
  },
  {
   "cell_type": "code",
   "execution_count": 23,
   "metadata": {
    "hidden": true
   },
   "outputs": [
    {
     "name": "stdout",
     "output_type": "stream",
     "text": [
      "Train set dimensions match and is equal to (192, 18) vs (192, 1)\n"
     ]
    }
   ],
   "source": [
    "#Just to be sure\n",
    "\n",
    "if X_train.shape[0] == y_train.shape[0]:\n",
    "    print(\"Train set dimensions match and is equal to\", X_train.shape, 'vs', y_train.shape)\n",
    "else:\n",
    "    print(\"Train set dimensions do not match\")"
   ]
  },
  {
   "cell_type": "markdown",
   "metadata": {},
   "source": [
    "### SVM HyperOpt - Optimisation of model hyperparameters"
   ]
  },
  {
   "cell_type": "code",
   "execution_count": 29,
   "metadata": {},
   "outputs": [
    {
     "name": "stdout",
     "output_type": "stream",
     "text": [
      "100%|█████████████████████████████████████████████████| 1/1 [00:03<00:00,  3.15s/trial, best loss: 0.33333333333333337]\n",
      "100%|█████████████████████████████████████████████████| 2/2 [00:03<00:00,  3.31s/trial, best loss: 0.33333333333333337]\n",
      "100%|█████████████████████████████████████████████████| 3/3 [00:03<00:00,  3.42s/trial, best loss: 0.33333333333333337]\n",
      "100%|█████████████████████████████████████████████████| 4/4 [00:02<00:00,  2.74s/trial, best loss: 0.33333333333333337]\n",
      "100%|█████████████████████████████████████████████████| 5/5 [00:03<00:00,  3.51s/trial, best loss: 0.33333333333333337]\n",
      "100%|█████████████████████████████████████████████████| 6/6 [00:03<00:00,  3.19s/trial, best loss: 0.33333333333333337]\n",
      "100%|█████████████████████████████████████████████████| 7/7 [00:02<00:00,  2.75s/trial, best loss: 0.33333333333333337]\n",
      "100%|█████████████████████████████████████████████████| 8/8 [00:03<00:00,  3.20s/trial, best loss: 0.33333333333333337]\n",
      "100%|█████████████████████████████████████████████████| 9/9 [00:03<00:00,  3.05s/trial, best loss: 0.33333333333333337]\n",
      "100%|███████████████████████████████████████████████| 10/10 [00:03<00:00,  3.02s/trial, best loss: 0.33333333333333337]\n",
      "100%|███████████████████████████████████████████████| 11/11 [00:03<00:00,  3.16s/trial, best loss: 0.33333333333333337]\n",
      "100%|███████████████████████████████████████████████| 12/12 [00:03<00:00,  3.10s/trial, best loss: 0.33333333333333337]\n",
      "100%|███████████████████████████████████████████████| 13/13 [00:03<00:00,  3.50s/trial, best loss: 0.33333333333333337]\n",
      "100%|███████████████████████████████████████████████| 14/14 [00:03<00:00,  3.87s/trial, best loss: 0.33333333333333337]\n",
      "100%|███████████████████████████████████████████████| 15/15 [00:03<00:00,  3.02s/trial, best loss: 0.33333333333333337]\n",
      "100%|███████████████████████████████████████████████| 16/16 [00:03<00:00,  3.27s/trial, best loss: 0.33333333333333337]\n",
      "100%|███████████████████████████████████████████████| 17/17 [00:03<00:00,  3.24s/trial, best loss: 0.33333333333333337]\n",
      "100%|███████████████████████████████████████████████| 18/18 [00:03<00:00,  3.41s/trial, best loss: 0.28205128205128205]\n",
      "100%|███████████████████████████████████████████████| 19/19 [00:03<00:00,  3.31s/trial, best loss: 0.28205128205128205]\n",
      "100%|███████████████████████████████████████████████| 20/20 [00:03<00:00,  3.16s/trial, best loss: 0.28205128205128205]\n",
      "100%|███████████████████████████████████████████████| 21/21 [00:03<00:00,  3.30s/trial, best loss: 0.28205128205128205]\n",
      "100%|███████████████████████████████████████████████| 22/22 [00:03<00:00,  3.21s/trial, best loss: 0.28205128205128205]\n",
      "100%|███████████████████████████████████████████████| 23/23 [00:03<00:00,  3.22s/trial, best loss: 0.28205128205128205]\n",
      "100%|███████████████████████████████████████████████| 24/24 [00:03<00:00,  3.35s/trial, best loss: 0.28205128205128205]\n",
      "100%|███████████████████████████████████████████████| 25/25 [00:03<00:00,  3.37s/trial, best loss: 0.28205128205128205]\n",
      "100%|███████████████████████████████████████████████| 26/26 [00:03<00:00,  3.53s/trial, best loss: 0.28205128205128205]\n",
      "100%|███████████████████████████████████████████████| 27/27 [00:03<00:00,  3.22s/trial, best loss: 0.28205128205128205]\n",
      "100%|███████████████████████████████████████████████| 28/28 [00:03<00:00,  3.53s/trial, best loss: 0.28205128205128205]\n",
      "100%|███████████████████████████████████████████████| 29/29 [00:03<00:00,  3.33s/trial, best loss: 0.28205128205128205]\n",
      "100%|███████████████████████████████████████████████| 30/30 [00:03<00:00,  3.09s/trial, best loss: 0.28205128205128205]\n",
      "100%|███████████████████████████████████████████████| 31/31 [00:02<00:00,  2.41s/trial, best loss: 0.28205128205128205]\n",
      "100%|███████████████████████████████████████████████| 32/32 [00:03<00:00,  3.64s/trial, best loss: 0.28205128205128205]\n",
      "100%|███████████████████████████████████████████████| 33/33 [00:03<00:00,  3.28s/trial, best loss: 0.28205128205128205]\n",
      "100%|███████████████████████████████████████████████| 34/34 [00:03<00:00,  3.20s/trial, best loss: 0.28205128205128205]\n",
      "100%|███████████████████████████████████████████████| 35/35 [00:03<00:00,  3.29s/trial, best loss: 0.28205128205128205]\n",
      "100%|███████████████████████████████████████████████| 36/36 [00:03<00:00,  3.27s/trial, best loss: 0.28205128205128205]\n",
      "100%|███████████████████████████████████████████████| 37/37 [00:03<00:00,  3.44s/trial, best loss: 0.28205128205128205]\n",
      "100%|███████████████████████████████████████████████| 38/38 [00:03<00:00,  3.50s/trial, best loss: 0.28205128205128205]\n",
      "100%|███████████████████████████████████████████████| 39/39 [00:03<00:00,  3.05s/trial, best loss: 0.28205128205128205]\n",
      "100%|███████████████████████████████████████████████| 40/40 [00:02<00:00,  2.82s/trial, best loss: 0.28205128205128205]\n",
      "100%|███████████████████████████████████████████████| 41/41 [00:03<00:00,  3.34s/trial, best loss: 0.28205128205128205]\n",
      "100%|███████████████████████████████████████████████| 42/42 [00:03<00:00,  3.35s/trial, best loss: 0.28205128205128205]\n",
      "100%|███████████████████████████████████████████████| 43/43 [00:03<00:00,  3.60s/trial, best loss: 0.28205128205128205]\n",
      "100%|███████████████████████████████████████████████| 44/44 [00:03<00:00,  3.37s/trial, best loss: 0.28205128205128205]\n",
      "100%|███████████████████████████████████████████████| 45/45 [00:03<00:00,  3.45s/trial, best loss: 0.28205128205128205]\n",
      "100%|███████████████████████████████████████████████| 46/46 [00:03<00:00,  3.61s/trial, best loss: 0.28205128205128205]\n",
      "100%|███████████████████████████████████████████████| 47/47 [00:01<00:00,  1.99s/trial, best loss: 0.28205128205128205]\n",
      "100%|███████████████████████████████████████████████| 48/48 [00:03<00:00,  3.46s/trial, best loss: 0.28205128205128205]\n",
      "100%|███████████████████████████████████████████████| 49/49 [00:03<00:00,  3.51s/trial, best loss: 0.28205128205128205]\n",
      "100%|███████████████████████████████████████████████| 50/50 [00:03<00:00,  3.62s/trial, best loss: 0.28205128205128205]\n",
      "100%|███████████████████████████████████████████████| 51/51 [00:03<00:00,  3.64s/trial, best loss: 0.28205128205128205]\n",
      "100%|███████████████████████████████████████████████| 52/52 [00:02<00:00,  2.86s/trial, best loss: 0.28205128205128205]\n",
      "100%|███████████████████████████████████████████████| 53/53 [00:02<00:00,  2.31s/trial, best loss: 0.28205128205128205]\n",
      "100%|███████████████████████████████████████████████| 54/54 [00:03<00:00,  3.03s/trial, best loss: 0.28205128205128205]\n",
      "100%|███████████████████████████████████████████████| 55/55 [00:03<00:00,  3.25s/trial, best loss: 0.28205128205128205]\n",
      "100%|███████████████████████████████████████████████| 56/56 [00:02<00:00,  2.83s/trial, best loss: 0.28205128205128205]\n",
      "100%|███████████████████████████████████████████████| 57/57 [00:02<00:00,  2.98s/trial, best loss: 0.28205128205128205]\n",
      "100%|███████████████████████████████████████████████| 58/58 [00:03<00:00,  3.42s/trial, best loss: 0.28205128205128205]\n",
      "100%|███████████████████████████████████████████████| 59/59 [00:03<00:00,  3.32s/trial, best loss: 0.28205128205128205]\n",
      "100%|███████████████████████████████████████████████| 60/60 [00:03<00:00,  3.22s/trial, best loss: 0.28205128205128205]\n",
      "100%|███████████████████████████████████████████████| 61/61 [00:03<00:00,  3.27s/trial, best loss: 0.28205128205128205]\n",
      "100%|███████████████████████████████████████████████| 62/62 [00:03<00:00,  3.17s/trial, best loss: 0.28205128205128205]\n",
      "100%|███████████████████████████████████████████████| 63/63 [00:03<00:00,  3.22s/trial, best loss: 0.28205128205128205]\n",
      "100%|███████████████████████████████████████████████| 64/64 [00:03<00:00,  3.18s/trial, best loss: 0.28205128205128205]\n",
      "100%|███████████████████████████████████████████████| 65/65 [00:03<00:00,  3.28s/trial, best loss: 0.28205128205128205]\n",
      "100%|████████████████████████████████████████████████| 66/66 [00:03<00:00,  3.17s/trial, best loss: 0.2564102564102564]\n",
      "100%|████████████████████████████████████████████████| 67/67 [00:03<00:00,  3.19s/trial, best loss: 0.2564102564102564]\n",
      "100%|████████████████████████████████████████████████| 68/68 [00:03<00:00,  3.24s/trial, best loss: 0.2564102564102564]\n"
     ]
    },
    {
     "name": "stdout",
     "output_type": "stream",
     "text": [
      "100%|████████████████████████████████████████████████| 69/69 [00:03<00:00,  3.15s/trial, best loss: 0.2564102564102564]\n",
      "100%|████████████████████████████████████████████████| 70/70 [00:03<00:00,  3.18s/trial, best loss: 0.2564102564102564]\n",
      "100%|████████████████████████████████████████████████| 71/71 [00:03<00:00,  3.17s/trial, best loss: 0.2564102564102564]\n",
      "100%|████████████████████████████████████████████████| 72/72 [00:03<00:00,  3.28s/trial, best loss: 0.2564102564102564]\n",
      "100%|████████████████████████████████████████████████| 73/73 [00:03<00:00,  3.20s/trial, best loss: 0.2564102564102564]\n",
      "100%|████████████████████████████████████████████████| 74/74 [00:03<00:00,  3.23s/trial, best loss: 0.2564102564102564]\n",
      "100%|████████████████████████████████████████████████| 75/75 [00:03<00:00,  3.26s/trial, best loss: 0.2564102564102564]\n",
      "100%|████████████████████████████████████████████████| 76/76 [00:03<00:00,  3.13s/trial, best loss: 0.2564102564102564]\n",
      "100%|████████████████████████████████████████████████| 77/77 [00:03<00:00,  3.46s/trial, best loss: 0.2564102564102564]\n",
      "100%|████████████████████████████████████████████████| 78/78 [00:03<00:00,  3.18s/trial, best loss: 0.2564102564102564]\n",
      "100%|████████████████████████████████████████████████| 79/79 [00:03<00:00,  3.22s/trial, best loss: 0.2564102564102564]\n",
      "100%|████████████████████████████████████████████████| 80/80 [00:03<00:00,  3.19s/trial, best loss: 0.2564102564102564]\n",
      "100%|████████████████████████████████████████████████| 81/81 [00:03<00:00,  3.21s/trial, best loss: 0.2564102564102564]\n",
      "100%|████████████████████████████████████████████████| 82/82 [00:03<00:00,  3.05s/trial, best loss: 0.2564102564102564]\n",
      "100%|████████████████████████████████████████████████| 83/83 [00:03<00:00,  3.14s/trial, best loss: 0.2564102564102564]\n",
      "100%|████████████████████████████████████████████████| 84/84 [00:02<00:00,  2.82s/trial, best loss: 0.2564102564102564]\n",
      "100%|████████████████████████████████████████████████| 85/85 [00:02<00:00,  2.78s/trial, best loss: 0.2564102564102564]\n",
      "100%|████████████████████████████████████████████████| 86/86 [00:03<00:00,  3.36s/trial, best loss: 0.2564102564102564]\n",
      "100%|████████████████████████████████████████████████| 87/87 [00:03<00:00,  3.21s/trial, best loss: 0.2564102564102564]\n",
      "100%|████████████████████████████████████████████████| 88/88 [00:03<00:00,  3.10s/trial, best loss: 0.2564102564102564]\n",
      "100%|████████████████████████████████████████████████| 89/89 [00:03<00:00,  3.19s/trial, best loss: 0.2564102564102564]\n",
      "100%|████████████████████████████████████████████████| 90/90 [00:03<00:00,  3.44s/trial, best loss: 0.2564102564102564]\n",
      "100%|████████████████████████████████████████████████| 91/91 [00:03<00:00,  3.47s/trial, best loss: 0.2564102564102564]\n",
      "100%|████████████████████████████████████████████████| 92/92 [00:02<00:00,  2.80s/trial, best loss: 0.2564102564102564]\n",
      "100%|████████████████████████████████████████████████| 93/93 [00:03<00:00,  3.32s/trial, best loss: 0.2564102564102564]\n",
      "100%|████████████████████████████████████████████████| 94/94 [00:03<00:00,  3.17s/trial, best loss: 0.2564102564102564]\n",
      "100%|████████████████████████████████████████████████| 95/95 [00:03<00:00,  3.26s/trial, best loss: 0.2564102564102564]\n",
      "100%|████████████████████████████████████████████████| 96/96 [00:03<00:00,  3.36s/trial, best loss: 0.2564102564102564]\n",
      "100%|████████████████████████████████████████████████| 97/97 [00:03<00:00,  3.34s/trial, best loss: 0.2564102564102564]\n",
      "100%|████████████████████████████████████████████████| 98/98 [00:03<00:00,  3.32s/trial, best loss: 0.2564102564102564]\n",
      "100%|████████████████████████████████████████████████| 99/99 [00:02<00:00,  2.86s/trial, best loss: 0.2564102564102564]\n",
      "100%|██████████████████████████████████████████████| 100/100 [00:03<00:00,  3.48s/trial, best loss: 0.2564102564102564]\n",
      "100%|██████████████████████████████████████████████| 101/101 [00:03<00:00,  3.27s/trial, best loss: 0.2564102564102564]\n",
      "100%|██████████████████████████████████████████████| 102/102 [00:03<00:00,  3.23s/trial, best loss: 0.2564102564102564]\n",
      "100%|██████████████████████████████████████████████| 103/103 [00:03<00:00,  3.15s/trial, best loss: 0.2564102564102564]\n",
      "100%|██████████████████████████████████████████████| 104/104 [00:03<00:00,  3.25s/trial, best loss: 0.2564102564102564]\n",
      "100%|██████████████████████████████████████████████| 105/105 [00:03<00:00,  3.18s/trial, best loss: 0.2564102564102564]\n",
      "100%|██████████████████████████████████████████████| 106/106 [00:03<00:00,  3.27s/trial, best loss: 0.2564102564102564]\n",
      "100%|██████████████████████████████████████████████| 107/107 [00:03<00:00,  3.17s/trial, best loss: 0.2564102564102564]\n",
      "100%|██████████████████████████████████████████████| 108/108 [00:03<00:00,  3.39s/trial, best loss: 0.2564102564102564]\n",
      "100%|██████████████████████████████████████████████| 109/109 [00:03<00:00,  3.09s/trial, best loss: 0.2564102564102564]\n",
      "100%|██████████████████████████████████████████████| 110/110 [00:03<00:00,  3.11s/trial, best loss: 0.2564102564102564]\n",
      "100%|██████████████████████████████████████████████| 111/111 [00:03<00:00,  3.34s/trial, best loss: 0.2564102564102564]\n",
      "100%|██████████████████████████████████████████████| 112/112 [00:03<00:00,  3.24s/trial, best loss: 0.2564102564102564]\n",
      "100%|██████████████████████████████████████████████| 113/113 [00:03<00:00,  3.32s/trial, best loss: 0.2564102564102564]\n",
      "100%|██████████████████████████████████████████████| 114/114 [00:03<00:00,  3.34s/trial, best loss: 0.2564102564102564]\n",
      "100%|██████████████████████████████████████████████| 115/115 [00:03<00:00,  3.33s/trial, best loss: 0.2564102564102564]\n",
      "100%|██████████████████████████████████████████████| 116/116 [00:03<00:00,  3.41s/trial, best loss: 0.2564102564102564]\n",
      "100%|██████████████████████████████████████████████| 117/117 [00:03<00:00,  3.47s/trial, best loss: 0.2564102564102564]\n",
      "100%|██████████████████████████████████████████████| 118/118 [00:03<00:00,  3.42s/trial, best loss: 0.2564102564102564]\n",
      "100%|██████████████████████████████████████████████| 119/119 [00:03<00:00,  3.36s/trial, best loss: 0.2564102564102564]\n",
      "100%|██████████████████████████████████████████████| 120/120 [00:03<00:00,  3.39s/trial, best loss: 0.2564102564102564]\n",
      "100%|██████████████████████████████████████████████| 121/121 [00:03<00:00,  3.29s/trial, best loss: 0.2564102564102564]\n",
      "100%|██████████████████████████████████████████████| 122/122 [00:03<00:00,  3.53s/trial, best loss: 0.2564102564102564]\n",
      "100%|██████████████████████████████████████████████| 123/123 [00:02<00:00,  2.90s/trial, best loss: 0.2564102564102564]\n",
      "100%|██████████████████████████████████████████████| 124/124 [00:03<00:00,  3.41s/trial, best loss: 0.2564102564102564]\n",
      "100%|██████████████████████████████████████████████| 125/125 [00:03<00:00,  3.35s/trial, best loss: 0.2564102564102564]\n",
      "100%|██████████████████████████████████████████████| 126/126 [00:03<00:00,  3.22s/trial, best loss: 0.2564102564102564]\n",
      "100%|██████████████████████████████████████████████| 127/127 [00:03<00:00,  3.38s/trial, best loss: 0.2564102564102564]\n",
      "100%|██████████████████████████████████████████████| 128/128 [00:03<00:00,  3.28s/trial, best loss: 0.2564102564102564]\n",
      "100%|██████████████████████████████████████████████| 129/129 [00:03<00:00,  3.31s/trial, best loss: 0.2564102564102564]\n",
      "100%|██████████████████████████████████████████████| 130/130 [00:03<00:00,  3.27s/trial, best loss: 0.2564102564102564]\n",
      "100%|██████████████████████████████████████████████| 131/131 [00:03<00:00,  3.18s/trial, best loss: 0.2564102564102564]\n",
      "100%|██████████████████████████████████████████████| 132/132 [00:03<00:00,  3.30s/trial, best loss: 0.2564102564102564]\n",
      "100%|██████████████████████████████████████████████| 133/133 [00:03<00:00,  3.18s/trial, best loss: 0.2564102564102564]\n",
      "100%|██████████████████████████████████████████████| 134/134 [00:03<00:00,  3.25s/trial, best loss: 0.2564102564102564]\n",
      "100%|██████████████████████████████████████████████| 135/135 [00:03<00:00,  3.25s/trial, best loss: 0.2564102564102564]\n",
      "100%|██████████████████████████████████████████████| 136/136 [00:03<00:00,  3.25s/trial, best loss: 0.2564102564102564]\n"
     ]
    },
    {
     "name": "stdout",
     "output_type": "stream",
     "text": [
      "100%|██████████████████████████████████████████████| 137/137 [00:03<00:00,  3.30s/trial, best loss: 0.2564102564102564]\n",
      "100%|██████████████████████████████████████████████| 138/138 [00:03<00:00,  3.41s/trial, best loss: 0.2564102564102564]\n",
      "100%|██████████████████████████████████████████████| 139/139 [00:03<00:00,  3.70s/trial, best loss: 0.2564102564102564]\n",
      "100%|██████████████████████████████████████████████| 140/140 [00:03<00:00,  3.36s/trial, best loss: 0.2564102564102564]\n",
      "100%|██████████████████████████████████████████████| 141/141 [00:03<00:00,  3.36s/trial, best loss: 0.2564102564102564]\n",
      "100%|██████████████████████████████████████████████| 142/142 [00:03<00:00,  3.36s/trial, best loss: 0.2564102564102564]\n",
      "100%|██████████████████████████████████████████████| 143/143 [00:03<00:00,  3.21s/trial, best loss: 0.2564102564102564]\n",
      "100%|██████████████████████████████████████████████| 144/144 [00:03<00:00,  3.44s/trial, best loss: 0.2564102564102564]\n",
      "100%|██████████████████████████████████████████████| 145/145 [00:03<00:00,  3.39s/trial, best loss: 0.2564102564102564]\n",
      "100%|██████████████████████████████████████████████| 146/146 [00:03<00:00,  3.38s/trial, best loss: 0.2564102564102564]\n",
      "100%|██████████████████████████████████████████████| 147/147 [00:02<00:00,  2.85s/trial, best loss: 0.2564102564102564]\n",
      "100%|██████████████████████████████████████████████| 148/148 [00:03<00:00,  3.14s/trial, best loss: 0.2564102564102564]\n",
      "100%|██████████████████████████████████████████████| 149/149 [00:03<00:00,  3.43s/trial, best loss: 0.2564102564102564]\n",
      "100%|██████████████████████████████████████████████| 150/150 [00:03<00:00,  3.56s/trial, best loss: 0.2564102564102564]\n",
      "100%|██████████████████████████████████████████████| 151/151 [00:03<00:00,  3.47s/trial, best loss: 0.2564102564102564]\n",
      "100%|██████████████████████████████████████████████| 152/152 [00:03<00:00,  3.82s/trial, best loss: 0.2564102564102564]\n",
      "100%|██████████████████████████████████████████████| 153/153 [00:03<00:00,  3.57s/trial, best loss: 0.2564102564102564]\n",
      "100%|██████████████████████████████████████████████| 154/154 [00:03<00:00,  3.33s/trial, best loss: 0.2564102564102564]\n",
      "100%|██████████████████████████████████████████████| 155/155 [00:03<00:00,  3.64s/trial, best loss: 0.2564102564102564]\n",
      "100%|██████████████████████████████████████████████| 156/156 [00:03<00:00,  3.38s/trial, best loss: 0.2564102564102564]\n",
      "100%|██████████████████████████████████████████████| 157/157 [00:03<00:00,  3.33s/trial, best loss: 0.2564102564102564]\n",
      "100%|██████████████████████████████████████████████| 158/158 [00:03<00:00,  3.38s/trial, best loss: 0.2564102564102564]\n",
      "100%|██████████████████████████████████████████████| 159/159 [00:02<00:00,  2.54s/trial, best loss: 0.2564102564102564]\n",
      "100%|██████████████████████████████████████████████| 160/160 [00:03<00:00,  3.42s/trial, best loss: 0.2564102564102564]\n",
      "100%|██████████████████████████████████████████████| 161/161 [00:03<00:00,  3.01s/trial, best loss: 0.2564102564102564]\n",
      "100%|██████████████████████████████████████████████| 162/162 [00:02<00:00,  2.49s/trial, best loss: 0.2564102564102564]\n",
      "100%|██████████████████████████████████████████████| 163/163 [00:03<00:00,  3.12s/trial, best loss: 0.2564102564102564]\n",
      "100%|██████████████████████████████████████████████| 164/164 [00:03<00:00,  3.51s/trial, best loss: 0.2564102564102564]\n",
      "100%|██████████████████████████████████████████████| 165/165 [00:03<00:00,  3.53s/trial, best loss: 0.2564102564102564]\n",
      "100%|██████████████████████████████████████████████| 166/166 [00:03<00:00,  3.43s/trial, best loss: 0.2564102564102564]\n",
      "100%|██████████████████████████████████████████████| 167/167 [00:03<00:00,  3.55s/trial, best loss: 0.2564102564102564]\n",
      "100%|██████████████████████████████████████████████| 168/168 [00:02<00:00,  2.68s/trial, best loss: 0.2564102564102564]\n",
      "100%|██████████████████████████████████████████████| 169/169 [00:03<00:00,  3.73s/trial, best loss: 0.2564102564102564]\n",
      "100%|██████████████████████████████████████████████| 170/170 [00:03<00:00,  3.63s/trial, best loss: 0.2564102564102564]\n",
      "100%|██████████████████████████████████████████████| 171/171 [00:03<00:00,  3.70s/trial, best loss: 0.2564102564102564]\n",
      "100%|██████████████████████████████████████████████| 172/172 [00:03<00:00,  3.54s/trial, best loss: 0.2564102564102564]\n",
      "100%|██████████████████████████████████████████████| 173/173 [00:03<00:00,  3.47s/trial, best loss: 0.2564102564102564]\n",
      "100%|██████████████████████████████████████████████| 174/174 [00:03<00:00,  3.36s/trial, best loss: 0.2564102564102564]\n",
      "100%|██████████████████████████████████████████████| 175/175 [00:03<00:00,  3.41s/trial, best loss: 0.2564102564102564]\n",
      "100%|██████████████████████████████████████████████| 176/176 [00:03<00:00,  3.47s/trial, best loss: 0.2564102564102564]\n",
      "100%|██████████████████████████████████████████████| 177/177 [00:03<00:00,  3.60s/trial, best loss: 0.2564102564102564]\n",
      "100%|██████████████████████████████████████████████| 178/178 [00:03<00:00,  3.41s/trial, best loss: 0.2564102564102564]\n",
      "100%|██████████████████████████████████████████████| 179/179 [00:03<00:00,  3.43s/trial, best loss: 0.2564102564102564]\n",
      "100%|██████████████████████████████████████████████| 180/180 [00:03<00:00,  3.46s/trial, best loss: 0.2564102564102564]\n",
      " 99%|███████████████████████████████████████████████████████████████████████▌| 180/181 [00:00<?, ?trial/s, best loss=?]"
     ]
    },
    {
     "name": "stderr",
     "output_type": "stream",
     "text": [
      "job exception: C <= 0\n",
      "\n"
     ]
    },
    {
     "name": "stdout",
     "output_type": "stream",
     "text": [
      " 99%|███████████████████████████████████████████████████████████████████████▌| 180/181 [00:03<?, ?trial/s, best loss=?]\n"
     ]
    },
    {
     "ename": "ValueError",
     "evalue": "C <= 0",
     "output_type": "error",
     "traceback": [
      "\u001b[1;31m---------------------------------------------------------------------------\u001b[0m",
      "\u001b[1;31mValueError\u001b[0m                                Traceback (most recent call last)",
      "Cell \u001b[1;32mIn [29], line 12\u001b[0m\n\u001b[0;32m      7\u001b[0m model_SVC \u001b[38;5;241m=\u001b[39m HyperoptEstimator(classifier\u001b[38;5;241m=\u001b[39msvc(\u001b[38;5;124m'\u001b[39m\u001b[38;5;124mmySVC\u001b[39m\u001b[38;5;124m'\u001b[39m), \n\u001b[0;32m      8\u001b[0m                               algo\u001b[38;5;241m=\u001b[39mtpe\u001b[38;5;241m.\u001b[39msuggest, max_evals\u001b[38;5;241m=\u001b[39m\u001b[38;5;241m300\u001b[39m, \n\u001b[0;32m      9\u001b[0m                               trial_timeout\u001b[38;5;241m=\u001b[39m\u001b[38;5;241m500\u001b[39m)\n\u001b[0;32m     11\u001b[0m \u001b[38;5;66;03m# perform the search\u001b[39;00m\n\u001b[1;32m---> 12\u001b[0m \u001b[43mmodel_SVC\u001b[49m\u001b[38;5;241;43m.\u001b[39;49m\u001b[43mfit\u001b[49m\u001b[43m(\u001b[49m\u001b[43mX_train\u001b[49m\u001b[43m,\u001b[49m\u001b[43m \u001b[49m\u001b[43my_train\u001b[49m\u001b[38;5;241;43m.\u001b[39;49m\u001b[43mravel\u001b[49m\u001b[43m(\u001b[49m\u001b[43m)\u001b[49m\u001b[43m)\u001b[49m\n",
      "File \u001b[1;32m~\\AppData\\Local\\Programs\\Python\\Python310\\lib\\site-packages\\hpsklearn\\estimator\\estimator.py:464\u001b[0m, in \u001b[0;36mhyperopt_estimator.fit\u001b[1;34m(self, X, y, EX_list, valid_size, n_folds, cv_shuffle, warm_start, random_state)\u001b[0m\n\u001b[0;32m    461\u001b[0m \u001b[38;5;28;01mtry\u001b[39;00m:\n\u001b[0;32m    462\u001b[0m     increment \u001b[38;5;241m=\u001b[39m \u001b[38;5;28mmin\u001b[39m(\u001b[38;5;28mself\u001b[39m\u001b[38;5;241m.\u001b[39mfit_increment,\n\u001b[0;32m    463\u001b[0m                     adjusted_max_evals \u001b[38;5;241m-\u001b[39m \u001b[38;5;28mlen\u001b[39m(\u001b[38;5;28mself\u001b[39m\u001b[38;5;241m.\u001b[39mtrials\u001b[38;5;241m.\u001b[39mtrials))\n\u001b[1;32m--> 464\u001b[0m     \u001b[43mfit_iter\u001b[49m\u001b[38;5;241;43m.\u001b[39;49m\u001b[43msend\u001b[49m\u001b[43m(\u001b[49m\u001b[43mincrement\u001b[49m\u001b[43m)\u001b[49m\n\u001b[0;32m    466\u001b[0m     \u001b[38;5;28;01mif\u001b[39;00m \u001b[38;5;28mself\u001b[39m\u001b[38;5;241m.\u001b[39mfit_increment_dump_filename \u001b[38;5;129;01mis\u001b[39;00m \u001b[38;5;129;01mnot\u001b[39;00m \u001b[38;5;28;01mNone\u001b[39;00m:\n\u001b[0;32m    467\u001b[0m         \u001b[38;5;28;01mwith\u001b[39;00m \u001b[38;5;28mopen\u001b[39m(\u001b[38;5;28mself\u001b[39m\u001b[38;5;241m.\u001b[39mfit_increment_dump_filename, \u001b[38;5;124m\"\u001b[39m\u001b[38;5;124mwb\u001b[39m\u001b[38;5;124m\"\u001b[39m) \u001b[38;5;28;01mas\u001b[39;00m dump_file:\n",
      "File \u001b[1;32m~\\AppData\\Local\\Programs\\Python\\Python310\\lib\\site-packages\\hpsklearn\\estimator\\estimator.py:339\u001b[0m, in \u001b[0;36mhyperopt_estimator.fit_iter\u001b[1;34m(self, X, y, EX_list, valid_size, n_folds, cv_shuffle, warm_start, random_state)\u001b[0m\n\u001b[0;32m    337\u001b[0m \u001b[38;5;66;03m# Workaround for rstate issue #35\u001b[39;00m\n\u001b[0;32m    338\u001b[0m \u001b[38;5;28;01mif\u001b[39;00m \u001b[38;5;124m\"\u001b[39m\u001b[38;5;124mrstate\u001b[39m\u001b[38;5;124m\"\u001b[39m \u001b[38;5;129;01min\u001b[39;00m inspect\u001b[38;5;241m.\u001b[39mgetfullargspec(hyperopt\u001b[38;5;241m.\u001b[39mfmin)\u001b[38;5;241m.\u001b[39margs:\n\u001b[1;32m--> 339\u001b[0m     \u001b[43mhyperopt\u001b[49m\u001b[38;5;241;43m.\u001b[39;49m\u001b[43mfmin\u001b[49m\u001b[43m(\u001b[49m\u001b[43m_fn_with_timeout\u001b[49m\u001b[43m,\u001b[49m\n\u001b[0;32m    340\u001b[0m \u001b[43m                  \u001b[49m\u001b[43mspace\u001b[49m\u001b[38;5;241;43m=\u001b[39;49m\u001b[38;5;28;43mself\u001b[39;49m\u001b[38;5;241;43m.\u001b[39;49m\u001b[43mspace\u001b[49m\u001b[43m,\u001b[49m\n\u001b[0;32m    341\u001b[0m \u001b[43m                  \u001b[49m\u001b[43malgo\u001b[49m\u001b[38;5;241;43m=\u001b[39;49m\u001b[38;5;28;43mself\u001b[39;49m\u001b[38;5;241;43m.\u001b[39;49m\u001b[43malgo\u001b[49m\u001b[43m,\u001b[49m\n\u001b[0;32m    342\u001b[0m \u001b[43m                  \u001b[49m\u001b[43mtrials\u001b[49m\u001b[38;5;241;43m=\u001b[39;49m\u001b[38;5;28;43mself\u001b[39;49m\u001b[38;5;241;43m.\u001b[39;49m\u001b[43mtrials\u001b[49m\u001b[43m,\u001b[49m\n\u001b[0;32m    343\u001b[0m \u001b[43m                  \u001b[49m\u001b[43mmax_evals\u001b[49m\u001b[38;5;241;43m=\u001b[39;49m\u001b[38;5;28;43mlen\u001b[39;49m\u001b[43m(\u001b[49m\u001b[38;5;28;43mself\u001b[39;49m\u001b[38;5;241;43m.\u001b[39;49m\u001b[43mtrials\u001b[49m\u001b[38;5;241;43m.\u001b[39;49m\u001b[43mtrials\u001b[49m\u001b[43m)\u001b[49m\u001b[43m \u001b[49m\u001b[38;5;241;43m+\u001b[39;49m\u001b[43m \u001b[49m\u001b[43mincrement\u001b[49m\u001b[43m,\u001b[49m\n\u001b[0;32m    344\u001b[0m \u001b[43m                  \u001b[49m\u001b[38;5;66;43;03m# -- let exceptions crash the program, so we notice them.\u001b[39;49;00m\n\u001b[0;32m    345\u001b[0m \u001b[43m                  \u001b[49m\u001b[43mcatch_eval_exceptions\u001b[49m\u001b[38;5;241;43m=\u001b[39;49m\u001b[38;5;28;43;01mFalse\u001b[39;49;00m\u001b[43m,\u001b[49m\n\u001b[0;32m    346\u001b[0m \u001b[43m                  \u001b[49m\u001b[43mreturn_argmin\u001b[49m\u001b[38;5;241;43m=\u001b[39;49m\u001b[38;5;28;43;01mFalse\u001b[39;49;00m\u001b[43m)\u001b[49m  \u001b[38;5;66;03m# -- in case no success so far\u001b[39;00m\n\u001b[0;32m    347\u001b[0m \u001b[38;5;28;01melse\u001b[39;00m:\n\u001b[0;32m    348\u001b[0m     \u001b[38;5;28;01mif\u001b[39;00m \u001b[38;5;28mself\u001b[39m\u001b[38;5;241m.\u001b[39mseed \u001b[38;5;129;01mis\u001b[39;00m \u001b[38;5;28;01mNone\u001b[39;00m:\n",
      "File \u001b[1;32m~\\AppData\\Local\\Programs\\Python\\Python310\\lib\\site-packages\\hyperopt\\fmin.py:540\u001b[0m, in \u001b[0;36mfmin\u001b[1;34m(fn, space, algo, max_evals, timeout, loss_threshold, trials, rstate, allow_trials_fmin, pass_expr_memo_ctrl, catch_eval_exceptions, verbose, return_argmin, points_to_evaluate, max_queue_len, show_progressbar, early_stop_fn, trials_save_file)\u001b[0m\n\u001b[0;32m    537\u001b[0m     fn \u001b[38;5;241m=\u001b[39m __objective_fmin_wrapper(fn)\n\u001b[0;32m    539\u001b[0m \u001b[38;5;28;01mif\u001b[39;00m allow_trials_fmin \u001b[38;5;129;01mand\u001b[39;00m \u001b[38;5;28mhasattr\u001b[39m(trials, \u001b[38;5;124m\"\u001b[39m\u001b[38;5;124mfmin\u001b[39m\u001b[38;5;124m\"\u001b[39m):\n\u001b[1;32m--> 540\u001b[0m     \u001b[38;5;28;01mreturn\u001b[39;00m \u001b[43mtrials\u001b[49m\u001b[38;5;241;43m.\u001b[39;49m\u001b[43mfmin\u001b[49m\u001b[43m(\u001b[49m\n\u001b[0;32m    541\u001b[0m \u001b[43m        \u001b[49m\u001b[43mfn\u001b[49m\u001b[43m,\u001b[49m\n\u001b[0;32m    542\u001b[0m \u001b[43m        \u001b[49m\u001b[43mspace\u001b[49m\u001b[43m,\u001b[49m\n\u001b[0;32m    543\u001b[0m \u001b[43m        \u001b[49m\u001b[43malgo\u001b[49m\u001b[38;5;241;43m=\u001b[39;49m\u001b[43malgo\u001b[49m\u001b[43m,\u001b[49m\n\u001b[0;32m    544\u001b[0m \u001b[43m        \u001b[49m\u001b[43mmax_evals\u001b[49m\u001b[38;5;241;43m=\u001b[39;49m\u001b[43mmax_evals\u001b[49m\u001b[43m,\u001b[49m\n\u001b[0;32m    545\u001b[0m \u001b[43m        \u001b[49m\u001b[43mtimeout\u001b[49m\u001b[38;5;241;43m=\u001b[39;49m\u001b[43mtimeout\u001b[49m\u001b[43m,\u001b[49m\n\u001b[0;32m    546\u001b[0m \u001b[43m        \u001b[49m\u001b[43mloss_threshold\u001b[49m\u001b[38;5;241;43m=\u001b[39;49m\u001b[43mloss_threshold\u001b[49m\u001b[43m,\u001b[49m\n\u001b[0;32m    547\u001b[0m \u001b[43m        \u001b[49m\u001b[43mmax_queue_len\u001b[49m\u001b[38;5;241;43m=\u001b[39;49m\u001b[43mmax_queue_len\u001b[49m\u001b[43m,\u001b[49m\n\u001b[0;32m    548\u001b[0m \u001b[43m        \u001b[49m\u001b[43mrstate\u001b[49m\u001b[38;5;241;43m=\u001b[39;49m\u001b[43mrstate\u001b[49m\u001b[43m,\u001b[49m\n\u001b[0;32m    549\u001b[0m \u001b[43m        \u001b[49m\u001b[43mpass_expr_memo_ctrl\u001b[49m\u001b[38;5;241;43m=\u001b[39;49m\u001b[43mpass_expr_memo_ctrl\u001b[49m\u001b[43m,\u001b[49m\n\u001b[0;32m    550\u001b[0m \u001b[43m        \u001b[49m\u001b[43mverbose\u001b[49m\u001b[38;5;241;43m=\u001b[39;49m\u001b[43mverbose\u001b[49m\u001b[43m,\u001b[49m\n\u001b[0;32m    551\u001b[0m \u001b[43m        \u001b[49m\u001b[43mcatch_eval_exceptions\u001b[49m\u001b[38;5;241;43m=\u001b[39;49m\u001b[43mcatch_eval_exceptions\u001b[49m\u001b[43m,\u001b[49m\n\u001b[0;32m    552\u001b[0m \u001b[43m        \u001b[49m\u001b[43mreturn_argmin\u001b[49m\u001b[38;5;241;43m=\u001b[39;49m\u001b[43mreturn_argmin\u001b[49m\u001b[43m,\u001b[49m\n\u001b[0;32m    553\u001b[0m \u001b[43m        \u001b[49m\u001b[43mshow_progressbar\u001b[49m\u001b[38;5;241;43m=\u001b[39;49m\u001b[43mshow_progressbar\u001b[49m\u001b[43m,\u001b[49m\n\u001b[0;32m    554\u001b[0m \u001b[43m        \u001b[49m\u001b[43mearly_stop_fn\u001b[49m\u001b[38;5;241;43m=\u001b[39;49m\u001b[43mearly_stop_fn\u001b[49m\u001b[43m,\u001b[49m\n\u001b[0;32m    555\u001b[0m \u001b[43m        \u001b[49m\u001b[43mtrials_save_file\u001b[49m\u001b[38;5;241;43m=\u001b[39;49m\u001b[43mtrials_save_file\u001b[49m\u001b[43m,\u001b[49m\n\u001b[0;32m    556\u001b[0m \u001b[43m    \u001b[49m\u001b[43m)\u001b[49m\n\u001b[0;32m    558\u001b[0m \u001b[38;5;28;01mif\u001b[39;00m trials \u001b[38;5;129;01mis\u001b[39;00m \u001b[38;5;28;01mNone\u001b[39;00m:\n\u001b[0;32m    559\u001b[0m     \u001b[38;5;28;01mif\u001b[39;00m os\u001b[38;5;241m.\u001b[39mpath\u001b[38;5;241m.\u001b[39mexists(trials_save_file):\n",
      "File \u001b[1;32m~\\AppData\\Local\\Programs\\Python\\Python310\\lib\\site-packages\\hyperopt\\base.py:671\u001b[0m, in \u001b[0;36mTrials.fmin\u001b[1;34m(self, fn, space, algo, max_evals, timeout, loss_threshold, max_queue_len, rstate, verbose, pass_expr_memo_ctrl, catch_eval_exceptions, return_argmin, show_progressbar, early_stop_fn, trials_save_file)\u001b[0m\n\u001b[0;32m    666\u001b[0m \u001b[38;5;66;03m# -- Stop-gap implementation!\u001b[39;00m\n\u001b[0;32m    667\u001b[0m \u001b[38;5;66;03m#    fmin should have been a Trials method in the first place\u001b[39;00m\n\u001b[0;32m    668\u001b[0m \u001b[38;5;66;03m#    but for now it's still sitting in another file.\u001b[39;00m\n\u001b[0;32m    669\u001b[0m \u001b[38;5;28;01mfrom\u001b[39;00m \u001b[38;5;21;01m.\u001b[39;00m\u001b[38;5;21;01mfmin\u001b[39;00m \u001b[38;5;28;01mimport\u001b[39;00m fmin\n\u001b[1;32m--> 671\u001b[0m \u001b[38;5;28;01mreturn\u001b[39;00m \u001b[43mfmin\u001b[49m\u001b[43m(\u001b[49m\n\u001b[0;32m    672\u001b[0m \u001b[43m    \u001b[49m\u001b[43mfn\u001b[49m\u001b[43m,\u001b[49m\n\u001b[0;32m    673\u001b[0m \u001b[43m    \u001b[49m\u001b[43mspace\u001b[49m\u001b[43m,\u001b[49m\n\u001b[0;32m    674\u001b[0m \u001b[43m    \u001b[49m\u001b[43malgo\u001b[49m\u001b[38;5;241;43m=\u001b[39;49m\u001b[43malgo\u001b[49m\u001b[43m,\u001b[49m\n\u001b[0;32m    675\u001b[0m \u001b[43m    \u001b[49m\u001b[43mmax_evals\u001b[49m\u001b[38;5;241;43m=\u001b[39;49m\u001b[43mmax_evals\u001b[49m\u001b[43m,\u001b[49m\n\u001b[0;32m    676\u001b[0m \u001b[43m    \u001b[49m\u001b[43mtimeout\u001b[49m\u001b[38;5;241;43m=\u001b[39;49m\u001b[43mtimeout\u001b[49m\u001b[43m,\u001b[49m\n\u001b[0;32m    677\u001b[0m \u001b[43m    \u001b[49m\u001b[43mloss_threshold\u001b[49m\u001b[38;5;241;43m=\u001b[39;49m\u001b[43mloss_threshold\u001b[49m\u001b[43m,\u001b[49m\n\u001b[0;32m    678\u001b[0m \u001b[43m    \u001b[49m\u001b[43mtrials\u001b[49m\u001b[38;5;241;43m=\u001b[39;49m\u001b[38;5;28;43mself\u001b[39;49m\u001b[43m,\u001b[49m\n\u001b[0;32m    679\u001b[0m \u001b[43m    \u001b[49m\u001b[43mrstate\u001b[49m\u001b[38;5;241;43m=\u001b[39;49m\u001b[43mrstate\u001b[49m\u001b[43m,\u001b[49m\n\u001b[0;32m    680\u001b[0m \u001b[43m    \u001b[49m\u001b[43mverbose\u001b[49m\u001b[38;5;241;43m=\u001b[39;49m\u001b[43mverbose\u001b[49m\u001b[43m,\u001b[49m\n\u001b[0;32m    681\u001b[0m \u001b[43m    \u001b[49m\u001b[43mmax_queue_len\u001b[49m\u001b[38;5;241;43m=\u001b[39;49m\u001b[43mmax_queue_len\u001b[49m\u001b[43m,\u001b[49m\n\u001b[0;32m    682\u001b[0m \u001b[43m    \u001b[49m\u001b[43mallow_trials_fmin\u001b[49m\u001b[38;5;241;43m=\u001b[39;49m\u001b[38;5;28;43;01mFalse\u001b[39;49;00m\u001b[43m,\u001b[49m\u001b[43m  \u001b[49m\u001b[38;5;66;43;03m# -- prevent recursion\u001b[39;49;00m\n\u001b[0;32m    683\u001b[0m \u001b[43m    \u001b[49m\u001b[43mpass_expr_memo_ctrl\u001b[49m\u001b[38;5;241;43m=\u001b[39;49m\u001b[43mpass_expr_memo_ctrl\u001b[49m\u001b[43m,\u001b[49m\n\u001b[0;32m    684\u001b[0m \u001b[43m    \u001b[49m\u001b[43mcatch_eval_exceptions\u001b[49m\u001b[38;5;241;43m=\u001b[39;49m\u001b[43mcatch_eval_exceptions\u001b[49m\u001b[43m,\u001b[49m\n\u001b[0;32m    685\u001b[0m \u001b[43m    \u001b[49m\u001b[43mreturn_argmin\u001b[49m\u001b[38;5;241;43m=\u001b[39;49m\u001b[43mreturn_argmin\u001b[49m\u001b[43m,\u001b[49m\n\u001b[0;32m    686\u001b[0m \u001b[43m    \u001b[49m\u001b[43mshow_progressbar\u001b[49m\u001b[38;5;241;43m=\u001b[39;49m\u001b[43mshow_progressbar\u001b[49m\u001b[43m,\u001b[49m\n\u001b[0;32m    687\u001b[0m \u001b[43m    \u001b[49m\u001b[43mearly_stop_fn\u001b[49m\u001b[38;5;241;43m=\u001b[39;49m\u001b[43mearly_stop_fn\u001b[49m\u001b[43m,\u001b[49m\n\u001b[0;32m    688\u001b[0m \u001b[43m    \u001b[49m\u001b[43mtrials_save_file\u001b[49m\u001b[38;5;241;43m=\u001b[39;49m\u001b[43mtrials_save_file\u001b[49m\u001b[43m,\u001b[49m\n\u001b[0;32m    689\u001b[0m \u001b[43m\u001b[49m\u001b[43m)\u001b[49m\n",
      "File \u001b[1;32m~\\AppData\\Local\\Programs\\Python\\Python310\\lib\\site-packages\\hyperopt\\fmin.py:586\u001b[0m, in \u001b[0;36mfmin\u001b[1;34m(fn, space, algo, max_evals, timeout, loss_threshold, trials, rstate, allow_trials_fmin, pass_expr_memo_ctrl, catch_eval_exceptions, verbose, return_argmin, points_to_evaluate, max_queue_len, show_progressbar, early_stop_fn, trials_save_file)\u001b[0m\n\u001b[0;32m    583\u001b[0m rval\u001b[38;5;241m.\u001b[39mcatch_eval_exceptions \u001b[38;5;241m=\u001b[39m catch_eval_exceptions\n\u001b[0;32m    585\u001b[0m \u001b[38;5;66;03m# next line is where the fmin is actually executed\u001b[39;00m\n\u001b[1;32m--> 586\u001b[0m \u001b[43mrval\u001b[49m\u001b[38;5;241;43m.\u001b[39;49m\u001b[43mexhaust\u001b[49m\u001b[43m(\u001b[49m\u001b[43m)\u001b[49m\n\u001b[0;32m    588\u001b[0m \u001b[38;5;28;01mif\u001b[39;00m return_argmin:\n\u001b[0;32m    589\u001b[0m     \u001b[38;5;28;01mif\u001b[39;00m \u001b[38;5;28mlen\u001b[39m(trials\u001b[38;5;241m.\u001b[39mtrials) \u001b[38;5;241m==\u001b[39m \u001b[38;5;241m0\u001b[39m:\n",
      "File \u001b[1;32m~\\AppData\\Local\\Programs\\Python\\Python310\\lib\\site-packages\\hyperopt\\fmin.py:364\u001b[0m, in \u001b[0;36mFMinIter.exhaust\u001b[1;34m(self)\u001b[0m\n\u001b[0;32m    362\u001b[0m \u001b[38;5;28;01mdef\u001b[39;00m \u001b[38;5;21mexhaust\u001b[39m(\u001b[38;5;28mself\u001b[39m):\n\u001b[0;32m    363\u001b[0m     n_done \u001b[38;5;241m=\u001b[39m \u001b[38;5;28mlen\u001b[39m(\u001b[38;5;28mself\u001b[39m\u001b[38;5;241m.\u001b[39mtrials)\n\u001b[1;32m--> 364\u001b[0m     \u001b[38;5;28;43mself\u001b[39;49m\u001b[38;5;241;43m.\u001b[39;49m\u001b[43mrun\u001b[49m\u001b[43m(\u001b[49m\u001b[38;5;28;43mself\u001b[39;49m\u001b[38;5;241;43m.\u001b[39;49m\u001b[43mmax_evals\u001b[49m\u001b[43m \u001b[49m\u001b[38;5;241;43m-\u001b[39;49m\u001b[43m \u001b[49m\u001b[43mn_done\u001b[49m\u001b[43m,\u001b[49m\u001b[43m \u001b[49m\u001b[43mblock_until_done\u001b[49m\u001b[38;5;241;43m=\u001b[39;49m\u001b[38;5;28;43mself\u001b[39;49m\u001b[38;5;241;43m.\u001b[39;49m\u001b[43masynchronous\u001b[49m\u001b[43m)\u001b[49m\n\u001b[0;32m    365\u001b[0m     \u001b[38;5;28mself\u001b[39m\u001b[38;5;241m.\u001b[39mtrials\u001b[38;5;241m.\u001b[39mrefresh()\n\u001b[0;32m    366\u001b[0m     \u001b[38;5;28;01mreturn\u001b[39;00m \u001b[38;5;28mself\u001b[39m\n",
      "File \u001b[1;32m~\\AppData\\Local\\Programs\\Python\\Python310\\lib\\site-packages\\hyperopt\\fmin.py:300\u001b[0m, in \u001b[0;36mFMinIter.run\u001b[1;34m(self, N, block_until_done)\u001b[0m\n\u001b[0;32m    297\u001b[0m     time\u001b[38;5;241m.\u001b[39msleep(\u001b[38;5;28mself\u001b[39m\u001b[38;5;241m.\u001b[39mpoll_interval_secs)\n\u001b[0;32m    298\u001b[0m \u001b[38;5;28;01melse\u001b[39;00m:\n\u001b[0;32m    299\u001b[0m     \u001b[38;5;66;03m# -- loop over trials and do the jobs directly\u001b[39;00m\n\u001b[1;32m--> 300\u001b[0m     \u001b[38;5;28;43mself\u001b[39;49m\u001b[38;5;241;43m.\u001b[39;49m\u001b[43mserial_evaluate\u001b[49m\u001b[43m(\u001b[49m\u001b[43m)\u001b[49m\n\u001b[0;32m    302\u001b[0m \u001b[38;5;28mself\u001b[39m\u001b[38;5;241m.\u001b[39mtrials\u001b[38;5;241m.\u001b[39mrefresh()\n\u001b[0;32m    303\u001b[0m \u001b[38;5;28;01mif\u001b[39;00m \u001b[38;5;28mself\u001b[39m\u001b[38;5;241m.\u001b[39mtrials_save_file \u001b[38;5;241m!=\u001b[39m \u001b[38;5;124m\"\u001b[39m\u001b[38;5;124m\"\u001b[39m:\n",
      "File \u001b[1;32m~\\AppData\\Local\\Programs\\Python\\Python310\\lib\\site-packages\\hyperopt\\fmin.py:178\u001b[0m, in \u001b[0;36mFMinIter.serial_evaluate\u001b[1;34m(self, N)\u001b[0m\n\u001b[0;32m    176\u001b[0m ctrl \u001b[38;5;241m=\u001b[39m base\u001b[38;5;241m.\u001b[39mCtrl(\u001b[38;5;28mself\u001b[39m\u001b[38;5;241m.\u001b[39mtrials, current_trial\u001b[38;5;241m=\u001b[39mtrial)\n\u001b[0;32m    177\u001b[0m \u001b[38;5;28;01mtry\u001b[39;00m:\n\u001b[1;32m--> 178\u001b[0m     result \u001b[38;5;241m=\u001b[39m \u001b[38;5;28;43mself\u001b[39;49m\u001b[38;5;241;43m.\u001b[39;49m\u001b[43mdomain\u001b[49m\u001b[38;5;241;43m.\u001b[39;49m\u001b[43mevaluate\u001b[49m\u001b[43m(\u001b[49m\u001b[43mspec\u001b[49m\u001b[43m,\u001b[49m\u001b[43m \u001b[49m\u001b[43mctrl\u001b[49m\u001b[43m)\u001b[49m\n\u001b[0;32m    179\u001b[0m \u001b[38;5;28;01mexcept\u001b[39;00m \u001b[38;5;167;01mException\u001b[39;00m \u001b[38;5;28;01mas\u001b[39;00m e:\n\u001b[0;32m    180\u001b[0m     logger\u001b[38;5;241m.\u001b[39merror(\u001b[38;5;124m\"\u001b[39m\u001b[38;5;124mjob exception: \u001b[39m\u001b[38;5;132;01m%s\u001b[39;00m\u001b[38;5;124m\"\u001b[39m \u001b[38;5;241m%\u001b[39m \u001b[38;5;28mstr\u001b[39m(e))\n",
      "File \u001b[1;32m~\\AppData\\Local\\Programs\\Python\\Python310\\lib\\site-packages\\hyperopt\\base.py:892\u001b[0m, in \u001b[0;36mDomain.evaluate\u001b[1;34m(self, config, ctrl, attach_attachments)\u001b[0m\n\u001b[0;32m    883\u001b[0m \u001b[38;5;28;01melse\u001b[39;00m:\n\u001b[0;32m    884\u001b[0m     \u001b[38;5;66;03m# -- the \"work\" of evaluating `config` can be written\u001b[39;00m\n\u001b[0;32m    885\u001b[0m     \u001b[38;5;66;03m#    either into the pyll part (self.expr)\u001b[39;00m\n\u001b[0;32m    886\u001b[0m     \u001b[38;5;66;03m#    or the normal Python part (self.fn)\u001b[39;00m\n\u001b[0;32m    887\u001b[0m     pyll_rval \u001b[38;5;241m=\u001b[39m pyll\u001b[38;5;241m.\u001b[39mrec_eval(\n\u001b[0;32m    888\u001b[0m         \u001b[38;5;28mself\u001b[39m\u001b[38;5;241m.\u001b[39mexpr,\n\u001b[0;32m    889\u001b[0m         memo\u001b[38;5;241m=\u001b[39mmemo,\n\u001b[0;32m    890\u001b[0m         print_node_on_error\u001b[38;5;241m=\u001b[39m\u001b[38;5;28mself\u001b[39m\u001b[38;5;241m.\u001b[39mrec_eval_print_node_on_error,\n\u001b[0;32m    891\u001b[0m     )\n\u001b[1;32m--> 892\u001b[0m     rval \u001b[38;5;241m=\u001b[39m \u001b[38;5;28;43mself\u001b[39;49m\u001b[38;5;241;43m.\u001b[39;49m\u001b[43mfn\u001b[49m\u001b[43m(\u001b[49m\u001b[43mpyll_rval\u001b[49m\u001b[43m)\u001b[49m\n\u001b[0;32m    894\u001b[0m \u001b[38;5;28;01mif\u001b[39;00m \u001b[38;5;28misinstance\u001b[39m(rval, (\u001b[38;5;28mfloat\u001b[39m, \u001b[38;5;28mint\u001b[39m, np\u001b[38;5;241m.\u001b[39mnumber)):\n\u001b[0;32m    895\u001b[0m     dict_rval \u001b[38;5;241m=\u001b[39m {\u001b[38;5;124m\"\u001b[39m\u001b[38;5;124mloss\u001b[39m\u001b[38;5;124m\"\u001b[39m: \u001b[38;5;28mfloat\u001b[39m(rval), \u001b[38;5;124m\"\u001b[39m\u001b[38;5;124mstatus\u001b[39m\u001b[38;5;124m\"\u001b[39m: STATUS_OK}\n",
      "File \u001b[1;32m~\\AppData\\Local\\Programs\\Python\\Python310\\lib\\site-packages\\hpsklearn\\estimator\\estimator.py:311\u001b[0m, in \u001b[0;36mhyperopt_estimator.fit_iter.<locals>._fn_with_timeout\u001b[1;34m(*args, **kwargs)\u001b[0m\n\u001b[0;32m    309\u001b[0m \u001b[38;5;28;01massert\u001b[39;00m fn_rval[\u001b[38;5;241m0\u001b[39m] \u001b[38;5;129;01min\u001b[39;00m (\u001b[38;5;124m\"\u001b[39m\u001b[38;5;124mraise\u001b[39m\u001b[38;5;124m\"\u001b[39m, \u001b[38;5;124m\"\u001b[39m\u001b[38;5;124mreturn\u001b[39m\u001b[38;5;124m\"\u001b[39m)\n\u001b[0;32m    310\u001b[0m \u001b[38;5;28;01mif\u001b[39;00m fn_rval[\u001b[38;5;241m0\u001b[39m] \u001b[38;5;241m==\u001b[39m \u001b[38;5;124m\"\u001b[39m\u001b[38;5;124mraise\u001b[39m\u001b[38;5;124m\"\u001b[39m:\n\u001b[1;32m--> 311\u001b[0m     \u001b[38;5;28;01mraise\u001b[39;00m fn_rval[\u001b[38;5;241m1\u001b[39m]\n\u001b[0;32m    313\u001b[0m \u001b[38;5;66;03m# -- remove potentially large objects from the rval\u001b[39;00m\n\u001b[0;32m    314\u001b[0m \u001b[38;5;66;03m#    so that the Trials() object below stays small\u001b[39;00m\n\u001b[0;32m    315\u001b[0m \u001b[38;5;66;03m#    We can recompute them if necessary, and it's usually\u001b[39;00m\n\u001b[0;32m    316\u001b[0m \u001b[38;5;66;03m#    not necessary at all.\u001b[39;00m\n\u001b[0;32m    317\u001b[0m \u001b[38;5;28;01mif\u001b[39;00m fn_rval[\u001b[38;5;241m1\u001b[39m][\u001b[38;5;124m\"\u001b[39m\u001b[38;5;124mstatus\u001b[39m\u001b[38;5;124m\"\u001b[39m] \u001b[38;5;241m==\u001b[39m hyperopt\u001b[38;5;241m.\u001b[39mSTATUS_OK:\n",
      "\u001b[1;31mValueError\u001b[0m: C <= 0"
     ]
    }
   ],
   "source": [
    "from hpsklearn import HyperoptEstimator, any_classifier, any_preprocessing, svc #any_sparse_classifier\n",
    "from hyperopt import fmin, tpe\n",
    "from sklearn import svm\n",
    "\n",
    "# preprocessing = []\n",
    "\n",
    "model_SVC = HyperoptEstimator(classifier=svc('mySVC'), \n",
    "                              algo=tpe.suggest, max_evals=300, \n",
    "                              trial_timeout=500)\n",
    "\n",
    "# perform the search\n",
    "model_SVC.fit(X_train, y_train.ravel())"
   ]
  },
  {
   "cell_type": "markdown",
   "metadata": {},
   "source": [
    "# accuracy_SVC = model_SVC.score(X_test, y_test)\n",
    "print(\"Accuracy_SVC: %.3f\" % accuracy_SVC)\n",
    "\n",
    "# model details\n",
    "print(model_SVC.best_model())"
   ]
  },
  {
   "cell_type": "code",
   "execution_count": 22,
   "metadata": {},
   "outputs": [
    {
     "name": "stdout",
     "output_type": "stream",
     "text": [
      "              precision    recall  f1-score   support\n",
      "\n",
      "           1       0.40      0.11      0.17        18\n",
      "           2       0.63      0.90      0.74        30\n",
      "\n",
      "    accuracy                           0.60        48\n",
      "   macro avg       0.51      0.51      0.46        48\n",
      "weighted avg       0.54      0.60      0.53        48\n",
      "\n"
     ]
    }
   ],
   "source": [
    "y_hat_SVC = model_SVC.predict(X_test)\n",
    "print(classification_report(y_test, y_hat_SVC))"
   ]
  },
  {
   "cell_type": "markdown",
   "metadata": {},
   "source": [
    "#### Cross-validation for better accuracy"
   ]
  },
  {
   "cell_type": "code",
   "execution_count": 23,
   "metadata": {},
   "outputs": [
    {
     "name": "stdout",
     "output_type": "stream",
     "text": [
      "0.4519568151147098\n"
     ]
    }
   ],
   "source": [
    "# CV for average model accuracy\n",
    "from sklearn.svm import SVC\n",
    "from sklearn.model_selection import cross_val_score\n",
    "\n",
    "model = SVC(kernel='poly', degree=3, class_weight=\"balanced\")\n",
    "\n",
    "score = cross_val_score(model, X_train, y_train, cv=5, scoring=\"accuracy\", n_jobs=-1).mean()\n",
    "print(score)"
   ]
  },
  {
   "cell_type": "code",
   "execution_count": 24,
   "metadata": {},
   "outputs": [
    {
     "name": "stdout",
     "output_type": "stream",
     "text": [
      "0.5097165991902834\n"
     ]
    }
   ],
   "source": [
    "model = SVC(kernel='linear', degree=3, class_weight=\"balanced\")\n",
    "\n",
    "score = cross_val_score(model, X_train, y_train, cv=5, scoring=\"accuracy\", n_jobs=-1).mean()\n",
    "print(score)"
   ]
  },
  {
   "cell_type": "code",
   "execution_count": 25,
   "metadata": {},
   "outputs": [
    {
     "name": "stdout",
     "output_type": "stream",
     "text": [
      "0.5412955465587045\n"
     ]
    }
   ],
   "source": [
    "model = SVC(kernel='rbf', degree=3, class_weight=\"balanced\")\n",
    "\n",
    "score = cross_val_score(model, X_train, y_train, cv=5, scoring=\"accuracy\", n_jobs=-1).mean()\n",
    "print(score)"
   ]
  },
  {
   "cell_type": "code",
   "execution_count": 26,
   "metadata": {},
   "outputs": [
    {
     "name": "stdout",
     "output_type": "stream",
     "text": [
      "0.5566801619433198\n"
     ]
    }
   ],
   "source": [
    "model = SVC(kernel='sigmoid', degree=3, class_weight=\"balanced\")\n",
    "\n",
    "score = cross_val_score(model, X_train, y_train, cv=5, scoring=\"accuracy\", n_jobs=-1).mean()\n",
    "print(score)"
   ]
  },
  {
   "cell_type": "markdown",
   "metadata": {},
   "source": [
    "#### Visual"
   ]
  },
  {
   "cell_type": "code",
   "execution_count": null,
   "metadata": {},
   "outputs": [],
   "source": []
  }
 ],
 "metadata": {
  "kernelspec": {
   "display_name": "Python 3 (ipykernel)",
   "language": "python",
   "name": "python3"
  },
  "language_info": {
   "codemirror_mode": {
    "name": "ipython",
    "version": 3
   },
   "file_extension": ".py",
   "mimetype": "text/x-python",
   "name": "python",
   "nbconvert_exporter": "python",
   "pygments_lexer": "ipython3",
   "version": "3.10.8"
  },
  "toc": {
   "base_numbering": 1,
   "nav_menu": {},
   "number_sections": true,
   "sideBar": true,
   "skip_h1_title": false,
   "title_cell": "Table of Contents",
   "title_sidebar": "Contents",
   "toc_cell": false,
   "toc_position": {},
   "toc_section_display": true,
   "toc_window_display": false
  }
 },
 "nbformat": 4,
 "nbformat_minor": 2
}
