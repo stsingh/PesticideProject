{
 "cells": [
  {
   "cell_type": "code",
   "execution_count": 1,
   "metadata": {},
   "outputs": [],
   "source": [
    "#different workflow patterns, (pca vs no pca, hyperopt vs no, high dim vs low)\n",
    "import numpy as np\n",
    "import pandas as pd\n",
    "import matplotlib.pyplot as plt\n",
    "from sklearn import preprocessing\n",
    "from sklearn.metrics import classification_report\n",
    "from plotter import Plotter"
   ]
  },
  {
   "cell_type": "markdown",
   "metadata": {},
   "source": [
    "### Data preperation"
   ]
  },
  {
   "cell_type": "markdown",
   "metadata": {
    "heading_collapsed": true
   },
   "source": [
    "#### Load the data and generate descriptors"
   ]
  },
  {
   "cell_type": "code",
   "execution_count": 2,
   "metadata": {
    "hidden": true
   },
   "outputs": [
    {
     "ename": "FileNotFoundError",
     "evalue": "[Errno 2] No such file or directory: 'BinaryPesticideData.csv'",
     "output_type": "error",
     "traceback": [
      "\u001b[1;31m---------------------------------------------------------------------------\u001b[0m",
      "\u001b[1;31mFileNotFoundError\u001b[0m                         Traceback (most recent call last)",
      "Cell \u001b[1;32mIn [2], line 1\u001b[0m\n\u001b[1;32m----> 1\u001b[0m pest_data \u001b[38;5;241m=\u001b[39m \u001b[43mpd\u001b[49m\u001b[38;5;241;43m.\u001b[39;49m\u001b[43mread_csv\u001b[49m\u001b[43m(\u001b[49m\u001b[38;5;124;43m\"\u001b[39;49m\u001b[38;5;124;43mBinaryPesticideData.csv\u001b[39;49m\u001b[38;5;124;43m\"\u001b[39;49m\u001b[43m,\u001b[49m\u001b[43m \u001b[49m\u001b[43mdelimiter\u001b[49m\u001b[38;5;241;43m=\u001b[39;49m\u001b[38;5;124;43m\"\u001b[39;49m\u001b[38;5;124;43m,\u001b[39;49m\u001b[38;5;124;43m\"\u001b[39;49m\u001b[43m)\u001b[49m\n\u001b[0;32m      2\u001b[0m pest_data[\u001b[38;5;241m0\u001b[39m:\u001b[38;5;241m5\u001b[39m]\n",
      "File \u001b[1;32m~\\AppData\\Local\\Programs\\Python\\Python310\\lib\\site-packages\\pandas\\util\\_decorators.py:211\u001b[0m, in \u001b[0;36mdeprecate_kwarg.<locals>._deprecate_kwarg.<locals>.wrapper\u001b[1;34m(*args, **kwargs)\u001b[0m\n\u001b[0;32m    209\u001b[0m     \u001b[38;5;28;01melse\u001b[39;00m:\n\u001b[0;32m    210\u001b[0m         kwargs[new_arg_name] \u001b[38;5;241m=\u001b[39m new_arg_value\n\u001b[1;32m--> 211\u001b[0m \u001b[38;5;28;01mreturn\u001b[39;00m func(\u001b[38;5;241m*\u001b[39margs, \u001b[38;5;241m*\u001b[39m\u001b[38;5;241m*\u001b[39mkwargs)\n",
      "File \u001b[1;32m~\\AppData\\Local\\Programs\\Python\\Python310\\lib\\site-packages\\pandas\\util\\_decorators.py:331\u001b[0m, in \u001b[0;36mdeprecate_nonkeyword_arguments.<locals>.decorate.<locals>.wrapper\u001b[1;34m(*args, **kwargs)\u001b[0m\n\u001b[0;32m    325\u001b[0m \u001b[38;5;28;01mif\u001b[39;00m \u001b[38;5;28mlen\u001b[39m(args) \u001b[38;5;241m>\u001b[39m num_allow_args:\n\u001b[0;32m    326\u001b[0m     warnings\u001b[38;5;241m.\u001b[39mwarn(\n\u001b[0;32m    327\u001b[0m         msg\u001b[38;5;241m.\u001b[39mformat(arguments\u001b[38;5;241m=\u001b[39m_format_argument_list(allow_args)),\n\u001b[0;32m    328\u001b[0m         \u001b[38;5;167;01mFutureWarning\u001b[39;00m,\n\u001b[0;32m    329\u001b[0m         stacklevel\u001b[38;5;241m=\u001b[39mfind_stack_level(),\n\u001b[0;32m    330\u001b[0m     )\n\u001b[1;32m--> 331\u001b[0m \u001b[38;5;28;01mreturn\u001b[39;00m func(\u001b[38;5;241m*\u001b[39margs, \u001b[38;5;241m*\u001b[39m\u001b[38;5;241m*\u001b[39mkwargs)\n",
      "File \u001b[1;32m~\\AppData\\Local\\Programs\\Python\\Python310\\lib\\site-packages\\pandas\\io\\parsers\\readers.py:950\u001b[0m, in \u001b[0;36mread_csv\u001b[1;34m(filepath_or_buffer, sep, delimiter, header, names, index_col, usecols, squeeze, prefix, mangle_dupe_cols, dtype, engine, converters, true_values, false_values, skipinitialspace, skiprows, skipfooter, nrows, na_values, keep_default_na, na_filter, verbose, skip_blank_lines, parse_dates, infer_datetime_format, keep_date_col, date_parser, dayfirst, cache_dates, iterator, chunksize, compression, thousands, decimal, lineterminator, quotechar, quoting, doublequote, escapechar, comment, encoding, encoding_errors, dialect, error_bad_lines, warn_bad_lines, on_bad_lines, delim_whitespace, low_memory, memory_map, float_precision, storage_options)\u001b[0m\n\u001b[0;32m    935\u001b[0m kwds_defaults \u001b[38;5;241m=\u001b[39m _refine_defaults_read(\n\u001b[0;32m    936\u001b[0m     dialect,\n\u001b[0;32m    937\u001b[0m     delimiter,\n\u001b[1;32m   (...)\u001b[0m\n\u001b[0;32m    946\u001b[0m     defaults\u001b[38;5;241m=\u001b[39m{\u001b[38;5;124m\"\u001b[39m\u001b[38;5;124mdelimiter\u001b[39m\u001b[38;5;124m\"\u001b[39m: \u001b[38;5;124m\"\u001b[39m\u001b[38;5;124m,\u001b[39m\u001b[38;5;124m\"\u001b[39m},\n\u001b[0;32m    947\u001b[0m )\n\u001b[0;32m    948\u001b[0m kwds\u001b[38;5;241m.\u001b[39mupdate(kwds_defaults)\n\u001b[1;32m--> 950\u001b[0m \u001b[38;5;28;01mreturn\u001b[39;00m \u001b[43m_read\u001b[49m\u001b[43m(\u001b[49m\u001b[43mfilepath_or_buffer\u001b[49m\u001b[43m,\u001b[49m\u001b[43m \u001b[49m\u001b[43mkwds\u001b[49m\u001b[43m)\u001b[49m\n",
      "File \u001b[1;32m~\\AppData\\Local\\Programs\\Python\\Python310\\lib\\site-packages\\pandas\\io\\parsers\\readers.py:605\u001b[0m, in \u001b[0;36m_read\u001b[1;34m(filepath_or_buffer, kwds)\u001b[0m\n\u001b[0;32m    602\u001b[0m _validate_names(kwds\u001b[38;5;241m.\u001b[39mget(\u001b[38;5;124m\"\u001b[39m\u001b[38;5;124mnames\u001b[39m\u001b[38;5;124m\"\u001b[39m, \u001b[38;5;28;01mNone\u001b[39;00m))\n\u001b[0;32m    604\u001b[0m \u001b[38;5;66;03m# Create the parser.\u001b[39;00m\n\u001b[1;32m--> 605\u001b[0m parser \u001b[38;5;241m=\u001b[39m TextFileReader(filepath_or_buffer, \u001b[38;5;241m*\u001b[39m\u001b[38;5;241m*\u001b[39mkwds)\n\u001b[0;32m    607\u001b[0m \u001b[38;5;28;01mif\u001b[39;00m chunksize \u001b[38;5;129;01mor\u001b[39;00m iterator:\n\u001b[0;32m    608\u001b[0m     \u001b[38;5;28;01mreturn\u001b[39;00m parser\n",
      "File \u001b[1;32m~\\AppData\\Local\\Programs\\Python\\Python310\\lib\\site-packages\\pandas\\io\\parsers\\readers.py:1442\u001b[0m, in \u001b[0;36mTextFileReader.__init__\u001b[1;34m(self, f, engine, **kwds)\u001b[0m\n\u001b[0;32m   1439\u001b[0m     \u001b[38;5;28mself\u001b[39m\u001b[38;5;241m.\u001b[39moptions[\u001b[38;5;124m\"\u001b[39m\u001b[38;5;124mhas_index_names\u001b[39m\u001b[38;5;124m\"\u001b[39m] \u001b[38;5;241m=\u001b[39m kwds[\u001b[38;5;124m\"\u001b[39m\u001b[38;5;124mhas_index_names\u001b[39m\u001b[38;5;124m\"\u001b[39m]\n\u001b[0;32m   1441\u001b[0m \u001b[38;5;28mself\u001b[39m\u001b[38;5;241m.\u001b[39mhandles: IOHandles \u001b[38;5;241m|\u001b[39m \u001b[38;5;28;01mNone\u001b[39;00m \u001b[38;5;241m=\u001b[39m \u001b[38;5;28;01mNone\u001b[39;00m\n\u001b[1;32m-> 1442\u001b[0m \u001b[38;5;28mself\u001b[39m\u001b[38;5;241m.\u001b[39m_engine \u001b[38;5;241m=\u001b[39m \u001b[38;5;28;43mself\u001b[39;49m\u001b[38;5;241;43m.\u001b[39;49m\u001b[43m_make_engine\u001b[49m\u001b[43m(\u001b[49m\u001b[43mf\u001b[49m\u001b[43m,\u001b[49m\u001b[43m \u001b[49m\u001b[38;5;28;43mself\u001b[39;49m\u001b[38;5;241;43m.\u001b[39;49m\u001b[43mengine\u001b[49m\u001b[43m)\u001b[49m\n",
      "File \u001b[1;32m~\\AppData\\Local\\Programs\\Python\\Python310\\lib\\site-packages\\pandas\\io\\parsers\\readers.py:1735\u001b[0m, in \u001b[0;36mTextFileReader._make_engine\u001b[1;34m(self, f, engine)\u001b[0m\n\u001b[0;32m   1733\u001b[0m     \u001b[38;5;28;01mif\u001b[39;00m \u001b[38;5;124m\"\u001b[39m\u001b[38;5;124mb\u001b[39m\u001b[38;5;124m\"\u001b[39m \u001b[38;5;129;01mnot\u001b[39;00m \u001b[38;5;129;01min\u001b[39;00m mode:\n\u001b[0;32m   1734\u001b[0m         mode \u001b[38;5;241m+\u001b[39m\u001b[38;5;241m=\u001b[39m \u001b[38;5;124m\"\u001b[39m\u001b[38;5;124mb\u001b[39m\u001b[38;5;124m\"\u001b[39m\n\u001b[1;32m-> 1735\u001b[0m \u001b[38;5;28mself\u001b[39m\u001b[38;5;241m.\u001b[39mhandles \u001b[38;5;241m=\u001b[39m \u001b[43mget_handle\u001b[49m\u001b[43m(\u001b[49m\n\u001b[0;32m   1736\u001b[0m \u001b[43m    \u001b[49m\u001b[43mf\u001b[49m\u001b[43m,\u001b[49m\n\u001b[0;32m   1737\u001b[0m \u001b[43m    \u001b[49m\u001b[43mmode\u001b[49m\u001b[43m,\u001b[49m\n\u001b[0;32m   1738\u001b[0m \u001b[43m    \u001b[49m\u001b[43mencoding\u001b[49m\u001b[38;5;241;43m=\u001b[39;49m\u001b[38;5;28;43mself\u001b[39;49m\u001b[38;5;241;43m.\u001b[39;49m\u001b[43moptions\u001b[49m\u001b[38;5;241;43m.\u001b[39;49m\u001b[43mget\u001b[49m\u001b[43m(\u001b[49m\u001b[38;5;124;43m\"\u001b[39;49m\u001b[38;5;124;43mencoding\u001b[39;49m\u001b[38;5;124;43m\"\u001b[39;49m\u001b[43m,\u001b[49m\u001b[43m \u001b[49m\u001b[38;5;28;43;01mNone\u001b[39;49;00m\u001b[43m)\u001b[49m\u001b[43m,\u001b[49m\n\u001b[0;32m   1739\u001b[0m \u001b[43m    \u001b[49m\u001b[43mcompression\u001b[49m\u001b[38;5;241;43m=\u001b[39;49m\u001b[38;5;28;43mself\u001b[39;49m\u001b[38;5;241;43m.\u001b[39;49m\u001b[43moptions\u001b[49m\u001b[38;5;241;43m.\u001b[39;49m\u001b[43mget\u001b[49m\u001b[43m(\u001b[49m\u001b[38;5;124;43m\"\u001b[39;49m\u001b[38;5;124;43mcompression\u001b[39;49m\u001b[38;5;124;43m\"\u001b[39;49m\u001b[43m,\u001b[49m\u001b[43m \u001b[49m\u001b[38;5;28;43;01mNone\u001b[39;49;00m\u001b[43m)\u001b[49m\u001b[43m,\u001b[49m\n\u001b[0;32m   1740\u001b[0m \u001b[43m    \u001b[49m\u001b[43mmemory_map\u001b[49m\u001b[38;5;241;43m=\u001b[39;49m\u001b[38;5;28;43mself\u001b[39;49m\u001b[38;5;241;43m.\u001b[39;49m\u001b[43moptions\u001b[49m\u001b[38;5;241;43m.\u001b[39;49m\u001b[43mget\u001b[49m\u001b[43m(\u001b[49m\u001b[38;5;124;43m\"\u001b[39;49m\u001b[38;5;124;43mmemory_map\u001b[39;49m\u001b[38;5;124;43m\"\u001b[39;49m\u001b[43m,\u001b[49m\u001b[43m \u001b[49m\u001b[38;5;28;43;01mFalse\u001b[39;49;00m\u001b[43m)\u001b[49m\u001b[43m,\u001b[49m\n\u001b[0;32m   1741\u001b[0m \u001b[43m    \u001b[49m\u001b[43mis_text\u001b[49m\u001b[38;5;241;43m=\u001b[39;49m\u001b[43mis_text\u001b[49m\u001b[43m,\u001b[49m\n\u001b[0;32m   1742\u001b[0m \u001b[43m    \u001b[49m\u001b[43merrors\u001b[49m\u001b[38;5;241;43m=\u001b[39;49m\u001b[38;5;28;43mself\u001b[39;49m\u001b[38;5;241;43m.\u001b[39;49m\u001b[43moptions\u001b[49m\u001b[38;5;241;43m.\u001b[39;49m\u001b[43mget\u001b[49m\u001b[43m(\u001b[49m\u001b[38;5;124;43m\"\u001b[39;49m\u001b[38;5;124;43mencoding_errors\u001b[39;49m\u001b[38;5;124;43m\"\u001b[39;49m\u001b[43m,\u001b[49m\u001b[43m \u001b[49m\u001b[38;5;124;43m\"\u001b[39;49m\u001b[38;5;124;43mstrict\u001b[39;49m\u001b[38;5;124;43m\"\u001b[39;49m\u001b[43m)\u001b[49m\u001b[43m,\u001b[49m\n\u001b[0;32m   1743\u001b[0m \u001b[43m    \u001b[49m\u001b[43mstorage_options\u001b[49m\u001b[38;5;241;43m=\u001b[39;49m\u001b[38;5;28;43mself\u001b[39;49m\u001b[38;5;241;43m.\u001b[39;49m\u001b[43moptions\u001b[49m\u001b[38;5;241;43m.\u001b[39;49m\u001b[43mget\u001b[49m\u001b[43m(\u001b[49m\u001b[38;5;124;43m\"\u001b[39;49m\u001b[38;5;124;43mstorage_options\u001b[39;49m\u001b[38;5;124;43m\"\u001b[39;49m\u001b[43m,\u001b[49m\u001b[43m \u001b[49m\u001b[38;5;28;43;01mNone\u001b[39;49;00m\u001b[43m)\u001b[49m\u001b[43m,\u001b[49m\n\u001b[0;32m   1744\u001b[0m \u001b[43m\u001b[49m\u001b[43m)\u001b[49m\n\u001b[0;32m   1745\u001b[0m \u001b[38;5;28;01massert\u001b[39;00m \u001b[38;5;28mself\u001b[39m\u001b[38;5;241m.\u001b[39mhandles \u001b[38;5;129;01mis\u001b[39;00m \u001b[38;5;129;01mnot\u001b[39;00m \u001b[38;5;28;01mNone\u001b[39;00m\n\u001b[0;32m   1746\u001b[0m f \u001b[38;5;241m=\u001b[39m \u001b[38;5;28mself\u001b[39m\u001b[38;5;241m.\u001b[39mhandles\u001b[38;5;241m.\u001b[39mhandle\n",
      "File \u001b[1;32m~\\AppData\\Local\\Programs\\Python\\Python310\\lib\\site-packages\\pandas\\io\\common.py:856\u001b[0m, in \u001b[0;36mget_handle\u001b[1;34m(path_or_buf, mode, encoding, compression, memory_map, is_text, errors, storage_options)\u001b[0m\n\u001b[0;32m    851\u001b[0m \u001b[38;5;28;01melif\u001b[39;00m \u001b[38;5;28misinstance\u001b[39m(handle, \u001b[38;5;28mstr\u001b[39m):\n\u001b[0;32m    852\u001b[0m     \u001b[38;5;66;03m# Check whether the filename is to be opened in binary mode.\u001b[39;00m\n\u001b[0;32m    853\u001b[0m     \u001b[38;5;66;03m# Binary mode does not support 'encoding' and 'newline'.\u001b[39;00m\n\u001b[0;32m    854\u001b[0m     \u001b[38;5;28;01mif\u001b[39;00m ioargs\u001b[38;5;241m.\u001b[39mencoding \u001b[38;5;129;01mand\u001b[39;00m \u001b[38;5;124m\"\u001b[39m\u001b[38;5;124mb\u001b[39m\u001b[38;5;124m\"\u001b[39m \u001b[38;5;129;01mnot\u001b[39;00m \u001b[38;5;129;01min\u001b[39;00m ioargs\u001b[38;5;241m.\u001b[39mmode:\n\u001b[0;32m    855\u001b[0m         \u001b[38;5;66;03m# Encoding\u001b[39;00m\n\u001b[1;32m--> 856\u001b[0m         handle \u001b[38;5;241m=\u001b[39m \u001b[38;5;28;43mopen\u001b[39;49m\u001b[43m(\u001b[49m\n\u001b[0;32m    857\u001b[0m \u001b[43m            \u001b[49m\u001b[43mhandle\u001b[49m\u001b[43m,\u001b[49m\n\u001b[0;32m    858\u001b[0m \u001b[43m            \u001b[49m\u001b[43mioargs\u001b[49m\u001b[38;5;241;43m.\u001b[39;49m\u001b[43mmode\u001b[49m\u001b[43m,\u001b[49m\n\u001b[0;32m    859\u001b[0m \u001b[43m            \u001b[49m\u001b[43mencoding\u001b[49m\u001b[38;5;241;43m=\u001b[39;49m\u001b[43mioargs\u001b[49m\u001b[38;5;241;43m.\u001b[39;49m\u001b[43mencoding\u001b[49m\u001b[43m,\u001b[49m\n\u001b[0;32m    860\u001b[0m \u001b[43m            \u001b[49m\u001b[43merrors\u001b[49m\u001b[38;5;241;43m=\u001b[39;49m\u001b[43merrors\u001b[49m\u001b[43m,\u001b[49m\n\u001b[0;32m    861\u001b[0m \u001b[43m            \u001b[49m\u001b[43mnewline\u001b[49m\u001b[38;5;241;43m=\u001b[39;49m\u001b[38;5;124;43m\"\u001b[39;49m\u001b[38;5;124;43m\"\u001b[39;49m\u001b[43m,\u001b[49m\n\u001b[0;32m    862\u001b[0m \u001b[43m        \u001b[49m\u001b[43m)\u001b[49m\n\u001b[0;32m    863\u001b[0m     \u001b[38;5;28;01melse\u001b[39;00m:\n\u001b[0;32m    864\u001b[0m         \u001b[38;5;66;03m# Binary mode\u001b[39;00m\n\u001b[0;32m    865\u001b[0m         handle \u001b[38;5;241m=\u001b[39m \u001b[38;5;28mopen\u001b[39m(handle, ioargs\u001b[38;5;241m.\u001b[39mmode)\n",
      "\u001b[1;31mFileNotFoundError\u001b[0m: [Errno 2] No such file or directory: 'BinaryPesticideData.csv'"
     ]
    }
   ],
   "source": [
    "pest_data = pd.read_csv(\"BinaryPesticideData.csv\", delimiter=\",\")\n",
    "pest_data[0:5]"
   ]
  },
  {
   "cell_type": "code",
   "execution_count": null,
   "metadata": {
    "hidden": true
   },
   "outputs": [],
   "source": [
    "pest_data.tail()"
   ]
  },
  {
   "cell_type": "code",
   "execution_count": null,
   "metadata": {
    "hidden": true
   },
   "outputs": [],
   "source": [
    "pest_data.count()"
   ]
  },
  {
   "cell_type": "code",
   "execution_count": null,
   "metadata": {
    "hidden": true
   },
   "outputs": [],
   "source": [
    "pest_data[\"Class\"].dtype"
   ]
  },
  {
   "cell_type": "code",
   "execution_count": null,
   "metadata": {
    "hidden": true
   },
   "outputs": [],
   "source": [
    "pest_data.columns"
   ]
  },
  {
   "cell_type": "code",
   "execution_count": null,
   "metadata": {
    "hidden": true
   },
   "outputs": [],
   "source": [
    "pest_data.describe()"
   ]
  },
  {
   "cell_type": "code",
   "execution_count": null,
   "metadata": {
    "hidden": true
   },
   "outputs": [],
   "source": [
    "#pest_data.hist(column='Na_to_K', bins=100)"
   ]
  },
  {
   "cell_type": "code",
   "execution_count": 9,
   "metadata": {
    "hidden": true
   },
   "outputs": [],
   "source": [
    "#pest_data.hist(column='Age', bins=50)"
   ]
  },
  {
   "cell_type": "code",
   "execution_count": 10,
   "metadata": {
    "hidden": true
   },
   "outputs": [
    {
     "data": {
      "text/plain": [
       "array([[1.40000000e-02, 2.83016684e+02, 2.73054000e+02, 9.40000000e+01,\n",
       "        1.80000000e+01, 0.00000000e+00, 3.00000000e+00, 1.00000000e+00,\n",
       "        1.00000000e+00, 2.00000000e+00, 1.00000000e+00, 0.00000000e+00,\n",
       "        1.00000000e+00, 2.00000000e+00, 0.00000000e+00, 5.00000000e+00,\n",
       "        1.00000000e+00, 1.00000000e+00, 1.00000000e+00, 2.00000000e+00,\n",
       "        3.00000000e+00, 2.00000000e+00, 2.84130000e+02, 3.00000000e+00,\n",
       "        2.83016684e+02, 3.74000000e+01, 4.05000000e+02, 0.00000000e+00,\n",
       "        0.00000000e+00, 2.00000000e+00, 1.00000000e+00, 1.80000000e+01,\n",
       "        0.00000000e+00, 2.00000000e+00, 0.00000000e+00, 2.00000000e+00,\n",
       "        0.00000000e+00, 0.00000000e+00, 0.00000000e+00, 1.00000000e+00,\n",
       "        2.03300000e+02, 7.89000000e+00, 2.66000000e+00, 8.90000000e-01,\n",
       "        4.00000000e+00, 2.00000000e+00, 0.00000000e+00, 0.00000000e+00,\n",
       "        0.00000000e+00, 2.00000000e+00, 0.00000000e+00, 6.00000000e-01,\n",
       "        1.40000000e+00, 3.00000000e+00],\n",
       "       [4.00000000e-03, 3.03105801e+02, 2.81188000e+02, 1.08000000e+02,\n",
       "        1.90000000e+01, 1.00000000e+00, 4.00000000e+00, 0.00000000e+00,\n",
       "        0.00000000e+00, 0.00000000e+00, 1.00000000e+00, 0.00000000e+00,\n",
       "        1.00000000e+00, 4.00000000e+00, 1.00000000e+00, 6.00000000e+00,\n",
       "        7.00000000e+00, 0.00000000e+00, 0.00000000e+00, 0.00000000e+00,\n",
       "        1.00000000e+00, 0.00000000e+00, 3.03360000e+02, 3.20000000e+00,\n",
       "        3.03105802e+02, 7.29000000e+01, 3.14000000e+02, 0.00000000e+00,\n",
       "        1.00000000e+00, 5.00000000e+00, 7.00000000e+00, 1.90000000e+01,\n",
       "        0.00000000e+00, 1.00000000e+00, 0.00000000e+00, 1.00000000e+00,\n",
       "        0.00000000e+00, 0.00000000e+00, 0.00000000e+00, 1.00000000e+00,\n",
       "        2.33600000e+02, 1.05300000e+01, 2.91000000e+00, 1.34000000e+00,\n",
       "        4.00000000e+00, 1.00000000e+00, 0.00000000e+00, 0.00000000e+00,\n",
       "        0.00000000e+00, 1.00000000e+00, 2.00000000e+00, 8.00000000e-01,\n",
       "        7.00000000e+00, 1.00000000e+01]])"
      ]
     },
     "execution_count": 10,
     "metadata": {},
     "output_type": "execute_result"
    }
   ],
   "source": [
    "X = pest_data[['LOD', 'ExactMolWt', 'HeavyAtomMolWt', 'NumValenceElectrons', 'HeavyAtomCount', 'NHOHCount', \n",
    "                        'NOCount', 'NumAliphaticCarbocycles', 'NumAliphaticHeterocycles', 'NumAliphaticRings', \n",
    "                        'NumAromaticCarbocycles', 'NumAromaticHeterocycles', 'NumAromaticRings', 'NumHAcceptors', \n",
    "                        'NumHDonors', 'NumHeteroatoms', 'NumRotatableBonds', 'NumSaturatedCarbocycles', \n",
    "                        'NumSaturatedHeterocycles', 'NumSaturatedRings', 'RingCount', 'Halogens', \"MolecularWeight\", \n",
    "                        \"XLogP\", \"ExactMass\", \"TPSA\", \"Complexity\", \"Charge\", \"HBondDonorCount\", \n",
    "                        \"HBondAcceptorCount\", \"RotatableBondCount\", \"HeavyAtomCount\", \"IsotopeAtomCount\", \"AtomStereoCount\", \n",
    "                        \"DefinedAtomStereoCount\", \"UndefinedAtomStereoCount\", \"BondStereoCount\", \"DefinedBondStereoCount\", \n",
    "                        \"UndefinedBondStereoCount\", \"CovalentUnitCount\",\"Volume3D\", \"XStericQuadrupole3D\", \"YStericQuadrupole3D\", \n",
    "                        \"ZStericQuadrupole3D\", \"FeatureCount3D\", \"FeatureAcceptorCount3D\", \"FeatureDonorCount3D\", \"FeatureAnionCount3D\", \n",
    "                        \"FeatureCationCount3D\", \"FeatureRingCount3D\", \"FeatureHydrophobeCount3D\", \"ConformerModelRMSD3D\", \n",
    "                        \"EffectiveRotorCount3D\", \"ConformerCount3D\"]].values\n",
    "\n",
    "\n",
    "y = pest_data[['Class']].values\n",
    "#y[0:5]\n",
    "\n",
    "X[0:2]"
   ]
  },
  {
   "cell_type": "code",
   "execution_count": 11,
   "metadata": {
    "hidden": true
   },
   "outputs": [
    {
     "data": {
      "text/plain": [
       "array([[1],\n",
       "       [1],\n",
       "       [1],\n",
       "       [1],\n",
       "       [1]], dtype=int64)"
      ]
     },
     "execution_count": 11,
     "metadata": {},
     "output_type": "execute_result"
    }
   ],
   "source": [
    "y_array = pest_data[['Class']].to_numpy()\n",
    "y_array[0:5]"
   ]
  },
  {
   "cell_type": "code",
   "execution_count": 12,
   "metadata": {
    "hidden": true
   },
   "outputs": [],
   "source": [
    "pest_feats_array = X\n",
    "y = y_array"
   ]
  },
  {
   "cell_type": "code",
   "execution_count": 13,
   "metadata": {
    "hidden": true
   },
   "outputs": [
    {
     "data": {
      "text/plain": [
       "array([[-0.38172713,  7.34651081, -1.45784533, ..., -0.02354543,\n",
       "         0.79472852,  0.61704106],\n",
       "       [ 0.25380124, -0.83135807,  1.87731163, ...,  0.52952181,\n",
       "         0.49706464, -0.78630769],\n",
       "       [-4.05825424, -1.43292535, -1.11888741, ...,  2.27281405,\n",
       "         0.11460249, -0.91583163],\n",
       "       ...,\n",
       "       [ 1.2837196 ,  0.42218071, -2.88301013, ..., -0.23199105,\n",
       "        -0.53712472,  0.92457317],\n",
       "       [ 4.49176828,  2.86421085,  0.29362712, ...,  0.0375824 ,\n",
       "        -1.1256568 , -0.07445442],\n",
       "       [ 4.76059474, -1.47722347,  0.04087042, ...,  0.81132719,\n",
       "        -0.46446512,  1.01131178]])"
      ]
     },
     "execution_count": 13,
     "metadata": {},
     "output_type": "execute_result"
    }
   ],
   "source": [
    "from sklearn.preprocessing import StandardScaler\n",
    "from sklearn.decomposition import PCA\n",
    "\n",
    "pest_feats_scaled = StandardScaler().fit_transform(pest_feats_array)  # Previously, a huge bias without scaling\n",
    "\n",
    "# one feature had 99% explanation\n",
    "\n",
    "pest_feats_pca = PCA(n_components=18).fit(pest_feats_scaled)\n",
    "pest_feats_pca_values = pest_feats_pca.transform(pest_feats_scaled)\n",
    "pest_feats_pca_values"
   ]
  },
  {
   "cell_type": "code",
   "execution_count": 14,
   "metadata": {
    "hidden": true
   },
   "outputs": [
    {
     "data": {
      "text/plain": [
       "array([0.29927445, 0.12520607, 0.09989821, 0.08433809, 0.05745664,\n",
       "       0.04384194, 0.03960146, 0.03180862, 0.03003908, 0.02732521,\n",
       "       0.02085093, 0.02022818, 0.01626626, 0.01596335, 0.01488377,\n",
       "       0.01159804, 0.01033055, 0.00822051])"
      ]
     },
     "execution_count": 14,
     "metadata": {},
     "output_type": "execute_result"
    }
   ],
   "source": [
    "pest_feats_pca.explained_variance_ratio_"
   ]
  },
  {
   "cell_type": "code",
   "execution_count": 15,
   "metadata": {
    "hidden": true
   },
   "outputs": [
    {
     "data": {
      "text/plain": [
       "0.9571313434933594"
      ]
     },
     "execution_count": 15,
     "metadata": {},
     "output_type": "execute_result"
    }
   ],
   "source": [
    "pest_feats_pca.explained_variance_ratio_.sum()"
   ]
  },
  {
   "cell_type": "code",
   "execution_count": 16,
   "metadata": {
    "hidden": true
   },
   "outputs": [
    {
     "data": {
      "text/plain": [
       "(240, 18)"
      ]
     },
     "execution_count": 16,
     "metadata": {},
     "output_type": "execute_result"
    }
   ],
   "source": [
    "#pest_data['Class'] = pest_data['Class'].astype(int)\n",
    "#y = np.asanyarray(pest_data['Class'])\n",
    "#y[0:5]\n",
    "\n",
    "X = pest_feats_pca_values[:]\n",
    "X.shape"
   ]
  },
  {
   "cell_type": "markdown",
   "metadata": {
    "heading_collapsed": true
   },
   "source": [
    "#### train_test_split"
   ]
  },
  {
   "cell_type": "code",
   "execution_count": 17,
   "metadata": {
    "hidden": true
   },
   "outputs": [
    {
     "name": "stdout",
     "output_type": "stream",
     "text": [
      "X_train and y_train shape:  (192, 18) (192, 1)\n",
      "X_test and y_test shape:  (48, 18) (48, 1)\n"
     ]
    }
   ],
   "source": [
    "from sklearn.model_selection import train_test_split\n",
    "\n",
    "X_train, X_test, y_train, y_test = train_test_split(X, y, test_size = 0.2, shuffle=True) #random_state = 3\n",
    "print ('X_train and y_train shape: ', X_train.shape, y_train.shape)\n",
    "print ('X_test and y_test shape: ', X_test.shape, y_test.shape)"
   ]
  },
  {
   "cell_type": "code",
   "execution_count": 18,
   "metadata": {
    "hidden": true
   },
   "outputs": [
    {
     "data": {
      "text/plain": [
       "array([[-1.83599398e-01, -2.10265900e+00,  4.18092367e+00,\n",
       "         9.62834278e-01, -1.16041062e+00, -1.30303772e+00,\n",
       "        -7.33026381e-01, -1.38558718e+00, -8.74885664e-01,\n",
       "        -2.19692624e-01, -1.03137553e+00,  3.66197367e-01,\n",
       "         5.75371576e-01, -1.02280552e-01,  3.72775391e-01,\n",
       "        -8.19442634e-01, -5.83466695e-01, -1.08290831e-01],\n",
       "       [ 3.66030975e+00,  7.91707740e+00, -1.51203683e+00,\n",
       "         5.45441590e+00, -4.84336470e+00,  1.58678776e+00,\n",
       "         1.80603457e+00, -2.05848511e+00, -4.53127168e-01,\n",
       "        -6.15461584e-01, -9.46978230e-01,  8.67604131e-01,\n",
       "         3.97937668e-01,  9.41084528e-01, -1.52556258e-01,\n",
       "        -3.82453368e-03, -1.65731063e-02, -7.34578817e-01]])"
      ]
     },
     "execution_count": 18,
     "metadata": {},
     "output_type": "execute_result"
    }
   ],
   "source": [
    "from sklearn.preprocessing import StandardScaler\n",
    "\n",
    "#X_train = StandardScaler().fit_transform(X_train)\n",
    "X_train[0:5]\n",
    "#X_test = StandardScaler().fit_transform(X_test)\n",
    "X_test[0:2]"
   ]
  },
  {
   "cell_type": "code",
   "execution_count": 19,
   "metadata": {
    "hidden": true
   },
   "outputs": [
    {
     "name": "stdout",
     "output_type": "stream",
     "text": [
      "Train set dimensions match and is equal to (192, 18) vs (192, 1)\n"
     ]
    }
   ],
   "source": [
    "#Just to be sure\n",
    "\n",
    "if X_train.shape[0] == y_train.shape[0]:\n",
    "    print(\"Train set dimensions match and is equal to\", X_train.shape, 'vs', y_train.shape)\n",
    "else:\n",
    "    print(\"Train set dimensions do not match\")"
   ]
  },
  {
   "cell_type": "markdown",
   "metadata": {},
   "source": [
    "### SVM HyperOpt - Optimisation of model hyperparameters"
   ]
  },
  {
   "cell_type": "code",
   "execution_count": 20,
   "metadata": {},
   "outputs": [
    {
     "name": "stdout",
     "output_type": "stream",
     "text": [
      "WARN: OMP_NUM_THREADS=None =>\n",
      "... If you are using openblas if you are using openblas set OMP_NUM_THREADS=1 or risk subprocess calls hanging indefinitely\n",
      "100%|██████████████████████████████████████████████████| 1/1 [00:00<00:00,  1.37trial/s, best loss: 0.2564102564102564]\n",
      "100%|██████████████████████████████████████████████████| 2/2 [00:00<00:00,  1.38trial/s, best loss: 0.2564102564102564]\n",
      "100%|██████████████████████████████████████████████████| 3/3 [00:00<00:00,  1.39trial/s, best loss: 0.2564102564102564]\n",
      "100%|██████████████████████████████████████████████████| 4/4 [00:00<00:00,  1.40trial/s, best loss: 0.2564102564102564]\n",
      "100%|██████████████████████████████████████████████████| 5/5 [00:07<00:00,  7.75s/trial, best loss: 0.2564102564102564]\n",
      "100%|██████████████████████████████████████████████████| 6/6 [00:00<00:00,  1.36trial/s, best loss: 0.2564102564102564]\n",
      "100%|██████████████████████████████████████████████████| 7/7 [00:00<00:00,  1.38trial/s, best loss: 0.2564102564102564]\n",
      "100%|██████████████████████████████████████████████████| 8/8 [00:00<00:00,  1.35trial/s, best loss: 0.2564102564102564]\n",
      "100%|██████████████████████████████████████████████████| 9/9 [00:00<00:00,  1.30trial/s, best loss: 0.2564102564102564]\n",
      "100%|████████████████████████████████████████████████| 10/10 [00:00<00:00,  1.36trial/s, best loss: 0.2564102564102564]\n",
      "100%|████████████████████████████████████████████████| 11/11 [00:00<00:00,  1.38trial/s, best loss: 0.2564102564102564]\n",
      "100%|███████████████████████████████████████████████| 12/12 [01:50<00:00, 110.93s/trial, best loss: 0.2564102564102564]\n",
      "100%|████████████████████████████████████████████████| 13/13 [00:00<00:00,  1.38trial/s, best loss: 0.2564102564102564]\n",
      "100%|████████████████████████████████████████████████| 14/14 [00:00<00:00,  1.33trial/s, best loss: 0.2564102564102564]\n",
      "100%|████████████████████████████████████████████████| 15/15 [00:00<00:00,  1.38trial/s, best loss: 0.2564102564102564]\n",
      "100%|████████████████████████████████████████████████| 16/16 [00:00<00:00,  1.38trial/s, best loss: 0.2564102564102564]\n",
      "100%|████████████████████████████████████████████████| 17/17 [00:00<00:00,  1.39trial/s, best loss: 0.2564102564102564]\n",
      "100%|████████████████████████████████████████████████| 18/18 [00:00<00:00,  1.40trial/s, best loss: 0.2564102564102564]\n",
      "100%|████████████████████████████████████████████████| 19/19 [00:00<00:00,  1.34trial/s, best loss: 0.2564102564102564]\n",
      "100%|████████████████████████████████████████████████| 20/20 [00:00<00:00,  1.38trial/s, best loss: 0.2564102564102564]\n",
      "100%|████████████████████████████████████████████████| 21/21 [00:00<00:00,  1.36trial/s, best loss: 0.2564102564102564]\n",
      "100%|████████████████████████████████████████████████| 22/22 [00:00<00:00,  1.34trial/s, best loss: 0.2564102564102564]\n",
      "100%|████████████████████████████████████████████████| 23/23 [00:00<00:00,  1.28trial/s, best loss: 0.2564102564102564]\n",
      "100%|████████████████████████████████████████████████| 24/24 [00:00<00:00,  1.35trial/s, best loss: 0.2564102564102564]\n",
      "100%|████████████████████████████████████████████████| 25/25 [00:00<00:00,  1.36trial/s, best loss: 0.2564102564102564]\n",
      "100%|████████████████████████████████████████████████| 26/26 [00:00<00:00,  1.37trial/s, best loss: 0.2564102564102564]\n",
      "100%|████████████████████████████████████████████████| 27/27 [00:00<00:00,  1.31trial/s, best loss: 0.2564102564102564]\n",
      "100%|████████████████████████████████████████████████| 28/28 [00:00<00:00,  1.37trial/s, best loss: 0.2564102564102564]\n",
      "100%|████████████████████████████████████████████████| 29/29 [00:00<00:00,  1.37trial/s, best loss: 0.2564102564102564]\n",
      "100%|████████████████████████████████████████████████| 30/30 [00:00<00:00,  1.36trial/s, best loss: 0.2564102564102564]\n",
      "100%|████████████████████████████████████████████████| 31/31 [00:00<00:00,  1.37trial/s, best loss: 0.2564102564102564]\n",
      "100%|████████████████████████████████████████████████| 32/32 [00:00<00:00,  1.30trial/s, best loss: 0.2564102564102564]\n",
      "100%|████████████████████████████████████████████████| 33/33 [00:00<00:00,  1.37trial/s, best loss: 0.2564102564102564]\n",
      "100%|████████████████████████████████████████████████| 34/34 [00:00<00:00,  1.35trial/s, best loss: 0.2564102564102564]\n",
      "100%|████████████████████████████████████████████████| 35/35 [00:00<00:00,  1.36trial/s, best loss: 0.2564102564102564]\n",
      "100%|████████████████████████████████████████████████| 36/36 [00:00<00:00,  1.30trial/s, best loss: 0.2564102564102564]\n",
      "100%|████████████████████████████████████████████████| 37/37 [00:00<00:00,  1.34trial/s, best loss: 0.2564102564102564]\n",
      "100%|████████████████████████████████████████████████| 38/38 [00:00<00:00,  1.37trial/s, best loss: 0.2564102564102564]\n",
      "100%|████████████████████████████████████████████████| 39/39 [00:00<00:00,  1.36trial/s, best loss: 0.2564102564102564]\n",
      "100%|████████████████████████████████████████████████| 40/40 [00:00<00:00,  1.36trial/s, best loss: 0.2564102564102564]\n",
      "100%|████████████████████████████████████████████████| 41/41 [00:27<00:00, 27.84s/trial, best loss: 0.2564102564102564]\n",
      "100%|████████████████████████████████████████████████| 42/42 [00:00<00:00,  1.34trial/s, best loss: 0.2564102564102564]\n",
      "100%|████████████████████████████████████████████████| 43/43 [00:00<00:00,  1.35trial/s, best loss: 0.2564102564102564]\n",
      "100%|████████████████████████████████████████████████| 44/44 [00:00<00:00,  1.37trial/s, best loss: 0.2564102564102564]\n",
      "100%|████████████████████████████████████████████████| 45/45 [00:00<00:00,  1.32trial/s, best loss: 0.2564102564102564]\n",
      "100%|████████████████████████████████████████████████| 46/46 [00:00<00:00,  1.35trial/s, best loss: 0.2564102564102564]\n",
      "100%|███████████████████████████████████████████████| 47/47 [00:17<00:00, 17.15s/trial, best loss: 0.23076923076923073]\n",
      "100%|███████████████████████████████████████████████| 48/48 [00:23<00:00, 23.29s/trial, best loss: 0.23076923076923073]\n",
      "100%|███████████████████████████████████████████████| 49/49 [00:16<00:00, 16.46s/trial, best loss: 0.23076923076923073]\n",
      "100%|███████████████████████████████████████████████| 50/50 [00:50<00:00, 50.20s/trial, best loss: 0.23076923076923073]\n",
      "100%|███████████████████████████████████████████████| 51/51 [00:00<00:00,  1.29trial/s, best loss: 0.23076923076923073]\n",
      "100%|███████████████████████████████████████████████| 52/52 [00:44<00:00, 44.09s/trial, best loss: 0.23076923076923073]\n",
      "100%|███████████████████████████████████████████████| 53/53 [00:00<00:00,  1.33trial/s, best loss: 0.23076923076923073]\n",
      "100%|███████████████████████████████████████████████| 54/54 [00:28<00:00, 28.21s/trial, best loss: 0.23076923076923073]\n",
      "100%|███████████████████████████████████████████████| 55/55 [00:00<00:00,  1.25trial/s, best loss: 0.23076923076923073]\n",
      "100%|███████████████████████████████████████████████| 56/56 [00:00<00:00,  1.33trial/s, best loss: 0.23076923076923073]\n",
      "100%|███████████████████████████████████████████████| 57/57 [00:00<00:00,  1.36trial/s, best loss: 0.23076923076923073]\n",
      "100%|███████████████████████████████████████████████| 58/58 [00:09<00:00,  9.70s/trial, best loss: 0.23076923076923073]\n",
      "100%|███████████████████████████████████████████████| 59/59 [00:00<00:00,  1.32trial/s, best loss: 0.23076923076923073]\n",
      "100%|███████████████████████████████████████████████| 60/60 [00:00<00:00,  1.23trial/s, best loss: 0.23076923076923073]\n",
      "100%|███████████████████████████████████████████████| 61/61 [00:00<00:00,  1.34trial/s, best loss: 0.23076923076923073]\n",
      "100%|███████████████████████████████████████████████| 62/62 [00:03<00:00,  3.57s/trial, best loss: 0.23076923076923073]\n",
      "100%|███████████████████████████████████████████████| 63/63 [00:00<00:00,  1.28trial/s, best loss: 0.23076923076923073]\n",
      "100%|███████████████████████████████████████████████| 64/64 [00:00<00:00,  1.35trial/s, best loss: 0.23076923076923073]\n",
      "100%|███████████████████████████████████████████████| 65/65 [00:00<00:00,  1.35trial/s, best loss: 0.23076923076923073]\n",
      "100%|██████████████████████████████████████████████| 66/66 [02:04<00:00, 124.81s/trial, best loss: 0.23076923076923073]\n",
      "100%|███████████████████████████████████████████████| 67/67 [00:09<00:00,  9.77s/trial, best loss: 0.23076923076923073]\n",
      "100%|███████████████████████████████████████████████| 68/68 [00:00<00:00,  1.25trial/s, best loss: 0.23076923076923073]\n",
      "100%|██████████████████████████████████████████████| 69/69 [04:23<00:00, 263.22s/trial, best loss: 0.23076923076923073]\n",
      "100%|███████████████████████████████████████████████| 70/70 [00:34<00:00, 34.06s/trial, best loss: 0.23076923076923073]\n",
      "100%|███████████████████████████████████████████████| 71/71 [00:00<00:00,  1.34trial/s, best loss: 0.23076923076923073]\n",
      "100%|███████████████████████████████████████████████| 72/72 [00:14<00:00, 14.59s/trial, best loss: 0.23076923076923073]\n",
      "100%|███████████████████████████████████████████████| 73/73 [00:00<00:00,  1.33trial/s, best loss: 0.23076923076923073]\n",
      "100%|███████████████████████████████████████████████| 74/74 [00:00<00:00,  1.35trial/s, best loss: 0.23076923076923073]\n",
      "100%|███████████████████████████████████████████████| 75/75 [00:00<00:00,  1.35trial/s, best loss: 0.23076923076923073]\n",
      "100%|███████████████████████████████████████████████| 76/76 [00:00<00:00,  1.33trial/s, best loss: 0.23076923076923073]\n",
      "100%|███████████████████████████████████████████████| 77/77 [00:00<00:00,  1.29trial/s, best loss: 0.23076923076923073]\n",
      "100%|███████████████████████████████████████████████| 78/78 [00:00<00:00,  1.36trial/s, best loss: 0.23076923076923073]\n",
      "100%|███████████████████████████████████████████████| 79/79 [00:00<00:00,  1.35trial/s, best loss: 0.23076923076923073]\n",
      "100%|███████████████████████████████████████████████| 80/80 [00:00<00:00,  1.33trial/s, best loss: 0.23076923076923073]\n",
      "100%|███████████████████████████████████████████████| 81/81 [00:00<00:00,  1.28trial/s, best loss: 0.23076923076923073]\n",
      "100%|███████████████████████████████████████████████| 82/82 [00:08<00:00,  8.60s/trial, best loss: 0.23076923076923073]\n",
      "100%|███████████████████████████████████████████████| 83/83 [00:00<00:00,  1.33trial/s, best loss: 0.23076923076923073]\n",
      "100%|███████████████████████████████████████████████| 84/84 [00:00<00:00,  1.34trial/s, best loss: 0.23076923076923073]\n",
      "100%|███████████████████████████████████████████████| 85/85 [00:00<00:00,  1.35trial/s, best loss: 0.23076923076923073]\n",
      "100%|███████████████████████████████████████████████| 86/86 [00:00<00:00,  1.28trial/s, best loss: 0.23076923076923073]\n",
      "100%|███████████████████████████████████████████████| 87/87 [00:00<00:00,  1.35trial/s, best loss: 0.23076923076923073]\n",
      "100%|███████████████████████████████████████████████| 88/88 [01:23<00:00, 83.39s/trial, best loss: 0.23076923076923073]\n",
      "100%|███████████████████████████████████████████████| 89/89 [00:00<00:00,  1.34trial/s, best loss: 0.23076923076923073]\n",
      "100%|██████████████████████████████████████████████| 90/90 [05:32<00:00, 332.50s/trial, best loss: 0.23076923076923073]\n",
      "100%|███████████████████████████████████████████████| 91/91 [00:00<00:00,  1.29trial/s, best loss: 0.23076923076923073]\n",
      "100%|███████████████████████████████████████████████| 92/92 [00:00<00:00,  1.35trial/s, best loss: 0.23076923076923073]\n",
      "100%|███████████████████████████████████████████████| 93/93 [00:02<00:00,  2.59s/trial, best loss: 0.23076923076923073]\n",
      "100%|███████████████████████████████████████████████| 94/94 [00:00<00:00,  1.28trial/s, best loss: 0.23076923076923073]\n",
      "100%|███████████████████████████████████████████████| 95/95 [00:00<00:00,  1.35trial/s, best loss: 0.23076923076923073]\n",
      "100%|███████████████████████████████████████████████| 96/96 [00:00<00:00,  1.33trial/s, best loss: 0.23076923076923073]\n",
      "100%|███████████████████████████████████████████████| 97/97 [00:00<00:00,  1.34trial/s, best loss: 0.23076923076923073]\n",
      "100%|███████████████████████████████████████████████| 98/98 [00:00<00:00,  1.30trial/s, best loss: 0.23076923076923073]\n",
      "100%|███████████████████████████████████████████████| 99/99 [00:00<00:00,  1.28trial/s, best loss: 0.23076923076923073]\n",
      "100%|█████████████████████████████████████████████| 100/100 [00:00<00:00,  1.33trial/s, best loss: 0.23076923076923073]\n",
      "100%|█████████████████████████████████████████████| 101/101 [00:00<00:00,  1.32trial/s, best loss: 0.23076923076923073]\n",
      "100%|█████████████████████████████████████████████| 102/102 [00:00<00:00,  1.34trial/s, best loss: 0.23076923076923073]\n",
      "100%|█████████████████████████████████████████████| 103/103 [00:00<00:00,  1.28trial/s, best loss: 0.23076923076923073]\n",
      "100%|█████████████████████████████████████████████| 104/104 [00:00<00:00,  1.34trial/s, best loss: 0.23076923076923073]\n",
      "100%|█████████████████████████████████████████████| 105/105 [00:00<00:00,  1.34trial/s, best loss: 0.23076923076923073]\n",
      "100%|█████████████████████████████████████████████| 106/106 [00:00<00:00,  1.34trial/s, best loss: 0.23076923076923073]\n",
      "100%|█████████████████████████████████████████████| 107/107 [00:00<00:00,  1.29trial/s, best loss: 0.23076923076923073]\n",
      "100%|█████████████████████████████████████████████| 108/108 [00:00<00:00,  1.35trial/s, best loss: 0.23076923076923073]\n",
      "100%|█████████████████████████████████████████████| 109/109 [00:00<00:00,  1.35trial/s, best loss: 0.23076923076923073]\n",
      "100%|█████████████████████████████████████████████| 110/110 [00:00<00:00,  1.36trial/s, best loss: 0.23076923076923073]\n",
      "100%|█████████████████████████████████████████████| 111/111 [00:00<00:00,  1.36trial/s, best loss: 0.23076923076923073]\n",
      "100%|█████████████████████████████████████████████| 112/112 [00:00<00:00,  1.19trial/s, best loss: 0.23076923076923073]\n",
      "100%|█████████████████████████████████████████████| 113/113 [00:00<00:00,  1.35trial/s, best loss: 0.23076923076923073]\n",
      "100%|█████████████████████████████████████████████| 114/114 [00:00<00:00,  1.34trial/s, best loss: 0.23076923076923073]\n",
      "100%|█████████████████████████████████████████████| 115/115 [00:00<00:00,  1.35trial/s, best loss: 0.23076923076923073]\n",
      "100%|█████████████████████████████████████████████| 116/116 [00:00<00:00,  1.25trial/s, best loss: 0.23076923076923073]\n",
      "100%|█████████████████████████████████████████████| 117/117 [00:00<00:00,  1.34trial/s, best loss: 0.23076923076923073]\n",
      "100%|█████████████████████████████████████████████| 118/118 [00:00<00:00,  1.33trial/s, best loss: 0.23076923076923073]\n",
      "100%|█████████████████████████████████████████████| 119/119 [00:01<00:00,  1.22s/trial, best loss: 0.23076923076923073]\n",
      "100%|█████████████████████████████████████████████| 120/120 [00:00<00:00,  1.36trial/s, best loss: 0.23076923076923073]\n",
      "100%|█████████████████████████████████████████████| 121/121 [00:01<00:00,  1.12s/trial, best loss: 0.23076923076923073]\n",
      "100%|█████████████████████████████████████████████| 122/122 [00:00<00:00,  1.35trial/s, best loss: 0.23076923076923073]\n",
      "100%|█████████████████████████████████████████████| 123/123 [00:00<00:00,  1.32trial/s, best loss: 0.23076923076923073]\n",
      "100%|█████████████████████████████████████████████| 124/124 [00:00<00:00,  1.35trial/s, best loss: 0.23076923076923073]\n",
      "100%|█████████████████████████████████████████████| 125/125 [00:00<00:00,  1.28trial/s, best loss: 0.23076923076923073]\n",
      "100%|█████████████████████████████████████████████| 126/126 [00:00<00:00,  1.33trial/s, best loss: 0.23076923076923073]\n",
      "100%|█████████████████████████████████████████████| 127/127 [00:00<00:00,  1.34trial/s, best loss: 0.23076923076923073]\n",
      "100%|█████████████████████████████████████████████| 128/128 [00:00<00:00,  1.37trial/s, best loss: 0.23076923076923073]\n",
      "100%|█████████████████████████████████████████████| 129/129 [00:00<00:00,  1.36trial/s, best loss: 0.23076923076923073]\n",
      "100%|█████████████████████████████████████████████| 130/130 [00:00<00:00,  1.33trial/s, best loss: 0.23076923076923073]\n",
      "100%|█████████████████████████████████████████████| 131/131 [00:00<00:00,  1.36trial/s, best loss: 0.23076923076923073]\n",
      "100%|█████████████████████████████████████████████| 132/132 [00:00<00:00,  1.33trial/s, best loss: 0.23076923076923073]\n",
      "100%|█████████████████████████████████████████████| 133/133 [00:00<00:00,  1.32trial/s, best loss: 0.23076923076923073]\n",
      "100%|█████████████████████████████████████████████| 134/134 [00:00<00:00,  1.34trial/s, best loss: 0.23076923076923073]\n"
     ]
    },
    {
     "name": "stdout",
     "output_type": "stream",
     "text": [
      "100%|█████████████████████████████████████████████| 135/135 [00:00<00:00,  1.30trial/s, best loss: 0.23076923076923073]\n",
      "100%|█████████████████████████████████████████████| 136/136 [00:00<00:00,  1.32trial/s, best loss: 0.23076923076923073]\n",
      "100%|█████████████████████████████████████████████| 137/137 [00:00<00:00,  1.32trial/s, best loss: 0.23076923076923073]\n",
      "100%|█████████████████████████████████████████████| 138/138 [00:00<00:00,  1.30trial/s, best loss: 0.23076923076923073]\n",
      "100%|█████████████████████████████████████████████| 139/139 [00:00<00:00,  1.32trial/s, best loss: 0.23076923076923073]\n",
      "100%|█████████████████████████████████████████████| 140/140 [00:00<00:00,  1.32trial/s, best loss: 0.23076923076923073]\n",
      "100%|█████████████████████████████████████████████| 141/141 [00:00<00:00,  1.33trial/s, best loss: 0.23076923076923073]\n",
      "100%|█████████████████████████████████████████████| 142/142 [00:00<00:00,  1.34trial/s, best loss: 0.23076923076923073]\n",
      "100%|█████████████████████████████████████████████| 143/143 [00:00<00:00,  1.33trial/s, best loss: 0.23076923076923073]\n",
      "100%|█████████████████████████████████████████████| 144/144 [00:54<00:00, 54.38s/trial, best loss: 0.23076923076923073]\n",
      "100%|█████████████████████████████████████████████| 145/145 [00:00<00:00,  1.31trial/s, best loss: 0.23076923076923073]\n",
      "100%|█████████████████████████████████████████████| 146/146 [00:03<00:00,  3.75s/trial, best loss: 0.23076923076923073]\n",
      "100%|█████████████████████████████████████████████| 147/147 [00:00<00:00,  1.23trial/s, best loss: 0.23076923076923073]\n",
      "100%|█████████████████████████████████████████████| 148/148 [00:00<00:00,  1.33trial/s, best loss: 0.23076923076923073]\n",
      "100%|█████████████████████████████████████████████| 149/149 [00:00<00:00,  1.34trial/s, best loss: 0.23076923076923073]\n",
      "100%|████████████████████████████████████████████| 150/150 [06:08<00:00, 368.04s/trial, best loss: 0.23076923076923073]\n"
     ]
    }
   ],
   "source": [
    "from hpsklearn import HyperoptEstimator, any_classifier, any_preprocessing, svc #any_sparse_classifier\n",
    "from hyperopt import fmin, tpe\n",
    "from sklearn import svm\n",
    "\n",
    "# preprocessing = []\n",
    "\n",
    "model_SVC = HyperoptEstimator(classifier=svc('mySVC'), \n",
    "                              algo=tpe.suggest, max_evals=150, \n",
    "                              trial_timeout=500)\n",
    "\n",
    "# perform the search\n",
    "model_SVC.fit(X_train, y_train.ravel())"
   ]
  },
  {
   "cell_type": "code",
   "execution_count": 21,
   "metadata": {},
   "outputs": [
    {
     "name": "stdout",
     "output_type": "stream",
     "text": [
      "Accuracy_SVC: 0.604\n",
      "{'learner': SVC(C=72232.893472915, cache_size=512, coef0=0, degree=3.0,\n",
      "    gamma=0.033773627951311905, kernel='poly', max_iter=968550991.0,\n",
      "    random_state=3, shrinking=False, tol=0.009256683053194313), 'preprocs': (PCA(n_components=4),), 'ex_preprocs': ()}\n"
     ]
    }
   ],
   "source": [
    "accuracy_SVC = model_SVC.score(X_test, y_test)\n",
    "print(\"Accuracy_SVC: %.3f\" % accuracy_SVC)\n",
    "\n",
    "# model details\n",
    "print(model_SVC.best_model())"
   ]
  },
  {
   "cell_type": "code",
   "execution_count": 22,
   "metadata": {},
   "outputs": [
    {
     "name": "stdout",
     "output_type": "stream",
     "text": [
      "              precision    recall  f1-score   support\n",
      "\n",
      "           1       0.40      0.11      0.17        18\n",
      "           2       0.63      0.90      0.74        30\n",
      "\n",
      "    accuracy                           0.60        48\n",
      "   macro avg       0.51      0.51      0.46        48\n",
      "weighted avg       0.54      0.60      0.53        48\n",
      "\n"
     ]
    }
   ],
   "source": [
    "y_hat_SVC = model_SVC.predict(X_test)\n",
    "print(classification_report(y_test, y_hat_SVC))"
   ]
  },
  {
   "cell_type": "markdown",
   "metadata": {},
   "source": [
    "#### Cross-validation for better accuracy"
   ]
  },
  {
   "cell_type": "code",
   "execution_count": 23,
   "metadata": {},
   "outputs": [
    {
     "name": "stdout",
     "output_type": "stream",
     "text": [
      "0.4519568151147098\n"
     ]
    }
   ],
   "source": [
    "# CV for average model accuracy\n",
    "from sklearn.svm import SVC\n",
    "from sklearn.model_selection import cross_val_score\n",
    "\n",
    "model = SVC(kernel='poly', degree=3, class_weight=\"balanced\")\n",
    "\n",
    "score = cross_val_score(model, X_train, y_train, cv=5, scoring=\"accuracy\", n_jobs=-1).mean()\n",
    "print(score)"
   ]
  },
  {
   "cell_type": "code",
   "execution_count": 24,
   "metadata": {},
   "outputs": [
    {
     "name": "stdout",
     "output_type": "stream",
     "text": [
      "0.5097165991902834\n"
     ]
    }
   ],
   "source": [
    "model = SVC(kernel='linear', degree=3, class_weight=\"balanced\")\n",
    "\n",
    "score = cross_val_score(model, X_train, y_train, cv=5, scoring=\"accuracy\", n_jobs=-1).mean()\n",
    "print(score)"
   ]
  },
  {
   "cell_type": "code",
   "execution_count": 25,
   "metadata": {},
   "outputs": [
    {
     "name": "stdout",
     "output_type": "stream",
     "text": [
      "0.5412955465587045\n"
     ]
    }
   ],
   "source": [
    "model = SVC(kernel='rbf', degree=3, class_weight=\"balanced\")\n",
    "\n",
    "score = cross_val_score(model, X_train, y_train, cv=5, scoring=\"accuracy\", n_jobs=-1).mean()\n",
    "print(score)"
   ]
  },
  {
   "cell_type": "code",
   "execution_count": 26,
   "metadata": {},
   "outputs": [
    {
     "name": "stdout",
     "output_type": "stream",
     "text": [
      "0.5566801619433198\n"
     ]
    }
   ],
   "source": [
    "model = SVC(kernel='sigmoid', degree=3, class_weight=\"balanced\")\n",
    "\n",
    "score = cross_val_score(model, X_train, y_train, cv=5, scoring=\"accuracy\", n_jobs=-1).mean()\n",
    "print(score)"
   ]
  },
  {
   "cell_type": "markdown",
   "metadata": {},
   "source": [
    "#### Visual"
   ]
  },
  {
   "cell_type": "code",
   "execution_count": null,
   "metadata": {},
   "outputs": [],
   "source": []
  }
 ],
 "metadata": {
  "kernelspec": {
   "display_name": "Python 3 (ipykernel)",
   "language": "python",
   "name": "python3"
  },
  "language_info": {
   "codemirror_mode": {
    "name": "ipython",
    "version": 3
   },
   "file_extension": ".py",
   "mimetype": "text/x-python",
   "name": "python",
   "nbconvert_exporter": "python",
   "pygments_lexer": "ipython3",
   "version": "3.10.8"
  },
  "toc": {
   "base_numbering": 1,
   "nav_menu": {},
   "number_sections": true,
   "sideBar": true,
   "skip_h1_title": false,
   "title_cell": "Table of Contents",
   "title_sidebar": "Contents",
   "toc_cell": false,
   "toc_position": {},
   "toc_section_display": true,
   "toc_window_display": false
  }
 },
 "nbformat": 4,
 "nbformat_minor": 2
}
