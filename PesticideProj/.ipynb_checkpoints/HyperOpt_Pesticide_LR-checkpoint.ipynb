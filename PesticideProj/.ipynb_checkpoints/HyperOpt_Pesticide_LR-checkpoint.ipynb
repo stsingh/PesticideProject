{
 "cells": [
  {
   "cell_type": "code",
   "execution_count": 1,
   "metadata": {
    "executionInfo": {
     "elapsed": 1542,
     "status": "ok",
     "timestamp": 1666494146466,
     "user": {
      "displayName": "Sahej Singh",
      "userId": "04015284822048041167"
     },
     "user_tz": 300
    },
    "id": "SF1pJ5-Uyj6a"
   },
   "outputs": [],
   "source": [
    "# copy x train five times for each model\n",
    "#different workflow patterns, (pca vs no pca, hyperopt vs no, high dim vs low)\n",
    "import numpy as np\n",
    "import pandas as pd\n",
    "import matplotlib.pyplot as plt\n",
    "from sklearn import preprocessing\n",
    "import matplotlib.pyplot as plt"
   ]
  },
  {
   "cell_type": "markdown",
   "metadata": {
    "id": "UCoISajHyj6d"
   },
   "source": [
    "### Data preperation"
   ]
  },
  {
   "cell_type": "markdown",
   "metadata": {
    "heading_collapsed": true,
    "id": "L_OwO9JHyj6f"
   },
   "source": [
    "#### Load the data and generate descriptors"
   ]
  },
  {
   "cell_type": "code",
   "execution_count": 2,
   "metadata": {
    "colab": {
     "base_uri": "https://localhost:8080/",
     "height": 346
    },
    "executionInfo": {
     "elapsed": 570,
     "status": "error",
     "timestamp": 1666494147031,
     "user": {
      "displayName": "Sahej Singh",
      "userId": "04015284822048041167"
     },
     "user_tz": 300
    },
    "hidden": true,
    "id": "CK6nMSuUyj6f",
    "outputId": "71051bc1-fff3-4752-e2a4-9064bde2d9de"
   },
   "outputs": [
    {
     "ename": "FileNotFoundError",
     "evalue": "[Errno 2] No such file or directory: 'BinaryPesticideData.csv'",
     "output_type": "error",
     "traceback": [
      "\u001b[1;31m---------------------------------------------------------------------------\u001b[0m",
      "\u001b[1;31mFileNotFoundError\u001b[0m                         Traceback (most recent call last)",
      "Cell \u001b[1;32mIn [2], line 1\u001b[0m\n\u001b[1;32m----> 1\u001b[0m pest_data \u001b[38;5;241m=\u001b[39m \u001b[43mpd\u001b[49m\u001b[38;5;241;43m.\u001b[39;49m\u001b[43mread_csv\u001b[49m\u001b[43m(\u001b[49m\u001b[38;5;124;43m\"\u001b[39;49m\u001b[38;5;124;43mBinaryPesticideData.csv\u001b[39;49m\u001b[38;5;124;43m\"\u001b[39;49m\u001b[43m,\u001b[49m\u001b[43m \u001b[49m\u001b[43mdelimiter\u001b[49m\u001b[38;5;241;43m=\u001b[39;49m\u001b[38;5;124;43m\"\u001b[39;49m\u001b[38;5;124;43m,\u001b[39;49m\u001b[38;5;124;43m\"\u001b[39;49m\u001b[43m)\u001b[49m\n\u001b[0;32m      2\u001b[0m pest_data[\u001b[38;5;241m0\u001b[39m:\u001b[38;5;241m5\u001b[39m]\n",
      "File \u001b[1;32m~\\AppData\\Local\\Programs\\Python\\Python310\\lib\\site-packages\\pandas\\util\\_decorators.py:211\u001b[0m, in \u001b[0;36mdeprecate_kwarg.<locals>._deprecate_kwarg.<locals>.wrapper\u001b[1;34m(*args, **kwargs)\u001b[0m\n\u001b[0;32m    209\u001b[0m     \u001b[38;5;28;01melse\u001b[39;00m:\n\u001b[0;32m    210\u001b[0m         kwargs[new_arg_name] \u001b[38;5;241m=\u001b[39m new_arg_value\n\u001b[1;32m--> 211\u001b[0m \u001b[38;5;28;01mreturn\u001b[39;00m func(\u001b[38;5;241m*\u001b[39margs, \u001b[38;5;241m*\u001b[39m\u001b[38;5;241m*\u001b[39mkwargs)\n",
      "File \u001b[1;32m~\\AppData\\Local\\Programs\\Python\\Python310\\lib\\site-packages\\pandas\\util\\_decorators.py:331\u001b[0m, in \u001b[0;36mdeprecate_nonkeyword_arguments.<locals>.decorate.<locals>.wrapper\u001b[1;34m(*args, **kwargs)\u001b[0m\n\u001b[0;32m    325\u001b[0m \u001b[38;5;28;01mif\u001b[39;00m \u001b[38;5;28mlen\u001b[39m(args) \u001b[38;5;241m>\u001b[39m num_allow_args:\n\u001b[0;32m    326\u001b[0m     warnings\u001b[38;5;241m.\u001b[39mwarn(\n\u001b[0;32m    327\u001b[0m         msg\u001b[38;5;241m.\u001b[39mformat(arguments\u001b[38;5;241m=\u001b[39m_format_argument_list(allow_args)),\n\u001b[0;32m    328\u001b[0m         \u001b[38;5;167;01mFutureWarning\u001b[39;00m,\n\u001b[0;32m    329\u001b[0m         stacklevel\u001b[38;5;241m=\u001b[39mfind_stack_level(),\n\u001b[0;32m    330\u001b[0m     )\n\u001b[1;32m--> 331\u001b[0m \u001b[38;5;28;01mreturn\u001b[39;00m func(\u001b[38;5;241m*\u001b[39margs, \u001b[38;5;241m*\u001b[39m\u001b[38;5;241m*\u001b[39mkwargs)\n",
      "File \u001b[1;32m~\\AppData\\Local\\Programs\\Python\\Python310\\lib\\site-packages\\pandas\\io\\parsers\\readers.py:950\u001b[0m, in \u001b[0;36mread_csv\u001b[1;34m(filepath_or_buffer, sep, delimiter, header, names, index_col, usecols, squeeze, prefix, mangle_dupe_cols, dtype, engine, converters, true_values, false_values, skipinitialspace, skiprows, skipfooter, nrows, na_values, keep_default_na, na_filter, verbose, skip_blank_lines, parse_dates, infer_datetime_format, keep_date_col, date_parser, dayfirst, cache_dates, iterator, chunksize, compression, thousands, decimal, lineterminator, quotechar, quoting, doublequote, escapechar, comment, encoding, encoding_errors, dialect, error_bad_lines, warn_bad_lines, on_bad_lines, delim_whitespace, low_memory, memory_map, float_precision, storage_options)\u001b[0m\n\u001b[0;32m    935\u001b[0m kwds_defaults \u001b[38;5;241m=\u001b[39m _refine_defaults_read(\n\u001b[0;32m    936\u001b[0m     dialect,\n\u001b[0;32m    937\u001b[0m     delimiter,\n\u001b[1;32m   (...)\u001b[0m\n\u001b[0;32m    946\u001b[0m     defaults\u001b[38;5;241m=\u001b[39m{\u001b[38;5;124m\"\u001b[39m\u001b[38;5;124mdelimiter\u001b[39m\u001b[38;5;124m\"\u001b[39m: \u001b[38;5;124m\"\u001b[39m\u001b[38;5;124m,\u001b[39m\u001b[38;5;124m\"\u001b[39m},\n\u001b[0;32m    947\u001b[0m )\n\u001b[0;32m    948\u001b[0m kwds\u001b[38;5;241m.\u001b[39mupdate(kwds_defaults)\n\u001b[1;32m--> 950\u001b[0m \u001b[38;5;28;01mreturn\u001b[39;00m \u001b[43m_read\u001b[49m\u001b[43m(\u001b[49m\u001b[43mfilepath_or_buffer\u001b[49m\u001b[43m,\u001b[49m\u001b[43m \u001b[49m\u001b[43mkwds\u001b[49m\u001b[43m)\u001b[49m\n",
      "File \u001b[1;32m~\\AppData\\Local\\Programs\\Python\\Python310\\lib\\site-packages\\pandas\\io\\parsers\\readers.py:605\u001b[0m, in \u001b[0;36m_read\u001b[1;34m(filepath_or_buffer, kwds)\u001b[0m\n\u001b[0;32m    602\u001b[0m _validate_names(kwds\u001b[38;5;241m.\u001b[39mget(\u001b[38;5;124m\"\u001b[39m\u001b[38;5;124mnames\u001b[39m\u001b[38;5;124m\"\u001b[39m, \u001b[38;5;28;01mNone\u001b[39;00m))\n\u001b[0;32m    604\u001b[0m \u001b[38;5;66;03m# Create the parser.\u001b[39;00m\n\u001b[1;32m--> 605\u001b[0m parser \u001b[38;5;241m=\u001b[39m TextFileReader(filepath_or_buffer, \u001b[38;5;241m*\u001b[39m\u001b[38;5;241m*\u001b[39mkwds)\n\u001b[0;32m    607\u001b[0m \u001b[38;5;28;01mif\u001b[39;00m chunksize \u001b[38;5;129;01mor\u001b[39;00m iterator:\n\u001b[0;32m    608\u001b[0m     \u001b[38;5;28;01mreturn\u001b[39;00m parser\n",
      "File \u001b[1;32m~\\AppData\\Local\\Programs\\Python\\Python310\\lib\\site-packages\\pandas\\io\\parsers\\readers.py:1442\u001b[0m, in \u001b[0;36mTextFileReader.__init__\u001b[1;34m(self, f, engine, **kwds)\u001b[0m\n\u001b[0;32m   1439\u001b[0m     \u001b[38;5;28mself\u001b[39m\u001b[38;5;241m.\u001b[39moptions[\u001b[38;5;124m\"\u001b[39m\u001b[38;5;124mhas_index_names\u001b[39m\u001b[38;5;124m\"\u001b[39m] \u001b[38;5;241m=\u001b[39m kwds[\u001b[38;5;124m\"\u001b[39m\u001b[38;5;124mhas_index_names\u001b[39m\u001b[38;5;124m\"\u001b[39m]\n\u001b[0;32m   1441\u001b[0m \u001b[38;5;28mself\u001b[39m\u001b[38;5;241m.\u001b[39mhandles: IOHandles \u001b[38;5;241m|\u001b[39m \u001b[38;5;28;01mNone\u001b[39;00m \u001b[38;5;241m=\u001b[39m \u001b[38;5;28;01mNone\u001b[39;00m\n\u001b[1;32m-> 1442\u001b[0m \u001b[38;5;28mself\u001b[39m\u001b[38;5;241m.\u001b[39m_engine \u001b[38;5;241m=\u001b[39m \u001b[38;5;28;43mself\u001b[39;49m\u001b[38;5;241;43m.\u001b[39;49m\u001b[43m_make_engine\u001b[49m\u001b[43m(\u001b[49m\u001b[43mf\u001b[49m\u001b[43m,\u001b[49m\u001b[43m \u001b[49m\u001b[38;5;28;43mself\u001b[39;49m\u001b[38;5;241;43m.\u001b[39;49m\u001b[43mengine\u001b[49m\u001b[43m)\u001b[49m\n",
      "File \u001b[1;32m~\\AppData\\Local\\Programs\\Python\\Python310\\lib\\site-packages\\pandas\\io\\parsers\\readers.py:1735\u001b[0m, in \u001b[0;36mTextFileReader._make_engine\u001b[1;34m(self, f, engine)\u001b[0m\n\u001b[0;32m   1733\u001b[0m     \u001b[38;5;28;01mif\u001b[39;00m \u001b[38;5;124m\"\u001b[39m\u001b[38;5;124mb\u001b[39m\u001b[38;5;124m\"\u001b[39m \u001b[38;5;129;01mnot\u001b[39;00m \u001b[38;5;129;01min\u001b[39;00m mode:\n\u001b[0;32m   1734\u001b[0m         mode \u001b[38;5;241m+\u001b[39m\u001b[38;5;241m=\u001b[39m \u001b[38;5;124m\"\u001b[39m\u001b[38;5;124mb\u001b[39m\u001b[38;5;124m\"\u001b[39m\n\u001b[1;32m-> 1735\u001b[0m \u001b[38;5;28mself\u001b[39m\u001b[38;5;241m.\u001b[39mhandles \u001b[38;5;241m=\u001b[39m \u001b[43mget_handle\u001b[49m\u001b[43m(\u001b[49m\n\u001b[0;32m   1736\u001b[0m \u001b[43m    \u001b[49m\u001b[43mf\u001b[49m\u001b[43m,\u001b[49m\n\u001b[0;32m   1737\u001b[0m \u001b[43m    \u001b[49m\u001b[43mmode\u001b[49m\u001b[43m,\u001b[49m\n\u001b[0;32m   1738\u001b[0m \u001b[43m    \u001b[49m\u001b[43mencoding\u001b[49m\u001b[38;5;241;43m=\u001b[39;49m\u001b[38;5;28;43mself\u001b[39;49m\u001b[38;5;241;43m.\u001b[39;49m\u001b[43moptions\u001b[49m\u001b[38;5;241;43m.\u001b[39;49m\u001b[43mget\u001b[49m\u001b[43m(\u001b[49m\u001b[38;5;124;43m\"\u001b[39;49m\u001b[38;5;124;43mencoding\u001b[39;49m\u001b[38;5;124;43m\"\u001b[39;49m\u001b[43m,\u001b[49m\u001b[43m \u001b[49m\u001b[38;5;28;43;01mNone\u001b[39;49;00m\u001b[43m)\u001b[49m\u001b[43m,\u001b[49m\n\u001b[0;32m   1739\u001b[0m \u001b[43m    \u001b[49m\u001b[43mcompression\u001b[49m\u001b[38;5;241;43m=\u001b[39;49m\u001b[38;5;28;43mself\u001b[39;49m\u001b[38;5;241;43m.\u001b[39;49m\u001b[43moptions\u001b[49m\u001b[38;5;241;43m.\u001b[39;49m\u001b[43mget\u001b[49m\u001b[43m(\u001b[49m\u001b[38;5;124;43m\"\u001b[39;49m\u001b[38;5;124;43mcompression\u001b[39;49m\u001b[38;5;124;43m\"\u001b[39;49m\u001b[43m,\u001b[49m\u001b[43m \u001b[49m\u001b[38;5;28;43;01mNone\u001b[39;49;00m\u001b[43m)\u001b[49m\u001b[43m,\u001b[49m\n\u001b[0;32m   1740\u001b[0m \u001b[43m    \u001b[49m\u001b[43mmemory_map\u001b[49m\u001b[38;5;241;43m=\u001b[39;49m\u001b[38;5;28;43mself\u001b[39;49m\u001b[38;5;241;43m.\u001b[39;49m\u001b[43moptions\u001b[49m\u001b[38;5;241;43m.\u001b[39;49m\u001b[43mget\u001b[49m\u001b[43m(\u001b[49m\u001b[38;5;124;43m\"\u001b[39;49m\u001b[38;5;124;43mmemory_map\u001b[39;49m\u001b[38;5;124;43m\"\u001b[39;49m\u001b[43m,\u001b[49m\u001b[43m \u001b[49m\u001b[38;5;28;43;01mFalse\u001b[39;49;00m\u001b[43m)\u001b[49m\u001b[43m,\u001b[49m\n\u001b[0;32m   1741\u001b[0m \u001b[43m    \u001b[49m\u001b[43mis_text\u001b[49m\u001b[38;5;241;43m=\u001b[39;49m\u001b[43mis_text\u001b[49m\u001b[43m,\u001b[49m\n\u001b[0;32m   1742\u001b[0m \u001b[43m    \u001b[49m\u001b[43merrors\u001b[49m\u001b[38;5;241;43m=\u001b[39;49m\u001b[38;5;28;43mself\u001b[39;49m\u001b[38;5;241;43m.\u001b[39;49m\u001b[43moptions\u001b[49m\u001b[38;5;241;43m.\u001b[39;49m\u001b[43mget\u001b[49m\u001b[43m(\u001b[49m\u001b[38;5;124;43m\"\u001b[39;49m\u001b[38;5;124;43mencoding_errors\u001b[39;49m\u001b[38;5;124;43m\"\u001b[39;49m\u001b[43m,\u001b[49m\u001b[43m \u001b[49m\u001b[38;5;124;43m\"\u001b[39;49m\u001b[38;5;124;43mstrict\u001b[39;49m\u001b[38;5;124;43m\"\u001b[39;49m\u001b[43m)\u001b[49m\u001b[43m,\u001b[49m\n\u001b[0;32m   1743\u001b[0m \u001b[43m    \u001b[49m\u001b[43mstorage_options\u001b[49m\u001b[38;5;241;43m=\u001b[39;49m\u001b[38;5;28;43mself\u001b[39;49m\u001b[38;5;241;43m.\u001b[39;49m\u001b[43moptions\u001b[49m\u001b[38;5;241;43m.\u001b[39;49m\u001b[43mget\u001b[49m\u001b[43m(\u001b[49m\u001b[38;5;124;43m\"\u001b[39;49m\u001b[38;5;124;43mstorage_options\u001b[39;49m\u001b[38;5;124;43m\"\u001b[39;49m\u001b[43m,\u001b[49m\u001b[43m \u001b[49m\u001b[38;5;28;43;01mNone\u001b[39;49;00m\u001b[43m)\u001b[49m\u001b[43m,\u001b[49m\n\u001b[0;32m   1744\u001b[0m \u001b[43m\u001b[49m\u001b[43m)\u001b[49m\n\u001b[0;32m   1745\u001b[0m \u001b[38;5;28;01massert\u001b[39;00m \u001b[38;5;28mself\u001b[39m\u001b[38;5;241m.\u001b[39mhandles \u001b[38;5;129;01mis\u001b[39;00m \u001b[38;5;129;01mnot\u001b[39;00m \u001b[38;5;28;01mNone\u001b[39;00m\n\u001b[0;32m   1746\u001b[0m f \u001b[38;5;241m=\u001b[39m \u001b[38;5;28mself\u001b[39m\u001b[38;5;241m.\u001b[39mhandles\u001b[38;5;241m.\u001b[39mhandle\n",
      "File \u001b[1;32m~\\AppData\\Local\\Programs\\Python\\Python310\\lib\\site-packages\\pandas\\io\\common.py:856\u001b[0m, in \u001b[0;36mget_handle\u001b[1;34m(path_or_buf, mode, encoding, compression, memory_map, is_text, errors, storage_options)\u001b[0m\n\u001b[0;32m    851\u001b[0m \u001b[38;5;28;01melif\u001b[39;00m \u001b[38;5;28misinstance\u001b[39m(handle, \u001b[38;5;28mstr\u001b[39m):\n\u001b[0;32m    852\u001b[0m     \u001b[38;5;66;03m# Check whether the filename is to be opened in binary mode.\u001b[39;00m\n\u001b[0;32m    853\u001b[0m     \u001b[38;5;66;03m# Binary mode does not support 'encoding' and 'newline'.\u001b[39;00m\n\u001b[0;32m    854\u001b[0m     \u001b[38;5;28;01mif\u001b[39;00m ioargs\u001b[38;5;241m.\u001b[39mencoding \u001b[38;5;129;01mand\u001b[39;00m \u001b[38;5;124m\"\u001b[39m\u001b[38;5;124mb\u001b[39m\u001b[38;5;124m\"\u001b[39m \u001b[38;5;129;01mnot\u001b[39;00m \u001b[38;5;129;01min\u001b[39;00m ioargs\u001b[38;5;241m.\u001b[39mmode:\n\u001b[0;32m    855\u001b[0m         \u001b[38;5;66;03m# Encoding\u001b[39;00m\n\u001b[1;32m--> 856\u001b[0m         handle \u001b[38;5;241m=\u001b[39m \u001b[38;5;28;43mopen\u001b[39;49m\u001b[43m(\u001b[49m\n\u001b[0;32m    857\u001b[0m \u001b[43m            \u001b[49m\u001b[43mhandle\u001b[49m\u001b[43m,\u001b[49m\n\u001b[0;32m    858\u001b[0m \u001b[43m            \u001b[49m\u001b[43mioargs\u001b[49m\u001b[38;5;241;43m.\u001b[39;49m\u001b[43mmode\u001b[49m\u001b[43m,\u001b[49m\n\u001b[0;32m    859\u001b[0m \u001b[43m            \u001b[49m\u001b[43mencoding\u001b[49m\u001b[38;5;241;43m=\u001b[39;49m\u001b[43mioargs\u001b[49m\u001b[38;5;241;43m.\u001b[39;49m\u001b[43mencoding\u001b[49m\u001b[43m,\u001b[49m\n\u001b[0;32m    860\u001b[0m \u001b[43m            \u001b[49m\u001b[43merrors\u001b[49m\u001b[38;5;241;43m=\u001b[39;49m\u001b[43merrors\u001b[49m\u001b[43m,\u001b[49m\n\u001b[0;32m    861\u001b[0m \u001b[43m            \u001b[49m\u001b[43mnewline\u001b[49m\u001b[38;5;241;43m=\u001b[39;49m\u001b[38;5;124;43m\"\u001b[39;49m\u001b[38;5;124;43m\"\u001b[39;49m\u001b[43m,\u001b[49m\n\u001b[0;32m    862\u001b[0m \u001b[43m        \u001b[49m\u001b[43m)\u001b[49m\n\u001b[0;32m    863\u001b[0m     \u001b[38;5;28;01melse\u001b[39;00m:\n\u001b[0;32m    864\u001b[0m         \u001b[38;5;66;03m# Binary mode\u001b[39;00m\n\u001b[0;32m    865\u001b[0m         handle \u001b[38;5;241m=\u001b[39m \u001b[38;5;28mopen\u001b[39m(handle, ioargs\u001b[38;5;241m.\u001b[39mmode)\n",
      "\u001b[1;31mFileNotFoundError\u001b[0m: [Errno 2] No such file or directory: 'BinaryPesticideData.csv'"
     ]
    }
   ],
   "source": [
    "pest_data = pd.read_csv(\"Data/BinaryPesticideData.csv\", delimiter=\",\")\n",
    "pest_data[0:5]"
   ]
  },
  {
   "cell_type": "code",
   "execution_count": null,
   "metadata": {
    "executionInfo": {
     "elapsed": 3,
     "status": "aborted",
     "timestamp": 1666494147032,
     "user": {
      "displayName": "Sahej Singh",
      "userId": "04015284822048041167"
     },
     "user_tz": 300
    },
    "hidden": true,
    "id": "2Pp7P44yyj6g"
   },
   "outputs": [],
   "source": [
    "pest_data.tail()"
   ]
  },
  {
   "cell_type": "code",
   "execution_count": null,
   "metadata": {
    "executionInfo": {
     "elapsed": 3,
     "status": "aborted",
     "timestamp": 1666494147033,
     "user": {
      "displayName": "Sahej Singh",
      "userId": "04015284822048041167"
     },
     "user_tz": 300
    },
    "hidden": true,
    "id": "GsW6bDNkyj6h"
   },
   "outputs": [],
   "source": [
    "pest_data.count()"
   ]
  },
  {
   "cell_type": "code",
   "execution_count": null,
   "metadata": {
    "executionInfo": {
     "elapsed": 2804,
     "status": "aborted",
     "timestamp": 1666494147033,
     "user": {
      "displayName": "Sahej Singh",
      "userId": "04015284822048041167"
     },
     "user_tz": 300
    },
    "hidden": true,
    "id": "INyRP-_Fyj6h"
   },
   "outputs": [],
   "source": [
    "pest_data[\"Class\"].dtype"
   ]
  },
  {
   "cell_type": "code",
   "execution_count": null,
   "metadata": {
    "executionInfo": {
     "elapsed": 2798,
     "status": "aborted",
     "timestamp": 1666494147033,
     "user": {
      "displayName": "Sahej Singh",
      "userId": "04015284822048041167"
     },
     "user_tz": 300
    },
    "hidden": true,
    "id": "7j8uQAtHyj6i"
   },
   "outputs": [],
   "source": [
    "pest_data.columns"
   ]
  },
  {
   "cell_type": "code",
   "execution_count": null,
   "metadata": {
    "executionInfo": {
     "elapsed": 2793,
     "status": "aborted",
     "timestamp": 1666494147033,
     "user": {
      "displayName": "Sahej Singh",
      "userId": "04015284822048041167"
     },
     "user_tz": 300
    },
    "hidden": true,
    "id": "zQProOCAyj6i"
   },
   "outputs": [],
   "source": [
    "pest_data.describe()"
   ]
  },
  {
   "cell_type": "code",
   "execution_count": null,
   "metadata": {
    "executionInfo": {
     "elapsed": 2792,
     "status": "aborted",
     "timestamp": 1666494147034,
     "user": {
      "displayName": "Sahej Singh",
      "userId": "04015284822048041167"
     },
     "user_tz": 300
    },
    "hidden": true,
    "id": "JlOQCSqEyj6j"
   },
   "outputs": [],
   "source": [
    "#pest_data.hist(column='Na_to_K', bins=100)"
   ]
  },
  {
   "cell_type": "code",
   "execution_count": null,
   "metadata": {
    "executionInfo": {
     "elapsed": 1,
     "status": "aborted",
     "timestamp": 1666494147434,
     "user": {
      "displayName": "Sahej Singh",
      "userId": "04015284822048041167"
     },
     "user_tz": 300
    },
    "hidden": true,
    "id": "2HKMCyn7yj6j"
   },
   "outputs": [],
   "source": [
    "#pest_data.hist(column='Age', bins=50)"
   ]
  },
  {
   "cell_type": "code",
   "execution_count": null,
   "metadata": {
    "executionInfo": {
     "elapsed": 2,
     "status": "aborted",
     "timestamp": 1666494147435,
     "user": {
      "displayName": "Sahej Singh",
      "userId": "04015284822048041167"
     },
     "user_tz": 300
    },
    "hidden": true,
    "id": "C3bC9Mywyj6j"
   },
   "outputs": [],
   "source": [
    "X = pest_data[['LOD', 'ExactMolWt', 'HeavyAtomMolWt', 'NumValenceElectrons', 'HeavyAtomCount', 'NHOHCount', \n",
    "                        'NOCount', 'NumAliphaticCarbocycles', 'NumAliphaticHeterocycles', 'NumAliphaticRings', \n",
    "                        'NumAromaticCarbocycles', 'NumAromaticHeterocycles', 'NumAromaticRings', 'NumHAcceptors', \n",
    "                        'NumHDonors', 'NumHeteroatoms', 'NumRotatableBonds', 'NumSaturatedCarbocycles', \n",
    "                        'NumSaturatedHeterocycles', 'NumSaturatedRings', 'RingCount', 'Halogens', \"MolecularWeight\", \n",
    "                        \"XLogP\", \"ExactMass\", \"TPSA\", \"Complexity\", \"Charge\", \"HBondDonorCount\", \n",
    "                        \"HBondAcceptorCount\", \"RotatableBondCount\", \"HeavyAtomCount\", \"IsotopeAtomCount\", \"AtomStereoCount\", \n",
    "                        \"DefinedAtomStereoCount\", \"UndefinedAtomStereoCount\", \"BondStereoCount\", \"DefinedBondStereoCount\", \n",
    "                        \"UndefinedBondStereoCount\", \"CovalentUnitCount\",\"Volume3D\", \"XStericQuadrupole3D\", \"YStericQuadrupole3D\", \n",
    "                        \"ZStericQuadrupole3D\", \"FeatureCount3D\", \"FeatureAcceptorCount3D\", \"FeatureDonorCount3D\", \"FeatureAnionCount3D\", \n",
    "                        \"FeatureCationCount3D\", \"FeatureRingCount3D\", \"FeatureHydrophobeCount3D\", \"ConformerModelRMSD3D\", \n",
    "                        \"EffectiveRotorCount3D\", \"ConformerCount3D\"]].values\n",
    "\n",
    "\n",
    "y = pest_data[['Class']].values\n",
    "#y[0:5]\n",
    "\n",
    "X[0:2]"
   ]
  },
  {
   "cell_type": "code",
   "execution_count": null,
   "metadata": {
    "executionInfo": {
     "elapsed": 2,
     "status": "aborted",
     "timestamp": 1666494147435,
     "user": {
      "displayName": "Sahej Singh",
      "userId": "04015284822048041167"
     },
     "user_tz": 300
    },
    "hidden": true,
    "id": "ttAe8I6qyj6k"
   },
   "outputs": [],
   "source": [
    "y_array = pest_data[['Class']].to_numpy()\n",
    "y_array[0:5]"
   ]
  },
  {
   "cell_type": "code",
   "execution_count": null,
   "metadata": {
    "executionInfo": {
     "elapsed": 2,
     "status": "aborted",
     "timestamp": 1666494147435,
     "user": {
      "displayName": "Sahej Singh",
      "userId": "04015284822048041167"
     },
     "user_tz": 300
    },
    "hidden": true,
    "id": "OUsaXRO3yj6k"
   },
   "outputs": [],
   "source": [
    "pest_feats_array = X\n",
    "y = y_array"
   ]
  },
  {
   "cell_type": "code",
   "execution_count": null,
   "metadata": {
    "executionInfo": {
     "elapsed": 2,
     "status": "aborted",
     "timestamp": 1666494147435,
     "user": {
      "displayName": "Sahej Singh",
      "userId": "04015284822048041167"
     },
     "user_tz": 300
    },
    "hidden": true,
    "id": "UR7KUD3Myj6k"
   },
   "outputs": [],
   "source": [
    "from sklearn.preprocessing import StandardScaler\n",
    "from sklearn.decomposition import PCA\n",
    "\n",
    "pest_feats_scaled = StandardScaler().fit_transform(pest_feats_array)  # Previously, a huge bias without scaling\n",
    "\n",
    "# one feature had 99% explanation\n",
    "\n",
    "pest_feats_pca = PCA(n_components=18).fit(pest_feats_scaled)\n",
    "pest_feats_pca_values = pest_feats_pca.transform(pest_feats_scaled)\n",
    "pest_feats_pca_values"
   ]
  },
  {
   "cell_type": "code",
   "execution_count": null,
   "metadata": {
    "executionInfo": {
     "elapsed": 3171,
     "status": "aborted",
     "timestamp": 1666494147436,
     "user": {
      "displayName": "Sahej Singh",
      "userId": "04015284822048041167"
     },
     "user_tz": 300
    },
    "hidden": true,
    "id": "7A_DQcreyj6l"
   },
   "outputs": [],
   "source": [
    "pest_feats_pca.explained_variance_ratio_"
   ]
  },
  {
   "cell_type": "code",
   "execution_count": null,
   "metadata": {
    "executionInfo": {
     "elapsed": 3166,
     "status": "aborted",
     "timestamp": 1666494147436,
     "user": {
      "displayName": "Sahej Singh",
      "userId": "04015284822048041167"
     },
     "user_tz": 300
    },
    "hidden": true,
    "id": "BvrTfz3tyj6l"
   },
   "outputs": [],
   "source": [
    "pest_feats_pca.explained_variance_ratio_.sum()"
   ]
  },
  {
   "cell_type": "code",
   "execution_count": null,
   "metadata": {
    "executionInfo": {
     "elapsed": 3162,
     "status": "aborted",
     "timestamp": 1666494147436,
     "user": {
      "displayName": "Sahej Singh",
      "userId": "04015284822048041167"
     },
     "user_tz": 300
    },
    "hidden": true,
    "id": "jnolGGbyyj6l"
   },
   "outputs": [],
   "source": [
    "#pest_data['Class'] = pest_data['Class'].astype(int)\n",
    "#y = np.asanyarray(pest_data['Class'])\n",
    "#y[0:5]\n",
    "\n",
    "X = pest_feats_pca_values[:]\n",
    "X.shape"
   ]
  },
  {
   "cell_type": "markdown",
   "metadata": {
    "heading_collapsed": true,
    "id": "JCA8Trbayj6l"
   },
   "source": [
    "#### train_test_split"
   ]
  },
  {
   "cell_type": "code",
   "execution_count": null,
   "metadata": {
    "executionInfo": {
     "elapsed": 3157,
     "status": "aborted",
     "timestamp": 1666494147436,
     "user": {
      "displayName": "Sahej Singh",
      "userId": "04015284822048041167"
     },
     "user_tz": 300
    },
    "hidden": true,
    "id": "ledEB4svyj6m"
   },
   "outputs": [],
   "source": [
    "from sklearn.model_selection import train_test_split\n",
    "\n",
    "X_train, X_test, y_train, y_test = train_test_split(X, y, test_size = 0.2, shuffle=True) #random_state = 3\n",
    "print ('X_train and y_train shape: ', X_train.shape, y_train.shape)\n",
    "print ('X_test and y_test shape: ', X_test.shape, y_test.shape)"
   ]
  },
  {
   "cell_type": "code",
   "execution_count": null,
   "metadata": {
    "executionInfo": {
     "elapsed": 3154,
     "status": "aborted",
     "timestamp": 1666494147436,
     "user": {
      "displayName": "Sahej Singh",
      "userId": "04015284822048041167"
     },
     "user_tz": 300
    },
    "hidden": true,
    "id": "s_Hq0qrIyj6m"
   },
   "outputs": [],
   "source": [
    "from sklearn.preprocessing import StandardScaler\n",
    "\n",
    "#X_train = StandardScaler().fit_transform(X_train)\n",
    "X_train[0:5]\n",
    "#X_test = StandardScaler().fit_transform(X_test)\n",
    "X_test[0:2]"
   ]
  },
  {
   "cell_type": "code",
   "execution_count": null,
   "metadata": {
    "executionInfo": {
     "elapsed": 3150,
     "status": "aborted",
     "timestamp": 1666494147437,
     "user": {
      "displayName": "Sahej Singh",
      "userId": "04015284822048041167"
     },
     "user_tz": 300
    },
    "hidden": true,
    "id": "JqCVGPwRyj6m"
   },
   "outputs": [],
   "source": [
    "#Just to be sure\n",
    "\n",
    "if X_train.shape[0] == y_train.shape[0]:\n",
    "    print(\"Train set dimensions match and is equal to\", X_train.shape, 'vs', y_train.shape)\n",
    "else:\n",
    "    print(\"Train set dimensions do not match\")"
   ]
  },
  {
   "cell_type": "markdown",
   "metadata": {
    "id": "w4qPND2Eyj6m"
   },
   "source": [
    "### HyperOpt - Optimisation of model hyperparameters"
   ]
  },
  {
   "cell_type": "code",
   "execution_count": null,
   "metadata": {
    "executionInfo": {
     "elapsed": 3145,
     "status": "aborted",
     "timestamp": 1666494147437,
     "user": {
      "displayName": "Sahej Singh",
      "userId": "04015284822048041167"
     },
     "user_tz": 300
    },
    "id": "p0Gvj2RTyj6n"
   },
   "outputs": [],
   "source": [
    "from hpsklearn import HyperoptEstimator, any_classifier, any_preprocessing #any_sparse_classifier\n",
    "from hyperopt import fmin, tpe\n",
    "from sklearn.linear_model import LogisticRegression\n",
    "\n",
    "# preprocessing = []\n",
    "\n",
    "model_LR = HyperoptEstimator(classifier=LogisticRegression(), algo=tpe.suggest, max_evals=150, trial_timeout=500)\n",
    "\n",
    "# perform the search\n",
    "model_LR.fit(X_train, y_train.ravel())"
   ]
  },
  {
   "cell_type": "code",
   "execution_count": null,
   "metadata": {
    "executionInfo": {
     "elapsed": 3141,
     "status": "aborted",
     "timestamp": 1666494147437,
     "user": {
      "displayName": "Sahej Singh",
      "userId": "04015284822048041167"
     },
     "user_tz": 300
    },
    "id": "J24NME75yj6n"
   },
   "outputs": [],
   "source": [
    "accuracy_LR = model_LR.score(X_test, y_test)\n",
    "print(\"Accuracy_LR: %.3f\" % accuracy_LR)\n",
    "print(model_LR.best_model())"
   ]
  },
  {
   "cell_type": "code",
   "execution_count": null,
   "metadata": {
    "executionInfo": {
     "elapsed": 3136,
     "status": "aborted",
     "timestamp": 1666494147437,
     "user": {
      "displayName": "Sahej Singh",
      "userId": "04015284822048041167"
     },
     "user_tz": 300
    },
    "id": "-xKCIJBdyj6n"
   },
   "outputs": [],
   "source": [
    "from sklearn.metrics import classification_report, confusion_matrix, f1_score\n",
    "y_hat_LR = model_LR.predict(X_test)\n",
    "print(classification_report(y_test, y_hat_LR))"
   ]
  },
  {
   "cell_type": "markdown",
   "metadata": {
    "id": "RGLsc_dayj6n"
   },
   "source": [
    "#### Cross-validation for better accuracy"
   ]
  },
  {
   "cell_type": "code",
   "execution_count": null,
   "metadata": {
    "executionInfo": {
     "elapsed": 3132,
     "status": "aborted",
     "timestamp": 1666494147438,
     "user": {
      "displayName": "Sahej Singh",
      "userId": "04015284822048041167"
     },
     "user_tz": 300
    },
    "id": "rpCsu4CMyj6n"
   },
   "outputs": [],
   "source": [
    "from sklearn.model_selection import cross_val_score\n",
    "\n",
    "model = LogisticRegression(C=10, solver='liblinear').fit(X_train, y_train.ravel())\n",
    "\n",
    "score = cross_val_score(model, X_train, y_train, cv=5, scoring=\"accuracy\", n_jobs=-1).mean()\n",
    "print(score)"
   ]
  },
  {
   "cell_type": "code",
   "execution_count": null,
   "metadata": {
    "executionInfo": {
     "elapsed": 3127,
     "status": "aborted",
     "timestamp": 1666494147438,
     "user": {
      "displayName": "Sahej Singh",
      "userId": "04015284822048041167"
     },
     "user_tz": 300
    },
    "id": "Az_KEyOXyj6n"
   },
   "outputs": [],
   "source": [
    "model = LogisticRegression(C=10, solver='newton-cg').fit(X_train, y_train.ravel())\n",
    "\n",
    "score = cross_val_score(model, X_train, y_train, cv=5, scoring=\"accuracy\", n_jobs=-1).mean()\n",
    "print(score)"
   ]
  },
  {
   "cell_type": "code",
   "execution_count": null,
   "metadata": {
    "executionInfo": {
     "elapsed": 3123,
     "status": "aborted",
     "timestamp": 1666494147438,
     "user": {
      "displayName": "Sahej Singh",
      "userId": "04015284822048041167"
     },
     "user_tz": 300
    },
    "id": "GAEbMrzSyj6n"
   },
   "outputs": [],
   "source": [
    "model = LogisticRegression(C=10, solver='sag').fit(X_train, y_train.ravel())\n",
    "\n",
    "score = cross_val_score(model, X_train, y_train, cv=5, scoring=\"accuracy\", n_jobs=-1).mean()\n",
    "print(score)"
   ]
  },
  {
   "cell_type": "code",
   "execution_count": null,
   "metadata": {
    "executionInfo": {
     "elapsed": 3119,
     "status": "aborted",
     "timestamp": 1666494147438,
     "user": {
      "displayName": "Sahej Singh",
      "userId": "04015284822048041167"
     },
     "user_tz": 300
    },
    "id": "FceifTS4yj6n"
   },
   "outputs": [],
   "source": [
    "model = LogisticRegression(C=10, solver='lbfgs').fit(X_train, y_train.ravel())\n",
    "\n",
    "score = cross_val_score(model, X_train, y_train, cv=5, scoring=\"accuracy\", n_jobs=-1).mean()\n",
    "print(score)"
   ]
  },
  {
   "cell_type": "code",
   "execution_count": null,
   "metadata": {
    "executionInfo": {
     "elapsed": 2,
     "status": "aborted",
     "timestamp": 1666494147588,
     "user": {
      "displayName": "Sahej Singh",
      "userId": "04015284822048041167"
     },
     "user_tz": 300
    },
    "id": "xldA1suDyj6n"
   },
   "outputs": [],
   "source": [
    "model = LogisticRegression(C=10, solver='saga').fit(X_train, y_train.ravel())\n",
    "\n",
    "score = cross_val_score(model, X_train, y_train, cv=5, scoring=\"accuracy\", n_jobs=-1).mean()\n",
    "print(score)"
   ]
  },
  {
   "cell_type": "markdown",
   "metadata": {
    "id": "fH8JM1KTyj6o"
   },
   "source": [
    "#### Visualization"
   ]
  },
  {
   "cell_type": "code",
   "execution_count": null,
   "metadata": {
    "executionInfo": {
     "elapsed": 2,
     "status": "aborted",
     "timestamp": 1666494147588,
     "user": {
      "displayName": "Sahej Singh",
      "userId": "04015284822048041167"
     },
     "user_tz": 300
    },
    "id": "CjFgOa-Wyj6o"
   },
   "outputs": [],
   "source": [
    "clf = svm.SVC()\n",
    "clf.fit(X, y)\n",
    "clf.support_vectors_"
   ]
  }
 ],
 "metadata": {
  "colab": {
   "provenance": []
  },
  "kernelspec": {
   "display_name": "Python 3 (ipykernel)",
   "language": "python",
   "name": "python3"
  },
  "language_info": {
   "codemirror_mode": {
    "name": "ipython",
    "version": 3
   },
   "file_extension": ".py",
   "mimetype": "text/x-python",
   "name": "python",
   "nbconvert_exporter": "python",
   "pygments_lexer": "ipython3",
   "version": "3.10.8"
  },
  "toc": {
   "base_numbering": 1,
   "nav_menu": {},
   "number_sections": true,
   "sideBar": true,
   "skip_h1_title": false,
   "title_cell": "Table of Contents",
   "title_sidebar": "Contents",
   "toc_cell": false,
   "toc_position": {},
   "toc_section_display": true,
   "toc_window_display": false
  }
 },
 "nbformat": 4,
 "nbformat_minor": 1
}
