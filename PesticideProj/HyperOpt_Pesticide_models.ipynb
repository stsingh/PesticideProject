{
 "cells": [
  {
   "cell_type": "code",
   "execution_count": 53,
   "metadata": {},
   "outputs": [],
   "source": [
    "# copy x train five times for each model\n",
    "#different workflow patterns, (pca vs no pca, hyperopt vs no, high dim vs low)\n",
    "import numpy as np\n",
    "import pandas as pd\n",
    "from sklearn.tree import DecisionTreeClassifier\n",
    "import matplotlib.pyplot as plt\n",
    "from sklearn import preprocessing\n",
    "import matplotlib.pyplot as plt"
   ]
  },
  {
   "cell_type": "code",
   "execution_count": 54,
   "metadata": {},
   "outputs": [
    {
     "data": {
      "text/plain": [
       "PCA(n_components=18)"
      ]
     },
     "execution_count": 54,
     "metadata": {},
     "output_type": "execute_result"
    }
   ],
   "source": [
    "pest_feats_pca"
   ]
  },
  {
   "cell_type": "markdown",
   "metadata": {},
   "source": [
    "### Data preperation"
   ]
  },
  {
   "cell_type": "markdown",
   "metadata": {
    "heading_collapsed": true
   },
   "source": [
    "#### Load the data and generate descriptors"
   ]
  },
  {
   "cell_type": "code",
   "execution_count": 2,
   "metadata": {
    "hidden": true
   },
   "outputs": [
    {
     "data": {
      "text/html": [
       "<div>\n",
       "<style scoped>\n",
       "    .dataframe tbody tr th:only-of-type {\n",
       "        vertical-align: middle;\n",
       "    }\n",
       "\n",
       "    .dataframe tbody tr th {\n",
       "        vertical-align: top;\n",
       "    }\n",
       "\n",
       "    .dataframe thead th {\n",
       "        text-align: right;\n",
       "    }\n",
       "</style>\n",
       "<table border=\"1\" class=\"dataframe\">\n",
       "  <thead>\n",
       "    <tr style=\"text-align: right;\">\n",
       "      <th></th>\n",
       "      <th>Pesticide Name</th>\n",
       "      <th>LOD</th>\n",
       "      <th>EPA Tolerance (ppm)</th>\n",
       "      <th>Smiles</th>\n",
       "      <th>ExactMolWt</th>\n",
       "      <th>HeavyAtomMolWt</th>\n",
       "      <th>NumRadicalElectrons</th>\n",
       "      <th>NumValenceElectrons</th>\n",
       "      <th>HeavyAtomCount</th>\n",
       "      <th>NHOHCount</th>\n",
       "      <th>...</th>\n",
       "      <th>FeatureAcceptorCount3D</th>\n",
       "      <th>FeatureDonorCount3D</th>\n",
       "      <th>FeatureAnionCount3D</th>\n",
       "      <th>FeatureCationCount3D</th>\n",
       "      <th>FeatureRingCount3D</th>\n",
       "      <th>FeatureHydrophobeCount3D</th>\n",
       "      <th>ConformerModelRMSD3D</th>\n",
       "      <th>EffectiveRotorCount3D</th>\n",
       "      <th>ConformerCount3D</th>\n",
       "      <th>Class</th>\n",
       "    </tr>\n",
       "  </thead>\n",
       "  <tbody>\n",
       "    <tr>\n",
       "      <th>0</th>\n",
       "      <td>Procymidone</td>\n",
       "      <td>0.014</td>\n",
       "      <td>NT</td>\n",
       "      <td>CC12CC1(C)C(=O)N(C2=O)c3cc(Cl)cc(Cl)c3</td>\n",
       "      <td>283.016684</td>\n",
       "      <td>273.054</td>\n",
       "      <td>0</td>\n",
       "      <td>94</td>\n",
       "      <td>18</td>\n",
       "      <td>0</td>\n",
       "      <td>...</td>\n",
       "      <td>2.0</td>\n",
       "      <td>0.0</td>\n",
       "      <td>0.0</td>\n",
       "      <td>0.0</td>\n",
       "      <td>2.0</td>\n",
       "      <td>0.0</td>\n",
       "      <td>0.6</td>\n",
       "      <td>1.4</td>\n",
       "      <td>3</td>\n",
       "      <td>1</td>\n",
       "    </tr>\n",
       "    <tr>\n",
       "      <th>1</th>\n",
       "      <td>Fenamiphos</td>\n",
       "      <td>0.004</td>\n",
       "      <td>NT</td>\n",
       "      <td>CCO[P](=O)(NC(C)C)Oc1ccc(SC)c(C)c1</td>\n",
       "      <td>303.105801</td>\n",
       "      <td>281.188</td>\n",
       "      <td>0</td>\n",
       "      <td>108</td>\n",
       "      <td>19</td>\n",
       "      <td>1</td>\n",
       "      <td>...</td>\n",
       "      <td>1.0</td>\n",
       "      <td>0.0</td>\n",
       "      <td>0.0</td>\n",
       "      <td>0.0</td>\n",
       "      <td>1.0</td>\n",
       "      <td>2.0</td>\n",
       "      <td>0.8</td>\n",
       "      <td>7.0</td>\n",
       "      <td>10</td>\n",
       "      <td>1</td>\n",
       "    </tr>\n",
       "    <tr>\n",
       "      <th>2</th>\n",
       "      <td>Metribuzin</td>\n",
       "      <td>0.030</td>\n",
       "      <td>NT</td>\n",
       "      <td>CSC1=NN=C(C(=O)N1N)C(C)(C)C</td>\n",
       "      <td>214.088832</td>\n",
       "      <td>200.182</td>\n",
       "      <td>0</td>\n",
       "      <td>78</td>\n",
       "      <td>14</td>\n",
       "      <td>2</td>\n",
       "      <td>...</td>\n",
       "      <td>2.0</td>\n",
       "      <td>1.0</td>\n",
       "      <td>0.0</td>\n",
       "      <td>0.0</td>\n",
       "      <td>1.0</td>\n",
       "      <td>2.0</td>\n",
       "      <td>0.6</td>\n",
       "      <td>2.0</td>\n",
       "      <td>3</td>\n",
       "      <td>1</td>\n",
       "    </tr>\n",
       "    <tr>\n",
       "      <th>3</th>\n",
       "      <td>Fenamiphos sulfone</td>\n",
       "      <td>0.008</td>\n",
       "      <td>NT</td>\n",
       "      <td>CCO[P](=O)(NC(C)C)Oc1ccc(c(C)c1)[S](C)(=O)=O</td>\n",
       "      <td>335.095630</td>\n",
       "      <td>313.186</td>\n",
       "      <td>0</td>\n",
       "      <td>120</td>\n",
       "      <td>21</td>\n",
       "      <td>1</td>\n",
       "      <td>...</td>\n",
       "      <td>3.0</td>\n",
       "      <td>0.0</td>\n",
       "      <td>0.0</td>\n",
       "      <td>0.0</td>\n",
       "      <td>1.0</td>\n",
       "      <td>1.0</td>\n",
       "      <td>0.8</td>\n",
       "      <td>7.0</td>\n",
       "      <td>10</td>\n",
       "      <td>1</td>\n",
       "    </tr>\n",
       "    <tr>\n",
       "      <th>4</th>\n",
       "      <td>Methiocarb</td>\n",
       "      <td>0.043</td>\n",
       "      <td>NT</td>\n",
       "      <td>CNC(=O)Oc1cc(C)c(SC)c(C)c1</td>\n",
       "      <td>225.082350</td>\n",
       "      <td>210.193</td>\n",
       "      <td>0</td>\n",
       "      <td>82</td>\n",
       "      <td>15</td>\n",
       "      <td>1</td>\n",
       "      <td>...</td>\n",
       "      <td>1.0</td>\n",
       "      <td>1.0</td>\n",
       "      <td>0.0</td>\n",
       "      <td>0.0</td>\n",
       "      <td>1.0</td>\n",
       "      <td>1.0</td>\n",
       "      <td>0.6</td>\n",
       "      <td>4.0</td>\n",
       "      <td>10</td>\n",
       "      <td>1</td>\n",
       "    </tr>\n",
       "  </tbody>\n",
       "</table>\n",
       "<p>5 rows × 61 columns</p>\n",
       "</div>"
      ],
      "text/plain": [
       "       Pesticide Name    LOD EPA Tolerance (ppm)  \\\n",
       "0         Procymidone  0.014                  NT   \n",
       "1          Fenamiphos  0.004                  NT   \n",
       "2          Metribuzin  0.030                  NT   \n",
       "3  Fenamiphos sulfone  0.008                  NT   \n",
       "4          Methiocarb  0.043                  NT   \n",
       "\n",
       "                                         Smiles  ExactMolWt  HeavyAtomMolWt  \\\n",
       "0        CC12CC1(C)C(=O)N(C2=O)c3cc(Cl)cc(Cl)c3  283.016684         273.054   \n",
       "1            CCO[P](=O)(NC(C)C)Oc1ccc(SC)c(C)c1  303.105801         281.188   \n",
       "2                   CSC1=NN=C(C(=O)N1N)C(C)(C)C  214.088832         200.182   \n",
       "3  CCO[P](=O)(NC(C)C)Oc1ccc(c(C)c1)[S](C)(=O)=O  335.095630         313.186   \n",
       "4                    CNC(=O)Oc1cc(C)c(SC)c(C)c1  225.082350         210.193   \n",
       "\n",
       "   NumRadicalElectrons  NumValenceElectrons  HeavyAtomCount  NHOHCount  ...  \\\n",
       "0                    0                   94              18          0  ...   \n",
       "1                    0                  108              19          1  ...   \n",
       "2                    0                   78              14          2  ...   \n",
       "3                    0                  120              21          1  ...   \n",
       "4                    0                   82              15          1  ...   \n",
       "\n",
       "   FeatureAcceptorCount3D  FeatureDonorCount3D  FeatureAnionCount3D  \\\n",
       "0                     2.0                  0.0                  0.0   \n",
       "1                     1.0                  0.0                  0.0   \n",
       "2                     2.0                  1.0                  0.0   \n",
       "3                     3.0                  0.0                  0.0   \n",
       "4                     1.0                  1.0                  0.0   \n",
       "\n",
       "   FeatureCationCount3D  FeatureRingCount3D  FeatureHydrophobeCount3D  \\\n",
       "0                   0.0                 2.0                       0.0   \n",
       "1                   0.0                 1.0                       2.0   \n",
       "2                   0.0                 1.0                       2.0   \n",
       "3                   0.0                 1.0                       1.0   \n",
       "4                   0.0                 1.0                       1.0   \n",
       "\n",
       "   ConformerModelRMSD3D  EffectiveRotorCount3D  ConformerCount3D  Class  \n",
       "0                   0.6                    1.4                 3      1  \n",
       "1                   0.8                    7.0                10      1  \n",
       "2                   0.6                    2.0                 3      1  \n",
       "3                   0.8                    7.0                10      1  \n",
       "4                   0.6                    4.0                10      1  \n",
       "\n",
       "[5 rows x 61 columns]"
      ]
     },
     "execution_count": 2,
     "metadata": {},
     "output_type": "execute_result"
    }
   ],
   "source": [
    "pest_data = pd.read_csv(\"BinaryPesticideData.csv\", delimiter=\",\")\n",
    "pest_data[0:5]"
   ]
  },
  {
   "cell_type": "code",
   "execution_count": 3,
   "metadata": {
    "hidden": true
   },
   "outputs": [
    {
     "data": {
      "text/html": [
       "<div>\n",
       "<style scoped>\n",
       "    .dataframe tbody tr th:only-of-type {\n",
       "        vertical-align: middle;\n",
       "    }\n",
       "\n",
       "    .dataframe tbody tr th {\n",
       "        vertical-align: top;\n",
       "    }\n",
       "\n",
       "    .dataframe thead th {\n",
       "        text-align: right;\n",
       "    }\n",
       "</style>\n",
       "<table border=\"1\" class=\"dataframe\">\n",
       "  <thead>\n",
       "    <tr style=\"text-align: right;\">\n",
       "      <th></th>\n",
       "      <th>Pesticide Name</th>\n",
       "      <th>LOD</th>\n",
       "      <th>EPA Tolerance (ppm)</th>\n",
       "      <th>Smiles</th>\n",
       "      <th>ExactMolWt</th>\n",
       "      <th>HeavyAtomMolWt</th>\n",
       "      <th>NumRadicalElectrons</th>\n",
       "      <th>NumValenceElectrons</th>\n",
       "      <th>HeavyAtomCount</th>\n",
       "      <th>NHOHCount</th>\n",
       "      <th>...</th>\n",
       "      <th>FeatureAcceptorCount3D</th>\n",
       "      <th>FeatureDonorCount3D</th>\n",
       "      <th>FeatureAnionCount3D</th>\n",
       "      <th>FeatureCationCount3D</th>\n",
       "      <th>FeatureRingCount3D</th>\n",
       "      <th>FeatureHydrophobeCount3D</th>\n",
       "      <th>ConformerModelRMSD3D</th>\n",
       "      <th>EffectiveRotorCount3D</th>\n",
       "      <th>ConformerCount3D</th>\n",
       "      <th>Class</th>\n",
       "    </tr>\n",
       "  </thead>\n",
       "  <tbody>\n",
       "    <tr>\n",
       "      <th>235</th>\n",
       "      <td>Oxamyl oxime</td>\n",
       "      <td>0.001</td>\n",
       "      <td>T</td>\n",
       "      <td>CSC(=N/O)/C(=O)N(C)C</td>\n",
       "      <td>162.046299</td>\n",
       "      <td>152.134</td>\n",
       "      <td>0</td>\n",
       "      <td>58</td>\n",
       "      <td>10</td>\n",
       "      <td>1</td>\n",
       "      <td>...</td>\n",
       "      <td>2.0</td>\n",
       "      <td>0.0</td>\n",
       "      <td>1.0</td>\n",
       "      <td>0.0</td>\n",
       "      <td>0.0</td>\n",
       "      <td>1.0</td>\n",
       "      <td>0.6</td>\n",
       "      <td>3.0</td>\n",
       "      <td>10</td>\n",
       "      <td>2</td>\n",
       "    </tr>\n",
       "    <tr>\n",
       "      <th>236</th>\n",
       "      <td>Pyriproxyfen</td>\n",
       "      <td>0.014</td>\n",
       "      <td>T</td>\n",
       "      <td>CC(COc1ccc(Oc2ccccc2)cc1)Oc3ccccn3</td>\n",
       "      <td>321.136493</td>\n",
       "      <td>302.224</td>\n",
       "      <td>0</td>\n",
       "      <td>122</td>\n",
       "      <td>24</td>\n",
       "      <td>0</td>\n",
       "      <td>...</td>\n",
       "      <td>4.0</td>\n",
       "      <td>0.0</td>\n",
       "      <td>0.0</td>\n",
       "      <td>0.0</td>\n",
       "      <td>3.0</td>\n",
       "      <td>0.0</td>\n",
       "      <td>1.0</td>\n",
       "      <td>7.0</td>\n",
       "      <td>10</td>\n",
       "      <td>2</td>\n",
       "    </tr>\n",
       "    <tr>\n",
       "      <th>237</th>\n",
       "      <td>Boscalid</td>\n",
       "      <td>0.001</td>\n",
       "      <td>T</td>\n",
       "      <td>Clc1ccc(cc1)c2ccccc2NC(=O)c3cccnc3Cl</td>\n",
       "      <td>342.032668</td>\n",
       "      <td>331.117</td>\n",
       "      <td>0</td>\n",
       "      <td>114</td>\n",
       "      <td>23</td>\n",
       "      <td>1</td>\n",
       "      <td>...</td>\n",
       "      <td>2.0</td>\n",
       "      <td>1.0</td>\n",
       "      <td>0.0</td>\n",
       "      <td>0.0</td>\n",
       "      <td>3.0</td>\n",
       "      <td>0.0</td>\n",
       "      <td>0.6</td>\n",
       "      <td>4.0</td>\n",
       "      <td>10</td>\n",
       "      <td>2</td>\n",
       "    </tr>\n",
       "    <tr>\n",
       "      <th>238</th>\n",
       "      <td>Fenpropathrin</td>\n",
       "      <td>0.026</td>\n",
       "      <td>T</td>\n",
       "      <td>CC1(C)C(C(=O)OC(C#N)c2cccc(Oc3ccccc3)c2)C1(C)C</td>\n",
       "      <td>349.167794</td>\n",
       "      <td>326.246</td>\n",
       "      <td>0</td>\n",
       "      <td>134</td>\n",
       "      <td>26</td>\n",
       "      <td>0</td>\n",
       "      <td>...</td>\n",
       "      <td>3.0</td>\n",
       "      <td>0.0</td>\n",
       "      <td>0.0</td>\n",
       "      <td>0.0</td>\n",
       "      <td>2.0</td>\n",
       "      <td>2.0</td>\n",
       "      <td>1.0</td>\n",
       "      <td>6.6</td>\n",
       "      <td>10</td>\n",
       "      <td>2</td>\n",
       "    </tr>\n",
       "    <tr>\n",
       "      <th>239</th>\n",
       "      <td>Carfentrazone ethyl</td>\n",
       "      <td>0.003</td>\n",
       "      <td>T</td>\n",
       "      <td>CCOC(=O)C(Cl)Cc1cc(N2N=C(C)N(C(F)F)C2=O)c(F)cc1Cl</td>\n",
       "      <td>411.036431</td>\n",
       "      <td>398.083</td>\n",
       "      <td>0</td>\n",
       "      <td>142</td>\n",
       "      <td>26</td>\n",
       "      <td>0</td>\n",
       "      <td>...</td>\n",
       "      <td>2.0</td>\n",
       "      <td>0.0</td>\n",
       "      <td>0.0</td>\n",
       "      <td>0.0</td>\n",
       "      <td>2.0</td>\n",
       "      <td>0.0</td>\n",
       "      <td>0.8</td>\n",
       "      <td>7.0</td>\n",
       "      <td>10</td>\n",
       "      <td>2</td>\n",
       "    </tr>\n",
       "  </tbody>\n",
       "</table>\n",
       "<p>5 rows × 61 columns</p>\n",
       "</div>"
      ],
      "text/plain": [
       "          Pesticide Name    LOD EPA Tolerance (ppm)  \\\n",
       "235         Oxamyl oxime  0.001                   T   \n",
       "236         Pyriproxyfen  0.014                   T   \n",
       "237             Boscalid  0.001                   T   \n",
       "238        Fenpropathrin  0.026                   T   \n",
       "239  Carfentrazone ethyl  0.003                   T   \n",
       "\n",
       "                                                Smiles  ExactMolWt  \\\n",
       "235                               CSC(=N/O)/C(=O)N(C)C  162.046299   \n",
       "236                 CC(COc1ccc(Oc2ccccc2)cc1)Oc3ccccn3  321.136493   \n",
       "237               Clc1ccc(cc1)c2ccccc2NC(=O)c3cccnc3Cl  342.032668   \n",
       "238     CC1(C)C(C(=O)OC(C#N)c2cccc(Oc3ccccc3)c2)C1(C)C  349.167794   \n",
       "239  CCOC(=O)C(Cl)Cc1cc(N2N=C(C)N(C(F)F)C2=O)c(F)cc1Cl  411.036431   \n",
       "\n",
       "     HeavyAtomMolWt  NumRadicalElectrons  NumValenceElectrons  HeavyAtomCount  \\\n",
       "235         152.134                    0                   58              10   \n",
       "236         302.224                    0                  122              24   \n",
       "237         331.117                    0                  114              23   \n",
       "238         326.246                    0                  134              26   \n",
       "239         398.083                    0                  142              26   \n",
       "\n",
       "     NHOHCount  ...  FeatureAcceptorCount3D  FeatureDonorCount3D  \\\n",
       "235          1  ...                     2.0                  0.0   \n",
       "236          0  ...                     4.0                  0.0   \n",
       "237          1  ...                     2.0                  1.0   \n",
       "238          0  ...                     3.0                  0.0   \n",
       "239          0  ...                     2.0                  0.0   \n",
       "\n",
       "     FeatureAnionCount3D  FeatureCationCount3D  FeatureRingCount3D  \\\n",
       "235                  1.0                   0.0                 0.0   \n",
       "236                  0.0                   0.0                 3.0   \n",
       "237                  0.0                   0.0                 3.0   \n",
       "238                  0.0                   0.0                 2.0   \n",
       "239                  0.0                   0.0                 2.0   \n",
       "\n",
       "     FeatureHydrophobeCount3D  ConformerModelRMSD3D  EffectiveRotorCount3D  \\\n",
       "235                       1.0                   0.6                    3.0   \n",
       "236                       0.0                   1.0                    7.0   \n",
       "237                       0.0                   0.6                    4.0   \n",
       "238                       2.0                   1.0                    6.6   \n",
       "239                       0.0                   0.8                    7.0   \n",
       "\n",
       "     ConformerCount3D  Class  \n",
       "235                10      2  \n",
       "236                10      2  \n",
       "237                10      2  \n",
       "238                10      2  \n",
       "239                10      2  \n",
       "\n",
       "[5 rows x 61 columns]"
      ]
     },
     "execution_count": 3,
     "metadata": {},
     "output_type": "execute_result"
    }
   ],
   "source": [
    "pest_data.tail()"
   ]
  },
  {
   "cell_type": "code",
   "execution_count": 4,
   "metadata": {
    "hidden": true
   },
   "outputs": [
    {
     "data": {
      "text/plain": [
       "Pesticide Name              240\n",
       "LOD                         240\n",
       "EPA Tolerance (ppm)         240\n",
       "Smiles                      240\n",
       "ExactMolWt                  240\n",
       "                           ... \n",
       "FeatureHydrophobeCount3D    240\n",
       "ConformerModelRMSD3D        240\n",
       "EffectiveRotorCount3D       240\n",
       "ConformerCount3D            240\n",
       "Class                       240\n",
       "Length: 61, dtype: int64"
      ]
     },
     "execution_count": 4,
     "metadata": {},
     "output_type": "execute_result"
    }
   ],
   "source": [
    "pest_data.count()"
   ]
  },
  {
   "cell_type": "code",
   "execution_count": 5,
   "metadata": {
    "hidden": true
   },
   "outputs": [
    {
     "data": {
      "text/plain": [
       "dtype('int64')"
      ]
     },
     "execution_count": 5,
     "metadata": {},
     "output_type": "execute_result"
    }
   ],
   "source": [
    "pest_data[\"Class\"].dtype"
   ]
  },
  {
   "cell_type": "code",
   "execution_count": 6,
   "metadata": {
    "hidden": true
   },
   "outputs": [
    {
     "data": {
      "text/plain": [
       "Index(['Pesticide Name', 'LOD', 'EPA Tolerance (ppm)', 'Smiles', 'ExactMolWt',\n",
       "       'HeavyAtomMolWt', 'NumRadicalElectrons', 'NumValenceElectrons',\n",
       "       'HeavyAtomCount', 'NHOHCount', 'NOCount', 'NumAliphaticCarbocycles',\n",
       "       'NumAliphaticHeterocycles', 'NumAliphaticRings',\n",
       "       'NumAromaticCarbocycles', 'NumAromaticHeterocycles', 'NumAromaticRings',\n",
       "       'NumHAcceptors', 'NumHDonors', 'NumHeteroatoms', 'NumRotatableBonds',\n",
       "       'NumSaturatedCarbocycles', 'NumSaturatedHeterocycles',\n",
       "       'NumSaturatedRings', 'RingCount', 'Halogens', 'MolecularFormula',\n",
       "       'MolecularWeight', 'CanonicalSMILES', 'XLogP', 'ExactMass', 'TPSA',\n",
       "       'Complexity', 'Charge', 'HBondDonorCount', 'HBondAcceptorCount',\n",
       "       'RotatableBondCount', 'HeavyAtomCount.1', 'IsotopeAtomCount',\n",
       "       'AtomStereoCount', 'DefinedAtomStereoCount', 'UndefinedAtomStereoCount',\n",
       "       'BondStereoCount', 'DefinedBondStereoCount', 'UndefinedBondStereoCount',\n",
       "       'CovalentUnitCount', 'Volume3D', 'XStericQuadrupole3D',\n",
       "       'YStericQuadrupole3D', 'ZStericQuadrupole3D', 'FeatureCount3D',\n",
       "       'FeatureAcceptorCount3D', 'FeatureDonorCount3D', 'FeatureAnionCount3D',\n",
       "       'FeatureCationCount3D', 'FeatureRingCount3D',\n",
       "       'FeatureHydrophobeCount3D', 'ConformerModelRMSD3D',\n",
       "       'EffectiveRotorCount3D', 'ConformerCount3D', 'Class'],\n",
       "      dtype='object')"
      ]
     },
     "execution_count": 6,
     "metadata": {},
     "output_type": "execute_result"
    }
   ],
   "source": [
    "pest_data.columns"
   ]
  },
  {
   "cell_type": "code",
   "execution_count": 7,
   "metadata": {
    "hidden": true
   },
   "outputs": [
    {
     "data": {
      "text/html": [
       "<div>\n",
       "<style scoped>\n",
       "    .dataframe tbody tr th:only-of-type {\n",
       "        vertical-align: middle;\n",
       "    }\n",
       "\n",
       "    .dataframe tbody tr th {\n",
       "        vertical-align: top;\n",
       "    }\n",
       "\n",
       "    .dataframe thead th {\n",
       "        text-align: right;\n",
       "    }\n",
       "</style>\n",
       "<table border=\"1\" class=\"dataframe\">\n",
       "  <thead>\n",
       "    <tr style=\"text-align: right;\">\n",
       "      <th></th>\n",
       "      <th>LOD</th>\n",
       "      <th>ExactMolWt</th>\n",
       "      <th>HeavyAtomMolWt</th>\n",
       "      <th>NumRadicalElectrons</th>\n",
       "      <th>NumValenceElectrons</th>\n",
       "      <th>HeavyAtomCount</th>\n",
       "      <th>NHOHCount</th>\n",
       "      <th>NOCount</th>\n",
       "      <th>NumAliphaticCarbocycles</th>\n",
       "      <th>NumAliphaticHeterocycles</th>\n",
       "      <th>...</th>\n",
       "      <th>FeatureAcceptorCount3D</th>\n",
       "      <th>FeatureDonorCount3D</th>\n",
       "      <th>FeatureAnionCount3D</th>\n",
       "      <th>FeatureCationCount3D</th>\n",
       "      <th>FeatureRingCount3D</th>\n",
       "      <th>FeatureHydrophobeCount3D</th>\n",
       "      <th>ConformerModelRMSD3D</th>\n",
       "      <th>EffectiveRotorCount3D</th>\n",
       "      <th>ConformerCount3D</th>\n",
       "      <th>Class</th>\n",
       "    </tr>\n",
       "  </thead>\n",
       "  <tbody>\n",
       "    <tr>\n",
       "      <th>count</th>\n",
       "      <td>240.000000</td>\n",
       "      <td>240.000000</td>\n",
       "      <td>240.000000</td>\n",
       "      <td>240.0</td>\n",
       "      <td>240.000000</td>\n",
       "      <td>240.000000</td>\n",
       "      <td>240.000000</td>\n",
       "      <td>240.000000</td>\n",
       "      <td>240.000000</td>\n",
       "      <td>240.000000</td>\n",
       "      <td>...</td>\n",
       "      <td>240.000000</td>\n",
       "      <td>240.00000</td>\n",
       "      <td>240.000000</td>\n",
       "      <td>240.000000</td>\n",
       "      <td>240.000000</td>\n",
       "      <td>240.000000</td>\n",
       "      <td>240.000000</td>\n",
       "      <td>240.00000</td>\n",
       "      <td>240.000000</td>\n",
       "      <td>240.000000</td>\n",
       "    </tr>\n",
       "    <tr>\n",
       "      <th>mean</th>\n",
       "      <td>0.013313</td>\n",
       "      <td>296.822371</td>\n",
       "      <td>282.050196</td>\n",
       "      <td>0.0</td>\n",
       "      <td>103.650000</td>\n",
       "      <td>19.129167</td>\n",
       "      <td>0.654167</td>\n",
       "      <td>4.279167</td>\n",
       "      <td>0.166667</td>\n",
       "      <td>0.183333</td>\n",
       "      <td>...</td>\n",
       "      <td>1.866667</td>\n",
       "      <td>0.53750</td>\n",
       "      <td>0.100000</td>\n",
       "      <td>0.441667</td>\n",
       "      <td>1.562500</td>\n",
       "      <td>0.712500</td>\n",
       "      <td>0.741667</td>\n",
       "      <td>5.40000</td>\n",
       "      <td>8.604167</td>\n",
       "      <td>1.708333</td>\n",
       "    </tr>\n",
       "    <tr>\n",
       "      <th>std</th>\n",
       "      <td>0.026594</td>\n",
       "      <td>81.867931</td>\n",
       "      <td>79.940445</td>\n",
       "      <td>0.0</td>\n",
       "      <td>29.072309</td>\n",
       "      <td>5.705828</td>\n",
       "      <td>0.892310</td>\n",
       "      <td>1.641889</td>\n",
       "      <td>0.445025</td>\n",
       "      <td>0.398393</td>\n",
       "      <td>...</td>\n",
       "      <td>1.267114</td>\n",
       "      <td>0.73656</td>\n",
       "      <td>0.374948</td>\n",
       "      <td>0.735198</td>\n",
       "      <td>0.974706</td>\n",
       "      <td>0.908266</td>\n",
       "      <td>0.206011</td>\n",
       "      <td>2.57331</td>\n",
       "      <td>2.774206</td>\n",
       "      <td>0.455480</td>\n",
       "    </tr>\n",
       "    <tr>\n",
       "      <th>min</th>\n",
       "      <td>0.000100</td>\n",
       "      <td>44.026215</td>\n",
       "      <td>40.021000</td>\n",
       "      <td>0.0</td>\n",
       "      <td>18.000000</td>\n",
       "      <td>3.000000</td>\n",
       "      <td>0.000000</td>\n",
       "      <td>0.000000</td>\n",
       "      <td>0.000000</td>\n",
       "      <td>0.000000</td>\n",
       "      <td>...</td>\n",
       "      <td>0.000000</td>\n",
       "      <td>0.00000</td>\n",
       "      <td>0.000000</td>\n",
       "      <td>0.000000</td>\n",
       "      <td>0.000000</td>\n",
       "      <td>0.000000</td>\n",
       "      <td>0.400000</td>\n",
       "      <td>0.00000</td>\n",
       "      <td>1.000000</td>\n",
       "      <td>1.000000</td>\n",
       "    </tr>\n",
       "    <tr>\n",
       "      <th>25%</th>\n",
       "      <td>0.002000</td>\n",
       "      <td>237.882259</td>\n",
       "      <td>222.210000</td>\n",
       "      <td>0.0</td>\n",
       "      <td>82.000000</td>\n",
       "      <td>15.000000</td>\n",
       "      <td>0.000000</td>\n",
       "      <td>3.000000</td>\n",
       "      <td>0.000000</td>\n",
       "      <td>0.000000</td>\n",
       "      <td>...</td>\n",
       "      <td>1.000000</td>\n",
       "      <td>0.00000</td>\n",
       "      <td>0.000000</td>\n",
       "      <td>0.000000</td>\n",
       "      <td>1.000000</td>\n",
       "      <td>0.000000</td>\n",
       "      <td>0.600000</td>\n",
       "      <td>3.95000</td>\n",
       "      <td>10.000000</td>\n",
       "      <td>1.000000</td>\n",
       "    </tr>\n",
       "    <tr>\n",
       "      <th>50%</th>\n",
       "      <td>0.005000</td>\n",
       "      <td>299.589972</td>\n",
       "      <td>282.830500</td>\n",
       "      <td>0.0</td>\n",
       "      <td>104.000000</td>\n",
       "      <td>19.000000</td>\n",
       "      <td>0.000000</td>\n",
       "      <td>4.000000</td>\n",
       "      <td>0.000000</td>\n",
       "      <td>0.000000</td>\n",
       "      <td>...</td>\n",
       "      <td>2.000000</td>\n",
       "      <td>0.00000</td>\n",
       "      <td>0.000000</td>\n",
       "      <td>0.000000</td>\n",
       "      <td>2.000000</td>\n",
       "      <td>0.000000</td>\n",
       "      <td>0.800000</td>\n",
       "      <td>5.90000</td>\n",
       "      <td>10.000000</td>\n",
       "      <td>2.000000</td>\n",
       "    </tr>\n",
       "    <tr>\n",
       "      <th>75%</th>\n",
       "      <td>0.015000</td>\n",
       "      <td>346.802600</td>\n",
       "      <td>327.363750</td>\n",
       "      <td>0.0</td>\n",
       "      <td>122.500000</td>\n",
       "      <td>23.000000</td>\n",
       "      <td>1.000000</td>\n",
       "      <td>5.000000</td>\n",
       "      <td>0.000000</td>\n",
       "      <td>0.000000</td>\n",
       "      <td>...</td>\n",
       "      <td>3.000000</td>\n",
       "      <td>1.00000</td>\n",
       "      <td>0.000000</td>\n",
       "      <td>1.000000</td>\n",
       "      <td>2.000000</td>\n",
       "      <td>1.000000</td>\n",
       "      <td>0.800000</td>\n",
       "      <td>7.00000</td>\n",
       "      <td>10.000000</td>\n",
       "      <td>2.000000</td>\n",
       "    </tr>\n",
       "    <tr>\n",
       "      <th>max</th>\n",
       "      <td>0.250000</td>\n",
       "      <td>682.023324</td>\n",
       "      <td>660.220000</td>\n",
       "      <td>0.0</td>\n",
       "      <td>210.000000</td>\n",
       "      <td>38.000000</td>\n",
       "      <td>5.000000</td>\n",
       "      <td>10.000000</td>\n",
       "      <td>2.000000</td>\n",
       "      <td>2.000000</td>\n",
       "      <td>...</td>\n",
       "      <td>6.000000</td>\n",
       "      <td>4.00000</td>\n",
       "      <td>2.000000</td>\n",
       "      <td>3.000000</td>\n",
       "      <td>4.000000</td>\n",
       "      <td>6.000000</td>\n",
       "      <td>1.400000</td>\n",
       "      <td>13.00000</td>\n",
       "      <td>10.000000</td>\n",
       "      <td>2.000000</td>\n",
       "    </tr>\n",
       "  </tbody>\n",
       "</table>\n",
       "<p>8 rows × 56 columns</p>\n",
       "</div>"
      ],
      "text/plain": [
       "              LOD  ExactMolWt  HeavyAtomMolWt  NumRadicalElectrons  \\\n",
       "count  240.000000  240.000000      240.000000                240.0   \n",
       "mean     0.013313  296.822371      282.050196                  0.0   \n",
       "std      0.026594   81.867931       79.940445                  0.0   \n",
       "min      0.000100   44.026215       40.021000                  0.0   \n",
       "25%      0.002000  237.882259      222.210000                  0.0   \n",
       "50%      0.005000  299.589972      282.830500                  0.0   \n",
       "75%      0.015000  346.802600      327.363750                  0.0   \n",
       "max      0.250000  682.023324      660.220000                  0.0   \n",
       "\n",
       "       NumValenceElectrons  HeavyAtomCount   NHOHCount     NOCount  \\\n",
       "count           240.000000      240.000000  240.000000  240.000000   \n",
       "mean            103.650000       19.129167    0.654167    4.279167   \n",
       "std              29.072309        5.705828    0.892310    1.641889   \n",
       "min              18.000000        3.000000    0.000000    0.000000   \n",
       "25%              82.000000       15.000000    0.000000    3.000000   \n",
       "50%             104.000000       19.000000    0.000000    4.000000   \n",
       "75%             122.500000       23.000000    1.000000    5.000000   \n",
       "max             210.000000       38.000000    5.000000   10.000000   \n",
       "\n",
       "       NumAliphaticCarbocycles  NumAliphaticHeterocycles  ...  \\\n",
       "count               240.000000                240.000000  ...   \n",
       "mean                  0.166667                  0.183333  ...   \n",
       "std                   0.445025                  0.398393  ...   \n",
       "min                   0.000000                  0.000000  ...   \n",
       "25%                   0.000000                  0.000000  ...   \n",
       "50%                   0.000000                  0.000000  ...   \n",
       "75%                   0.000000                  0.000000  ...   \n",
       "max                   2.000000                  2.000000  ...   \n",
       "\n",
       "       FeatureAcceptorCount3D  FeatureDonorCount3D  FeatureAnionCount3D  \\\n",
       "count              240.000000            240.00000           240.000000   \n",
       "mean                 1.866667              0.53750             0.100000   \n",
       "std                  1.267114              0.73656             0.374948   \n",
       "min                  0.000000              0.00000             0.000000   \n",
       "25%                  1.000000              0.00000             0.000000   \n",
       "50%                  2.000000              0.00000             0.000000   \n",
       "75%                  3.000000              1.00000             0.000000   \n",
       "max                  6.000000              4.00000             2.000000   \n",
       "\n",
       "       FeatureCationCount3D  FeatureRingCount3D  FeatureHydrophobeCount3D  \\\n",
       "count            240.000000          240.000000                240.000000   \n",
       "mean               0.441667            1.562500                  0.712500   \n",
       "std                0.735198            0.974706                  0.908266   \n",
       "min                0.000000            0.000000                  0.000000   \n",
       "25%                0.000000            1.000000                  0.000000   \n",
       "50%                0.000000            2.000000                  0.000000   \n",
       "75%                1.000000            2.000000                  1.000000   \n",
       "max                3.000000            4.000000                  6.000000   \n",
       "\n",
       "       ConformerModelRMSD3D  EffectiveRotorCount3D  ConformerCount3D  \\\n",
       "count            240.000000              240.00000        240.000000   \n",
       "mean               0.741667                5.40000          8.604167   \n",
       "std                0.206011                2.57331          2.774206   \n",
       "min                0.400000                0.00000          1.000000   \n",
       "25%                0.600000                3.95000         10.000000   \n",
       "50%                0.800000                5.90000         10.000000   \n",
       "75%                0.800000                7.00000         10.000000   \n",
       "max                1.400000               13.00000         10.000000   \n",
       "\n",
       "            Class  \n",
       "count  240.000000  \n",
       "mean     1.708333  \n",
       "std      0.455480  \n",
       "min      1.000000  \n",
       "25%      1.000000  \n",
       "50%      2.000000  \n",
       "75%      2.000000  \n",
       "max      2.000000  \n",
       "\n",
       "[8 rows x 56 columns]"
      ]
     },
     "execution_count": 7,
     "metadata": {},
     "output_type": "execute_result"
    }
   ],
   "source": [
    "pest_data.describe()"
   ]
  },
  {
   "cell_type": "code",
   "execution_count": 8,
   "metadata": {
    "hidden": true
   },
   "outputs": [],
   "source": [
    "#pest_data.hist(column='Na_to_K', bins=100)"
   ]
  },
  {
   "cell_type": "code",
   "execution_count": 9,
   "metadata": {
    "hidden": true
   },
   "outputs": [],
   "source": [
    "#pest_data.hist(column='Age', bins=50)"
   ]
  },
  {
   "cell_type": "code",
   "execution_count": 10,
   "metadata": {
    "hidden": true
   },
   "outputs": [
    {
     "data": {
      "text/plain": [
       "array([[1.40000000e-02, 2.83016684e+02, 2.73054000e+02, 9.40000000e+01,\n",
       "        1.80000000e+01, 0.00000000e+00, 3.00000000e+00, 1.00000000e+00,\n",
       "        1.00000000e+00, 2.00000000e+00, 1.00000000e+00, 0.00000000e+00,\n",
       "        1.00000000e+00, 2.00000000e+00, 0.00000000e+00, 5.00000000e+00,\n",
       "        1.00000000e+00, 1.00000000e+00, 1.00000000e+00, 2.00000000e+00,\n",
       "        3.00000000e+00, 2.00000000e+00, 2.84130000e+02, 3.00000000e+00,\n",
       "        2.83016684e+02, 3.74000000e+01, 4.05000000e+02, 0.00000000e+00,\n",
       "        0.00000000e+00, 2.00000000e+00, 1.00000000e+00, 1.80000000e+01,\n",
       "        0.00000000e+00, 2.00000000e+00, 0.00000000e+00, 2.00000000e+00,\n",
       "        0.00000000e+00, 0.00000000e+00, 0.00000000e+00, 1.00000000e+00,\n",
       "        2.03300000e+02, 7.89000000e+00, 2.66000000e+00, 8.90000000e-01,\n",
       "        4.00000000e+00, 2.00000000e+00, 0.00000000e+00, 0.00000000e+00,\n",
       "        0.00000000e+00, 2.00000000e+00, 0.00000000e+00, 6.00000000e-01,\n",
       "        1.40000000e+00, 3.00000000e+00],\n",
       "       [4.00000000e-03, 3.03105801e+02, 2.81188000e+02, 1.08000000e+02,\n",
       "        1.90000000e+01, 1.00000000e+00, 4.00000000e+00, 0.00000000e+00,\n",
       "        0.00000000e+00, 0.00000000e+00, 1.00000000e+00, 0.00000000e+00,\n",
       "        1.00000000e+00, 4.00000000e+00, 1.00000000e+00, 6.00000000e+00,\n",
       "        7.00000000e+00, 0.00000000e+00, 0.00000000e+00, 0.00000000e+00,\n",
       "        1.00000000e+00, 0.00000000e+00, 3.03360000e+02, 3.20000000e+00,\n",
       "        3.03105802e+02, 7.29000000e+01, 3.14000000e+02, 0.00000000e+00,\n",
       "        1.00000000e+00, 5.00000000e+00, 7.00000000e+00, 1.90000000e+01,\n",
       "        0.00000000e+00, 1.00000000e+00, 0.00000000e+00, 1.00000000e+00,\n",
       "        0.00000000e+00, 0.00000000e+00, 0.00000000e+00, 1.00000000e+00,\n",
       "        2.33600000e+02, 1.05300000e+01, 2.91000000e+00, 1.34000000e+00,\n",
       "        4.00000000e+00, 1.00000000e+00, 0.00000000e+00, 0.00000000e+00,\n",
       "        0.00000000e+00, 1.00000000e+00, 2.00000000e+00, 8.00000000e-01,\n",
       "        7.00000000e+00, 1.00000000e+01]])"
      ]
     },
     "execution_count": 10,
     "metadata": {},
     "output_type": "execute_result"
    }
   ],
   "source": [
    "X = pest_data[['LOD', 'ExactMolWt', 'HeavyAtomMolWt', 'NumValenceElectrons', 'HeavyAtomCount', 'NHOHCount', \n",
    "                        'NOCount', 'NumAliphaticCarbocycles', 'NumAliphaticHeterocycles', 'NumAliphaticRings', \n",
    "                        'NumAromaticCarbocycles', 'NumAromaticHeterocycles', 'NumAromaticRings', 'NumHAcceptors', \n",
    "                        'NumHDonors', 'NumHeteroatoms', 'NumRotatableBonds', 'NumSaturatedCarbocycles', \n",
    "                        'NumSaturatedHeterocycles', 'NumSaturatedRings', 'RingCount', 'Halogens', \"MolecularWeight\", \n",
    "                        \"XLogP\", \"ExactMass\", \"TPSA\", \"Complexity\", \"Charge\", \"HBondDonorCount\", \n",
    "                        \"HBondAcceptorCount\", \"RotatableBondCount\", \"HeavyAtomCount\", \"IsotopeAtomCount\", \"AtomStereoCount\", \n",
    "                        \"DefinedAtomStereoCount\", \"UndefinedAtomStereoCount\", \"BondStereoCount\", \"DefinedBondStereoCount\", \n",
    "                        \"UndefinedBondStereoCount\", \"CovalentUnitCount\",\"Volume3D\", \"XStericQuadrupole3D\", \"YStericQuadrupole3D\", \n",
    "                        \"ZStericQuadrupole3D\", \"FeatureCount3D\", \"FeatureAcceptorCount3D\", \"FeatureDonorCount3D\", \"FeatureAnionCount3D\", \n",
    "                        \"FeatureCationCount3D\", \"FeatureRingCount3D\", \"FeatureHydrophobeCount3D\", \"ConformerModelRMSD3D\", \n",
    "                        \"EffectiveRotorCount3D\", \"ConformerCount3D\"]].values\n",
    "\n",
    "\n",
    "y = pest_data[['Class']].values\n",
    "#y[0:5]\n",
    "\n",
    "X[0:2]"
   ]
  },
  {
   "cell_type": "code",
   "execution_count": 11,
   "metadata": {
    "hidden": true
   },
   "outputs": [
    {
     "data": {
      "text/plain": [
       "array([[1],\n",
       "       [1],\n",
       "       [1],\n",
       "       [1],\n",
       "       [1]], dtype=int64)"
      ]
     },
     "execution_count": 11,
     "metadata": {},
     "output_type": "execute_result"
    }
   ],
   "source": [
    "y_array = pest_data[['Class']].to_numpy()\n",
    "y_array[0:5]"
   ]
  },
  {
   "cell_type": "code",
   "execution_count": 12,
   "metadata": {
    "hidden": true
   },
   "outputs": [],
   "source": [
    "pest_feats_array = X\n",
    "y = y_array"
   ]
  },
  {
   "cell_type": "code",
   "execution_count": 13,
   "metadata": {
    "hidden": true
   },
   "outputs": [
    {
     "data": {
      "text/plain": [
       "array([[-0.38172713,  7.34651081, -1.45784533, ..., -0.02354543,\n",
       "         0.79472852,  0.61704106],\n",
       "       [ 0.25380124, -0.83135807,  1.87731163, ...,  0.52952181,\n",
       "         0.49706464, -0.78630769],\n",
       "       [-4.05825424, -1.43292535, -1.11888741, ...,  2.27281405,\n",
       "         0.11460249, -0.91583163],\n",
       "       ...,\n",
       "       [ 1.2837196 ,  0.42218071, -2.88301013, ..., -0.23199105,\n",
       "        -0.53712472,  0.92457317],\n",
       "       [ 4.49176828,  2.86421085,  0.29362712, ...,  0.0375824 ,\n",
       "        -1.1256568 , -0.07445442],\n",
       "       [ 4.76059474, -1.47722347,  0.04087042, ...,  0.81132719,\n",
       "        -0.46446512,  1.01131178]])"
      ]
     },
     "execution_count": 13,
     "metadata": {},
     "output_type": "execute_result"
    }
   ],
   "source": [
    "from sklearn.preprocessing import StandardScaler\n",
    "from sklearn.decomposition import PCA\n",
    "\n",
    "pest_feats_scaled = StandardScaler().fit_transform(pest_feats_array)  # Previously, a huge bias without scaling\n",
    "\n",
    "# one feature had 99% explanation\n",
    "\n",
    "pest_feats_pca = PCA(n_components=18).fit(pest_feats_scaled)\n",
    "pest_feats_pca_values = pest_feats_pca.transform(pest_feats_scaled)\n",
    "pest_feats_pca_values"
   ]
  },
  {
   "cell_type": "code",
   "execution_count": 14,
   "metadata": {
    "hidden": true
   },
   "outputs": [
    {
     "data": {
      "text/plain": [
       "array([0.29927445, 0.12520607, 0.09989821, 0.08433809, 0.05745664,\n",
       "       0.04384194, 0.03960146, 0.03180862, 0.03003908, 0.02732521,\n",
       "       0.02085093, 0.02022818, 0.01626626, 0.01596335, 0.01488377,\n",
       "       0.01159804, 0.01033055, 0.00822051])"
      ]
     },
     "execution_count": 14,
     "metadata": {},
     "output_type": "execute_result"
    }
   ],
   "source": [
    "pest_feats_pca.explained_variance_ratio_"
   ]
  },
  {
   "cell_type": "code",
   "execution_count": 15,
   "metadata": {
    "hidden": true
   },
   "outputs": [
    {
     "data": {
      "text/plain": [
       "0.9571313434933594"
      ]
     },
     "execution_count": 15,
     "metadata": {},
     "output_type": "execute_result"
    }
   ],
   "source": [
    "pest_feats_pca.explained_variance_ratio_.sum()"
   ]
  },
  {
   "cell_type": "code",
   "execution_count": 16,
   "metadata": {
    "hidden": true
   },
   "outputs": [
    {
     "data": {
      "text/plain": [
       "(240, 18)"
      ]
     },
     "execution_count": 16,
     "metadata": {},
     "output_type": "execute_result"
    }
   ],
   "source": [
    "#pest_data['Class'] = pest_data['Class'].astype(int)\n",
    "#y = np.asanyarray(pest_data['Class'])\n",
    "#y[0:5]\n",
    "\n",
    "X = pest_feats_pca_values[:]\n",
    "X.shape"
   ]
  },
  {
   "cell_type": "markdown",
   "metadata": {
    "heading_collapsed": true
   },
   "source": [
    "#### train_test_split"
   ]
  },
  {
   "cell_type": "code",
   "execution_count": 17,
   "metadata": {
    "hidden": true
   },
   "outputs": [
    {
     "name": "stdout",
     "output_type": "stream",
     "text": [
      "X_train and y_train shape:  (192, 18) (192, 1)\n",
      "X_test and y_test shape:  (48, 18) (48, 1)\n"
     ]
    }
   ],
   "source": [
    "from sklearn.model_selection import train_test_split\n",
    "\n",
    "X_train, X_test, y_train, y_test = train_test_split(X, y, test_size = 0.2, shuffle=True) #random_state = 3\n",
    "print ('X_train and y_train shape: ', X_train.shape, y_train.shape)\n",
    "print ('X_test and y_test shape: ', X_test.shape, y_test.shape)"
   ]
  },
  {
   "cell_type": "code",
   "execution_count": 18,
   "metadata": {
    "hidden": true
   },
   "outputs": [
    {
     "data": {
      "text/plain": [
       "array([[ 2.82243826,  5.2349254 , -2.02036685,  3.78049364,  0.24559377,\n",
       "         0.48326787,  0.0375344 ,  1.25338771, -1.29873306,  1.47879042,\n",
       "        -0.68930262, -0.83343566,  0.6020361 , -0.62408385,  1.46441983,\n",
       "        -1.75408968,  1.21069041,  0.94177171],\n",
       "       [ 1.70119685,  5.55969708,  1.21002884,  3.14211229,  0.8831245 ,\n",
       "         0.52189323, -1.26276368,  1.10801971, -0.24295754, -0.72856869,\n",
       "         2.05055134, -0.40885117, -1.27468672, -1.57455852, -0.01994071,\n",
       "        -1.60539582, -0.9428318 , -0.25231155]])"
      ]
     },
     "execution_count": 18,
     "metadata": {},
     "output_type": "execute_result"
    }
   ],
   "source": [
    "from sklearn.preprocessing import StandardScaler\n",
    "\n",
    "#X_train = StandardScaler().fit_transform(X_train)\n",
    "X_train[0:5]\n",
    "#X_test = StandardScaler().fit_transform(X_test)\n",
    "X_test[0:2]"
   ]
  },
  {
   "cell_type": "code",
   "execution_count": 19,
   "metadata": {
    "hidden": true
   },
   "outputs": [
    {
     "name": "stdout",
     "output_type": "stream",
     "text": [
      "Train set dimensions match and is equal to (192, 18) vs (192, 1)\n"
     ]
    }
   ],
   "source": [
    "#Just to be sure\n",
    "\n",
    "if X_train.shape[0] == y_train.shape[0]:\n",
    "    print(\"Train set dimensions match and is equal to\", X_train.shape, 'vs', y_train.shape)\n",
    "else:\n",
    "    print(\"Train set dimensions do not match\")"
   ]
  },
  {
   "cell_type": "markdown",
   "metadata": {},
   "source": [
    "### Modelling"
   ]
  },
  {
   "cell_type": "markdown",
   "metadata": {
    "heading_collapsed": true
   },
   "source": [
    "#### Decision Tree"
   ]
  },
  {
   "cell_type": "code",
   "execution_count": 21,
   "metadata": {
    "hidden": true
   },
   "outputs": [
    {
     "data": {
      "text/plain": [
       "DecisionTreeClassifier(max_depth=12)"
      ]
     },
     "execution_count": 21,
     "metadata": {},
     "output_type": "execute_result"
    }
   ],
   "source": [
    "drugTree = DecisionTreeClassifier(criterion=\"gini\", splitter='best', max_depth = 12)\n",
    "\n",
    "# max_depth is often equal to number of features - 1 \n",
    "#drugTree \n",
    "\n",
    "#Choice of 'entropy' to maximise the information gain per node\n",
    "#choice of weighted information gain (p_i)\n",
    "\n",
    "drugTree.fit(X_train, y_train.ravel())"
   ]
  },
  {
   "cell_type": "code",
   "execution_count": 22,
   "metadata": {
    "hidden": true
   },
   "outputs": [
    {
     "data": {
      "text/plain": [
       "array([2, 2, 1, 1, 2], dtype=int64)"
      ]
     },
     "execution_count": 22,
     "metadata": {},
     "output_type": "execute_result"
    }
   ],
   "source": [
    "predTree = drugTree.predict(X_test)\n",
    "predTree[0:5] # y_hat"
   ]
  },
  {
   "cell_type": "code",
   "execution_count": 23,
   "metadata": {
    "hidden": true
   },
   "outputs": [
    {
     "name": "stdout",
     "output_type": "stream",
     "text": [
      "DecisionTrees's Accuracy:  0.5625\n"
     ]
    }
   ],
   "source": [
    "from sklearn import metrics\n",
    "print(\"DecisionTrees's Accuracy: \", metrics.accuracy_score(y_test, predTree))"
   ]
  },
  {
   "cell_type": "code",
   "execution_count": 24,
   "metadata": {
    "hidden": true
   },
   "outputs": [
    {
     "name": "stdout",
     "output_type": "stream",
     "text": [
      "              precision    recall  f1-score   support\n",
      "\n",
      "           1       0.31      0.33      0.32        15\n",
      "           2       0.69      0.67      0.68        33\n",
      "\n",
      "    accuracy                           0.56        48\n",
      "   macro avg       0.50      0.50      0.50        48\n",
      "weighted avg       0.57      0.56      0.57        48\n",
      "\n"
     ]
    }
   ],
   "source": [
    "from sklearn.metrics import classification_report\n",
    "\n",
    "print(classification_report(y_test, predTree))"
   ]
  },
  {
   "cell_type": "code",
   "execution_count": null,
   "metadata": {
    "hidden": true
   },
   "outputs": [],
   "source": []
  },
  {
   "cell_type": "code",
   "execution_count": 25,
   "metadata": {
    "hidden": true
   },
   "outputs": [],
   "source": [
    "#!conda install -c conda-forge pydotplus -y\n",
    "#!conda install -c conda-forge python-graphviz -y"
   ]
  },
  {
   "cell_type": "code",
   "execution_count": 26,
   "metadata": {
    "hidden": true
   },
   "outputs": [
    {
     "data": {
      "text/plain": [
       "'\\n\\nfrom sklearn.externals.six import StringIO\\nimport pydotplus # provides a Python Interface to the Graphviz Dot language.\\nimport matplotlib.image as mpimg\\nfrom sklearn import tree\\n%matplotlib inline \\n\\ndot_data = StringIO()\\nfilename = \"drugtree.png\"\\nfeatureNames = pest_data.columns[0:5]\\ntargetNames = pest_data[\"Drug\"].unique().tolist()\\n\\nout=tree.export_graphviz(drugTree,feature_names=featureNames, out_file=dot_data, class_names= np.unique(y_train), filled=True,  special_characters=True,rotate=False)  \\ngraph = pydotplus.graph_from_dot_data(dot_data.getvalue())  \\ngraph.write_png(filename)\\n\\nimg = mpimg.imread(filename)\\nplt.figure(figsize=(100, 200))\\nplt.imshow(img,interpolation=\\'nearest\\')\\n\\n'"
      ]
     },
     "execution_count": 26,
     "metadata": {},
     "output_type": "execute_result"
    }
   ],
   "source": [
    "'''\n",
    "\n",
    "from sklearn.externals.six import StringIO\n",
    "import pydotplus # provides a Python Interface to the Graphviz Dot language.\n",
    "import matplotlib.image as mpimg\n",
    "from sklearn import tree\n",
    "%matplotlib inline \n",
    "\n",
    "dot_data = StringIO()\n",
    "filename = \"drugtree.png\"\n",
    "featureNames = pest_data.columns[0:5]\n",
    "targetNames = pest_data[\"Drug\"].unique().tolist()\n",
    "\n",
    "out=tree.export_graphviz(drugTree,feature_names=featureNames, out_file=dot_data, class_names= np.unique(y_train), filled=True,  special_characters=True,rotate=False)  \n",
    "graph = pydotplus.graph_from_dot_data(dot_data.getvalue())  \n",
    "graph.write_png(filename)\n",
    "\n",
    "img = mpimg.imread(filename)\n",
    "plt.figure(figsize=(100, 200))\n",
    "plt.imshow(img,interpolation='nearest')\n",
    "\n",
    "'''"
   ]
  },
  {
   "cell_type": "code",
   "execution_count": 27,
   "metadata": {
    "hidden": true
   },
   "outputs": [
    {
     "data": {
      "text/plain": [
       "array([0.06029708, 0.03148882, 0.11372377, 0.10493959, 0.03890821,\n",
       "       0.08619458, 0.0239822 , 0.0242677 , 0.05563371, 0.03185136,\n",
       "       0.        , 0.03609821, 0.        , 0.04087591, 0.02038487,\n",
       "       0.0728362 , 0.13925928, 0.11925849])"
      ]
     },
     "execution_count": 27,
     "metadata": {},
     "output_type": "execute_result"
    }
   ],
   "source": [
    "drugTree.feature_importances_\n"
   ]
  },
  {
   "cell_type": "code",
   "execution_count": 28,
   "metadata": {
    "hidden": true
   },
   "outputs": [
    {
     "data": {
      "text/plain": [
       "18"
      ]
     },
     "execution_count": 28,
     "metadata": {},
     "output_type": "execute_result"
    }
   ],
   "source": [
    "drugTree.n_features_"
   ]
  },
  {
   "cell_type": "code",
   "execution_count": 29,
   "metadata": {
    "hidden": true
   },
   "outputs": [
    {
     "data": {
      "text/plain": [
       "10"
      ]
     },
     "execution_count": 29,
     "metadata": {},
     "output_type": "execute_result"
    }
   ],
   "source": [
    "drugTree.tree_.max_depth"
   ]
  },
  {
   "cell_type": "markdown",
   "metadata": {
    "heading_collapsed": true
   },
   "source": [
    "#### SVM"
   ]
  },
  {
   "cell_type": "code",
   "execution_count": 30,
   "metadata": {
    "hidden": true
   },
   "outputs": [
    {
     "data": {
      "text/plain": [
       "0.6666666666666666"
      ]
     },
     "execution_count": 30,
     "metadata": {},
     "output_type": "execute_result"
    }
   ],
   "source": [
    "from sklearn import svm\n",
    "from sklearn.metrics import accuracy_score\n",
    "\n",
    "clf = svm.SVC(kernel='rbf', degree=3, class_weight=\"balanced\") #test different kernels, class_weight, probability\n",
    "\n",
    "clf_model = clf.fit(X_train, y_train.ravel())   #also, get the distance to the hyperplane\n",
    "clf_model.score(X_train, y_train.ravel())"
   ]
  },
  {
   "cell_type": "code",
   "execution_count": 31,
   "metadata": {
    "hidden": true
   },
   "outputs": [
    {
     "data": {
      "text/plain": [
       "\"\\n\\nsklearn.svm.SVC(*, C=1.0, kernel='rbf', degree=3, gamma='scale', coef0=0.0, \\nshrinking=True, probability=False, tol=0.001, cache_size=200, class_weight=None, \\nverbose=False, max_iter=- 1, decision_function_shape='ovr', break_ties=False, random_state=None)[source]¶\\n\\n\""
      ]
     },
     "execution_count": 31,
     "metadata": {},
     "output_type": "execute_result"
    }
   ],
   "source": [
    "'''\n",
    "\n",
    "sklearn.svm.SVC(*, C=1.0, kernel='rbf', degree=3, gamma='scale', coef0=0.0, \n",
    "shrinking=True, probability=False, tol=0.001, cache_size=200, class_weight=None, \n",
    "verbose=False, max_iter=- 1, decision_function_shape='ovr', break_ties=False, random_state=None)[source]¶\n",
    "\n",
    "'''\n",
    "\n",
    "# Implement probability!!!!"
   ]
  },
  {
   "cell_type": "code",
   "execution_count": 32,
   "metadata": {
    "hidden": true
   },
   "outputs": [
    {
     "data": {
      "text/plain": [
       "(192, 1)"
      ]
     },
     "execution_count": 32,
     "metadata": {},
     "output_type": "execute_result"
    }
   ],
   "source": [
    "\n",
    "y_train.ravel()\n",
    "y_train.shape"
   ]
  },
  {
   "cell_type": "code",
   "execution_count": 33,
   "metadata": {
    "hidden": true
   },
   "outputs": [
    {
     "data": {
      "text/plain": [
       "array([2, 1, 2, 1, 1, 1, 2, 1, 2, 1, 2, 2, 1, 2, 2, 1, 2, 2, 1, 2, 1, 2,\n",
       "       2, 1, 2, 2, 2, 2, 1, 1, 1, 1, 2, 2, 1, 1, 2, 1, 1, 1, 2, 1, 2, 1,\n",
       "       1, 2, 1, 1], dtype=int64)"
      ]
     },
     "execution_count": 33,
     "metadata": {},
     "output_type": "execute_result"
    }
   ],
   "source": [
    "y_hat = clf_model.predict(X_test)\n",
    "y_hat"
   ]
  },
  {
   "cell_type": "code",
   "execution_count": 34,
   "metadata": {
    "hidden": true
   },
   "outputs": [],
   "source": [
    "from sklearn.metrics import classification_report, confusion_matrix, f1_score #jaccard_similarity_score"
   ]
  },
  {
   "cell_type": "code",
   "execution_count": 35,
   "metadata": {
    "hidden": true
   },
   "outputs": [
    {
     "name": "stdout",
     "output_type": "stream",
     "text": [
      "              precision    recall  f1-score   support\n",
      "\n",
      "           1       0.36      0.60      0.45        15\n",
      "           2       0.74      0.52      0.61        33\n",
      "\n",
      "    accuracy                           0.54        48\n",
      "   macro avg       0.55      0.56      0.53        48\n",
      "weighted avg       0.62      0.54      0.56        48\n",
      "\n"
     ]
    }
   ],
   "source": [
    "print (classification_report(y_test, y_hat))"
   ]
  },
  {
   "cell_type": "code",
   "execution_count": 36,
   "metadata": {
    "hidden": true
   },
   "outputs": [
    {
     "name": "stdout",
     "output_type": "stream",
     "text": [
      "f1_score:  0.5580357142857143\n",
      "Confusion matrix:  [[ 9  6]\n",
      " [16 17]]\n"
     ]
    }
   ],
   "source": [
    "print (\"f1_score: \", f1_score(y_test, y_hat, average='weighted'))\n",
    "#print (\"Jaccard similarity score: \", jaccard_similarity_score(y_test, y_hat))\n",
    "print (\"Confusion matrix: \", confusion_matrix(y_test, y_hat))"
   ]
  },
  {
   "cell_type": "code",
   "execution_count": 37,
   "metadata": {
    "hidden": true
   },
   "outputs": [
    {
     "data": {
      "text/plain": [
       "array([[[17, 16],\n",
       "        [ 6,  9]],\n",
       "\n",
       "       [[ 9,  6],\n",
       "        [16, 17]]], dtype=int64)"
      ]
     },
     "execution_count": 37,
     "metadata": {},
     "output_type": "execute_result"
    }
   ],
   "source": [
    "from sklearn.metrics import multilabel_confusion_matrix\n",
    "\n",
    "metrics.multilabel_confusion_matrix(y_test, y_hat, sample_weight=None, labels=None, samplewise=False)"
   ]
  },
  {
   "cell_type": "markdown",
   "metadata": {
    "heading_collapsed": true
   },
   "source": [
    "#### Logistic Regression"
   ]
  },
  {
   "cell_type": "code",
   "execution_count": 38,
   "metadata": {
    "hidden": true
   },
   "outputs": [
    {
     "data": {
      "text/plain": [
       "array([2, 2, 2, 2, 2, 2, 2, 2, 1, 2, 2, 2, 2, 2, 2, 2, 2, 1, 2, 2, 2, 2,\n",
       "       2, 2, 2, 2, 2, 2, 2, 2, 2, 2, 2, 2, 2, 2, 2, 2, 2, 2, 1, 2, 2, 2,\n",
       "       2, 2, 2, 2], dtype=int64)"
      ]
     },
     "execution_count": 38,
     "metadata": {},
     "output_type": "execute_result"
    }
   ],
   "source": [
    "from sklearn.linear_model import LogisticRegression\n",
    "\n",
    "LR = LogisticRegression(C=10, solver='liblinear').fit(X_train, y_train.ravel())\n",
    "y_hat = LR.predict(X_test)\n",
    "y_hat"
   ]
  },
  {
   "cell_type": "code",
   "execution_count": 39,
   "metadata": {
    "hidden": true
   },
   "outputs": [
    {
     "data": {
      "text/plain": [
       "array([[0.04402086, 0.95597914],\n",
       "       [0.4436516 , 0.5563484 ],\n",
       "       [0.45242209, 0.54757791],\n",
       "       [0.47395598, 0.52604402],\n",
       "       [0.26838132, 0.73161868],\n",
       "       [0.39650956, 0.60349044],\n",
       "       [0.27827198, 0.72172802],\n",
       "       [0.41332549, 0.58667451],\n",
       "       [0.64516112, 0.35483888],\n",
       "       [0.38919146, 0.61080854]])"
      ]
     },
     "execution_count": 39,
     "metadata": {},
     "output_type": "execute_result"
    }
   ],
   "source": [
    "y_hat_prob = LR.predict_proba(X_test)\n",
    "y_hat_prob[0:10]"
   ]
  },
  {
   "cell_type": "code",
   "execution_count": 40,
   "metadata": {
    "hidden": true
   },
   "outputs": [
    {
     "name": "stdout",
     "output_type": "stream",
     "text": [
      "              precision    recall  f1-score   support\n",
      "\n",
      "           1       0.67      0.13      0.22        15\n",
      "           2       0.71      0.97      0.82        33\n",
      "\n",
      "    accuracy                           0.71        48\n",
      "   macro avg       0.69      0.55      0.52        48\n",
      "weighted avg       0.70      0.71      0.63        48\n",
      "\n"
     ]
    }
   ],
   "source": [
    "print (classification_report(y_test, y_hat))"
   ]
  },
  {
   "cell_type": "code",
   "execution_count": 41,
   "metadata": {
    "hidden": true
   },
   "outputs": [
    {
     "name": "stdout",
     "output_type": "stream",
     "text": [
      "f1_score:  0.6335470085470085\n",
      "Confusion matrix:  [[ 2 13]\n",
      " [ 1 32]]\n"
     ]
    }
   ],
   "source": [
    "print (\"f1_score: \", f1_score(y_test, y_hat, average='weighted'))\n",
    "#print (\"Jaccard similarity score: \", jaccard_similarity_score(y_test, y_hat))\n",
    "print (\"Confusion matrix: \", confusion_matrix(y_test, y_hat))"
   ]
  },
  {
   "cell_type": "markdown",
   "metadata": {
    "heading_collapsed": true
   },
   "source": [
    "#### K-NN"
   ]
  },
  {
   "cell_type": "code",
   "execution_count": 42,
   "metadata": {
    "hidden": true
   },
   "outputs": [
    {
     "data": {
      "text/plain": [
       "KNeighborsClassifier(n_neighbors=4, weights='distance')"
      ]
     },
     "execution_count": 42,
     "metadata": {},
     "output_type": "execute_result"
    }
   ],
   "source": [
    "from sklearn.neighbors import KNeighborsClassifier\n",
    "\n",
    "k = 4\n",
    "\n",
    "#Train Model and Predict\n",
    "neigh = KNeighborsClassifier(n_neighbors = k, weights=\"distance\").fit(X_train, y_train.ravel()) #KNN_4\n",
    "neigh"
   ]
  },
  {
   "cell_type": "code",
   "execution_count": 43,
   "metadata": {
    "hidden": true
   },
   "outputs": [
    {
     "data": {
      "text/plain": [
       "array([1, 1, 2, 2, 2, 2, 2, 1, 1, 2, 2, 2, 1, 2, 2, 2, 2, 2, 1, 2, 2, 2,\n",
       "       2, 1, 1, 2, 2, 2, 2, 1, 1, 1, 2, 2, 1, 2, 2, 1, 1, 2, 2, 2, 2, 2,\n",
       "       2, 2, 2, 2], dtype=int64)"
      ]
     },
     "execution_count": 43,
     "metadata": {},
     "output_type": "execute_result"
    }
   ],
   "source": [
    "y_hat = neigh.predict(X_test)\n",
    "y_hat\n",
    "\n"
   ]
  },
  {
   "cell_type": "code",
   "execution_count": 44,
   "metadata": {
    "hidden": true
   },
   "outputs": [
    {
     "name": "stdout",
     "output_type": "stream",
     "text": [
      "Train set Accuracy:  1.0\n",
      "Test set Accuracy:  0.6875\n"
     ]
    }
   ],
   "source": [
    "from sklearn import metrics\n",
    "print('Train set Accuracy: ', metrics.accuracy_score(y_train, neigh.predict(X_train)))\n",
    "print('Test set Accuracy: ', metrics.accuracy_score(y_test, y_hat))"
   ]
  },
  {
   "cell_type": "code",
   "execution_count": 45,
   "metadata": {
    "hidden": true
   },
   "outputs": [
    {
     "name": "stdout",
     "output_type": "stream",
     "text": [
      "              precision    recall  f1-score   support\n",
      "\n",
      "           1       0.50      0.47      0.48        15\n",
      "           2       0.76      0.79      0.78        33\n",
      "\n",
      "    accuracy                           0.69        48\n",
      "   macro avg       0.63      0.63      0.63        48\n",
      "weighted avg       0.68      0.69      0.68        48\n",
      "\n"
     ]
    }
   ],
   "source": [
    "from sklearn.metrics import classification_report, confusion_matrix, f1_score\n",
    "print (classification_report(y_test, y_hat))"
   ]
  },
  {
   "cell_type": "code",
   "execution_count": 46,
   "metadata": {
    "hidden": true
   },
   "outputs": [
    {
     "name": "stdout",
     "output_type": "stream",
     "text": [
      "Train set Accuracy:  0.6875\n",
      "Test set Accuracy:  0.5625\n"
     ]
    }
   ],
   "source": [
    "# Larger k?\n",
    "\n",
    "k = 6\n",
    "\n",
    "neigh6 = KNeighborsClassifier(n_neighbors = k).fit(X_train, y_train.ravel())\n",
    "y_hat6 = neigh6.predict(X_test)\n",
    "print(\"Train set Accuracy: \", metrics.accuracy_score(y_train, neigh6.predict(X_train)))\n",
    "print(\"Test set Accuracy: \", metrics.accuracy_score(y_test, y_hat6))"
   ]
  },
  {
   "cell_type": "code",
   "execution_count": 47,
   "metadata": {
    "hidden": true
   },
   "outputs": [
    {
     "name": "stdout",
     "output_type": "stream",
     "text": [
      "Highest accuracy achieved:  0.6458333333333334\n"
     ]
    }
   ],
   "source": [
    "Ks = 10\n",
    "\n",
    "mean_acc = np.zeros((Ks-1))\n",
    "std_acc = np.zeros((Ks-1))\n",
    "ConfusionMx = [];   \n",
    "\n",
    "for n in range(1,Ks):\n",
    "    \n",
    "    #Train Model and Predict  \n",
    "    neigh = KNeighborsClassifier(n_neighbors = n).fit(X_train,y_train.ravel())\n",
    "    y_hat=neigh.predict(X_test)\n",
    "    mean_acc[n-1] = metrics.accuracy_score(y_test, y_hat)\n",
    "\n",
    "    \n",
    "    std_acc[n-1]=np.std(y_hat==y_test)/np.sqrt(y_hat.shape[0])\n",
    "\n",
    "#for i in range(len(mean_acc)):\n",
    "#    print (\"For K= \", i, \"The accuracy is: \", mean_acc[i])\n",
    "    \n",
    "print (\"Highest accuracy achieved: \", max(mean_acc))\n",
    "\n"
   ]
  },
  {
   "cell_type": "code",
   "execution_count": 48,
   "metadata": {
    "hidden": true
   },
   "outputs": [
    {
     "data": {
      "image/png": "[encoded data removed]",
      "text/plain": [
       "<Figure size 432x288 with 1 Axes>"
      ]
     },
     "metadata": {
      "needs_background": "light"
     },
     "output_type": "display_data"
    },
    {
     "name": "stdout",
     "output_type": "stream",
     "text": [
      "The best accuracy was with 0.6458333333333334 when k= 3\n"
     ]
    }
   ],
   "source": [
    "plt.plot(range(1,Ks),mean_acc,'g')\n",
    "plt.fill_between(range(1,Ks), mean_acc - 1 * std_acc, mean_acc + 1 * std_acc, alpha=0.10)\n",
    "plt.legend(('Accuracy ', '+/- std'))\n",
    "plt.ylabel('Accuracy ')\n",
    "plt.xlabel('Number of Neighbors (K)')\n",
    "plt.tight_layout()\n",
    "plt.show()\n",
    "\n",
    "print (\"The best accuracy was with\", mean_acc.max(), \"when k=\", mean_acc.argmax()+1)"
   ]
  },
  {
   "cell_type": "code",
   "execution_count": 49,
   "metadata": {
    "hidden": true
   },
   "outputs": [
    {
     "name": "stdout",
     "output_type": "stream",
     "text": [
      "For K=, 0 The accuracy is:  0.625\n",
      "For K=, 1 The accuracy is:  0.625\n",
      "For K=, 2 The accuracy is:  0.6458333333333334\n",
      "For K=, 3 The accuracy is:  0.6875\n",
      "For K=, 4 The accuracy is:  0.6458333333333334\n",
      "For K=, 5 The accuracy is:  0.6666666666666666\n",
      "For K=, 6 The accuracy is:  0.625\n",
      "For K=, 7 The accuracy is:  0.6041666666666666\n",
      "For K=, 8 The accuracy is:  0.5625\n",
      "For K=, 9 The accuracy is:  0.5833333333333334\n",
      "For K=, 10 The accuracy is:  0.6041666666666666\n",
      "For K=, 11 The accuracy is:  0.625\n",
      "For K=, 12 The accuracy is:  0.5833333333333334\n",
      "For K=, 13 The accuracy is:  0.6458333333333334\n",
      "For K=, 14 The accuracy is:  0.625\n",
      "For K=, 15 The accuracy is:  0.625\n",
      "For K=, 16 The accuracy is:  0.625\n",
      "For K=, 17 The accuracy is:  0.6458333333333334\n",
      "For K=, 18 The accuracy is:  0.6666666666666666\n",
      "For K=, 19 The accuracy is:  0.6666666666666666\n",
      "For K=, 20 The accuracy is:  0.6875\n",
      "For K=, 21 The accuracy is:  0.6875\n",
      "For K=, 22 The accuracy is:  0.6875\n",
      "For K=, 23 The accuracy is:  0.6666666666666666\n",
      "For K=, 24 The accuracy is:  0.6666666666666666\n",
      "For K=, 25 The accuracy is:  0.6666666666666666\n",
      "For K=, 26 The accuracy is:  0.6875\n",
      "For K=, 27 The accuracy is:  0.6875\n",
      "For K=, 28 The accuracy is:  0.6875\n",
      "For K=, 29 The accuracy is:  0.6875\n",
      "For K=, 30 The accuracy is:  0.6875\n",
      "For K=, 31 The accuracy is:  0.6875\n",
      "For K=, 32 The accuracy is:  0.6875\n",
      "For K=, 33 The accuracy is:  0.6875\n",
      "For K=, 34 The accuracy is:  0.6875\n",
      "For K=, 35 The accuracy is:  0.6875\n",
      "For K=, 36 The accuracy is:  0.6875\n",
      "For K=, 37 The accuracy is:  0.6875\n",
      "For K=, 38 The accuracy is:  0.6875\n",
      "For K=, 39 The accuracy is:  0.6875\n",
      "For K=, 40 The accuracy is:  0.6875\n",
      "For K=, 41 The accuracy is:  0.6875\n",
      "For K=, 42 The accuracy is:  0.6875\n",
      "For K=, 43 The accuracy is:  0.6875\n",
      "For K=, 44 The accuracy is:  0.6875\n",
      "For K=, 45 The accuracy is:  0.6875\n",
      "For K=, 46 The accuracy is:  0.6875\n",
      "For K=, 47 The accuracy is:  0.6875\n",
      "For K=, 48 The accuracy is:  0.6875\n",
      "For K=, 49 The accuracy is:  0.6875\n",
      "For K=, 50 The accuracy is:  0.6875\n",
      "For K=, 51 The accuracy is:  0.6875\n",
      "For K=, 52 The accuracy is:  0.6875\n",
      "For K=, 53 The accuracy is:  0.6875\n",
      "For K=, 54 The accuracy is:  0.6875\n",
      "For K=, 55 The accuracy is:  0.6875\n",
      "For K=, 56 The accuracy is:  0.6875\n",
      "For K=, 57 The accuracy is:  0.6875\n",
      "For K=, 58 The accuracy is:  0.6875\n",
      "For K=, 59 The accuracy is:  0.6875\n",
      "For K=, 60 The accuracy is:  0.6875\n",
      "For K=, 61 The accuracy is:  0.6875\n",
      "For K=, 62 The accuracy is:  0.6875\n",
      "For K=, 63 The accuracy is:  0.6875\n",
      "For K=, 64 The accuracy is:  0.6875\n",
      "For K=, 65 The accuracy is:  0.6875\n",
      "For K=, 66 The accuracy is:  0.6875\n",
      "For K=, 67 The accuracy is:  0.6875\n",
      "For K=, 68 The accuracy is:  0.6875\n",
      "For K=, 69 The accuracy is:  0.6875\n",
      "For K=, 70 The accuracy is:  0.6875\n",
      "For K=, 71 The accuracy is:  0.6875\n",
      "For K=, 72 The accuracy is:  0.6875\n",
      "For K=, 73 The accuracy is:  0.6875\n",
      "For K=, 74 The accuracy is:  0.6875\n",
      "For K=, 75 The accuracy is:  0.6875\n",
      "For K=, 76 The accuracy is:  0.6875\n",
      "For K=, 77 The accuracy is:  0.6875\n",
      "For K=, 78 The accuracy is:  0.6875\n",
      "For K=, 79 The accuracy is:  0.6875\n",
      "For K=, 80 The accuracy is:  0.6875\n",
      "For K=, 81 The accuracy is:  0.6875\n",
      "For K=, 82 The accuracy is:  0.6875\n",
      "For K=, 83 The accuracy is:  0.6875\n",
      "For K=, 84 The accuracy is:  0.6875\n",
      "For K=, 85 The accuracy is:  0.6875\n",
      "For K=, 86 The accuracy is:  0.6875\n",
      "For K=, 87 The accuracy is:  0.6875\n",
      "For K=, 88 The accuracy is:  0.6875\n",
      "For K=, 89 The accuracy is:  0.6875\n",
      "For K=, 90 The accuracy is:  0.6875\n",
      "For K=, 91 The accuracy is:  0.6875\n",
      "For K=, 92 The accuracy is:  0.6875\n",
      "For K=, 93 The accuracy is:  0.6875\n",
      "For K=, 94 The accuracy is:  0.6875\n",
      "For K=, 95 The accuracy is:  0.6875\n",
      "For K=, 96 The accuracy is:  0.6875\n",
      "For K=, 97 The accuracy is:  0.6875\n",
      "For K=, 98 The accuracy is:  0.6875\n",
      "The best accuracy was with 0.6875 when k= 4\n"
     ]
    }
   ],
   "source": [
    "Ks = 100\n",
    "mean_acc = np.zeros((Ks-1))\n",
    "std_acc = np.zeros((Ks-1))\n",
    "ConfusionMx = [];   \n",
    "for n in range(1,Ks):\n",
    "    \n",
    "    #Train Model and Predict  \n",
    "    neigh = KNeighborsClassifier(n_neighbors = n, weights = 'distance', p=2).fit(X_train, y_train.ravel())\n",
    "    y_hat=neigh.predict(X_test)\n",
    "    mean_acc[n-1] = metrics.accuracy_score(y_test, y_hat)\n",
    "\n",
    "    \n",
    "    std_acc[n-1]=np.std(y_hat==y_test)/np.sqrt(y_hat.shape[0])\n",
    "\n",
    "for i in range(len(mean_acc)):\n",
    "    print (f\"For K=, {i} The accuracy is: \", mean_acc[i])\n",
    "    \n",
    "print (\"The best accuracy was with\", mean_acc.max(), \"when k=\", mean_acc.argmax()+1)"
   ]
  },
  {
   "cell_type": "markdown",
   "metadata": {},
   "source": [
    "### HyperOpt - Optimisation of model hyperparameters"
   ]
  },
  {
   "cell_type": "markdown",
   "metadata": {},
   "source": [
    "#### Overall Opt for any model"
   ]
  },
  {
   "cell_type": "code",
   "execution_count": 50,
   "metadata": {},
   "outputs": [
    {
     "name": "stdout",
     "output_type": "stream",
     "text": [
      "WARN: OMP_NUM_THREADS=None =>\n",
      "... If you are using openblas if you are using openblas set OMP_NUM_THREADS=1 or risk subprocess calls hanging indefinitely\n",
      "100%|█████████████████████████████████████████████████| 1/1 [00:00<00:00,  1.09trial/s, best loss: 0.17948717948717952]\n",
      "100%|█████████████████████████████████████████████████| 2/2 [00:00<00:00,  1.29trial/s, best loss: 0.17948717948717952]\n",
      "100%|█████████████████████████████████████████████████| 3/3 [00:00<00:00,  1.23trial/s, best loss: 0.17948717948717952]\n",
      "100%|█████████████████████████████████████████████████| 4/4 [00:00<00:00,  1.28trial/s, best loss: 0.17948717948717952]\n",
      "100%|█████████████████████████████████████████████████| 5/5 [00:00<00:00,  1.30trial/s, best loss: 0.17948717948717952]\n",
      "100%|█████████████████████████████████████████████████| 6/6 [00:00<00:00,  1.26trial/s, best loss: 0.17948717948717952]\n",
      "100%|█████████████████████████████████████████████████| 7/7 [00:00<00:00,  1.12trial/s, best loss: 0.17948717948717952]\n",
      "100%|█████████████████████████████████████████████████| 8/8 [00:00<00:00,  1.26trial/s, best loss: 0.17948717948717952]\n",
      "100%|█████████████████████████████████████████████████| 9/9 [00:00<00:00,  1.27trial/s, best loss: 0.17948717948717952]\n",
      "100%|███████████████████████████████████████████████| 10/10 [00:00<00:00,  1.34trial/s, best loss: 0.17948717948717952]\n",
      "100%|███████████████████████████████████████████████| 11/11 [00:00<00:00,  1.26trial/s, best loss: 0.17948717948717952]\n",
      "100%|███████████████████████████████████████████████| 12/12 [00:00<00:00,  1.32trial/s, best loss: 0.17948717948717952]\n",
      "100%|███████████████████████████████████████████████| 13/13 [00:00<00:00,  1.22trial/s, best loss: 0.17948717948717952]\n",
      "100%|███████████████████████████████████████████████| 14/14 [00:01<00:00,  1.43s/trial, best loss: 0.17948717948717952]\n",
      "100%|███████████████████████████████████████████████| 15/15 [00:00<00:00,  1.28trial/s, best loss: 0.17948717948717952]\n",
      "100%|███████████████████████████████████████████████| 16/16 [00:00<00:00,  1.25trial/s, best loss: 0.17948717948717952]\n",
      "100%|███████████████████████████████████████████████| 17/17 [00:01<00:00,  1.38s/trial, best loss: 0.17948717948717952]\n",
      "100%|███████████████████████████████████████████████| 18/18 [00:00<00:00,  1.22trial/s, best loss: 0.17948717948717952]\n",
      "100%|███████████████████████████████████████████████| 19/19 [00:00<00:00,  1.33trial/s, best loss: 0.17948717948717952]\n",
      "100%|███████████████████████████████████████████████| 20/20 [00:00<00:00,  1.28trial/s, best loss: 0.17948717948717952]\n",
      "100%|███████████████████████████████████████████████| 21/21 [00:02<00:00,  2.10s/trial, best loss: 0.17948717948717952]\n",
      "100%|███████████████████████████████████████████████| 22/22 [00:01<00:00,  1.24s/trial, best loss: 0.17948717948717952]\n",
      "100%|███████████████████████████████████████████████| 23/23 [00:00<00:00,  1.29trial/s, best loss: 0.17948717948717952]\n",
      "100%|███████████████████████████████████████████████| 24/24 [00:02<00:00,  2.30s/trial, best loss: 0.17948717948717952]\n",
      "100%|███████████████████████████████████████████████| 25/25 [00:01<00:00,  1.19s/trial, best loss: 0.17948717948717952]\n",
      "100%|███████████████████████████████████████████████| 26/26 [00:02<00:00,  2.72s/trial, best loss: 0.17948717948717952]\n",
      "100%|███████████████████████████████████████████████| 27/27 [00:02<00:00,  2.58s/trial, best loss: 0.17948717948717952]\n",
      "100%|███████████████████████████████████████████████| 28/28 [00:00<00:00,  1.07trial/s, best loss: 0.17948717948717952]\n",
      "100%|███████████████████████████████████████████████| 29/29 [00:02<00:00,  2.65s/trial, best loss: 0.17948717948717952]\n",
      "100%|███████████████████████████████████████████████| 30/30 [00:00<00:00,  1.04trial/s, best loss: 0.17948717948717952]\n",
      "100%|███████████████████████████████████████████████| 31/31 [00:00<00:00,  1.10trial/s, best loss: 0.17948717948717952]\n",
      "100%|███████████████████████████████████████████████| 32/32 [00:00<00:00,  1.02trial/s, best loss: 0.17948717948717952]\n",
      "100%|███████████████████████████████████████████████| 33/33 [00:00<00:00,  1.24trial/s, best loss: 0.17948717948717952]\n",
      "100%|███████████████████████████████████████████████| 34/34 [00:00<00:00,  1.14trial/s, best loss: 0.17948717948717952]\n",
      "100%|███████████████████████████████████████████████| 35/35 [00:00<00:00,  1.07trial/s, best loss: 0.17948717948717952]\n",
      "100%|███████████████████████████████████████████████| 36/36 [00:00<00:00,  1.25trial/s, best loss: 0.17948717948717952]\n",
      "100%|███████████████████████████████████████████████| 37/37 [00:00<00:00,  1.15trial/s, best loss: 0.17948717948717952]\n",
      "100%|███████████████████████████████████████████████| 38/38 [00:00<00:00,  1.25trial/s, best loss: 0.17948717948717952]\n",
      "100%|███████████████████████████████████████████████| 39/39 [00:00<00:00,  1.26trial/s, best loss: 0.17948717948717952]\n",
      "100%|███████████████████████████████████████████████| 40/40 [00:01<00:00,  1.06s/trial, best loss: 0.17948717948717952]\n",
      "100%|███████████████████████████████████████████████| 41/41 [00:00<00:00,  1.26trial/s, best loss: 0.17948717948717952]\n",
      "100%|███████████████████████████████████████████████| 42/42 [00:01<00:00,  1.47s/trial, best loss: 0.17948717948717952]\n",
      "100%|███████████████████████████████████████████████| 43/43 [00:01<00:00,  1.00s/trial, best loss: 0.17948717948717952]\n",
      "100%|███████████████████████████████████████████████| 44/44 [00:00<00:00,  1.20trial/s, best loss: 0.17948717948717952]\n",
      "100%|███████████████████████████████████████████████| 45/45 [00:00<00:00,  1.28trial/s, best loss: 0.17948717948717952]\n",
      "100%|███████████████████████████████████████████████| 46/46 [00:01<00:00,  1.11s/trial, best loss: 0.17948717948717952]\n",
      "100%|███████████████████████████████████████████████| 47/47 [00:00<00:00,  1.19trial/s, best loss: 0.17948717948717952]\n",
      "100%|███████████████████████████████████████████████| 48/48 [00:01<00:00,  1.12s/trial, best loss: 0.17948717948717952]\n",
      "100%|███████████████████████████████████████████████| 49/49 [00:00<00:00,  1.21trial/s, best loss: 0.17948717948717952]\n",
      "100%|███████████████████████████████████████████████| 50/50 [00:00<00:00,  1.28trial/s, best loss: 0.17948717948717952]\n",
      "100%|███████████████████████████████████████████████| 51/51 [00:00<00:00,  1.24trial/s, best loss: 0.17948717948717952]\n",
      "100%|███████████████████████████████████████████████| 52/52 [00:00<00:00,  1.08trial/s, best loss: 0.17948717948717952]\n",
      "100%|███████████████████████████████████████████████| 53/53 [00:00<00:00,  1.28trial/s, best loss: 0.17948717948717952]\n",
      "100%|███████████████████████████████████████████████| 54/54 [00:02<00:00,  2.68s/trial, best loss: 0.17948717948717952]\n",
      "100%|███████████████████████████████████████████████| 55/55 [00:01<00:00,  1.09s/trial, best loss: 0.17948717948717952]\n",
      "100%|███████████████████████████████████████████████| 56/56 [00:01<00:00,  1.15s/trial, best loss: 0.17948717948717952]\n",
      "100%|███████████████████████████████████████████████| 57/57 [00:01<00:00,  1.38s/trial, best loss: 0.17948717948717952]\n",
      "100%|███████████████████████████████████████████████| 58/58 [00:00<00:00,  1.24trial/s, best loss: 0.17948717948717952]\n",
      "100%|███████████████████████████████████████████████| 59/59 [00:00<00:00,  1.07trial/s, best loss: 0.17948717948717952]\n",
      "100%|███████████████████████████████████████████████| 60/60 [00:00<00:00,  1.28trial/s, best loss: 0.17948717948717952]\n",
      "100%|███████████████████████████████████████████████| 61/61 [00:00<00:00,  1.31trial/s, best loss: 0.17948717948717952]\n",
      "100%|███████████████████████████████████████████████| 62/62 [00:01<00:00,  1.38s/trial, best loss: 0.17948717948717952]\n",
      "100%|███████████████████████████████████████████████| 63/63 [00:00<00:00,  1.21trial/s, best loss: 0.17948717948717952]\n",
      "100%|███████████████████████████████████████████████| 64/64 [00:01<00:00,  1.32s/trial, best loss: 0.17948717948717952]\n",
      "100%|███████████████████████████████████████████████| 65/65 [00:00<00:00,  1.21trial/s, best loss: 0.17948717948717952]\n",
      "100%|███████████████████████████████████████████████| 66/66 [00:01<00:00,  1.54s/trial, best loss: 0.17948717948717952]\n"
     ]
    },
    {
     "name": "stdout",
     "output_type": "stream",
     "text": [
      "100%|███████████████████████████████████████████████| 67/67 [00:00<00:00,  1.20trial/s, best loss: 0.17948717948717952]\n",
      "100%|███████████████████████████████████████████████| 68/68 [00:00<00:00,  1.06trial/s, best loss: 0.17948717948717952]\n",
      "100%|███████████████████████████████████████████████| 69/69 [00:01<00:00,  1.04s/trial, best loss: 0.17948717948717952]\n",
      "100%|███████████████████████████████████████████████| 70/70 [00:00<00:00,  1.21trial/s, best loss: 0.17948717948717952]\n",
      "100%|███████████████████████████████████████████████| 71/71 [00:00<00:00,  1.20trial/s, best loss: 0.17948717948717952]\n",
      "100%|███████████████████████████████████████████████| 72/72 [00:00<00:00,  1.24trial/s, best loss: 0.17948717948717952]\n",
      "100%|███████████████████████████████████████████████| 73/73 [00:00<00:00,  1.23trial/s, best loss: 0.17948717948717952]\n",
      "100%|███████████████████████████████████████████████| 74/74 [00:00<00:00,  1.18trial/s, best loss: 0.17948717948717952]\n",
      "100%|███████████████████████████████████████████████| 75/75 [01:16<00:00, 76.15s/trial, best loss: 0.17948717948717952]\n",
      "100%|███████████████████████████████████████████████| 76/76 [00:01<00:00,  1.06s/trial, best loss: 0.17948717948717952]\n",
      "100%|███████████████████████████████████████████████| 77/77 [00:00<00:00,  1.23trial/s, best loss: 0.17948717948717952]\n",
      "100%|███████████████████████████████████████████████| 78/78 [00:00<00:00,  1.22trial/s, best loss: 0.17948717948717952]\n",
      "100%|███████████████████████████████████████████████| 79/79 [00:00<00:00,  1.13trial/s, best loss: 0.17948717948717952]\n",
      "100%|███████████████████████████████████████████████| 80/80 [00:00<00:00,  1.10trial/s, best loss: 0.17948717948717952]\n",
      "100%|███████████████████████████████████████████████| 81/81 [00:00<00:00,  1.21trial/s, best loss: 0.17948717948717952]\n",
      "100%|███████████████████████████████████████████████| 82/82 [00:00<00:00,  1.16trial/s, best loss: 0.17948717948717952]\n",
      "100%|███████████████████████████████████████████████| 83/83 [00:00<00:00,  1.22trial/s, best loss: 0.17948717948717952]\n",
      "100%|███████████████████████████████████████████████| 84/84 [00:00<00:00,  1.26trial/s, best loss: 0.17948717948717952]\n",
      "100%|███████████████████████████████████████████████| 85/85 [00:00<00:00,  1.22trial/s, best loss: 0.17948717948717952]\n",
      "100%|███████████████████████████████████████████████| 86/86 [00:00<00:00,  1.15trial/s, best loss: 0.17948717948717952]\n",
      "100%|███████████████████████████████████████████████| 87/87 [00:00<00:00,  1.01trial/s, best loss: 0.17948717948717952]\n",
      "100%|███████████████████████████████████████████████| 88/88 [00:00<00:00,  1.22trial/s, best loss: 0.17948717948717952]\n",
      "100%|███████████████████████████████████████████████| 89/89 [00:00<00:00,  1.26trial/s, best loss: 0.17948717948717952]\n",
      "100%|███████████████████████████████████████████████| 90/90 [00:00<00:00,  1.24trial/s, best loss: 0.17948717948717952]\n",
      "100%|███████████████████████████████████████████████| 91/91 [00:00<00:00,  1.10trial/s, best loss: 0.17948717948717952]\n",
      "100%|███████████████████████████████████████████████| 92/92 [00:00<00:00,  1.17trial/s, best loss: 0.17948717948717952]\n",
      "100%|███████████████████████████████████████████████| 93/93 [00:01<00:00,  1.02s/trial, best loss: 0.17948717948717952]\n",
      "100%|███████████████████████████████████████████████| 94/94 [00:01<00:00,  1.06s/trial, best loss: 0.17948717948717952]\n",
      "100%|███████████████████████████████████████████████| 95/95 [00:00<00:00,  1.27trial/s, best loss: 0.17948717948717952]\n",
      "100%|███████████████████████████████████████████████| 96/96 [00:00<00:00,  1.28trial/s, best loss: 0.17948717948717952]\n",
      "100%|███████████████████████████████████████████████| 97/97 [00:00<00:00,  1.26trial/s, best loss: 0.17948717948717952]\n",
      "100%|███████████████████████████████████████████████| 98/98 [00:01<00:00,  1.39s/trial, best loss: 0.17948717948717952]\n",
      "100%|███████████████████████████████████████████████| 99/99 [00:00<00:00,  1.27trial/s, best loss: 0.17948717948717952]\n",
      "100%|█████████████████████████████████████████████| 100/100 [00:01<00:00,  1.48s/trial, best loss: 0.17948717948717952]\n",
      "100%|█████████████████████████████████████████████| 101/101 [00:01<00:00,  1.09s/trial, best loss: 0.17948717948717952]\n",
      "100%|█████████████████████████████████████████████| 102/102 [00:00<00:00,  1.14trial/s, best loss: 0.17948717948717952]\n",
      "100%|█████████████████████████████████████████████| 103/103 [00:01<00:00,  1.10s/trial, best loss: 0.17948717948717952]\n",
      "100%|█████████████████████████████████████████████| 104/104 [00:00<00:00,  1.16trial/s, best loss: 0.17948717948717952]\n",
      "100%|█████████████████████████████████████████████| 105/105 [00:00<00:00,  1.12trial/s, best loss: 0.17948717948717952]\n",
      "100%|█████████████████████████████████████████████| 106/106 [00:00<00:00,  1.09trial/s, best loss: 0.17948717948717952]\n",
      "100%|█████████████████████████████████████████████| 107/107 [00:00<00:00,  1.25trial/s, best loss: 0.17948717948717952]\n",
      "100%|████████████████████████████████████████████| 108/108 [01:40<00:00, 100.81s/trial, best loss: 0.17948717948717952]\n",
      "100%|████████████████████████████████████████████| 109/109 [01:40<00:00, 100.74s/trial, best loss: 0.17948717948717952]\n",
      "100%|█████████████████████████████████████████████| 110/110 [00:00<00:00,  1.26trial/s, best loss: 0.17948717948717952]\n",
      "100%|█████████████████████████████████████████████| 111/111 [00:00<00:00,  1.22trial/s, best loss: 0.17948717948717952]\n",
      "100%|█████████████████████████████████████████████| 112/112 [00:00<00:00,  1.29trial/s, best loss: 0.17948717948717952]\n",
      "100%|█████████████████████████████████████████████| 113/113 [00:00<00:00,  1.30trial/s, best loss: 0.17948717948717952]\n",
      "100%|█████████████████████████████████████████████| 114/114 [00:00<00:00,  1.21trial/s, best loss: 0.17948717948717952]\n",
      "100%|█████████████████████████████████████████████| 115/115 [00:00<00:00,  1.29trial/s, best loss: 0.17948717948717952]\n",
      "100%|█████████████████████████████████████████████| 116/116 [00:00<00:00,  1.05trial/s, best loss: 0.17948717948717952]\n",
      "100%|█████████████████████████████████████████████| 117/117 [00:00<00:00,  1.16trial/s, best loss: 0.17948717948717952]\n",
      "100%|█████████████████████████████████████████████| 118/118 [00:00<00:00,  1.29trial/s, best loss: 0.17948717948717952]\n",
      "100%|█████████████████████████████████████████████| 119/119 [00:01<00:00,  1.02s/trial, best loss: 0.17948717948717952]\n",
      "100%|█████████████████████████████████████████████| 120/120 [00:00<00:00,  1.23trial/s, best loss: 0.17948717948717952]\n",
      "100%|█████████████████████████████████████████████| 121/121 [00:00<00:00,  1.29trial/s, best loss: 0.17948717948717952]\n",
      "100%|█████████████████████████████████████████████| 122/122 [00:00<00:00,  1.25trial/s, best loss: 0.17948717948717952]\n",
      "100%|█████████████████████████████████████████████| 123/123 [00:00<00:00,  1.08trial/s, best loss: 0.17948717948717952]\n",
      "100%|█████████████████████████████████████████████| 124/124 [00:00<00:00,  1.25trial/s, best loss: 0.17948717948717952]\n",
      "100%|█████████████████████████████████████████████| 125/125 [00:00<00:00,  1.23trial/s, best loss: 0.17948717948717952]\n",
      "100%|█████████████████████████████████████████████| 126/126 [00:00<00:00,  1.20trial/s, best loss: 0.17948717948717952]\n",
      "100%|█████████████████████████████████████████████| 127/127 [00:00<00:00,  1.22trial/s, best loss: 0.17948717948717952]\n",
      "100%|█████████████████████████████████████████████| 128/128 [00:00<00:00,  1.23trial/s, best loss: 0.17948717948717952]\n",
      "100%|█████████████████████████████████████████████| 129/129 [00:01<00:00,  1.01s/trial, best loss: 0.17948717948717952]\n",
      "100%|█████████████████████████████████████████████| 130/130 [00:01<00:00,  1.04s/trial, best loss: 0.17948717948717952]\n",
      "100%|█████████████████████████████████████████████| 131/131 [00:00<00:00,  1.21trial/s, best loss: 0.17948717948717952]\n",
      "100%|█████████████████████████████████████████████| 132/132 [00:00<00:00,  1.28trial/s, best loss: 0.17948717948717952]\n",
      "100%|█████████████████████████████████████████████| 133/133 [00:00<00:00,  1.26trial/s, best loss: 0.17948717948717952]\n",
      "100%|█████████████████████████████████████████████| 134/134 [00:00<00:00,  1.21trial/s, best loss: 0.17948717948717952]\n"
     ]
    },
    {
     "name": "stdout",
     "output_type": "stream",
     "text": [
      "100%|█████████████████████████████████████████████| 135/135 [00:00<00:00,  1.29trial/s, best loss: 0.17948717948717952]\n",
      "100%|█████████████████████████████████████████████| 136/136 [00:00<00:00,  1.28trial/s, best loss: 0.17948717948717952]\n",
      "100%|█████████████████████████████████████████████| 137/137 [00:00<00:00,  1.22trial/s, best loss: 0.17948717948717952]\n",
      "100%|█████████████████████████████████████████████| 138/138 [00:01<00:00,  1.55s/trial, best loss: 0.17948717948717952]\n",
      "100%|█████████████████████████████████████████████| 139/139 [00:00<00:00,  1.20trial/s, best loss: 0.17948717948717952]\n",
      "100%|█████████████████████████████████████████████| 140/140 [00:01<00:00,  1.93s/trial, best loss: 0.17948717948717952]\n",
      "100%|█████████████████████████████████████████████| 141/141 [00:01<00:00,  1.05s/trial, best loss: 0.17948717948717952]\n",
      "100%|█████████████████████████████████████████████| 142/142 [00:01<00:00,  1.00s/trial, best loss: 0.17948717948717952]\n",
      "100%|█████████████████████████████████████████████| 143/143 [00:01<00:00,  1.28s/trial, best loss: 0.17948717948717952]\n",
      "100%|█████████████████████████████████████████████| 144/144 [00:00<00:00,  1.17trial/s, best loss: 0.17948717948717952]\n",
      "100%|█████████████████████████████████████████████| 145/145 [00:00<00:00,  1.26trial/s, best loss: 0.17948717948717952]\n",
      "100%|█████████████████████████████████████████████| 146/146 [00:00<00:00,  1.19trial/s, best loss: 0.17948717948717952]\n",
      "100%|█████████████████████████████████████████████| 147/147 [00:00<00:00,  1.23trial/s, best loss: 0.17948717948717952]\n",
      "100%|█████████████████████████████████████████████| 148/148 [00:00<00:00,  1.19trial/s, best loss: 0.17948717948717952]\n",
      "100%|█████████████████████████████████████████████| 149/149 [00:00<00:00,  1.16trial/s, best loss: 0.17948717948717952]\n",
      "100%|█████████████████████████████████████████████| 150/150 [00:01<00:00,  1.08s/trial, best loss: 0.17948717948717952]\n"
     ]
    }
   ],
   "source": [
    "from hpsklearn import HyperoptEstimator, any_classifier, any_preprocessing #any_sparse_classifier\n",
    "from hyperopt import fmin, tpe\n",
    "\n",
    "model = HyperoptEstimator(classifier=any_classifier('clf'), \n",
    "                          preprocessing=any_preprocessing('pre'), \n",
    "                          algo=tpe.suggest, \n",
    "                          max_evals=150, trial_timeout=100)\n",
    "\n",
    "# perform the search\n",
    "model.fit(X_train, y_train.ravel())"
   ]
  },
  {
   "cell_type": "code",
   "execution_count": 51,
   "metadata": {},
   "outputs": [
    {
     "name": "stdout",
     "output_type": "stream",
     "text": [
      "Accuracy: 0.688\n",
      "{'learner': AdaBoostClassifier(algorithm='SAMME', learning_rate=0.04582023925804233,\n",
      "                   n_estimators=233, random_state=3), 'preprocs': (Normalizer(),), 'ex_preprocs': ()}\n"
     ]
    }
   ],
   "source": [
    "# select the best model\n",
    "\n",
    "acc = model.score(X_test, y_test)\n",
    "print(\"Accuracy: %.3f\" % acc)\n",
    "\n",
    "# the best model details/hyperparameters\n",
    "print(model.best_model())"
   ]
  }
 ],
 "metadata": {
  "kernelspec": {
   "display_name": "Python 3 (ipykernel)",
   "language": "python",
   "name": "python3"
  },
  "language_info": {
   "codemirror_mode": {
    "name": "ipython",
    "version": 3
   },
   "file_extension": ".py",
   "mimetype": "text/x-python",
   "name": "python",
   "nbconvert_exporter": "python",
   "pygments_lexer": "ipython3",
   "version": "3.9.7"
  },
  "toc": {
   "base_numbering": 1,
   "nav_menu": {},
   "number_sections": true,
   "sideBar": true,
   "skip_h1_title": false,
   "title_cell": "Table of Contents",
   "title_sidebar": "Contents",
   "toc_cell": false,
   "toc_position": {},
   "toc_section_display": true,
   "toc_window_display": false
  }
 },
 "nbformat": 4,
 "nbformat_minor": 2
}
