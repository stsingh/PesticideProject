{
 "cells": [
  {
   "cell_type": "code",
   "execution_count": 1,
   "metadata": {},
   "outputs": [],
   "source": [
    "# copy x train five times for each model\n",
    "#different workflow patterns, (pca vs no pca, hyperopt vs no, high dim vs low)\n",
    "import numpy as np\n",
    "import pandas as pd\n",
    "import matplotlib.pyplot as plt\n",
    "from sklearn import preprocessing\n",
    "from plotter import Plotter"
   ]
  },
  {
   "cell_type": "markdown",
   "metadata": {},
   "source": [
    "### Data preperation"
   ]
  },
  {
   "cell_type": "markdown",
   "metadata": {
    "heading_collapsed": true
   },
   "source": [
    "#### Load the data and generate descriptors"
   ]
  },
  {
   "cell_type": "code",
   "execution_count": 3,
   "metadata": {
    "hidden": true
   },
   "outputs": [
    {
     "data": {
      "text/html": [
       "<div>\n",
       "<style scoped>\n",
       "    .dataframe tbody tr th:only-of-type {\n",
       "        vertical-align: middle;\n",
       "    }\n",
       "\n",
       "    .dataframe tbody tr th {\n",
       "        vertical-align: top;\n",
       "    }\n",
       "\n",
       "    .dataframe thead th {\n",
       "        text-align: right;\n",
       "    }\n",
       "</style>\n",
       "<table border=\"1\" class=\"dataframe\">\n",
       "  <thead>\n",
       "    <tr style=\"text-align: right;\">\n",
       "      <th></th>\n",
       "      <th>Pesticide Name</th>\n",
       "      <th>LOD</th>\n",
       "      <th>EPA Tolerance (ppm)</th>\n",
       "      <th>Smiles</th>\n",
       "      <th>ExactMolWt</th>\n",
       "      <th>HeavyAtomMolWt</th>\n",
       "      <th>NumRadicalElectrons</th>\n",
       "      <th>NumValenceElectrons</th>\n",
       "      <th>HeavyAtomCount</th>\n",
       "      <th>NHOHCount</th>\n",
       "      <th>...</th>\n",
       "      <th>FeatureAcceptorCount3D</th>\n",
       "      <th>FeatureDonorCount3D</th>\n",
       "      <th>FeatureAnionCount3D</th>\n",
       "      <th>FeatureCationCount3D</th>\n",
       "      <th>FeatureRingCount3D</th>\n",
       "      <th>FeatureHydrophobeCount3D</th>\n",
       "      <th>ConformerModelRMSD3D</th>\n",
       "      <th>EffectiveRotorCount3D</th>\n",
       "      <th>ConformerCount3D</th>\n",
       "      <th>Class</th>\n",
       "    </tr>\n",
       "  </thead>\n",
       "  <tbody>\n",
       "    <tr>\n",
       "      <th>0</th>\n",
       "      <td>Procymidone</td>\n",
       "      <td>0.014</td>\n",
       "      <td>NT</td>\n",
       "      <td>CC12CC1(C)C(=O)N(C2=O)c3cc(Cl)cc(Cl)c3</td>\n",
       "      <td>283.016684</td>\n",
       "      <td>273.054</td>\n",
       "      <td>0</td>\n",
       "      <td>94</td>\n",
       "      <td>18</td>\n",
       "      <td>0</td>\n",
       "      <td>...</td>\n",
       "      <td>2.0</td>\n",
       "      <td>0.0</td>\n",
       "      <td>0.0</td>\n",
       "      <td>0.0</td>\n",
       "      <td>2.0</td>\n",
       "      <td>0.0</td>\n",
       "      <td>0.6</td>\n",
       "      <td>1.4</td>\n",
       "      <td>3</td>\n",
       "      <td>1</td>\n",
       "    </tr>\n",
       "    <tr>\n",
       "      <th>1</th>\n",
       "      <td>Fenamiphos</td>\n",
       "      <td>0.004</td>\n",
       "      <td>NT</td>\n",
       "      <td>CCO[P](=O)(NC(C)C)Oc1ccc(SC)c(C)c1</td>\n",
       "      <td>303.105801</td>\n",
       "      <td>281.188</td>\n",
       "      <td>0</td>\n",
       "      <td>108</td>\n",
       "      <td>19</td>\n",
       "      <td>1</td>\n",
       "      <td>...</td>\n",
       "      <td>1.0</td>\n",
       "      <td>0.0</td>\n",
       "      <td>0.0</td>\n",
       "      <td>0.0</td>\n",
       "      <td>1.0</td>\n",
       "      <td>2.0</td>\n",
       "      <td>0.8</td>\n",
       "      <td>7.0</td>\n",
       "      <td>10</td>\n",
       "      <td>1</td>\n",
       "    </tr>\n",
       "    <tr>\n",
       "      <th>2</th>\n",
       "      <td>Metribuzin</td>\n",
       "      <td>0.030</td>\n",
       "      <td>NT</td>\n",
       "      <td>CSC1=NN=C(C(=O)N1N)C(C)(C)C</td>\n",
       "      <td>214.088832</td>\n",
       "      <td>200.182</td>\n",
       "      <td>0</td>\n",
       "      <td>78</td>\n",
       "      <td>14</td>\n",
       "      <td>2</td>\n",
       "      <td>...</td>\n",
       "      <td>2.0</td>\n",
       "      <td>1.0</td>\n",
       "      <td>0.0</td>\n",
       "      <td>0.0</td>\n",
       "      <td>1.0</td>\n",
       "      <td>2.0</td>\n",
       "      <td>0.6</td>\n",
       "      <td>2.0</td>\n",
       "      <td>3</td>\n",
       "      <td>1</td>\n",
       "    </tr>\n",
       "    <tr>\n",
       "      <th>3</th>\n",
       "      <td>Fenamiphos sulfone</td>\n",
       "      <td>0.008</td>\n",
       "      <td>NT</td>\n",
       "      <td>CCO[P](=O)(NC(C)C)Oc1ccc(c(C)c1)[S](C)(=O)=O</td>\n",
       "      <td>335.095630</td>\n",
       "      <td>313.186</td>\n",
       "      <td>0</td>\n",
       "      <td>120</td>\n",
       "      <td>21</td>\n",
       "      <td>1</td>\n",
       "      <td>...</td>\n",
       "      <td>3.0</td>\n",
       "      <td>0.0</td>\n",
       "      <td>0.0</td>\n",
       "      <td>0.0</td>\n",
       "      <td>1.0</td>\n",
       "      <td>1.0</td>\n",
       "      <td>0.8</td>\n",
       "      <td>7.0</td>\n",
       "      <td>10</td>\n",
       "      <td>1</td>\n",
       "    </tr>\n",
       "    <tr>\n",
       "      <th>4</th>\n",
       "      <td>Methiocarb</td>\n",
       "      <td>0.043</td>\n",
       "      <td>NT</td>\n",
       "      <td>CNC(=O)Oc1cc(C)c(SC)c(C)c1</td>\n",
       "      <td>225.082350</td>\n",
       "      <td>210.193</td>\n",
       "      <td>0</td>\n",
       "      <td>82</td>\n",
       "      <td>15</td>\n",
       "      <td>1</td>\n",
       "      <td>...</td>\n",
       "      <td>1.0</td>\n",
       "      <td>1.0</td>\n",
       "      <td>0.0</td>\n",
       "      <td>0.0</td>\n",
       "      <td>1.0</td>\n",
       "      <td>1.0</td>\n",
       "      <td>0.6</td>\n",
       "      <td>4.0</td>\n",
       "      <td>10</td>\n",
       "      <td>1</td>\n",
       "    </tr>\n",
       "  </tbody>\n",
       "</table>\n",
       "<p>5 rows × 61 columns</p>\n",
       "</div>"
      ],
      "text/plain": [
       "       Pesticide Name    LOD EPA Tolerance (ppm)  \\\n",
       "0         Procymidone  0.014                  NT   \n",
       "1          Fenamiphos  0.004                  NT   \n",
       "2          Metribuzin  0.030                  NT   \n",
       "3  Fenamiphos sulfone  0.008                  NT   \n",
       "4          Methiocarb  0.043                  NT   \n",
       "\n",
       "                                         Smiles  ExactMolWt  HeavyAtomMolWt  \\\n",
       "0        CC12CC1(C)C(=O)N(C2=O)c3cc(Cl)cc(Cl)c3  283.016684         273.054   \n",
       "1            CCO[P](=O)(NC(C)C)Oc1ccc(SC)c(C)c1  303.105801         281.188   \n",
       "2                   CSC1=NN=C(C(=O)N1N)C(C)(C)C  214.088832         200.182   \n",
       "3  CCO[P](=O)(NC(C)C)Oc1ccc(c(C)c1)[S](C)(=O)=O  335.095630         313.186   \n",
       "4                    CNC(=O)Oc1cc(C)c(SC)c(C)c1  225.082350         210.193   \n",
       "\n",
       "   NumRadicalElectrons  NumValenceElectrons  HeavyAtomCount  NHOHCount  ...  \\\n",
       "0                    0                   94              18          0  ...   \n",
       "1                    0                  108              19          1  ...   \n",
       "2                    0                   78              14          2  ...   \n",
       "3                    0                  120              21          1  ...   \n",
       "4                    0                   82              15          1  ...   \n",
       "\n",
       "   FeatureAcceptorCount3D  FeatureDonorCount3D  FeatureAnionCount3D  \\\n",
       "0                     2.0                  0.0                  0.0   \n",
       "1                     1.0                  0.0                  0.0   \n",
       "2                     2.0                  1.0                  0.0   \n",
       "3                     3.0                  0.0                  0.0   \n",
       "4                     1.0                  1.0                  0.0   \n",
       "\n",
       "   FeatureCationCount3D  FeatureRingCount3D  FeatureHydrophobeCount3D  \\\n",
       "0                   0.0                 2.0                       0.0   \n",
       "1                   0.0                 1.0                       2.0   \n",
       "2                   0.0                 1.0                       2.0   \n",
       "3                   0.0                 1.0                       1.0   \n",
       "4                   0.0                 1.0                       1.0   \n",
       "\n",
       "   ConformerModelRMSD3D  EffectiveRotorCount3D  ConformerCount3D  Class  \n",
       "0                   0.6                    1.4                 3      1  \n",
       "1                   0.8                    7.0                10      1  \n",
       "2                   0.6                    2.0                 3      1  \n",
       "3                   0.8                    7.0                10      1  \n",
       "4                   0.6                    4.0                10      1  \n",
       "\n",
       "[5 rows x 61 columns]"
      ]
     },
     "execution_count": 3,
     "metadata": {},
     "output_type": "execute_result"
    }
   ],
   "source": [
    "pest_data = pd.read_csv(\"Data/BinaryPesticideData.csv\", delimiter=\",\")\n",
    "pest_data[0:5]"
   ]
  },
  {
   "cell_type": "code",
   "execution_count": 4,
   "metadata": {
    "hidden": true
   },
   "outputs": [
    {
     "data": {
      "text/html": [
       "<div>\n",
       "<style scoped>\n",
       "    .dataframe tbody tr th:only-of-type {\n",
       "        vertical-align: middle;\n",
       "    }\n",
       "\n",
       "    .dataframe tbody tr th {\n",
       "        vertical-align: top;\n",
       "    }\n",
       "\n",
       "    .dataframe thead th {\n",
       "        text-align: right;\n",
       "    }\n",
       "</style>\n",
       "<table border=\"1\" class=\"dataframe\">\n",
       "  <thead>\n",
       "    <tr style=\"text-align: right;\">\n",
       "      <th></th>\n",
       "      <th>Pesticide Name</th>\n",
       "      <th>LOD</th>\n",
       "      <th>EPA Tolerance (ppm)</th>\n",
       "      <th>Smiles</th>\n",
       "      <th>ExactMolWt</th>\n",
       "      <th>HeavyAtomMolWt</th>\n",
       "      <th>NumRadicalElectrons</th>\n",
       "      <th>NumValenceElectrons</th>\n",
       "      <th>HeavyAtomCount</th>\n",
       "      <th>NHOHCount</th>\n",
       "      <th>...</th>\n",
       "      <th>FeatureAcceptorCount3D</th>\n",
       "      <th>FeatureDonorCount3D</th>\n",
       "      <th>FeatureAnionCount3D</th>\n",
       "      <th>FeatureCationCount3D</th>\n",
       "      <th>FeatureRingCount3D</th>\n",
       "      <th>FeatureHydrophobeCount3D</th>\n",
       "      <th>ConformerModelRMSD3D</th>\n",
       "      <th>EffectiveRotorCount3D</th>\n",
       "      <th>ConformerCount3D</th>\n",
       "      <th>Class</th>\n",
       "    </tr>\n",
       "  </thead>\n",
       "  <tbody>\n",
       "    <tr>\n",
       "      <th>235</th>\n",
       "      <td>Oxamyl oxime</td>\n",
       "      <td>0.001</td>\n",
       "      <td>T</td>\n",
       "      <td>CSC(=N/O)/C(=O)N(C)C</td>\n",
       "      <td>162.046299</td>\n",
       "      <td>152.134</td>\n",
       "      <td>0</td>\n",
       "      <td>58</td>\n",
       "      <td>10</td>\n",
       "      <td>1</td>\n",
       "      <td>...</td>\n",
       "      <td>2.0</td>\n",
       "      <td>0.0</td>\n",
       "      <td>1.0</td>\n",
       "      <td>0.0</td>\n",
       "      <td>0.0</td>\n",
       "      <td>1.0</td>\n",
       "      <td>0.6</td>\n",
       "      <td>3.0</td>\n",
       "      <td>10</td>\n",
       "      <td>2</td>\n",
       "    </tr>\n",
       "    <tr>\n",
       "      <th>236</th>\n",
       "      <td>Pyriproxyfen</td>\n",
       "      <td>0.014</td>\n",
       "      <td>T</td>\n",
       "      <td>CC(COc1ccc(Oc2ccccc2)cc1)Oc3ccccn3</td>\n",
       "      <td>321.136493</td>\n",
       "      <td>302.224</td>\n",
       "      <td>0</td>\n",
       "      <td>122</td>\n",
       "      <td>24</td>\n",
       "      <td>0</td>\n",
       "      <td>...</td>\n",
       "      <td>4.0</td>\n",
       "      <td>0.0</td>\n",
       "      <td>0.0</td>\n",
       "      <td>0.0</td>\n",
       "      <td>3.0</td>\n",
       "      <td>0.0</td>\n",
       "      <td>1.0</td>\n",
       "      <td>7.0</td>\n",
       "      <td>10</td>\n",
       "      <td>2</td>\n",
       "    </tr>\n",
       "    <tr>\n",
       "      <th>237</th>\n",
       "      <td>Boscalid</td>\n",
       "      <td>0.001</td>\n",
       "      <td>T</td>\n",
       "      <td>Clc1ccc(cc1)c2ccccc2NC(=O)c3cccnc3Cl</td>\n",
       "      <td>342.032668</td>\n",
       "      <td>331.117</td>\n",
       "      <td>0</td>\n",
       "      <td>114</td>\n",
       "      <td>23</td>\n",
       "      <td>1</td>\n",
       "      <td>...</td>\n",
       "      <td>2.0</td>\n",
       "      <td>1.0</td>\n",
       "      <td>0.0</td>\n",
       "      <td>0.0</td>\n",
       "      <td>3.0</td>\n",
       "      <td>0.0</td>\n",
       "      <td>0.6</td>\n",
       "      <td>4.0</td>\n",
       "      <td>10</td>\n",
       "      <td>2</td>\n",
       "    </tr>\n",
       "    <tr>\n",
       "      <th>238</th>\n",
       "      <td>Fenpropathrin</td>\n",
       "      <td>0.026</td>\n",
       "      <td>T</td>\n",
       "      <td>CC1(C)C(C(=O)OC(C#N)c2cccc(Oc3ccccc3)c2)C1(C)C</td>\n",
       "      <td>349.167794</td>\n",
       "      <td>326.246</td>\n",
       "      <td>0</td>\n",
       "      <td>134</td>\n",
       "      <td>26</td>\n",
       "      <td>0</td>\n",
       "      <td>...</td>\n",
       "      <td>3.0</td>\n",
       "      <td>0.0</td>\n",
       "      <td>0.0</td>\n",
       "      <td>0.0</td>\n",
       "      <td>2.0</td>\n",
       "      <td>2.0</td>\n",
       "      <td>1.0</td>\n",
       "      <td>6.6</td>\n",
       "      <td>10</td>\n",
       "      <td>2</td>\n",
       "    </tr>\n",
       "    <tr>\n",
       "      <th>239</th>\n",
       "      <td>Carfentrazone ethyl</td>\n",
       "      <td>0.003</td>\n",
       "      <td>T</td>\n",
       "      <td>CCOC(=O)C(Cl)Cc1cc(N2N=C(C)N(C(F)F)C2=O)c(F)cc1Cl</td>\n",
       "      <td>411.036431</td>\n",
       "      <td>398.083</td>\n",
       "      <td>0</td>\n",
       "      <td>142</td>\n",
       "      <td>26</td>\n",
       "      <td>0</td>\n",
       "      <td>...</td>\n",
       "      <td>2.0</td>\n",
       "      <td>0.0</td>\n",
       "      <td>0.0</td>\n",
       "      <td>0.0</td>\n",
       "      <td>2.0</td>\n",
       "      <td>0.0</td>\n",
       "      <td>0.8</td>\n",
       "      <td>7.0</td>\n",
       "      <td>10</td>\n",
       "      <td>2</td>\n",
       "    </tr>\n",
       "  </tbody>\n",
       "</table>\n",
       "<p>5 rows × 61 columns</p>\n",
       "</div>"
      ],
      "text/plain": [
       "          Pesticide Name    LOD EPA Tolerance (ppm)  \\\n",
       "235         Oxamyl oxime  0.001                   T   \n",
       "236         Pyriproxyfen  0.014                   T   \n",
       "237             Boscalid  0.001                   T   \n",
       "238        Fenpropathrin  0.026                   T   \n",
       "239  Carfentrazone ethyl  0.003                   T   \n",
       "\n",
       "                                                Smiles  ExactMolWt  \\\n",
       "235                               CSC(=N/O)/C(=O)N(C)C  162.046299   \n",
       "236                 CC(COc1ccc(Oc2ccccc2)cc1)Oc3ccccn3  321.136493   \n",
       "237               Clc1ccc(cc1)c2ccccc2NC(=O)c3cccnc3Cl  342.032668   \n",
       "238     CC1(C)C(C(=O)OC(C#N)c2cccc(Oc3ccccc3)c2)C1(C)C  349.167794   \n",
       "239  CCOC(=O)C(Cl)Cc1cc(N2N=C(C)N(C(F)F)C2=O)c(F)cc1Cl  411.036431   \n",
       "\n",
       "     HeavyAtomMolWt  NumRadicalElectrons  NumValenceElectrons  HeavyAtomCount  \\\n",
       "235         152.134                    0                   58              10   \n",
       "236         302.224                    0                  122              24   \n",
       "237         331.117                    0                  114              23   \n",
       "238         326.246                    0                  134              26   \n",
       "239         398.083                    0                  142              26   \n",
       "\n",
       "     NHOHCount  ...  FeatureAcceptorCount3D  FeatureDonorCount3D  \\\n",
       "235          1  ...                     2.0                  0.0   \n",
       "236          0  ...                     4.0                  0.0   \n",
       "237          1  ...                     2.0                  1.0   \n",
       "238          0  ...                     3.0                  0.0   \n",
       "239          0  ...                     2.0                  0.0   \n",
       "\n",
       "     FeatureAnionCount3D  FeatureCationCount3D  FeatureRingCount3D  \\\n",
       "235                  1.0                   0.0                 0.0   \n",
       "236                  0.0                   0.0                 3.0   \n",
       "237                  0.0                   0.0                 3.0   \n",
       "238                  0.0                   0.0                 2.0   \n",
       "239                  0.0                   0.0                 2.0   \n",
       "\n",
       "     FeatureHydrophobeCount3D  ConformerModelRMSD3D  EffectiveRotorCount3D  \\\n",
       "235                       1.0                   0.6                    3.0   \n",
       "236                       0.0                   1.0                    7.0   \n",
       "237                       0.0                   0.6                    4.0   \n",
       "238                       2.0                   1.0                    6.6   \n",
       "239                       0.0                   0.8                    7.0   \n",
       "\n",
       "     ConformerCount3D  Class  \n",
       "235                10      2  \n",
       "236                10      2  \n",
       "237                10      2  \n",
       "238                10      2  \n",
       "239                10      2  \n",
       "\n",
       "[5 rows x 61 columns]"
      ]
     },
     "execution_count": 4,
     "metadata": {},
     "output_type": "execute_result"
    }
   ],
   "source": [
    "pest_data.tail()"
   ]
  },
  {
   "cell_type": "code",
   "execution_count": 5,
   "metadata": {
    "hidden": true
   },
   "outputs": [
    {
     "data": {
      "text/plain": [
       "Pesticide Name              240\n",
       "LOD                         240\n",
       "EPA Tolerance (ppm)         240\n",
       "Smiles                      240\n",
       "ExactMolWt                  240\n",
       "                           ... \n",
       "FeatureHydrophobeCount3D    240\n",
       "ConformerModelRMSD3D        240\n",
       "EffectiveRotorCount3D       240\n",
       "ConformerCount3D            240\n",
       "Class                       240\n",
       "Length: 61, dtype: int64"
      ]
     },
     "execution_count": 5,
     "metadata": {},
     "output_type": "execute_result"
    }
   ],
   "source": [
    "pest_data.count()"
   ]
  },
  {
   "cell_type": "code",
   "execution_count": 6,
   "metadata": {
    "hidden": true
   },
   "outputs": [
    {
     "data": {
      "text/plain": [
       "dtype('int64')"
      ]
     },
     "execution_count": 6,
     "metadata": {},
     "output_type": "execute_result"
    }
   ],
   "source": [
    "pest_data[\"Class\"].dtype"
   ]
  },
  {
   "cell_type": "code",
   "execution_count": 7,
   "metadata": {
    "hidden": true
   },
   "outputs": [
    {
     "data": {
      "text/plain": [
       "Index(['Pesticide Name', 'LOD', 'EPA Tolerance (ppm)', 'Smiles', 'ExactMolWt',\n",
       "       'HeavyAtomMolWt', 'NumRadicalElectrons', 'NumValenceElectrons',\n",
       "       'HeavyAtomCount', 'NHOHCount', 'NOCount', 'NumAliphaticCarbocycles',\n",
       "       'NumAliphaticHeterocycles', 'NumAliphaticRings',\n",
       "       'NumAromaticCarbocycles', 'NumAromaticHeterocycles', 'NumAromaticRings',\n",
       "       'NumHAcceptors', 'NumHDonors', 'NumHeteroatoms', 'NumRotatableBonds',\n",
       "       'NumSaturatedCarbocycles', 'NumSaturatedHeterocycles',\n",
       "       'NumSaturatedRings', 'RingCount', 'Halogens', 'MolecularFormula',\n",
       "       'MolecularWeight', 'CanonicalSMILES', 'XLogP', 'ExactMass', 'TPSA',\n",
       "       'Complexity', 'Charge', 'HBondDonorCount', 'HBondAcceptorCount',\n",
       "       'RotatableBondCount', 'HeavyAtomCount.1', 'IsotopeAtomCount',\n",
       "       'AtomStereoCount', 'DefinedAtomStereoCount', 'UndefinedAtomStereoCount',\n",
       "       'BondStereoCount', 'DefinedBondStereoCount', 'UndefinedBondStereoCount',\n",
       "       'CovalentUnitCount', 'Volume3D', 'XStericQuadrupole3D',\n",
       "       'YStericQuadrupole3D', 'ZStericQuadrupole3D', 'FeatureCount3D',\n",
       "       'FeatureAcceptorCount3D', 'FeatureDonorCount3D', 'FeatureAnionCount3D',\n",
       "       'FeatureCationCount3D', 'FeatureRingCount3D',\n",
       "       'FeatureHydrophobeCount3D', 'ConformerModelRMSD3D',\n",
       "       'EffectiveRotorCount3D', 'ConformerCount3D', 'Class'],\n",
       "      dtype='object')"
      ]
     },
     "execution_count": 7,
     "metadata": {},
     "output_type": "execute_result"
    }
   ],
   "source": [
    "pest_data.columns"
   ]
  },
  {
   "cell_type": "code",
   "execution_count": 8,
   "metadata": {
    "hidden": true
   },
   "outputs": [
    {
     "data": {
      "text/html": [
       "<div>\n",
       "<style scoped>\n",
       "    .dataframe tbody tr th:only-of-type {\n",
       "        vertical-align: middle;\n",
       "    }\n",
       "\n",
       "    .dataframe tbody tr th {\n",
       "        vertical-align: top;\n",
       "    }\n",
       "\n",
       "    .dataframe thead th {\n",
       "        text-align: right;\n",
       "    }\n",
       "</style>\n",
       "<table border=\"1\" class=\"dataframe\">\n",
       "  <thead>\n",
       "    <tr style=\"text-align: right;\">\n",
       "      <th></th>\n",
       "      <th>LOD</th>\n",
       "      <th>ExactMolWt</th>\n",
       "      <th>HeavyAtomMolWt</th>\n",
       "      <th>NumRadicalElectrons</th>\n",
       "      <th>NumValenceElectrons</th>\n",
       "      <th>HeavyAtomCount</th>\n",
       "      <th>NHOHCount</th>\n",
       "      <th>NOCount</th>\n",
       "      <th>NumAliphaticCarbocycles</th>\n",
       "      <th>NumAliphaticHeterocycles</th>\n",
       "      <th>...</th>\n",
       "      <th>FeatureAcceptorCount3D</th>\n",
       "      <th>FeatureDonorCount3D</th>\n",
       "      <th>FeatureAnionCount3D</th>\n",
       "      <th>FeatureCationCount3D</th>\n",
       "      <th>FeatureRingCount3D</th>\n",
       "      <th>FeatureHydrophobeCount3D</th>\n",
       "      <th>ConformerModelRMSD3D</th>\n",
       "      <th>EffectiveRotorCount3D</th>\n",
       "      <th>ConformerCount3D</th>\n",
       "      <th>Class</th>\n",
       "    </tr>\n",
       "  </thead>\n",
       "  <tbody>\n",
       "    <tr>\n",
       "      <th>count</th>\n",
       "      <td>240.000000</td>\n",
       "      <td>240.000000</td>\n",
       "      <td>240.000000</td>\n",
       "      <td>240.0</td>\n",
       "      <td>240.000000</td>\n",
       "      <td>240.000000</td>\n",
       "      <td>240.000000</td>\n",
       "      <td>240.000000</td>\n",
       "      <td>240.000000</td>\n",
       "      <td>240.000000</td>\n",
       "      <td>...</td>\n",
       "      <td>240.000000</td>\n",
       "      <td>240.00000</td>\n",
       "      <td>240.000000</td>\n",
       "      <td>240.000000</td>\n",
       "      <td>240.000000</td>\n",
       "      <td>240.000000</td>\n",
       "      <td>240.000000</td>\n",
       "      <td>240.00000</td>\n",
       "      <td>240.000000</td>\n",
       "      <td>240.000000</td>\n",
       "    </tr>\n",
       "    <tr>\n",
       "      <th>mean</th>\n",
       "      <td>0.013313</td>\n",
       "      <td>296.822371</td>\n",
       "      <td>282.050196</td>\n",
       "      <td>0.0</td>\n",
       "      <td>103.650000</td>\n",
       "      <td>19.129167</td>\n",
       "      <td>0.654167</td>\n",
       "      <td>4.279167</td>\n",
       "      <td>0.166667</td>\n",
       "      <td>0.183333</td>\n",
       "      <td>...</td>\n",
       "      <td>1.866667</td>\n",
       "      <td>0.53750</td>\n",
       "      <td>0.100000</td>\n",
       "      <td>0.441667</td>\n",
       "      <td>1.562500</td>\n",
       "      <td>0.712500</td>\n",
       "      <td>0.741667</td>\n",
       "      <td>5.40000</td>\n",
       "      <td>8.604167</td>\n",
       "      <td>1.708333</td>\n",
       "    </tr>\n",
       "    <tr>\n",
       "      <th>std</th>\n",
       "      <td>0.026594</td>\n",
       "      <td>81.867931</td>\n",
       "      <td>79.940445</td>\n",
       "      <td>0.0</td>\n",
       "      <td>29.072309</td>\n",
       "      <td>5.705828</td>\n",
       "      <td>0.892310</td>\n",
       "      <td>1.641889</td>\n",
       "      <td>0.445025</td>\n",
       "      <td>0.398393</td>\n",
       "      <td>...</td>\n",
       "      <td>1.267114</td>\n",
       "      <td>0.73656</td>\n",
       "      <td>0.374948</td>\n",
       "      <td>0.735198</td>\n",
       "      <td>0.974706</td>\n",
       "      <td>0.908266</td>\n",
       "      <td>0.206011</td>\n",
       "      <td>2.57331</td>\n",
       "      <td>2.774206</td>\n",
       "      <td>0.455480</td>\n",
       "    </tr>\n",
       "    <tr>\n",
       "      <th>min</th>\n",
       "      <td>0.000100</td>\n",
       "      <td>44.026215</td>\n",
       "      <td>40.021000</td>\n",
       "      <td>0.0</td>\n",
       "      <td>18.000000</td>\n",
       "      <td>3.000000</td>\n",
       "      <td>0.000000</td>\n",
       "      <td>0.000000</td>\n",
       "      <td>0.000000</td>\n",
       "      <td>0.000000</td>\n",
       "      <td>...</td>\n",
       "      <td>0.000000</td>\n",
       "      <td>0.00000</td>\n",
       "      <td>0.000000</td>\n",
       "      <td>0.000000</td>\n",
       "      <td>0.000000</td>\n",
       "      <td>0.000000</td>\n",
       "      <td>0.400000</td>\n",
       "      <td>0.00000</td>\n",
       "      <td>1.000000</td>\n",
       "      <td>1.000000</td>\n",
       "    </tr>\n",
       "    <tr>\n",
       "      <th>25%</th>\n",
       "      <td>0.002000</td>\n",
       "      <td>237.882259</td>\n",
       "      <td>222.210000</td>\n",
       "      <td>0.0</td>\n",
       "      <td>82.000000</td>\n",
       "      <td>15.000000</td>\n",
       "      <td>0.000000</td>\n",
       "      <td>3.000000</td>\n",
       "      <td>0.000000</td>\n",
       "      <td>0.000000</td>\n",
       "      <td>...</td>\n",
       "      <td>1.000000</td>\n",
       "      <td>0.00000</td>\n",
       "      <td>0.000000</td>\n",
       "      <td>0.000000</td>\n",
       "      <td>1.000000</td>\n",
       "      <td>0.000000</td>\n",
       "      <td>0.600000</td>\n",
       "      <td>3.95000</td>\n",
       "      <td>10.000000</td>\n",
       "      <td>1.000000</td>\n",
       "    </tr>\n",
       "    <tr>\n",
       "      <th>50%</th>\n",
       "      <td>0.005000</td>\n",
       "      <td>299.589972</td>\n",
       "      <td>282.830500</td>\n",
       "      <td>0.0</td>\n",
       "      <td>104.000000</td>\n",
       "      <td>19.000000</td>\n",
       "      <td>0.000000</td>\n",
       "      <td>4.000000</td>\n",
       "      <td>0.000000</td>\n",
       "      <td>0.000000</td>\n",
       "      <td>...</td>\n",
       "      <td>2.000000</td>\n",
       "      <td>0.00000</td>\n",
       "      <td>0.000000</td>\n",
       "      <td>0.000000</td>\n",
       "      <td>2.000000</td>\n",
       "      <td>0.000000</td>\n",
       "      <td>0.800000</td>\n",
       "      <td>5.90000</td>\n",
       "      <td>10.000000</td>\n",
       "      <td>2.000000</td>\n",
       "    </tr>\n",
       "    <tr>\n",
       "      <th>75%</th>\n",
       "      <td>0.015000</td>\n",
       "      <td>346.802600</td>\n",
       "      <td>327.363750</td>\n",
       "      <td>0.0</td>\n",
       "      <td>122.500000</td>\n",
       "      <td>23.000000</td>\n",
       "      <td>1.000000</td>\n",
       "      <td>5.000000</td>\n",
       "      <td>0.000000</td>\n",
       "      <td>0.000000</td>\n",
       "      <td>...</td>\n",
       "      <td>3.000000</td>\n",
       "      <td>1.00000</td>\n",
       "      <td>0.000000</td>\n",
       "      <td>1.000000</td>\n",
       "      <td>2.000000</td>\n",
       "      <td>1.000000</td>\n",
       "      <td>0.800000</td>\n",
       "      <td>7.00000</td>\n",
       "      <td>10.000000</td>\n",
       "      <td>2.000000</td>\n",
       "    </tr>\n",
       "    <tr>\n",
       "      <th>max</th>\n",
       "      <td>0.250000</td>\n",
       "      <td>682.023324</td>\n",
       "      <td>660.220000</td>\n",
       "      <td>0.0</td>\n",
       "      <td>210.000000</td>\n",
       "      <td>38.000000</td>\n",
       "      <td>5.000000</td>\n",
       "      <td>10.000000</td>\n",
       "      <td>2.000000</td>\n",
       "      <td>2.000000</td>\n",
       "      <td>...</td>\n",
       "      <td>6.000000</td>\n",
       "      <td>4.00000</td>\n",
       "      <td>2.000000</td>\n",
       "      <td>3.000000</td>\n",
       "      <td>4.000000</td>\n",
       "      <td>6.000000</td>\n",
       "      <td>1.400000</td>\n",
       "      <td>13.00000</td>\n",
       "      <td>10.000000</td>\n",
       "      <td>2.000000</td>\n",
       "    </tr>\n",
       "  </tbody>\n",
       "</table>\n",
       "<p>8 rows × 56 columns</p>\n",
       "</div>"
      ],
      "text/plain": [
       "              LOD  ExactMolWt  HeavyAtomMolWt  NumRadicalElectrons  \\\n",
       "count  240.000000  240.000000      240.000000                240.0   \n",
       "mean     0.013313  296.822371      282.050196                  0.0   \n",
       "std      0.026594   81.867931       79.940445                  0.0   \n",
       "min      0.000100   44.026215       40.021000                  0.0   \n",
       "25%      0.002000  237.882259      222.210000                  0.0   \n",
       "50%      0.005000  299.589972      282.830500                  0.0   \n",
       "75%      0.015000  346.802600      327.363750                  0.0   \n",
       "max      0.250000  682.023324      660.220000                  0.0   \n",
       "\n",
       "       NumValenceElectrons  HeavyAtomCount   NHOHCount     NOCount  \\\n",
       "count           240.000000      240.000000  240.000000  240.000000   \n",
       "mean            103.650000       19.129167    0.654167    4.279167   \n",
       "std              29.072309        5.705828    0.892310    1.641889   \n",
       "min              18.000000        3.000000    0.000000    0.000000   \n",
       "25%              82.000000       15.000000    0.000000    3.000000   \n",
       "50%             104.000000       19.000000    0.000000    4.000000   \n",
       "75%             122.500000       23.000000    1.000000    5.000000   \n",
       "max             210.000000       38.000000    5.000000   10.000000   \n",
       "\n",
       "       NumAliphaticCarbocycles  NumAliphaticHeterocycles  ...  \\\n",
       "count               240.000000                240.000000  ...   \n",
       "mean                  0.166667                  0.183333  ...   \n",
       "std                   0.445025                  0.398393  ...   \n",
       "min                   0.000000                  0.000000  ...   \n",
       "25%                   0.000000                  0.000000  ...   \n",
       "50%                   0.000000                  0.000000  ...   \n",
       "75%                   0.000000                  0.000000  ...   \n",
       "max                   2.000000                  2.000000  ...   \n",
       "\n",
       "       FeatureAcceptorCount3D  FeatureDonorCount3D  FeatureAnionCount3D  \\\n",
       "count              240.000000            240.00000           240.000000   \n",
       "mean                 1.866667              0.53750             0.100000   \n",
       "std                  1.267114              0.73656             0.374948   \n",
       "min                  0.000000              0.00000             0.000000   \n",
       "25%                  1.000000              0.00000             0.000000   \n",
       "50%                  2.000000              0.00000             0.000000   \n",
       "75%                  3.000000              1.00000             0.000000   \n",
       "max                  6.000000              4.00000             2.000000   \n",
       "\n",
       "       FeatureCationCount3D  FeatureRingCount3D  FeatureHydrophobeCount3D  \\\n",
       "count            240.000000          240.000000                240.000000   \n",
       "mean               0.441667            1.562500                  0.712500   \n",
       "std                0.735198            0.974706                  0.908266   \n",
       "min                0.000000            0.000000                  0.000000   \n",
       "25%                0.000000            1.000000                  0.000000   \n",
       "50%                0.000000            2.000000                  0.000000   \n",
       "75%                1.000000            2.000000                  1.000000   \n",
       "max                3.000000            4.000000                  6.000000   \n",
       "\n",
       "       ConformerModelRMSD3D  EffectiveRotorCount3D  ConformerCount3D  \\\n",
       "count            240.000000              240.00000        240.000000   \n",
       "mean               0.741667                5.40000          8.604167   \n",
       "std                0.206011                2.57331          2.774206   \n",
       "min                0.400000                0.00000          1.000000   \n",
       "25%                0.600000                3.95000         10.000000   \n",
       "50%                0.800000                5.90000         10.000000   \n",
       "75%                0.800000                7.00000         10.000000   \n",
       "max                1.400000               13.00000         10.000000   \n",
       "\n",
       "            Class  \n",
       "count  240.000000  \n",
       "mean     1.708333  \n",
       "std      0.455480  \n",
       "min      1.000000  \n",
       "25%      1.000000  \n",
       "50%      2.000000  \n",
       "75%      2.000000  \n",
       "max      2.000000  \n",
       "\n",
       "[8 rows x 56 columns]"
      ]
     },
     "execution_count": 8,
     "metadata": {},
     "output_type": "execute_result"
    }
   ],
   "source": [
    "pest_data.describe()"
   ]
  },
  {
   "cell_type": "code",
   "execution_count": 9,
   "metadata": {
    "hidden": true
   },
   "outputs": [],
   "source": [
    "#pest_data.hist(column='Na_to_K', bins=100)"
   ]
  },
  {
   "cell_type": "code",
   "execution_count": 10,
   "metadata": {
    "hidden": true
   },
   "outputs": [],
   "source": [
    "#pest_data.hist(column='Age', bins=50)"
   ]
  },
  {
   "cell_type": "code",
   "execution_count": 11,
   "metadata": {
    "hidden": true
   },
   "outputs": [
    {
     "data": {
      "text/plain": [
       "array([[1.40000000e-02, 2.83016684e+02, 2.73054000e+02, 9.40000000e+01,\n",
       "        1.80000000e+01, 0.00000000e+00, 3.00000000e+00, 1.00000000e+00,\n",
       "        1.00000000e+00, 2.00000000e+00, 1.00000000e+00, 0.00000000e+00,\n",
       "        1.00000000e+00, 2.00000000e+00, 0.00000000e+00, 5.00000000e+00,\n",
       "        1.00000000e+00, 1.00000000e+00, 1.00000000e+00, 2.00000000e+00,\n",
       "        3.00000000e+00, 2.00000000e+00, 2.84130000e+02, 3.00000000e+00,\n",
       "        2.83016684e+02, 3.74000000e+01, 4.05000000e+02, 0.00000000e+00,\n",
       "        0.00000000e+00, 2.00000000e+00, 1.00000000e+00, 1.80000000e+01,\n",
       "        0.00000000e+00, 2.00000000e+00, 0.00000000e+00, 2.00000000e+00,\n",
       "        0.00000000e+00, 0.00000000e+00, 0.00000000e+00, 1.00000000e+00,\n",
       "        2.03300000e+02, 7.89000000e+00, 2.66000000e+00, 8.90000000e-01,\n",
       "        4.00000000e+00, 2.00000000e+00, 0.00000000e+00, 0.00000000e+00,\n",
       "        0.00000000e+00, 2.00000000e+00, 0.00000000e+00, 6.00000000e-01,\n",
       "        1.40000000e+00, 3.00000000e+00],\n",
       "       [4.00000000e-03, 3.03105801e+02, 2.81188000e+02, 1.08000000e+02,\n",
       "        1.90000000e+01, 1.00000000e+00, 4.00000000e+00, 0.00000000e+00,\n",
       "        0.00000000e+00, 0.00000000e+00, 1.00000000e+00, 0.00000000e+00,\n",
       "        1.00000000e+00, 4.00000000e+00, 1.00000000e+00, 6.00000000e+00,\n",
       "        7.00000000e+00, 0.00000000e+00, 0.00000000e+00, 0.00000000e+00,\n",
       "        1.00000000e+00, 0.00000000e+00, 3.03360000e+02, 3.20000000e+00,\n",
       "        3.03105802e+02, 7.29000000e+01, 3.14000000e+02, 0.00000000e+00,\n",
       "        1.00000000e+00, 5.00000000e+00, 7.00000000e+00, 1.90000000e+01,\n",
       "        0.00000000e+00, 1.00000000e+00, 0.00000000e+00, 1.00000000e+00,\n",
       "        0.00000000e+00, 0.00000000e+00, 0.00000000e+00, 1.00000000e+00,\n",
       "        2.33600000e+02, 1.05300000e+01, 2.91000000e+00, 1.34000000e+00,\n",
       "        4.00000000e+00, 1.00000000e+00, 0.00000000e+00, 0.00000000e+00,\n",
       "        0.00000000e+00, 1.00000000e+00, 2.00000000e+00, 8.00000000e-01,\n",
       "        7.00000000e+00, 1.00000000e+01]])"
      ]
     },
     "execution_count": 11,
     "metadata": {},
     "output_type": "execute_result"
    }
   ],
   "source": [
    "X = pest_data[['LOD', 'ExactMolWt', 'HeavyAtomMolWt', 'NumValenceElectrons', 'HeavyAtomCount', 'NHOHCount', \n",
    "                        'NOCount', 'NumAliphaticCarbocycles', 'NumAliphaticHeterocycles', 'NumAliphaticRings', \n",
    "                        'NumAromaticCarbocycles', 'NumAromaticHeterocycles', 'NumAromaticRings', 'NumHAcceptors', \n",
    "                        'NumHDonors', 'NumHeteroatoms', 'NumRotatableBonds', 'NumSaturatedCarbocycles', \n",
    "                        'NumSaturatedHeterocycles', 'NumSaturatedRings', 'RingCount', 'Halogens', \"MolecularWeight\", \n",
    "                        \"XLogP\", \"ExactMass\", \"TPSA\", \"Complexity\", \"Charge\", \"HBondDonorCount\", \n",
    "                        \"HBondAcceptorCount\", \"RotatableBondCount\", \"HeavyAtomCount\", \"IsotopeAtomCount\", \"AtomStereoCount\", \n",
    "                        \"DefinedAtomStereoCount\", \"UndefinedAtomStereoCount\", \"BondStereoCount\", \"DefinedBondStereoCount\", \n",
    "                        \"UndefinedBondStereoCount\", \"CovalentUnitCount\",\"Volume3D\", \"XStericQuadrupole3D\", \"YStericQuadrupole3D\", \n",
    "                        \"ZStericQuadrupole3D\", \"FeatureCount3D\", \"FeatureAcceptorCount3D\", \"FeatureDonorCount3D\", \"FeatureAnionCount3D\", \n",
    "                        \"FeatureCationCount3D\", \"FeatureRingCount3D\", \"FeatureHydrophobeCount3D\", \"ConformerModelRMSD3D\", \n",
    "                        \"EffectiveRotorCount3D\", \"ConformerCount3D\"]].values\n",
    "\n",
    "\n",
    "y = pest_data[['Class']].values\n",
    "#y[0:5]\n",
    "\n",
    "X[0:2]"
   ]
  },
  {
   "cell_type": "code",
   "execution_count": 12,
   "metadata": {
    "hidden": true
   },
   "outputs": [
    {
     "data": {
      "text/plain": [
       "array([[1],\n",
       "       [1],\n",
       "       [1],\n",
       "       [1],\n",
       "       [1]], dtype=int64)"
      ]
     },
     "execution_count": 12,
     "metadata": {},
     "output_type": "execute_result"
    }
   ],
   "source": [
    "y_array = pest_data[['Class']].to_numpy()\n",
    "y_array[0:5]"
   ]
  },
  {
   "cell_type": "code",
   "execution_count": 13,
   "metadata": {
    "hidden": true
   },
   "outputs": [],
   "source": [
    "pest_feats_array = X\n",
    "y = y_array"
   ]
  },
  {
   "cell_type": "code",
   "execution_count": 14,
   "metadata": {
    "hidden": true
   },
   "outputs": [
    {
     "data": {
      "text/plain": [
       "array([[-0.38172713,  7.34651081, -1.45784533, ..., -0.02354543,\n",
       "         0.79472852,  0.61704106],\n",
       "       [ 0.25380124, -0.83135807,  1.87731163, ...,  0.52952181,\n",
       "         0.49706464, -0.78630769],\n",
       "       [-4.05825424, -1.43292535, -1.11888741, ...,  2.27281405,\n",
       "         0.11460249, -0.91583163],\n",
       "       ...,\n",
       "       [ 1.2837196 ,  0.42218071, -2.88301013, ..., -0.23199105,\n",
       "        -0.53712472,  0.92457317],\n",
       "       [ 4.49176828,  2.86421085,  0.29362712, ...,  0.0375824 ,\n",
       "        -1.1256568 , -0.07445442],\n",
       "       [ 4.76059474, -1.47722347,  0.04087042, ...,  0.81132719,\n",
       "        -0.46446512,  1.01131178]])"
      ]
     },
     "execution_count": 14,
     "metadata": {},
     "output_type": "execute_result"
    }
   ],
   "source": [
    "from sklearn.preprocessing import StandardScaler\n",
    "from sklearn.decomposition import PCA\n",
    "\n",
    "pest_feats_scaled = StandardScaler().fit_transform(pest_feats_array)  # Previously, a huge bias without scaling\n",
    "\n",
    "# one feature had 99% explanation\n",
    "\n",
    "pest_feats_pca = PCA(n_components=18).fit(pest_feats_scaled)\n",
    "pest_feats_pca_values = pest_feats_pca.transform(pest_feats_scaled)\n",
    "pest_feats_pca_values"
   ]
  },
  {
   "cell_type": "code",
   "execution_count": 15,
   "metadata": {
    "hidden": true
   },
   "outputs": [
    {
     "data": {
      "text/plain": [
       "array([0.29927445, 0.12520607, 0.09989821, 0.08433809, 0.05745664,\n",
       "       0.04384194, 0.03960146, 0.03180862, 0.03003908, 0.02732521,\n",
       "       0.02085093, 0.02022818, 0.01626626, 0.01596335, 0.01488377,\n",
       "       0.01159804, 0.01033055, 0.00822051])"
      ]
     },
     "execution_count": 15,
     "metadata": {},
     "output_type": "execute_result"
    }
   ],
   "source": [
    "pest_feats_pca.explained_variance_ratio_"
   ]
  },
  {
   "cell_type": "code",
   "execution_count": 16,
   "metadata": {
    "hidden": true
   },
   "outputs": [
    {
     "data": {
      "text/plain": [
       "0.9571313434933594"
      ]
     },
     "execution_count": 16,
     "metadata": {},
     "output_type": "execute_result"
    }
   ],
   "source": [
    "pest_feats_pca.explained_variance_ratio_.sum()"
   ]
  },
  {
   "cell_type": "code",
   "execution_count": 17,
   "metadata": {
    "hidden": true
   },
   "outputs": [
    {
     "data": {
      "text/plain": [
       "(240, 18)"
      ]
     },
     "execution_count": 17,
     "metadata": {},
     "output_type": "execute_result"
    }
   ],
   "source": [
    "#pest_data['Class'] = pest_data['Class'].astype(int)\n",
    "#y = np.asanyarray(pest_data['Class'])\n",
    "#y[0:5]\n",
    "\n",
    "X = pest_feats_pca_values[:]\n",
    "X.shape"
   ]
  },
  {
   "cell_type": "markdown",
   "metadata": {
    "heading_collapsed": true
   },
   "source": [
    "#### train_test_split"
   ]
  },
  {
   "cell_type": "code",
   "execution_count": 18,
   "metadata": {
    "hidden": true
   },
   "outputs": [
    {
     "name": "stdout",
     "output_type": "stream",
     "text": [
      "X_train and y_train shape:  (192, 18) (192, 1)\n",
      "X_test and y_test shape:  (48, 18) (48, 1)\n"
     ]
    }
   ],
   "source": [
    "from sklearn.model_selection import train_test_split\n",
    "\n",
    "X_train, X_test, y_train, y_test = train_test_split(X, y, test_size = 0.2, shuffle=True) #random_state = 3\n",
    "print ('X_train and y_train shape: ', X_train.shape, y_train.shape)\n",
    "print ('X_test and y_test shape: ', X_test.shape, y_test.shape)"
   ]
  },
  {
   "cell_type": "code",
   "execution_count": 19,
   "metadata": {
    "hidden": true
   },
   "outputs": [
    {
     "data": {
      "text/plain": [
       "array([[ 2.30132811,  9.00339601,  1.43715577,  5.69360538,  1.57479383,\n",
       "         2.03796642,  0.02266985,  0.13027883,  0.71854656, -1.86403486,\n",
       "        -0.02577041,  1.11668183, -0.89910588, -0.37484482, -2.51025499,\n",
       "         0.93575065,  0.41164074, -0.3922313 ],\n",
       "       [-3.91787465, -2.22109521, -1.58609748,  0.68319942,  1.66298701,\n",
       "         2.8286358 , -0.57638625, -0.76124606, -0.32590149, -0.07288123,\n",
       "         1.48606566, -0.48308397,  0.49369886,  0.29908065,  0.39621372,\n",
       "        -0.30632629,  0.21996092,  0.48291396]])"
      ]
     },
     "execution_count": 19,
     "metadata": {},
     "output_type": "execute_result"
    }
   ],
   "source": [
    "from sklearn.preprocessing import StandardScaler\n",
    "\n",
    "#X_train = StandardScaler().fit_transform(X_train)\n",
    "X_train[0:5]\n",
    "#X_test = StandardScaler().fit_transform(X_test)\n",
    "X_test[0:2]"
   ]
  },
  {
   "cell_type": "code",
   "execution_count": 20,
   "metadata": {
    "hidden": true
   },
   "outputs": [
    {
     "name": "stdout",
     "output_type": "stream",
     "text": [
      "Train set dimensions match and is equal to (192, 18) vs (192, 1)\n"
     ]
    }
   ],
   "source": [
    "#Just to be sure\n",
    "\n",
    "if X_train.shape[0] == y_train.shape[0]:\n",
    "    print(\"Train set dimensions match and is equal to\", X_train.shape, 'vs', y_train.shape)\n",
    "else:\n",
    "    print(\"Train set dimensions do not match\")"
   ]
  },
  {
   "cell_type": "markdown",
   "metadata": {},
   "source": [
    "### KNN HyperOpt - Optimisation of model hyperparameters"
   ]
  },
  {
   "cell_type": "code",
   "execution_count": null,
   "metadata": {},
   "outputs": [],
   "source": [
    "from hpsklearn import HyperoptEstimator, any_classifier, any_preprocessing, svc #any_sparse_classifier\n",
    "from hyperopt import fmin, tpe\n",
    "from hpsklearn import k_neighbors_classifier\n",
    "\n",
    "# preprocessing = []\n",
    "\n",
    "model_KNN = HyperoptEstimator(classifier=k_neighbors_classifier('myKNN'), algo=tpe.suggest, max_evals=300, trial_timeout=500)\n",
    "\n",
    "# perform the search\n",
    "model_KNN.fit(X_train, y_train.ravel())"
   ]
  },
  {
   "cell_type": "code",
   "execution_count": 25,
   "metadata": {
    "scrolled": false
   },
   "outputs": [
    {
     "name": "stdout",
     "output_type": "stream",
     "text": [
      "Accuracy_KNN: 0.667\n",
      "{'learner': KNeighborsClassifier(algorithm='brute', leaf_size=27, metric='euclidean',\n",
      "                     n_jobs=1, n_neighbors=11, p=4.0414781693317305,\n",
      "                     weights='distance'), 'preprocs': (PCA(n_components=18, whiten=True),), 'ex_preprocs': ()}\n"
     ]
    }
   ],
   "source": [
    "accuracy_KNN = model_KNN.score(X_test, y_test)\n",
    "print(\"Accuracy_KNN: %.3f\" % accuracy_KNN)\n",
    "\n",
    "# model details\n",
    "print(model_KNN.best_model())"
   ]
  },
  {
   "cell_type": "code",
   "execution_count": 26,
   "metadata": {},
   "outputs": [
    {
     "name": "stdout",
     "output_type": "stream",
     "text": [
      "              precision    recall  f1-score   support\n",
      "\n",
      "           1       0.40      0.13      0.20        15\n",
      "           2       0.70      0.91      0.79        33\n",
      "\n",
      "    accuracy                           0.67        48\n",
      "   macro avg       0.55      0.52      0.49        48\n",
      "weighted avg       0.60      0.67      0.61        48\n",
      "\n"
     ]
    }
   ],
   "source": [
    "from sklearn.metrics import classification_report\n",
    "y_hat_KNN = model_KNN.predict(X_test)\n",
    "print(classification_report(y_test, y_hat_KNN))"
   ]
  },
  {
   "cell_type": "markdown",
   "metadata": {},
   "source": [
    "#### Cross-validation for better accuracy"
   ]
  },
  {
   "cell_type": "code",
   "execution_count": 25,
   "metadata": {},
   "outputs": [
    {
     "name": "stdout",
     "output_type": "stream",
     "text": [
      "0.5728744939271254\n"
     ]
    }
   ],
   "source": [
    "from sklearn.neighbors import KNeighborsClassifier\n",
    "from sklearn.model_selection import cross_val_score\n",
    "\n",
    "k = 4\n",
    "\n",
    "model = KNeighborsClassifier(n_neighbors = k, weights=\"distance\").fit(X_train, y_train.ravel()) #KNN_4\n",
    "\n",
    "score = cross_val_score(model, X_train, y_train, cv=5, scoring=\"accuracy\", n_jobs=-1).mean()\n",
    "print(score)"
   ]
  }
 ],
 "metadata": {
  "kernelspec": {
   "display_name": "Python 3.10.8 64-bit",
   "language": "python",
   "name": "python3"
  },
  "language_info": {
   "codemirror_mode": {
    "name": "ipython",
    "version": 3
   },
   "file_extension": ".py",
   "mimetype": "text/x-python",
   "name": "python",
   "nbconvert_exporter": "python",
   "pygments_lexer": "ipython3",
   "version": "3.10.8"
  },
  "toc": {
   "base_numbering": 1,
   "nav_menu": {},
   "number_sections": true,
   "sideBar": true,
   "skip_h1_title": false,
   "title_cell": "Table of Contents",
   "title_sidebar": "Contents",
   "toc_cell": false,
   "toc_position": {},
   "toc_section_display": true,
   "toc_window_display": false
  },
  "vscode": {
   "interpreter": {
    "hash": "521de7ff804989fc31d613f27fd0adb1b30586ac386b7ed63c994752af7c36a5"
   }
  }
 },
 "nbformat": 4,
 "nbformat_minor": 2
}
