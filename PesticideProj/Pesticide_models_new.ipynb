{
 "cells": [
  {
   "cell_type": "code",
   "execution_count": null,
   "metadata": {
    "id": "h2W_GpMK_pCz"
   },
   "outputs": [],
   "source": [
    "import numpy as np\n",
    "import pandas as pd\n",
    "from sklearn.tree import DecisionTreeClassifier\n",
    "import matplotlib.pyplot as plt\n",
    "from sklearn import preprocessing\n",
    "\n",
    "\n",
    "# hyperparameter optimisation (HyperOpt) --> similar to curve_fit for sigmoid"
   ]
  },
  {
   "cell_type": "code",
   "execution_count": 2,
   "metadata": {
    "id": "EbNxrg41_pC3",
    "outputId": "446671b6-1aa4-4beb-dfcc-4e6dc6c44c7c"
   },
   "outputs": [
    {
     "data": {
      "text/html": [
       "<div>\n",
       "<style scoped>\n",
       "    .dataframe tbody tr th:only-of-type {\n",
       "        vertical-align: middle;\n",
       "    }\n",
       "\n",
       "    .dataframe tbody tr th {\n",
       "        vertical-align: top;\n",
       "    }\n",
       "\n",
       "    .dataframe thead th {\n",
       "        text-align: right;\n",
       "    }\n",
       "</style>\n",
       "<table border=\"1\" class=\"dataframe\">\n",
       "  <thead>\n",
       "    <tr style=\"text-align: right;\">\n",
       "      <th></th>\n",
       "      <th>Pesticide Name</th>\n",
       "      <th>LOD</th>\n",
       "      <th>EPA Tolerance (ppm)</th>\n",
       "      <th>ExactMolWt</th>\n",
       "      <th>HeavyAtomMolWt</th>\n",
       "      <th>NumRadicalElectrons</th>\n",
       "      <th>NumValenceElectrons</th>\n",
       "      <th>HeavyAtomCount</th>\n",
       "      <th>NHOHCount</th>\n",
       "      <th>NOCount</th>\n",
       "      <th>...</th>\n",
       "      <th>NumAromaticRings</th>\n",
       "      <th>NumHAcceptors</th>\n",
       "      <th>NumHDonors</th>\n",
       "      <th>NumHeteroatoms</th>\n",
       "      <th>NumRotatableBonds</th>\n",
       "      <th>NumSaturatedCarbocycles</th>\n",
       "      <th>NumSaturatedHeterocycles</th>\n",
       "      <th>NumSaturatedRings</th>\n",
       "      <th>RingCount</th>\n",
       "      <th>Class</th>\n",
       "    </tr>\n",
       "  </thead>\n",
       "  <tbody>\n",
       "    <tr>\n",
       "      <th>0</th>\n",
       "      <td>Desmedipham</td>\n",
       "      <td>0.0269</td>\n",
       "      <td>NT</td>\n",
       "      <td>300.111007</td>\n",
       "      <td>284.186</td>\n",
       "      <td>0</td>\n",
       "      <td>114</td>\n",
       "      <td>22</td>\n",
       "      <td>2</td>\n",
       "      <td>6</td>\n",
       "      <td>...</td>\n",
       "      <td>2</td>\n",
       "      <td>4</td>\n",
       "      <td>2</td>\n",
       "      <td>6</td>\n",
       "      <td>4</td>\n",
       "      <td>0</td>\n",
       "      <td>0</td>\n",
       "      <td>0</td>\n",
       "      <td>2</td>\n",
       "      <td>1</td>\n",
       "    </tr>\n",
       "    <tr>\n",
       "      <th>1</th>\n",
       "      <td>Thiacloprid</td>\n",
       "      <td>0.0004</td>\n",
       "      <td>NT</td>\n",
       "      <td>252.023645</td>\n",
       "      <td>243.658</td>\n",
       "      <td>0</td>\n",
       "      <td>82</td>\n",
       "      <td>16</td>\n",
       "      <td>0</td>\n",
       "      <td>4</td>\n",
       "      <td>...</td>\n",
       "      <td>1</td>\n",
       "      <td>4</td>\n",
       "      <td>0</td>\n",
       "      <td>6</td>\n",
       "      <td>2</td>\n",
       "      <td>0</td>\n",
       "      <td>1</td>\n",
       "      <td>1</td>\n",
       "      <td>2</td>\n",
       "      <td>1</td>\n",
       "    </tr>\n",
       "    <tr>\n",
       "      <th>2</th>\n",
       "      <td>Phenthoate</td>\n",
       "      <td>0.0060</td>\n",
       "      <td>NT</td>\n",
       "      <td>320.030588</td>\n",
       "      <td>303.236</td>\n",
       "      <td>0</td>\n",
       "      <td>106</td>\n",
       "      <td>19</td>\n",
       "      <td>0</td>\n",
       "      <td>4</td>\n",
       "      <td>...</td>\n",
       "      <td>1</td>\n",
       "      <td>6</td>\n",
       "      <td>0</td>\n",
       "      <td>7</td>\n",
       "      <td>7</td>\n",
       "      <td>0</td>\n",
       "      <td>0</td>\n",
       "      <td>0</td>\n",
       "      <td>1</td>\n",
       "      <td>1</td>\n",
       "    </tr>\n",
       "    <tr>\n",
       "      <th>3</th>\n",
       "      <td>Fenthion</td>\n",
       "      <td>0.0024</td>\n",
       "      <td>NT</td>\n",
       "      <td>278.020023</td>\n",
       "      <td>263.215</td>\n",
       "      <td>0</td>\n",
       "      <td>90</td>\n",
       "      <td>16</td>\n",
       "      <td>0</td>\n",
       "      <td>3</td>\n",
       "      <td>...</td>\n",
       "      <td>1</td>\n",
       "      <td>5</td>\n",
       "      <td>0</td>\n",
       "      <td>6</td>\n",
       "      <td>5</td>\n",
       "      <td>0</td>\n",
       "      <td>0</td>\n",
       "      <td>0</td>\n",
       "      <td>1</td>\n",
       "      <td>1</td>\n",
       "    </tr>\n",
       "    <tr>\n",
       "      <th>4</th>\n",
       "      <td>Dinotefuran</td>\n",
       "      <td>0.0100</td>\n",
       "      <td>NT</td>\n",
       "      <td>202.106590</td>\n",
       "      <td>188.102</td>\n",
       "      <td>0</td>\n",
       "      <td>80</td>\n",
       "      <td>14</td>\n",
       "      <td>2</td>\n",
       "      <td>7</td>\n",
       "      <td>...</td>\n",
       "      <td>0</td>\n",
       "      <td>4</td>\n",
       "      <td>2</td>\n",
       "      <td>7</td>\n",
       "      <td>3</td>\n",
       "      <td>0</td>\n",
       "      <td>1</td>\n",
       "      <td>1</td>\n",
       "      <td>1</td>\n",
       "      <td>1</td>\n",
       "    </tr>\n",
       "  </tbody>\n",
       "</table>\n",
       "<p>5 rows × 25 columns</p>\n",
       "</div>"
      ],
      "text/plain": [
       "  Pesticide Name     LOD EPA Tolerance (ppm)  ExactMolWt  HeavyAtomMolWt  \\\n",
       "0    Desmedipham  0.0269                  NT  300.111007         284.186   \n",
       "1    Thiacloprid  0.0004                  NT  252.023645         243.658   \n",
       "2     Phenthoate  0.0060                  NT  320.030588         303.236   \n",
       "3       Fenthion  0.0024                  NT  278.020023         263.215   \n",
       "4    Dinotefuran  0.0100                  NT  202.106590         188.102   \n",
       "\n",
       "   NumRadicalElectrons  NumValenceElectrons  HeavyAtomCount  NHOHCount  \\\n",
       "0                    0                  114              22          2   \n",
       "1                    0                   82              16          0   \n",
       "2                    0                  106              19          0   \n",
       "3                    0                   90              16          0   \n",
       "4                    0                   80              14          2   \n",
       "\n",
       "   NOCount  ...  NumAromaticRings  NumHAcceptors  NumHDonors  NumHeteroatoms  \\\n",
       "0        6  ...                 2              4           2               6   \n",
       "1        4  ...                 1              4           0               6   \n",
       "2        4  ...                 1              6           0               7   \n",
       "3        3  ...                 1              5           0               6   \n",
       "4        7  ...                 0              4           2               7   \n",
       "\n",
       "   NumRotatableBonds  NumSaturatedCarbocycles  NumSaturatedHeterocycles  \\\n",
       "0                  4                        0                         0   \n",
       "1                  2                        0                         1   \n",
       "2                  7                        0                         0   \n",
       "3                  5                        0                         0   \n",
       "4                  3                        0                         1   \n",
       "\n",
       "   NumSaturatedRings  RingCount  Class  \n",
       "0                  0          2      1  \n",
       "1                  1          2      1  \n",
       "2                  0          1      1  \n",
       "3                  0          1      1  \n",
       "4                  1          1      1  \n",
       "\n",
       "[5 rows x 25 columns]"
      ]
     },
     "execution_count": 2,
     "metadata": {},
     "output_type": "execute_result"
    }
   ],
   "source": [
    "pest_data = pd.read_csv(\"BinaryPesticideData.csv\", delimiter=\",\")\n",
    "pest_data[0:5]"
   ]
  },
  {
   "cell_type": "code",
   "execution_count": 3,
   "metadata": {
    "id": "oUHWWyZ2_pC6",
    "outputId": "1002612b-e41a-420d-ec83-83ad2e04e667"
   },
   "outputs": [
    {
     "data": {
      "text/html": [
       "<div>\n",
       "<style scoped>\n",
       "    .dataframe tbody tr th:only-of-type {\n",
       "        vertical-align: middle;\n",
       "    }\n",
       "\n",
       "    .dataframe tbody tr th {\n",
       "        vertical-align: top;\n",
       "    }\n",
       "\n",
       "    .dataframe thead th {\n",
       "        text-align: right;\n",
       "    }\n",
       "</style>\n",
       "<table border=\"1\" class=\"dataframe\">\n",
       "  <thead>\n",
       "    <tr style=\"text-align: right;\">\n",
       "      <th></th>\n",
       "      <th>Pesticide Name</th>\n",
       "      <th>LOD</th>\n",
       "      <th>EPA Tolerance (ppm)</th>\n",
       "      <th>ExactMolWt</th>\n",
       "      <th>HeavyAtomMolWt</th>\n",
       "      <th>NumRadicalElectrons</th>\n",
       "      <th>NumValenceElectrons</th>\n",
       "      <th>HeavyAtomCount</th>\n",
       "      <th>NHOHCount</th>\n",
       "      <th>NOCount</th>\n",
       "      <th>...</th>\n",
       "      <th>NumAromaticRings</th>\n",
       "      <th>NumHAcceptors</th>\n",
       "      <th>NumHDonors</th>\n",
       "      <th>NumHeteroatoms</th>\n",
       "      <th>NumRotatableBonds</th>\n",
       "      <th>NumSaturatedCarbocycles</th>\n",
       "      <th>NumSaturatedHeterocycles</th>\n",
       "      <th>NumSaturatedRings</th>\n",
       "      <th>RingCount</th>\n",
       "      <th>Class</th>\n",
       "    </tr>\n",
       "  </thead>\n",
       "  <tbody>\n",
       "    <tr>\n",
       "      <th>222</th>\n",
       "      <td>Oxamyl</td>\n",
       "      <td>0.008</td>\n",
       "      <td>T</td>\n",
       "      <td>219.067762</td>\n",
       "      <td>206.162</td>\n",
       "      <td>0</td>\n",
       "      <td>80</td>\n",
       "      <td>14</td>\n",
       "      <td>1</td>\n",
       "      <td>6</td>\n",
       "      <td>...</td>\n",
       "      <td>0</td>\n",
       "      <td>5</td>\n",
       "      <td>1</td>\n",
       "      <td>7</td>\n",
       "      <td>1</td>\n",
       "      <td>0</td>\n",
       "      <td>0</td>\n",
       "      <td>0</td>\n",
       "      <td>0</td>\n",
       "      <td>2</td>\n",
       "    </tr>\n",
       "    <tr>\n",
       "      <th>223</th>\n",
       "      <td>Carfentrazone ethyl</td>\n",
       "      <td>0.003</td>\n",
       "      <td>T</td>\n",
       "      <td>411.036431</td>\n",
       "      <td>398.083</td>\n",
       "      <td>0</td>\n",
       "      <td>142</td>\n",
       "      <td>26</td>\n",
       "      <td>0</td>\n",
       "      <td>6</td>\n",
       "      <td>...</td>\n",
       "      <td>2</td>\n",
       "      <td>6</td>\n",
       "      <td>0</td>\n",
       "      <td>11</td>\n",
       "      <td>6</td>\n",
       "      <td>0</td>\n",
       "      <td>0</td>\n",
       "      <td>0</td>\n",
       "      <td>2</td>\n",
       "      <td>2</td>\n",
       "    </tr>\n",
       "    <tr>\n",
       "      <th>224</th>\n",
       "      <td>Endosulfan sulfate</td>\n",
       "      <td>0.007</td>\n",
       "      <td>T</td>\n",
       "      <td>419.811796</td>\n",
       "      <td>416.880</td>\n",
       "      <td>0</td>\n",
       "      <td>114</td>\n",
       "      <td>20</td>\n",
       "      <td>0</td>\n",
       "      <td>4</td>\n",
       "      <td>...</td>\n",
       "      <td>0</td>\n",
       "      <td>4</td>\n",
       "      <td>0</td>\n",
       "      <td>11</td>\n",
       "      <td>0</td>\n",
       "      <td>1</td>\n",
       "      <td>1</td>\n",
       "      <td>2</td>\n",
       "      <td>3</td>\n",
       "      <td>2</td>\n",
       "    </tr>\n",
       "    <tr>\n",
       "      <th>225</th>\n",
       "      <td>Acetamiprid</td>\n",
       "      <td>0.001</td>\n",
       "      <td>T</td>\n",
       "      <td>222.067224</td>\n",
       "      <td>211.591</td>\n",
       "      <td>0</td>\n",
       "      <td>78</td>\n",
       "      <td>15</td>\n",
       "      <td>0</td>\n",
       "      <td>4</td>\n",
       "      <td>...</td>\n",
       "      <td>1</td>\n",
       "      <td>3</td>\n",
       "      <td>0</td>\n",
       "      <td>5</td>\n",
       "      <td>2</td>\n",
       "      <td>0</td>\n",
       "      <td>0</td>\n",
       "      <td>0</td>\n",
       "      <td>1</td>\n",
       "      <td>2</td>\n",
       "    </tr>\n",
       "    <tr>\n",
       "      <th>226</th>\n",
       "      <td>Thiabendazole</td>\n",
       "      <td>0.030</td>\n",
       "      <td>T</td>\n",
       "      <td>201.036068</td>\n",
       "      <td>194.198</td>\n",
       "      <td>0</td>\n",
       "      <td>68</td>\n",
       "      <td>14</td>\n",
       "      <td>1</td>\n",
       "      <td>3</td>\n",
       "      <td>...</td>\n",
       "      <td>3</td>\n",
       "      <td>3</td>\n",
       "      <td>1</td>\n",
       "      <td>4</td>\n",
       "      <td>1</td>\n",
       "      <td>0</td>\n",
       "      <td>0</td>\n",
       "      <td>0</td>\n",
       "      <td>3</td>\n",
       "      <td>2</td>\n",
       "    </tr>\n",
       "  </tbody>\n",
       "</table>\n",
       "<p>5 rows × 25 columns</p>\n",
       "</div>"
      ],
      "text/plain": [
       "          Pesticide Name    LOD EPA Tolerance (ppm)  ExactMolWt  \\\n",
       "222               Oxamyl  0.008                   T  219.067762   \n",
       "223  Carfentrazone ethyl  0.003                   T  411.036431   \n",
       "224   Endosulfan sulfate  0.007                   T  419.811796   \n",
       "225          Acetamiprid  0.001                   T  222.067224   \n",
       "226        Thiabendazole  0.030                   T  201.036068   \n",
       "\n",
       "     HeavyAtomMolWt  NumRadicalElectrons  NumValenceElectrons  HeavyAtomCount  \\\n",
       "222         206.162                    0                   80              14   \n",
       "223         398.083                    0                  142              26   \n",
       "224         416.880                    0                  114              20   \n",
       "225         211.591                    0                   78              15   \n",
       "226         194.198                    0                   68              14   \n",
       "\n",
       "     NHOHCount  NOCount  ...  NumAromaticRings  NumHAcceptors  NumHDonors  \\\n",
       "222          1        6  ...                 0              5           1   \n",
       "223          0        6  ...                 2              6           0   \n",
       "224          0        4  ...                 0              4           0   \n",
       "225          0        4  ...                 1              3           0   \n",
       "226          1        3  ...                 3              3           1   \n",
       "\n",
       "     NumHeteroatoms  NumRotatableBonds  NumSaturatedCarbocycles  \\\n",
       "222               7                  1                        0   \n",
       "223              11                  6                        0   \n",
       "224              11                  0                        1   \n",
       "225               5                  2                        0   \n",
       "226               4                  1                        0   \n",
       "\n",
       "     NumSaturatedHeterocycles  NumSaturatedRings  RingCount  Class  \n",
       "222                         0                  0          0      2  \n",
       "223                         0                  0          2      2  \n",
       "224                         1                  2          3      2  \n",
       "225                         0                  0          1      2  \n",
       "226                         0                  0          3      2  \n",
       "\n",
       "[5 rows x 25 columns]"
      ]
     },
     "execution_count": 3,
     "metadata": {},
     "output_type": "execute_result"
    }
   ],
   "source": [
    "#Objective: Detect which pesticides will be tolerated and which will not\n",
    "\n",
    "pest_data.tail()"
   ]
  },
  {
   "cell_type": "code",
   "execution_count": 4,
   "metadata": {
    "id": "qko9gAnd_pC7",
    "outputId": "b1a27f76-3bb3-4865-b30a-415a9aba7a77"
   },
   "outputs": [
    {
     "data": {
      "text/plain": [
       "Pesticide Name              227\n",
       "LOD                         227\n",
       "EPA Tolerance (ppm)         227\n",
       "ExactMolWt                  227\n",
       "HeavyAtomMolWt              227\n",
       "NumRadicalElectrons         227\n",
       "NumValenceElectrons         227\n",
       "HeavyAtomCount              227\n",
       "NHOHCount                   227\n",
       "NOCount                     227\n",
       "NumAliphaticCarbocycles     227\n",
       "NumAliphaticHeterocycles    227\n",
       "NumAliphaticRings           227\n",
       "NumAromaticCarbocycles      227\n",
       "NumAromaticHeterocycles     227\n",
       "NumAromaticRings            227\n",
       "NumHAcceptors               227\n",
       "NumHDonors                  227\n",
       "NumHeteroatoms              227\n",
       "NumRotatableBonds           227\n",
       "NumSaturatedCarbocycles     227\n",
       "NumSaturatedHeterocycles    227\n",
       "NumSaturatedRings           227\n",
       "RingCount                   227\n",
       "Class                       227\n",
       "dtype: int64"
      ]
     },
     "execution_count": 4,
     "metadata": {},
     "output_type": "execute_result"
    }
   ],
   "source": [
    "pest_data.count()"
   ]
  },
  {
   "cell_type": "code",
   "execution_count": 5,
   "metadata": {
    "id": "tl75EVIC_pC8",
    "outputId": "d646e812-f5ec-4cff-cb53-64771fdd13db"
   },
   "outputs": [
    {
     "data": {
      "text/plain": [
       "dtype('int64')"
      ]
     },
     "execution_count": 5,
     "metadata": {},
     "output_type": "execute_result"
    }
   ],
   "source": [
    "pest_data[\"Class\"].dtype"
   ]
  },
  {
   "cell_type": "code",
   "execution_count": 6,
   "metadata": {
    "id": "lBBH_dkU_pC9",
    "outputId": "ae55364d-12e9-43ca-a386-3e5f4cf1428d"
   },
   "outputs": [
    {
     "data": {
      "text/plain": [
       "Index(['Pesticide Name', 'LOD', 'EPA Tolerance (ppm)', 'ExactMolWt',\n",
       "       'HeavyAtomMolWt', 'NumRadicalElectrons', 'NumValenceElectrons',\n",
       "       'HeavyAtomCount', 'NHOHCount', 'NOCount', 'NumAliphaticCarbocycles',\n",
       "       'NumAliphaticHeterocycles', 'NumAliphaticRings',\n",
       "       'NumAromaticCarbocycles', 'NumAromaticHeterocycles', 'NumAromaticRings',\n",
       "       'NumHAcceptors', 'NumHDonors', 'NumHeteroatoms', 'NumRotatableBonds',\n",
       "       'NumSaturatedCarbocycles', 'NumSaturatedHeterocycles',\n",
       "       'NumSaturatedRings', 'RingCount', 'Class'],\n",
       "      dtype='object')"
      ]
     },
     "execution_count": 6,
     "metadata": {},
     "output_type": "execute_result"
    }
   ],
   "source": [
    "pest_data.columns"
   ]
  },
  {
   "cell_type": "code",
   "execution_count": 7,
   "metadata": {
    "id": "w_B3B4pv_pC-",
    "outputId": "01b908d3-c807-4657-9a80-b9e8a56e9f3f"
   },
   "outputs": [
    {
     "data": {
      "text/html": [
       "<div>\n",
       "<style scoped>\n",
       "    .dataframe tbody tr th:only-of-type {\n",
       "        vertical-align: middle;\n",
       "    }\n",
       "\n",
       "    .dataframe tbody tr th {\n",
       "        vertical-align: top;\n",
       "    }\n",
       "\n",
       "    .dataframe thead th {\n",
       "        text-align: right;\n",
       "    }\n",
       "</style>\n",
       "<table border=\"1\" class=\"dataframe\">\n",
       "  <thead>\n",
       "    <tr style=\"text-align: right;\">\n",
       "      <th></th>\n",
       "      <th>LOD</th>\n",
       "      <th>ExactMolWt</th>\n",
       "      <th>HeavyAtomMolWt</th>\n",
       "      <th>NumRadicalElectrons</th>\n",
       "      <th>NumValenceElectrons</th>\n",
       "      <th>HeavyAtomCount</th>\n",
       "      <th>NHOHCount</th>\n",
       "      <th>NOCount</th>\n",
       "      <th>NumAliphaticCarbocycles</th>\n",
       "      <th>NumAliphaticHeterocycles</th>\n",
       "      <th>...</th>\n",
       "      <th>NumAromaticRings</th>\n",
       "      <th>NumHAcceptors</th>\n",
       "      <th>NumHDonors</th>\n",
       "      <th>NumHeteroatoms</th>\n",
       "      <th>NumRotatableBonds</th>\n",
       "      <th>NumSaturatedCarbocycles</th>\n",
       "      <th>NumSaturatedHeterocycles</th>\n",
       "      <th>NumSaturatedRings</th>\n",
       "      <th>RingCount</th>\n",
       "      <th>Class</th>\n",
       "    </tr>\n",
       "  </thead>\n",
       "  <tbody>\n",
       "    <tr>\n",
       "      <th>count</th>\n",
       "      <td>227.000000</td>\n",
       "      <td>227.000000</td>\n",
       "      <td>227.000000</td>\n",
       "      <td>227.0</td>\n",
       "      <td>227.000000</td>\n",
       "      <td>227.000000</td>\n",
       "      <td>227.000000</td>\n",
       "      <td>227.000000</td>\n",
       "      <td>227.000000</td>\n",
       "      <td>227.000000</td>\n",
       "      <td>...</td>\n",
       "      <td>227.000000</td>\n",
       "      <td>227.000000</td>\n",
       "      <td>227.000000</td>\n",
       "      <td>227.000000</td>\n",
       "      <td>227.000000</td>\n",
       "      <td>227.000000</td>\n",
       "      <td>227.000000</td>\n",
       "      <td>227.000000</td>\n",
       "      <td>227.000000</td>\n",
       "      <td>227.000000</td>\n",
       "    </tr>\n",
       "    <tr>\n",
       "      <th>mean</th>\n",
       "      <td>0.013992</td>\n",
       "      <td>314.329044</td>\n",
       "      <td>298.101727</td>\n",
       "      <td>0.0</td>\n",
       "      <td>110.634361</td>\n",
       "      <td>20.356828</td>\n",
       "      <td>0.722467</td>\n",
       "      <td>4.577093</td>\n",
       "      <td>0.215859</td>\n",
       "      <td>0.312775</td>\n",
       "      <td>...</td>\n",
       "      <td>1.268722</td>\n",
       "      <td>4.281938</td>\n",
       "      <td>0.660793</td>\n",
       "      <td>6.590308</td>\n",
       "      <td>4.383260</td>\n",
       "      <td>0.145374</td>\n",
       "      <td>0.189427</td>\n",
       "      <td>0.334802</td>\n",
       "      <td>1.797357</td>\n",
       "      <td>1.713656</td>\n",
       "    </tr>\n",
       "    <tr>\n",
       "      <th>std</th>\n",
       "      <td>0.027355</td>\n",
       "      <td>141.878676</td>\n",
       "      <td>132.130233</td>\n",
       "      <td>0.0</td>\n",
       "      <td>56.013772</td>\n",
       "      <td>10.205000</td>\n",
       "      <td>1.033756</td>\n",
       "      <td>2.493710</td>\n",
       "      <td>0.596535</td>\n",
       "      <td>1.040747</td>\n",
       "      <td>...</td>\n",
       "      <td>0.969919</td>\n",
       "      <td>2.494202</td>\n",
       "      <td>0.914197</td>\n",
       "      <td>2.954596</td>\n",
       "      <td>2.672091</td>\n",
       "      <td>0.452147</td>\n",
       "      <td>0.719066</td>\n",
       "      <td>0.932584</td>\n",
       "      <td>1.491389</td>\n",
       "      <td>0.453051</td>\n",
       "    </tr>\n",
       "    <tr>\n",
       "      <th>min</th>\n",
       "      <td>0.000100</td>\n",
       "      <td>44.026215</td>\n",
       "      <td>40.021000</td>\n",
       "      <td>0.0</td>\n",
       "      <td>18.000000</td>\n",
       "      <td>3.000000</td>\n",
       "      <td>0.000000</td>\n",
       "      <td>0.000000</td>\n",
       "      <td>0.000000</td>\n",
       "      <td>0.000000</td>\n",
       "      <td>...</td>\n",
       "      <td>0.000000</td>\n",
       "      <td>1.000000</td>\n",
       "      <td>0.000000</td>\n",
       "      <td>1.000000</td>\n",
       "      <td>0.000000</td>\n",
       "      <td>0.000000</td>\n",
       "      <td>0.000000</td>\n",
       "      <td>0.000000</td>\n",
       "      <td>0.000000</td>\n",
       "      <td>1.000000</td>\n",
       "    </tr>\n",
       "    <tr>\n",
       "      <th>25%</th>\n",
       "      <td>0.002000</td>\n",
       "      <td>243.987613</td>\n",
       "      <td>228.380000</td>\n",
       "      <td>0.0</td>\n",
       "      <td>84.000000</td>\n",
       "      <td>15.000000</td>\n",
       "      <td>0.000000</td>\n",
       "      <td>3.000000</td>\n",
       "      <td>0.000000</td>\n",
       "      <td>0.000000</td>\n",
       "      <td>...</td>\n",
       "      <td>0.000000</td>\n",
       "      <td>3.000000</td>\n",
       "      <td>0.000000</td>\n",
       "      <td>5.000000</td>\n",
       "      <td>2.000000</td>\n",
       "      <td>0.000000</td>\n",
       "      <td>0.000000</td>\n",
       "      <td>0.000000</td>\n",
       "      <td>1.000000</td>\n",
       "      <td>1.000000</td>\n",
       "    </tr>\n",
       "    <tr>\n",
       "      <th>50%</th>\n",
       "      <td>0.006000</td>\n",
       "      <td>302.012602</td>\n",
       "      <td>285.065000</td>\n",
       "      <td>0.0</td>\n",
       "      <td>106.000000</td>\n",
       "      <td>19.000000</td>\n",
       "      <td>0.000000</td>\n",
       "      <td>4.000000</td>\n",
       "      <td>0.000000</td>\n",
       "      <td>0.000000</td>\n",
       "      <td>...</td>\n",
       "      <td>1.000000</td>\n",
       "      <td>4.000000</td>\n",
       "      <td>0.000000</td>\n",
       "      <td>6.000000</td>\n",
       "      <td>4.000000</td>\n",
       "      <td>0.000000</td>\n",
       "      <td>0.000000</td>\n",
       "      <td>0.000000</td>\n",
       "      <td>2.000000</td>\n",
       "      <td>2.000000</td>\n",
       "    </tr>\n",
       "    <tr>\n",
       "      <th>75%</th>\n",
       "      <td>0.015000</td>\n",
       "      <td>352.158152</td>\n",
       "      <td>332.715000</td>\n",
       "      <td>0.0</td>\n",
       "      <td>124.000000</td>\n",
       "      <td>23.000000</td>\n",
       "      <td>1.000000</td>\n",
       "      <td>5.500000</td>\n",
       "      <td>0.000000</td>\n",
       "      <td>0.000000</td>\n",
       "      <td>...</td>\n",
       "      <td>2.000000</td>\n",
       "      <td>5.000000</td>\n",
       "      <td>1.000000</td>\n",
       "      <td>8.000000</td>\n",
       "      <td>6.000000</td>\n",
       "      <td>0.000000</td>\n",
       "      <td>0.000000</td>\n",
       "      <td>0.000000</td>\n",
       "      <td>2.000000</td>\n",
       "      <td>2.000000</td>\n",
       "    </tr>\n",
       "    <tr>\n",
       "      <th>max</th>\n",
       "      <td>0.250000</td>\n",
       "      <td>1730.968764</td>\n",
       "      <td>1589.017000</td>\n",
       "      <td>0.0</td>\n",
       "      <td>690.000000</td>\n",
       "      <td>123.000000</td>\n",
       "      <td>6.000000</td>\n",
       "      <td>28.000000</td>\n",
       "      <td>4.000000</td>\n",
       "      <td>12.000000</td>\n",
       "      <td>...</td>\n",
       "      <td>3.000000</td>\n",
       "      <td>28.000000</td>\n",
       "      <td>6.000000</td>\n",
       "      <td>28.000000</td>\n",
       "      <td>15.000000</td>\n",
       "      <td>4.000000</td>\n",
       "      <td>8.000000</td>\n",
       "      <td>8.000000</td>\n",
       "      <td>14.000000</td>\n",
       "      <td>2.000000</td>\n",
       "    </tr>\n",
       "  </tbody>\n",
       "</table>\n",
       "<p>8 rows × 23 columns</p>\n",
       "</div>"
      ],
      "text/plain": [
       "              LOD   ExactMolWt  HeavyAtomMolWt  NumRadicalElectrons  \\\n",
       "count  227.000000   227.000000      227.000000                227.0   \n",
       "mean     0.013992   314.329044      298.101727                  0.0   \n",
       "std      0.027355   141.878676      132.130233                  0.0   \n",
       "min      0.000100    44.026215       40.021000                  0.0   \n",
       "25%      0.002000   243.987613      228.380000                  0.0   \n",
       "50%      0.006000   302.012602      285.065000                  0.0   \n",
       "75%      0.015000   352.158152      332.715000                  0.0   \n",
       "max      0.250000  1730.968764     1589.017000                  0.0   \n",
       "\n",
       "       NumValenceElectrons  HeavyAtomCount   NHOHCount     NOCount  \\\n",
       "count           227.000000      227.000000  227.000000  227.000000   \n",
       "mean            110.634361       20.356828    0.722467    4.577093   \n",
       "std              56.013772       10.205000    1.033756    2.493710   \n",
       "min              18.000000        3.000000    0.000000    0.000000   \n",
       "25%              84.000000       15.000000    0.000000    3.000000   \n",
       "50%             106.000000       19.000000    0.000000    4.000000   \n",
       "75%             124.000000       23.000000    1.000000    5.500000   \n",
       "max             690.000000      123.000000    6.000000   28.000000   \n",
       "\n",
       "       NumAliphaticCarbocycles  NumAliphaticHeterocycles  ...  \\\n",
       "count               227.000000                227.000000  ...   \n",
       "mean                  0.215859                  0.312775  ...   \n",
       "std                   0.596535                  1.040747  ...   \n",
       "min                   0.000000                  0.000000  ...   \n",
       "25%                   0.000000                  0.000000  ...   \n",
       "50%                   0.000000                  0.000000  ...   \n",
       "75%                   0.000000                  0.000000  ...   \n",
       "max                   4.000000                 12.000000  ...   \n",
       "\n",
       "       NumAromaticRings  NumHAcceptors  NumHDonors  NumHeteroatoms  \\\n",
       "count        227.000000     227.000000  227.000000      227.000000   \n",
       "mean           1.268722       4.281938    0.660793        6.590308   \n",
       "std            0.969919       2.494202    0.914197        2.954596   \n",
       "min            0.000000       1.000000    0.000000        1.000000   \n",
       "25%            0.000000       3.000000    0.000000        5.000000   \n",
       "50%            1.000000       4.000000    0.000000        6.000000   \n",
       "75%            2.000000       5.000000    1.000000        8.000000   \n",
       "max            3.000000      28.000000    6.000000       28.000000   \n",
       "\n",
       "       NumRotatableBonds  NumSaturatedCarbocycles  NumSaturatedHeterocycles  \\\n",
       "count         227.000000               227.000000                227.000000   \n",
       "mean            4.383260                 0.145374                  0.189427   \n",
       "std             2.672091                 0.452147                  0.719066   \n",
       "min             0.000000                 0.000000                  0.000000   \n",
       "25%             2.000000                 0.000000                  0.000000   \n",
       "50%             4.000000                 0.000000                  0.000000   \n",
       "75%             6.000000                 0.000000                  0.000000   \n",
       "max            15.000000                 4.000000                  8.000000   \n",
       "\n",
       "       NumSaturatedRings   RingCount       Class  \n",
       "count         227.000000  227.000000  227.000000  \n",
       "mean            0.334802    1.797357    1.713656  \n",
       "std             0.932584    1.491389    0.453051  \n",
       "min             0.000000    0.000000    1.000000  \n",
       "25%             0.000000    1.000000    1.000000  \n",
       "50%             0.000000    2.000000    2.000000  \n",
       "75%             0.000000    2.000000    2.000000  \n",
       "max             8.000000   14.000000    2.000000  \n",
       "\n",
       "[8 rows x 23 columns]"
      ]
     },
     "execution_count": 7,
     "metadata": {},
     "output_type": "execute_result"
    }
   ],
   "source": [
    "pest_data.describe()"
   ]
  },
  {
   "cell_type": "code",
   "execution_count": 8,
   "metadata": {
    "id": "INI93fR-_pC_"
   },
   "outputs": [],
   "source": [
    "#pest_data.hist(column='Na_to_K', bins=100)"
   ]
  },
  {
   "cell_type": "code",
   "execution_count": 9,
   "metadata": {
    "id": "X8LUvsIU_pC_"
   },
   "outputs": [],
   "source": [
    "#pest_data.hist(column='Age', bins=50)"
   ]
  },
  {
   "cell_type": "code",
   "execution_count": 10,
   "metadata": {
    "id": "78dz3J7z_pC_",
    "outputId": "287df9a3-ed50-4823-db00-1277b3c7ca08"
   },
   "outputs": [
    {
     "data": {
      "text/plain": [
       "array([[300.11100699, 284.186     ,   0.        , 114.        ,\n",
       "         22.        ,   2.        ,   6.        ,   0.        ,\n",
       "          0.        ,   0.        ,   2.        ,   0.        ,\n",
       "          2.        ,   4.        ,   2.        ,   6.        ,\n",
       "          4.        ,   0.        ,   0.        ,   0.        ,\n",
       "          2.        ],\n",
       "       [252.02364497, 243.658     ,   0.        ,  82.        ,\n",
       "         16.        ,   0.        ,   4.        ,   0.        ,\n",
       "          1.        ,   1.        ,   0.        ,   1.        ,\n",
       "          1.        ,   4.        ,   0.        ,   6.        ,\n",
       "          2.        ,   0.        ,   1.        ,   1.        ,\n",
       "          2.        ]])"
      ]
     },
     "execution_count": 10,
     "metadata": {},
     "output_type": "execute_result"
    }
   ],
   "source": [
    "X = pest_data[['ExactMolWt',\n",
    "       'HeavyAtomMolWt', 'NumRadicalElectrons', 'NumValenceElectrons',\n",
    "       'HeavyAtomCount', 'NHOHCount', 'NOCount', 'NumAliphaticCarbocycles',\n",
    "       'NumAliphaticHeterocycles', 'NumAliphaticRings',\n",
    "       'NumAromaticCarbocycles', 'NumAromaticHeterocycles', 'NumAromaticRings',\n",
    "       'NumHAcceptors', 'NumHDonors', 'NumHeteroatoms', 'NumRotatableBonds',\n",
    "       'NumSaturatedCarbocycles', 'NumSaturatedHeterocycles',\n",
    "       'NumSaturatedRings', 'RingCount']].values\n",
    "\n",
    "\n",
    "y = pest_data[['Class']].values\n",
    "#y[0:5]\n",
    "\n",
    "X[0:2]"
   ]
  },
  {
   "cell_type": "code",
   "execution_count": 11,
   "metadata": {
    "id": "R4ZHwXKa_pDA",
    "outputId": "0ee9b8c7-991b-4c4c-e6b9-de6e1c49cef2"
   },
   "outputs": [
    {
     "data": {
      "text/plain": [
       "array([[1],\n",
       "       [1],\n",
       "       [1],\n",
       "       [1],\n",
       "       [1]], dtype=int64)"
      ]
     },
     "execution_count": 11,
     "metadata": {},
     "output_type": "execute_result"
    }
   ],
   "source": [
    "y_array = pest_data[['Class']].to_numpy()\n",
    "y_array[0:5]"
   ]
  },
  {
   "cell_type": "markdown",
   "metadata": {
    "id": "rGzSgnMB_pDA"
   },
   "source": [
    "### Convert categorical values to numerical values"
   ]
  },
  {
   "cell_type": "code",
   "execution_count": 12,
   "metadata": {
    "id": "HzbMuajO_pDC",
    "outputId": "50e1eee8-edb9-4c7d-e9c8-11c734746e6e"
   },
   "outputs": [
    {
     "name": "stdout",
     "output_type": "stream",
     "text": [
      "X_train and y_train shape:  (181, 21) (181, 1)\n",
      "X_test and y_test shape:  (46, 21) (46, 1)\n"
     ]
    }
   ],
   "source": [
    "from sklearn.model_selection import train_test_split\n",
    "\n",
    "X_train, X_test, y_train, y_test = train_test_split(X, y, test_size = 0.2, shuffle=True) #random_state = 3\n",
    "print ('X_train and y_train shape: ', X_train.shape, y_train.shape)\n",
    "print ('X_test and y_test shape: ', X_test.shape, y_test.shape)"
   ]
  },
  {
   "cell_type": "code",
   "execution_count": 13,
   "metadata": {
    "id": "uiGTsy00_pDC",
    "outputId": "787661f8-24f0-44fc-8dba-e7843757b806"
   },
   "outputs": [
    {
     "data": {
      "text/plain": [
       "array([[-0.41307608, -0.49544291,  0.        , -0.18744943, -0.25544403,\n",
       "        -0.68600908, -0.73148777, -0.45224923, -0.31391397, -0.40914163,\n",
       "        -1.02328902, -0.73029674, -1.16971678, -0.64308275, -0.68733235,\n",
       "        -1.20428757,  1.34626176, -0.3646984 , -0.33113309, -0.43477723,\n",
       "        -0.95877915],\n",
       "       [-0.01069374, -0.03258246,  0.        ,  0.01591552,  0.02838267,\n",
       "        -0.68600908, -0.48941268, -0.45224923, -0.31391397, -0.40914163,\n",
       "         0.15349335,  1.36930639,  0.75196079, -0.15005264, -0.68733235,\n",
       "        -0.50305683, -0.61970779, -0.3646984 , -0.33113309, -0.43477723,\n",
       "        -0.08543577]])"
      ]
     },
     "execution_count": 13,
     "metadata": {},
     "output_type": "execute_result"
    }
   ],
   "source": [
    "from sklearn.preprocessing import StandardScaler\n",
    "\n",
    "X_train = StandardScaler().fit_transform(X_train)\n",
    "X_train[0:5]\n",
    "X_test = StandardScaler().fit_transform(X_test)\n",
    "X_test[0:2]"
   ]
  },
  {
   "cell_type": "code",
   "execution_count": 14,
   "metadata": {
    "id": "eKbid8B__pDD",
    "outputId": "1a8607c1-eb38-459e-d753-6a9a9e797847"
   },
   "outputs": [
    {
     "name": "stdout",
     "output_type": "stream",
     "text": [
      "Train set dimensions match and is equal to (181, 21) vs (181, 1)\n"
     ]
    }
   ],
   "source": [
    "#Just to be sure\n",
    "\n",
    "if X_train.shape[0] == y_train.shape[0]:\n",
    "    print(\"Train set dimensions match and is equal to\", X_train.shape, 'vs', y_train.shape)\n",
    "else:\n",
    "    print(\"Train set dimensions do not match\")"
   ]
  },
  {
   "cell_type": "markdown",
   "metadata": {
    "id": "z0gcQpEi_pDD"
   },
   "source": [
    "### Modelling"
   ]
  },
  {
   "cell_type": "code",
   "execution_count": 15,
   "metadata": {
    "id": "gxT9NSl3_pDD",
    "outputId": "5473c4a3-91a1-48d9-c851-1bd063e42509"
   },
   "outputs": [
    {
     "data": {
      "text/plain": [
       "DecisionTreeClassifier(criterion='entropy', max_depth=8)"
      ]
     },
     "execution_count": 15,
     "metadata": {},
     "output_type": "execute_result"
    }
   ],
   "source": [
    "drugTree = DecisionTreeClassifier(criterion=\"entropy\", splitter='best', max_depth = 8)\n",
    "\n",
    "# max_depth is often equal to number of features - 1 \n",
    "#drugTree \n",
    "\n",
    "#Choice of 'entropy' to maximise the information gain per node\n",
    "#choice of weighted information gain (p_i)\n",
    "\n",
    "drugTree.fit(X_train, y_train.ravel())"
   ]
  },
  {
   "cell_type": "code",
   "execution_count": 16,
   "metadata": {
    "id": "6wwwPEBk_pDE",
    "outputId": "0960c9e3-80e0-44c5-da87-d3443a2bc149"
   },
   "outputs": [
    {
     "data": {
      "text/plain": [
       "array([2, 2, 2, 2, 2], dtype=int64)"
      ]
     },
     "execution_count": 16,
     "metadata": {},
     "output_type": "execute_result"
    }
   ],
   "source": [
    "predTree = drugTree.predict(X_test)\n",
    "predTree[0:5] # y_hat"
   ]
  },
  {
   "cell_type": "code",
   "execution_count": 17,
   "metadata": {
    "id": "N0X89nQX_pDE",
    "outputId": "a72a76c1-0bdc-485b-cce9-7617c1f8068a"
   },
   "outputs": [
    {
     "name": "stdout",
     "output_type": "stream",
     "text": [
      "DecisionTrees's Accuracy:  0.5652173913043478\n"
     ]
    }
   ],
   "source": [
    "from sklearn import metrics\n",
    "print(\"DecisionTrees's Accuracy: \", metrics.accuracy_score(y_test, predTree))"
   ]
  },
  {
   "cell_type": "code",
   "execution_count": 18,
   "metadata": {
    "id": "S36PieaR_pDF",
    "outputId": "9fc24b76-e5f8-4c24-a1bc-4307ce7a32ff"
   },
   "outputs": [
    {
     "name": "stdout",
     "output_type": "stream",
     "text": [
      "              precision    recall  f1-score   support\n",
      "\n",
      "           1       0.27      0.20      0.23        15\n",
      "           2       0.66      0.74      0.70        31\n",
      "\n",
      "    accuracy                           0.57        46\n",
      "   macro avg       0.46      0.47      0.46        46\n",
      "weighted avg       0.53      0.57      0.54        46\n",
      "\n"
     ]
    }
   ],
   "source": [
    "from sklearn.metrics import classification_report\n",
    "\n",
    "print(classification_report(y_test, predTree))"
   ]
  },
  {
   "cell_type": "code",
   "execution_count": null,
   "metadata": {
    "id": "o0hDOCxz_pDF"
   },
   "outputs": [],
   "source": []
  },
  {
   "cell_type": "code",
   "execution_count": 19,
   "metadata": {
    "id": "LM1C9jk0_pDG"
   },
   "outputs": [],
   "source": [
    "#!conda install -c conda-forge pydotplus -y\n",
    "#!conda install -c conda-forge python-graphviz -y"
   ]
  },
  {
   "cell_type": "code",
   "execution_count": 20,
   "metadata": {
    "id": "TeqMgyEX_pDG",
    "outputId": "bfa51558-b640-41f2-e870-17a68c5183f4"
   },
   "outputs": [
    {
     "data": {
      "text/plain": [
       "'\\n\\nfrom sklearn.externals.six import StringIO\\nimport pydotplus # provides a Python Interface to the Graphviz Dot language.\\nimport matplotlib.image as mpimg\\nfrom sklearn import tree\\n%matplotlib inline \\n\\ndot_data = StringIO()\\nfilename = \"drugtree.png\"\\nfeatureNames = pest_data.columns[0:5]\\ntargetNames = pest_data[\"Drug\"].unique().tolist()\\n\\nout=tree.export_graphviz(drugTree,feature_names=featureNames, out_file=dot_data, class_names= np.unique(y_train), filled=True,  special_characters=True,rotate=False)  \\ngraph = pydotplus.graph_from_dot_data(dot_data.getvalue())  \\ngraph.write_png(filename)\\n\\nimg = mpimg.imread(filename)\\nplt.figure(figsize=(100, 200))\\nplt.imshow(img,interpolation=\\'nearest\\')\\n\\n'"
      ]
     },
     "execution_count": 20,
     "metadata": {},
     "output_type": "execute_result"
    }
   ],
   "source": [
    "'''\n",
    "\n",
    "from sklearn.externals.six import StringIO\n",
    "import pydotplus # provides a Python Interface to the Graphviz Dot language.\n",
    "import matplotlib.image as mpimg\n",
    "from sklearn import tree\n",
    "%matplotlib inline \n",
    "\n",
    "dot_data = StringIO()\n",
    "filename = \"drugtree.png\"\n",
    "featureNames = pest_data.columns[0:5]\n",
    "targetNames = pest_data[\"Drug\"].unique().tolist()\n",
    "\n",
    "out=tree.export_graphviz(drugTree,feature_names=featureNames, out_file=dot_data, class_names= np.unique(y_train), filled=True,  special_characters=True,rotate=False)  \n",
    "graph = pydotplus.graph_from_dot_data(dot_data.getvalue())  \n",
    "graph.write_png(filename)\n",
    "\n",
    "img = mpimg.imread(filename)\n",
    "plt.figure(figsize=(100, 200))\n",
    "plt.imshow(img,interpolation='nearest')\n",
    "\n",
    "'''"
   ]
  },
  {
   "cell_type": "code",
   "execution_count": 21,
   "metadata": {
    "id": "7aeUvbWi_pDH",
    "outputId": "6c4ab9dc-083d-444d-820e-310db4121cfa"
   },
   "outputs": [
    {
     "data": {
      "text/plain": [
       "array([0.12650449, 0.25706132, 0.        , 0.11793931, 0.12410073,\n",
       "       0.        , 0.04581258, 0.        , 0.        , 0.05574558,\n",
       "       0.        , 0.        , 0.        , 0.10182728, 0.05071622,\n",
       "       0.        , 0.05501478, 0.        , 0.        , 0.        ,\n",
       "       0.06527772])"
      ]
     },
     "execution_count": 21,
     "metadata": {},
     "output_type": "execute_result"
    }
   ],
   "source": [
    "drugTree.feature_importances_\n"
   ]
  },
  {
   "cell_type": "code",
   "execution_count": 22,
   "metadata": {
    "id": "Eb5NUU24_pDI",
    "outputId": "1b60f0db-b136-483d-b5ab-24d8796f7e75"
   },
   "outputs": [
    {
     "data": {
      "text/plain": [
       "21"
      ]
     },
     "execution_count": 22,
     "metadata": {},
     "output_type": "execute_result"
    }
   ],
   "source": [
    "drugTree.n_features_"
   ]
  },
  {
   "cell_type": "code",
   "execution_count": 23,
   "metadata": {
    "id": "SFqZ1B7r_pDI",
    "outputId": "625bab1f-1311-4c6d-afd8-29bbff2105fe"
   },
   "outputs": [
    {
     "data": {
      "text/plain": [
       "8"
      ]
     },
     "execution_count": 23,
     "metadata": {},
     "output_type": "execute_result"
    }
   ],
   "source": [
    "drugTree.tree_.max_depth"
   ]
  },
  {
   "cell_type": "markdown",
   "metadata": {
    "id": "p-Dr3kVj_pDI"
   },
   "source": [
    "### SVM"
   ]
  },
  {
   "cell_type": "code",
   "execution_count": 24,
   "metadata": {
    "id": "8PosxPVN_pDJ"
   },
   "outputs": [],
   "source": [
    "from sklearn import svm\n",
    "\n",
    "clf = svm.SVC(kernel='rbf', degree=3, class_weight=\"balanced\") #test different kernels, class_weight, probability\n",
    "\n",
    "clf_model = clf.fit(X_train, y_train.ravel())   #also, get the distance to the hyperplane"
   ]
  },
  {
   "cell_type": "code",
   "execution_count": 25,
   "metadata": {
    "id": "7PFl1VVX_pDJ",
    "outputId": "3a10c24f-c8c5-4f4c-f994-01adfe5f93d0"
   },
   "outputs": [
    {
     "data": {
      "text/plain": [
       "\"\\n\\nsklearn.svm.SVC(*, C=1.0, kernel='rbf', degree=3, gamma='scale', coef0=0.0, \\nshrinking=True, probability=False, tol=0.001, cache_size=200, class_weight=None, \\nverbose=False, max_iter=- 1, decision_function_shape='ovr', break_ties=False, random_state=None)[source]¶\\n\\n\""
      ]
     },
     "execution_count": 25,
     "metadata": {},
     "output_type": "execute_result"
    }
   ],
   "source": [
    "'''\n",
    "\n",
    "sklearn.svm.SVC(*, C=1.0, kernel='rbf', degree=3, gamma='scale', coef0=0.0, \n",
    "shrinking=True, probability=False, tol=0.001, cache_size=200, class_weight=None, \n",
    "verbose=False, max_iter=- 1, decision_function_shape='ovr', break_ties=False, random_state=None)[source]¶\n",
    "\n",
    "'''\n",
    "\n",
    "# Implement probability!!!!"
   ]
  },
  {
   "cell_type": "code",
   "execution_count": 26,
   "metadata": {
    "id": "VGMoRF0E_pDK",
    "outputId": "983448cf-a4e4-423c-d977-7f2322699bc3"
   },
   "outputs": [
    {
     "data": {
      "text/plain": [
       "(181, 1)"
      ]
     },
     "execution_count": 26,
     "metadata": {},
     "output_type": "execute_result"
    }
   ],
   "source": [
    "\n",
    "y_train.ravel()\n",
    "y_train.shape"
   ]
  },
  {
   "cell_type": "code",
   "execution_count": 27,
   "metadata": {
    "id": "MjoCpzNs_pDL",
    "outputId": "4bbe6b47-5159-4a17-99bb-f592a8587dd2"
   },
   "outputs": [
    {
     "data": {
      "text/plain": [
       "array([1, 1, 2, 1, 1, 1, 2, 2, 1, 1, 1, 1, 2, 2, 1, 1, 1, 2, 1, 1, 1, 2,\n",
       "       1, 1, 1, 1, 1, 2, 1, 2, 2, 2, 1, 1, 1, 1, 2, 1, 1, 2, 1, 1, 1, 1,\n",
       "       2, 2], dtype=int64)"
      ]
     },
     "execution_count": 27,
     "metadata": {},
     "output_type": "execute_result"
    }
   ],
   "source": [
    "y_hat = clf_model.predict(X_test)\n",
    "y_hat"
   ]
  },
  {
   "cell_type": "code",
   "execution_count": 28,
   "metadata": {
    "id": "BSuJPBTX_pDM"
   },
   "outputs": [],
   "source": [
    "from sklearn.metrics import classification_report, confusion_matrix, f1_score #jaccard_similarity_score"
   ]
  },
  {
   "cell_type": "code",
   "execution_count": 29,
   "metadata": {
    "id": "a2G_-J4F_pDM",
    "outputId": "65af7838-a1c0-4ab4-cef7-8a8eec51bdab"
   },
   "outputs": [
    {
     "name": "stdout",
     "output_type": "stream",
     "text": [
      "              precision    recall  f1-score   support\n",
      "\n",
      "           1       0.35      0.73      0.48        15\n",
      "           2       0.73      0.35      0.48        31\n",
      "\n",
      "    accuracy                           0.48        46\n",
      "   macro avg       0.54      0.54      0.48        46\n",
      "weighted avg       0.61      0.48      0.48        46\n",
      "\n"
     ]
    }
   ],
   "source": [
    "print (classification_report(y_test, y_hat))"
   ]
  },
  {
   "cell_type": "code",
   "execution_count": 30,
   "metadata": {
    "id": "e0RfVmH2_pDN",
    "outputId": "1563b949-090e-46ce-c21d-1d3988444989"
   },
   "outputs": [
    {
     "name": "stdout",
     "output_type": "stream",
     "text": [
      "f1_score:  0.4782608695652174\n",
      "Confusion matrix:  [[11  4]\n",
      " [20 11]]\n"
     ]
    }
   ],
   "source": [
    "print (\"f1_score: \", f1_score(y_test, y_hat, average='weighted'))\n",
    "#print (\"Jaccard similarity score: \", jaccard_similarity_score(y_test, y_hat))\n",
    "print (\"Confusion matrix: \", confusion_matrix(y_test, y_hat))"
   ]
  },
  {
   "cell_type": "code",
   "execution_count": 31,
   "metadata": {
    "id": "AQ-aEqVe_pDP",
    "outputId": "2ec535e4-0068-4d08-c134-2bb289f873d4"
   },
   "outputs": [
    {
     "data": {
      "text/plain": [
       "array([[[11, 20],\n",
       "        [ 4, 11]],\n",
       "\n",
       "       [[11,  4],\n",
       "        [20, 11]]], dtype=int64)"
      ]
     },
     "execution_count": 31,
     "metadata": {},
     "output_type": "execute_result"
    }
   ],
   "source": [
    "from sklearn.metrics import multilabel_confusion_matrix\n",
    "\n",
    "metrics.multilabel_confusion_matrix(y_test, y_hat, sample_weight=None, labels=None, samplewise=False)"
   ]
  },
  {
   "cell_type": "markdown",
   "metadata": {
    "id": "aklRi0m8_pDP"
   },
   "source": [
    "### Logistic Regression"
   ]
  },
  {
   "cell_type": "code",
   "execution_count": 32,
   "metadata": {
    "id": "lMNUM2W2_pDQ",
    "outputId": "8beb96bc-0f5f-49b9-88c7-f3ef2914b7e0"
   },
   "outputs": [
    {
     "data": {
      "text/plain": [
       "array([2, 2, 2, 2, 2, 2, 2, 2, 2, 2, 2, 2, 2, 2, 2, 2, 2, 2, 2, 2, 2, 2,\n",
       "       2, 2, 2, 2, 2, 2, 2, 2, 2, 2, 2, 2, 2, 2, 2, 2, 2, 2, 2, 2, 2, 2,\n",
       "       2, 2], dtype=int64)"
      ]
     },
     "execution_count": 32,
     "metadata": {},
     "output_type": "execute_result"
    }
   ],
   "source": [
    "from sklearn.linear_model import LogisticRegression\n",
    "\n",
    "LR = LogisticRegression(C=10, solver='liblinear').fit(X_train, y_train.ravel())\n",
    "y_hat = LR.predict(X_test)\n",
    "y_hat"
   ]
  },
  {
   "cell_type": "code",
   "execution_count": 33,
   "metadata": {
    "id": "1aN1x5Ef_pDR",
    "outputId": "4f2f647c-1ae5-436a-ce5b-fd0446679c35"
   },
   "outputs": [
    {
     "data": {
      "text/plain": [
       "array([[0.3051632 , 0.6948368 ],\n",
       "       [0.29370433, 0.70629567],\n",
       "       [0.25576264, 0.74423736],\n",
       "       [0.29652818, 0.70347182],\n",
       "       [0.31385017, 0.68614983],\n",
       "       [0.3027781 , 0.6972219 ],\n",
       "       [0.19021048, 0.80978952],\n",
       "       [0.22634214, 0.77365786],\n",
       "       [0.26969602, 0.73030398],\n",
       "       [0.32862537, 0.67137463]])"
      ]
     },
     "execution_count": 33,
     "metadata": {},
     "output_type": "execute_result"
    }
   ],
   "source": [
    "y_hat_prob = LR.predict_proba(X_test)\n",
    "y_hat_prob[0:10]"
   ]
  },
  {
   "cell_type": "code",
   "execution_count": 34,
   "metadata": {
    "id": "L88fpcua_pDR",
    "outputId": "ec507f60-5c77-4863-d244-190a8178e286"
   },
   "outputs": [
    {
     "name": "stdout",
     "output_type": "stream",
     "text": [
      "              precision    recall  f1-score   support\n",
      "\n",
      "           1       0.00      0.00      0.00        15\n",
      "           2       0.67      1.00      0.81        31\n",
      "\n",
      "    accuracy                           0.67        46\n",
      "   macro avg       0.34      0.50      0.40        46\n",
      "weighted avg       0.45      0.67      0.54        46\n",
      "\n"
     ]
    },
    {
     "name": "stderr",
     "output_type": "stream",
     "text": [
      "C:\\Users\\sahej\\anaconda3\\lib\\site-packages\\sklearn\\metrics\\_classification.py:1245: UndefinedMetricWarning: Precision and F-score are ill-defined and being set to 0.0 in labels with no predicted samples. Use `zero_division` parameter to control this behavior.\n",
      "  _warn_prf(average, modifier, msg_start, len(result))\n",
      "C:\\Users\\sahej\\anaconda3\\lib\\site-packages\\sklearn\\metrics\\_classification.py:1245: UndefinedMetricWarning: Precision and F-score are ill-defined and being set to 0.0 in labels with no predicted samples. Use `zero_division` parameter to control this behavior.\n",
      "  _warn_prf(average, modifier, msg_start, len(result))\n",
      "C:\\Users\\sahej\\anaconda3\\lib\\site-packages\\sklearn\\metrics\\_classification.py:1245: UndefinedMetricWarning: Precision and F-score are ill-defined and being set to 0.0 in labels with no predicted samples. Use `zero_division` parameter to control this behavior.\n",
      "  _warn_prf(average, modifier, msg_start, len(result))\n"
     ]
    }
   ],
   "source": [
    "print (classification_report(y_test, y_hat))"
   ]
  },
  {
   "cell_type": "code",
   "execution_count": 35,
   "metadata": {
    "id": "1I9KlyU7_pDS",
    "outputId": "013100a0-d81a-4844-b8ca-91ad3ff73d0f"
   },
   "outputs": [
    {
     "name": "stdout",
     "output_type": "stream",
     "text": [
      "f1_score:  0.5426312817617166\n",
      "Confusion matrix:  [[ 0 15]\n",
      " [ 0 31]]\n"
     ]
    }
   ],
   "source": [
    "print (\"f1_score: \", f1_score(y_test, y_hat, average='weighted'))\n",
    "#print (\"Jaccard similarity score: \", jaccard_similarity_score(y_test, y_hat))\n",
    "print (\"Confusion matrix: \", confusion_matrix(y_test, y_hat))"
   ]
  },
  {
   "cell_type": "markdown",
   "metadata": {
    "id": "N5BMB5AB_pDT"
   },
   "source": [
    "### K-NN"
   ]
  },
  {
   "cell_type": "code",
   "execution_count": 36,
   "metadata": {
    "id": "pejQw2BP_pDT",
    "outputId": "de397aee-f044-4393-f93e-1d076c26eb92"
   },
   "outputs": [
    {
     "data": {
      "text/plain": [
       "KNeighborsClassifier(n_neighbors=4, weights='distance')"
      ]
     },
     "execution_count": 36,
     "metadata": {},
     "output_type": "execute_result"
    }
   ],
   "source": [
    "from sklearn.neighbors import KNeighborsClassifier\n",
    "\n",
    "k = 4\n",
    "\n",
    "#Train Model and Predict\n",
    "neigh = KNeighborsClassifier(n_neighbors = k, weights=\"distance\").fit(X_train, y_train.ravel()) #KNN_4\n",
    "neigh"
   ]
  },
  {
   "cell_type": "code",
   "execution_count": 37,
   "metadata": {
    "id": "7EmBXWqQ_pDU",
    "outputId": "7fdb6e9d-8ddb-4af3-bd62-99642ef785ca"
   },
   "outputs": [
    {
     "data": {
      "text/plain": [
       "array([2, 2, 2, 2, 2, 2, 2, 2, 2, 1, 2, 2, 1, 2, 2, 1, 1, 2, 1, 2, 2, 2,\n",
       "       2, 2, 1, 2, 1, 2, 2, 2, 2, 2, 2, 2, 2, 2, 2, 2, 2, 2, 1, 1, 2, 2,\n",
       "       2, 2], dtype=int64)"
      ]
     },
     "execution_count": 37,
     "metadata": {},
     "output_type": "execute_result"
    }
   ],
   "source": [
    "y_hat = neigh.predict(X_test)\n",
    "y_hat\n",
    "\n"
   ]
  },
  {
   "cell_type": "code",
   "execution_count": 38,
   "metadata": {
    "id": "gKUG7Bt4_pDU",
    "outputId": "0748d1be-bb5b-4bab-f9b3-0e40cab32e6e"
   },
   "outputs": [
    {
     "name": "stdout",
     "output_type": "stream",
     "text": [
      "Train set Accuracy:  1.0\n",
      "Test set Accuracy:  0.6086956521739131\n"
     ]
    }
   ],
   "source": [
    "from sklearn import metrics\n",
    "print('Train set Accuracy: ', metrics.accuracy_score(y_train, neigh.predict(X_train)))\n",
    "print('Test set Accuracy: ', metrics.accuracy_score(y_test, y_hat))"
   ]
  },
  {
   "cell_type": "code",
   "execution_count": 39,
   "metadata": {
    "id": "kQ-pNfN9_pDV",
    "outputId": "24a13d6d-e47e-47fa-84f6-2e7e59aeb1d5"
   },
   "outputs": [
    {
     "name": "stdout",
     "output_type": "stream",
     "text": [
      "              precision    recall  f1-score   support\n",
      "\n",
      "           1       0.33      0.20      0.25        15\n",
      "           2       0.68      0.81      0.74        31\n",
      "\n",
      "    accuracy                           0.61        46\n",
      "   macro avg       0.50      0.50      0.49        46\n",
      "weighted avg       0.56      0.61      0.58        46\n",
      "\n"
     ]
    }
   ],
   "source": [
    "from sklearn.metrics import classification_report, confusion_matrix, f1_score\n",
    "print (classification_report(y_test, y_hat))"
   ]
  },
  {
   "cell_type": "code",
   "execution_count": 40,
   "metadata": {
    "id": "QLzNtvCG_pDV",
    "outputId": "18c7502c-b567-46eb-ff3c-324ee4199342"
   },
   "outputs": [
    {
     "name": "stdout",
     "output_type": "stream",
     "text": [
      "Train set Accuracy:  0.7679558011049724\n",
      "Test set Accuracy:  0.6521739130434783\n"
     ]
    }
   ],
   "source": [
    "# Larger k?\n",
    "\n",
    "k = 6\n",
    "\n",
    "neigh6 = KNeighborsClassifier(n_neighbors = k).fit(X_train, y_train.ravel())\n",
    "y_hat6 = neigh6.predict(X_test)\n",
    "print(\"Train set Accuracy: \", metrics.accuracy_score(y_train, neigh6.predict(X_train)))\n",
    "print(\"Test set Accuracy: \", metrics.accuracy_score(y_test, y_hat6))"
   ]
  },
  {
   "cell_type": "code",
   "execution_count": 41,
   "metadata": {
    "id": "RskKdTcx_pDV",
    "outputId": "5381bc7d-876c-48de-a7cf-ff9d7eaf8053"
   },
   "outputs": [
    {
     "name": "stdout",
     "output_type": "stream",
     "text": [
      "Highest accuracy achieved:  0.6521739130434783\n"
     ]
    }
   ],
   "source": [
    "Ks = 10\n",
    "\n",
    "mean_acc = np.zeros((Ks-1))\n",
    "std_acc = np.zeros((Ks-1))\n",
    "ConfusionMx = [];   \n",
    "\n",
    "for n in range(1,Ks):\n",
    "    \n",
    "    #Train Model and Predict  \n",
    "    neigh = KNeighborsClassifier(n_neighbors = n).fit(X_train,y_train.ravel())\n",
    "    y_hat=neigh.predict(X_test)\n",
    "    mean_acc[n-1] = metrics.accuracy_score(y_test, y_hat)\n",
    "\n",
    "    \n",
    "    std_acc[n-1]=np.std(y_hat==y_test)/np.sqrt(y_hat.shape[0])\n",
    "\n",
    "#for i in range(len(mean_acc)):\n",
    "#    print (\"For K= \", i, \"The accuracy is: \", mean_acc[i])\n",
    "    \n",
    "print (\"Highest accuracy achieved: \", max(mean_acc))\n",
    "\n"
   ]
  },
  {
   "cell_type": "code",
   "execution_count": 42,
   "metadata": {
    "id": "A16BGhv5_pDW",
    "outputId": "dbca8f9c-532d-40f9-a336-9e8a23c938f0"
   },
   "outputs": [
    {
     "data": {
      "image/png": "[encoded data removed]",
      "text/plain": [
       "<Figure size 432x288 with 1 Axes>"
      ]
     },
     "metadata": {
      "needs_background": "light"
     },
     "output_type": "display_data"
    },
    {
     "name": "stdout",
     "output_type": "stream",
     "text": [
      "The best accuracy was with 0.6521739130434783 when k= 5\n"
     ]
    }
   ],
   "source": [
    "plt.plot(range(1,Ks),mean_acc,'g')\n",
    "plt.fill_between(range(1,Ks), mean_acc - 1 * std_acc, mean_acc + 1 * std_acc, alpha=0.10)\n",
    "plt.legend(('Accuracy ', '+/- std'))\n",
    "plt.ylabel('Accuracy ')\n",
    "plt.xlabel('Number of Neighbors (K)')\n",
    "plt.tight_layout()\n",
    "plt.show()\n",
    "\n",
    "print (\"The best accuracy was with\", mean_acc.max(), \"when k=\", mean_acc.argmax()+1)"
   ]
  },
  {
   "cell_type": "code",
   "execution_count": 43,
   "metadata": {
    "id": "BM0WCEYt_pDX",
    "outputId": "ab44764a-fdff-4953-c47b-9a44e4e63786"
   },
   "outputs": [
    {
     "name": "stdout",
     "output_type": "stream",
     "text": [
      "For K=, 0 The accuracy is:  0.6086956521739131\n",
      "For K=, 1 The accuracy is:  0.6086956521739131\n",
      "For K=, 2 The accuracy is:  0.6086956521739131\n",
      "For K=, 3 The accuracy is:  0.6086956521739131\n",
      "For K=, 4 The accuracy is:  0.6304347826086957\n",
      "For K=, 5 The accuracy is:  0.6304347826086957\n",
      "For K=, 6 The accuracy is:  0.6304347826086957\n",
      "For K=, 7 The accuracy is:  0.6086956521739131\n",
      "For K=, 8 The accuracy is:  0.6304347826086957\n",
      "For K=, 9 The accuracy is:  0.6086956521739131\n",
      "For K=, 10 The accuracy is:  0.6304347826086957\n",
      "For K=, 11 The accuracy is:  0.6521739130434783\n",
      "For K=, 12 The accuracy is:  0.6739130434782609\n",
      "For K=, 13 The accuracy is:  0.6521739130434783\n",
      "For K=, 14 The accuracy is:  0.6739130434782609\n",
      "For K=, 15 The accuracy is:  0.6739130434782609\n",
      "For K=, 16 The accuracy is:  0.6956521739130435\n",
      "For K=, 17 The accuracy is:  0.6739130434782609\n",
      "For K=, 18 The accuracy is:  0.6956521739130435\n",
      "For K=, 19 The accuracy is:  0.6739130434782609\n",
      "For K=, 20 The accuracy is:  0.6956521739130435\n",
      "For K=, 21 The accuracy is:  0.6739130434782609\n",
      "For K=, 22 The accuracy is:  0.6739130434782609\n",
      "For K=, 23 The accuracy is:  0.6739130434782609\n",
      "For K=, 24 The accuracy is:  0.6739130434782609\n",
      "For K=, 25 The accuracy is:  0.6739130434782609\n",
      "For K=, 26 The accuracy is:  0.6739130434782609\n",
      "For K=, 27 The accuracy is:  0.6739130434782609\n",
      "For K=, 28 The accuracy is:  0.6739130434782609\n",
      "For K=, 29 The accuracy is:  0.6739130434782609\n",
      "For K=, 30 The accuracy is:  0.6739130434782609\n",
      "For K=, 31 The accuracy is:  0.6739130434782609\n",
      "For K=, 32 The accuracy is:  0.6739130434782609\n",
      "For K=, 33 The accuracy is:  0.6739130434782609\n",
      "For K=, 34 The accuracy is:  0.6739130434782609\n",
      "For K=, 35 The accuracy is:  0.6739130434782609\n",
      "For K=, 36 The accuracy is:  0.6739130434782609\n",
      "For K=, 37 The accuracy is:  0.6739130434782609\n",
      "For K=, 38 The accuracy is:  0.6739130434782609\n",
      "For K=, 39 The accuracy is:  0.6739130434782609\n",
      "For K=, 40 The accuracy is:  0.6739130434782609\n",
      "For K=, 41 The accuracy is:  0.6739130434782609\n",
      "For K=, 42 The accuracy is:  0.6739130434782609\n",
      "For K=, 43 The accuracy is:  0.6739130434782609\n",
      "For K=, 44 The accuracy is:  0.6739130434782609\n",
      "For K=, 45 The accuracy is:  0.6739130434782609\n",
      "For K=, 46 The accuracy is:  0.6739130434782609\n",
      "For K=, 47 The accuracy is:  0.6739130434782609\n",
      "For K=, 48 The accuracy is:  0.6739130434782609\n",
      "For K=, 49 The accuracy is:  0.6739130434782609\n",
      "For K=, 50 The accuracy is:  0.6739130434782609\n",
      "For K=, 51 The accuracy is:  0.6739130434782609\n",
      "For K=, 52 The accuracy is:  0.6739130434782609\n",
      "For K=, 53 The accuracy is:  0.6739130434782609\n",
      "For K=, 54 The accuracy is:  0.6739130434782609\n",
      "For K=, 55 The accuracy is:  0.6739130434782609\n",
      "For K=, 56 The accuracy is:  0.6739130434782609\n",
      "For K=, 57 The accuracy is:  0.6739130434782609\n",
      "For K=, 58 The accuracy is:  0.6739130434782609\n",
      "For K=, 59 The accuracy is:  0.6739130434782609\n",
      "For K=, 60 The accuracy is:  0.6739130434782609\n",
      "For K=, 61 The accuracy is:  0.6739130434782609\n",
      "For K=, 62 The accuracy is:  0.6739130434782609\n",
      "For K=, 63 The accuracy is:  0.6739130434782609\n",
      "For K=, 64 The accuracy is:  0.6739130434782609\n",
      "For K=, 65 The accuracy is:  0.6739130434782609\n",
      "For K=, 66 The accuracy is:  0.6739130434782609\n",
      "For K=, 67 The accuracy is:  0.6739130434782609\n",
      "For K=, 68 The accuracy is:  0.6739130434782609\n",
      "For K=, 69 The accuracy is:  0.6739130434782609\n",
      "For K=, 70 The accuracy is:  0.6739130434782609\n",
      "For K=, 71 The accuracy is:  0.6739130434782609\n",
      "For K=, 72 The accuracy is:  0.6739130434782609\n",
      "For K=, 73 The accuracy is:  0.6739130434782609\n",
      "For K=, 74 The accuracy is:  0.6739130434782609\n",
      "For K=, 75 The accuracy is:  0.6739130434782609\n",
      "For K=, 76 The accuracy is:  0.6739130434782609\n",
      "For K=, 77 The accuracy is:  0.6739130434782609\n",
      "For K=, 78 The accuracy is:  0.6739130434782609\n",
      "For K=, 79 The accuracy is:  0.6739130434782609\n",
      "For K=, 80 The accuracy is:  0.6739130434782609\n",
      "For K=, 81 The accuracy is:  0.6739130434782609\n",
      "For K=, 82 The accuracy is:  0.6739130434782609\n",
      "For K=, 83 The accuracy is:  0.6739130434782609\n",
      "For K=, 84 The accuracy is:  0.6739130434782609\n",
      "For K=, 85 The accuracy is:  0.6739130434782609\n",
      "For K=, 86 The accuracy is:  0.6739130434782609\n",
      "For K=, 87 The accuracy is:  0.6739130434782609\n",
      "For K=, 88 The accuracy is:  0.6739130434782609\n",
      "For K=, 89 The accuracy is:  0.6739130434782609\n",
      "For K=, 90 The accuracy is:  0.6739130434782609\n",
      "For K=, 91 The accuracy is:  0.6739130434782609\n",
      "For K=, 92 The accuracy is:  0.6739130434782609\n",
      "For K=, 93 The accuracy is:  0.6739130434782609\n",
      "For K=, 94 The accuracy is:  0.6739130434782609\n",
      "For K=, 95 The accuracy is:  0.6739130434782609\n",
      "For K=, 96 The accuracy is:  0.6739130434782609\n",
      "For K=, 97 The accuracy is:  0.6739130434782609\n",
      "For K=, 98 The accuracy is:  0.6739130434782609\n",
      "The best accuracy was with 0.6956521739130435 when k= 17\n"
     ]
    }
   ],
   "source": [
    "Ks = 100\n",
    "mean_acc = np.zeros((Ks-1))\n",
    "std_acc = np.zeros((Ks-1))\n",
    "ConfusionMx = [];   \n",
    "for n in range(1,Ks):\n",
    "    \n",
    "    #Train Model and Predict  \n",
    "    neigh = KNeighborsClassifier(n_neighbors = n, weights = 'distance', p=2).fit(X_train, y_train.ravel())\n",
    "    y_hat=neigh.predict(X_test)\n",
    "    mean_acc[n-1] = metrics.accuracy_score(y_test, y_hat)\n",
    "\n",
    "    \n",
    "    std_acc[n-1]=np.std(y_hat==y_test)/np.sqrt(y_hat.shape[0])\n",
    "\n",
    "for i in range(len(mean_acc)):\n",
    "    print (f\"For K=, {i} The accuracy is: \", mean_acc[i])\n",
    "    \n",
    "print (\"The best accuracy was with\", mean_acc.max(), \"when k=\", mean_acc.argmax()+1)"
   ]
  },
  {
   "cell_type": "code",
   "execution_count": null,
   "metadata": {
    "id": "VYVJnWMg_pDY"
   },
   "outputs": [],
   "source": []
  },
  {
   "cell_type": "code",
   "execution_count": null,
   "metadata": {
    "id": "7wNTatkO_pDY"
   },
   "outputs": [],
   "source": []
  }
 ],
 "metadata": {
  "colab": {
   "name": "Pesticide_models_new.ipynb",
   "provenance": []
  },
  "kernelspec": {
   "display_name": "Python 3.10.8 64-bit",
   "language": "python",
   "name": "python3"
  },
  "language_info": {
   "codemirror_mode": {
    "name": "ipython",
    "version": 3
   },
   "file_extension": ".py",
   "mimetype": "text/x-python",
   "name": "python",
   "nbconvert_exporter": "python",
   "pygments_lexer": "ipython3",
   "version": "3.10.8"
  },
  "toc": {
   "base_numbering": 1,
   "nav_menu": {},
   "number_sections": true,
   "sideBar": true,
   "skip_h1_title": false,
   "title_cell": "Table of Contents",
   "title_sidebar": "Contents",
   "toc_cell": false,
   "toc_position": {},
   "toc_section_display": true,
   "toc_window_display": false
  },
  "vscode": {
   "interpreter": {
    "hash": "521de7ff804989fc31d613f27fd0adb1b30586ac386b7ed63c994752af7c36a5"
   }
  }
 },
 "nbformat": 4,
 "nbformat_minor": 1
}
