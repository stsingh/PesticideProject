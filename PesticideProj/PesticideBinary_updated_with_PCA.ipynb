{
 "cells": [
  {
   "cell_type": "code",
   "execution_count": 1,
   "metadata": {
    "id": "o7_7KaChlPCp"
   },
   "outputs": [],
   "source": [
    "import numpy as np\n",
    "import pandas as pd\n",
    "import pylab as pl\n",
    "import scipy.optimize as opt\n",
    "from sklearn import preprocessing\n",
    "from sklearn.model_selection import train_test_split\n",
    "import matplotlib.pyplot as plt\n",
    "# from google.colab import files\n",
    "%matplotlib inline\n",
    "from sklearn import svm\n",
    "import pickle\n",
    "from sklearn.metrics import classification_report, confusion_matrix, f1_score # jaccard_similarity_score\n",
    "from sklearn.tree import DecisionTreeClassifier\n",
    "from sklearn import metrics\n",
    "from sklearn.linear_model import LogisticRegression\n",
    "from sklearn.metrics import confusion_matrix\n",
    "from sklearn.preprocessing import StandardScaler\n",
    "from sklearn.decomposition import PCA"
   ]
  },
  {
   "cell_type": "code",
   "execution_count": null,
   "metadata": {
    "id": "nOyxBVCil1Pp"
   },
   "outputs": [],
   "source": []
  },
  {
   "cell_type": "code",
   "execution_count": 2,
   "metadata": {
    "colab": {
     "base_uri": "https://localhost:8080/",
     "height": 513
    },
    "id": "jqXSM7wAl4wW",
    "outputId": "98603dbc-332d-4bc7-ee13-50c2588bf7dd"
   },
   "outputs": [
    {
     "data": {
      "text/html": [
       "<div>\n",
       "<style scoped>\n",
       "    .dataframe tbody tr th:only-of-type {\n",
       "        vertical-align: middle;\n",
       "    }\n",
       "\n",
       "    .dataframe tbody tr th {\n",
       "        vertical-align: top;\n",
       "    }\n",
       "\n",
       "    .dataframe thead th {\n",
       "        text-align: right;\n",
       "    }\n",
       "</style>\n",
       "<table border=\"1\" class=\"dataframe\">\n",
       "  <thead>\n",
       "    <tr style=\"text-align: right;\">\n",
       "      <th></th>\n",
       "      <th>Pesticide Name</th>\n",
       "      <th>LOD</th>\n",
       "      <th>EPA Tolerance (ppm)</th>\n",
       "      <th>ExactMolWt</th>\n",
       "      <th>HeavyAtomMolWt</th>\n",
       "      <th>NumRadicalElectrons</th>\n",
       "      <th>NumValenceElectrons</th>\n",
       "      <th>HeavyAtomCount</th>\n",
       "      <th>NHOHCount</th>\n",
       "      <th>NOCount</th>\n",
       "      <th>...</th>\n",
       "      <th>NumAromaticRings</th>\n",
       "      <th>NumHAcceptors</th>\n",
       "      <th>NumHDonors</th>\n",
       "      <th>NumHeteroatoms</th>\n",
       "      <th>NumRotatableBonds</th>\n",
       "      <th>NumSaturatedCarbocycles</th>\n",
       "      <th>NumSaturatedHeterocycles</th>\n",
       "      <th>NumSaturatedRings</th>\n",
       "      <th>RingCount</th>\n",
       "      <th>Class</th>\n",
       "    </tr>\n",
       "  </thead>\n",
       "  <tbody>\n",
       "    <tr>\n",
       "      <th>0</th>\n",
       "      <td>Desmedipham</td>\n",
       "      <td>0.0269</td>\n",
       "      <td>NT</td>\n",
       "      <td>300.111007</td>\n",
       "      <td>284.186</td>\n",
       "      <td>0</td>\n",
       "      <td>114</td>\n",
       "      <td>22</td>\n",
       "      <td>2</td>\n",
       "      <td>6</td>\n",
       "      <td>...</td>\n",
       "      <td>2</td>\n",
       "      <td>4</td>\n",
       "      <td>2</td>\n",
       "      <td>6</td>\n",
       "      <td>4</td>\n",
       "      <td>0</td>\n",
       "      <td>0</td>\n",
       "      <td>0</td>\n",
       "      <td>2</td>\n",
       "      <td>1</td>\n",
       "    </tr>\n",
       "    <tr>\n",
       "      <th>1</th>\n",
       "      <td>Thiacloprid</td>\n",
       "      <td>0.0004</td>\n",
       "      <td>NT</td>\n",
       "      <td>252.023645</td>\n",
       "      <td>243.658</td>\n",
       "      <td>0</td>\n",
       "      <td>82</td>\n",
       "      <td>16</td>\n",
       "      <td>0</td>\n",
       "      <td>4</td>\n",
       "      <td>...</td>\n",
       "      <td>1</td>\n",
       "      <td>4</td>\n",
       "      <td>0</td>\n",
       "      <td>6</td>\n",
       "      <td>2</td>\n",
       "      <td>0</td>\n",
       "      <td>1</td>\n",
       "      <td>1</td>\n",
       "      <td>2</td>\n",
       "      <td>1</td>\n",
       "    </tr>\n",
       "    <tr>\n",
       "      <th>2</th>\n",
       "      <td>Phenthoate</td>\n",
       "      <td>0.0060</td>\n",
       "      <td>NT</td>\n",
       "      <td>320.030588</td>\n",
       "      <td>303.236</td>\n",
       "      <td>0</td>\n",
       "      <td>106</td>\n",
       "      <td>19</td>\n",
       "      <td>0</td>\n",
       "      <td>4</td>\n",
       "      <td>...</td>\n",
       "      <td>1</td>\n",
       "      <td>6</td>\n",
       "      <td>0</td>\n",
       "      <td>7</td>\n",
       "      <td>7</td>\n",
       "      <td>0</td>\n",
       "      <td>0</td>\n",
       "      <td>0</td>\n",
       "      <td>1</td>\n",
       "      <td>1</td>\n",
       "    </tr>\n",
       "    <tr>\n",
       "      <th>3</th>\n",
       "      <td>Fenthion</td>\n",
       "      <td>0.0024</td>\n",
       "      <td>NT</td>\n",
       "      <td>278.020023</td>\n",
       "      <td>263.215</td>\n",
       "      <td>0</td>\n",
       "      <td>90</td>\n",
       "      <td>16</td>\n",
       "      <td>0</td>\n",
       "      <td>3</td>\n",
       "      <td>...</td>\n",
       "      <td>1</td>\n",
       "      <td>5</td>\n",
       "      <td>0</td>\n",
       "      <td>6</td>\n",
       "      <td>5</td>\n",
       "      <td>0</td>\n",
       "      <td>0</td>\n",
       "      <td>0</td>\n",
       "      <td>1</td>\n",
       "      <td>1</td>\n",
       "    </tr>\n",
       "    <tr>\n",
       "      <th>4</th>\n",
       "      <td>Dinotefuran</td>\n",
       "      <td>0.0100</td>\n",
       "      <td>NT</td>\n",
       "      <td>202.106590</td>\n",
       "      <td>188.102</td>\n",
       "      <td>0</td>\n",
       "      <td>80</td>\n",
       "      <td>14</td>\n",
       "      <td>2</td>\n",
       "      <td>7</td>\n",
       "      <td>...</td>\n",
       "      <td>0</td>\n",
       "      <td>4</td>\n",
       "      <td>2</td>\n",
       "      <td>7</td>\n",
       "      <td>3</td>\n",
       "      <td>0</td>\n",
       "      <td>1</td>\n",
       "      <td>1</td>\n",
       "      <td>1</td>\n",
       "      <td>1</td>\n",
       "    </tr>\n",
       "    <tr>\n",
       "      <th>...</th>\n",
       "      <td>...</td>\n",
       "      <td>...</td>\n",
       "      <td>...</td>\n",
       "      <td>...</td>\n",
       "      <td>...</td>\n",
       "      <td>...</td>\n",
       "      <td>...</td>\n",
       "      <td>...</td>\n",
       "      <td>...</td>\n",
       "      <td>...</td>\n",
       "      <td>...</td>\n",
       "      <td>...</td>\n",
       "      <td>...</td>\n",
       "      <td>...</td>\n",
       "      <td>...</td>\n",
       "      <td>...</td>\n",
       "      <td>...</td>\n",
       "      <td>...</td>\n",
       "      <td>...</td>\n",
       "      <td>...</td>\n",
       "      <td>...</td>\n",
       "    </tr>\n",
       "    <tr>\n",
       "      <th>222</th>\n",
       "      <td>Oxamyl</td>\n",
       "      <td>0.0080</td>\n",
       "      <td>T</td>\n",
       "      <td>219.067762</td>\n",
       "      <td>206.162</td>\n",
       "      <td>0</td>\n",
       "      <td>80</td>\n",
       "      <td>14</td>\n",
       "      <td>1</td>\n",
       "      <td>6</td>\n",
       "      <td>...</td>\n",
       "      <td>0</td>\n",
       "      <td>5</td>\n",
       "      <td>1</td>\n",
       "      <td>7</td>\n",
       "      <td>1</td>\n",
       "      <td>0</td>\n",
       "      <td>0</td>\n",
       "      <td>0</td>\n",
       "      <td>0</td>\n",
       "      <td>2</td>\n",
       "    </tr>\n",
       "    <tr>\n",
       "      <th>223</th>\n",
       "      <td>Carfentrazone ethyl</td>\n",
       "      <td>0.0030</td>\n",
       "      <td>T</td>\n",
       "      <td>411.036431</td>\n",
       "      <td>398.083</td>\n",
       "      <td>0</td>\n",
       "      <td>142</td>\n",
       "      <td>26</td>\n",
       "      <td>0</td>\n",
       "      <td>6</td>\n",
       "      <td>...</td>\n",
       "      <td>2</td>\n",
       "      <td>6</td>\n",
       "      <td>0</td>\n",
       "      <td>11</td>\n",
       "      <td>6</td>\n",
       "      <td>0</td>\n",
       "      <td>0</td>\n",
       "      <td>0</td>\n",
       "      <td>2</td>\n",
       "      <td>2</td>\n",
       "    </tr>\n",
       "    <tr>\n",
       "      <th>224</th>\n",
       "      <td>Endosulfan sulfate</td>\n",
       "      <td>0.0070</td>\n",
       "      <td>T</td>\n",
       "      <td>419.811796</td>\n",
       "      <td>416.880</td>\n",
       "      <td>0</td>\n",
       "      <td>114</td>\n",
       "      <td>20</td>\n",
       "      <td>0</td>\n",
       "      <td>4</td>\n",
       "      <td>...</td>\n",
       "      <td>0</td>\n",
       "      <td>4</td>\n",
       "      <td>0</td>\n",
       "      <td>11</td>\n",
       "      <td>0</td>\n",
       "      <td>1</td>\n",
       "      <td>1</td>\n",
       "      <td>2</td>\n",
       "      <td>3</td>\n",
       "      <td>2</td>\n",
       "    </tr>\n",
       "    <tr>\n",
       "      <th>225</th>\n",
       "      <td>Acetamiprid</td>\n",
       "      <td>0.0010</td>\n",
       "      <td>T</td>\n",
       "      <td>222.067224</td>\n",
       "      <td>211.591</td>\n",
       "      <td>0</td>\n",
       "      <td>78</td>\n",
       "      <td>15</td>\n",
       "      <td>0</td>\n",
       "      <td>4</td>\n",
       "      <td>...</td>\n",
       "      <td>1</td>\n",
       "      <td>3</td>\n",
       "      <td>0</td>\n",
       "      <td>5</td>\n",
       "      <td>2</td>\n",
       "      <td>0</td>\n",
       "      <td>0</td>\n",
       "      <td>0</td>\n",
       "      <td>1</td>\n",
       "      <td>2</td>\n",
       "    </tr>\n",
       "    <tr>\n",
       "      <th>226</th>\n",
       "      <td>Thiabendazole</td>\n",
       "      <td>0.0300</td>\n",
       "      <td>T</td>\n",
       "      <td>201.036068</td>\n",
       "      <td>194.198</td>\n",
       "      <td>0</td>\n",
       "      <td>68</td>\n",
       "      <td>14</td>\n",
       "      <td>1</td>\n",
       "      <td>3</td>\n",
       "      <td>...</td>\n",
       "      <td>3</td>\n",
       "      <td>3</td>\n",
       "      <td>1</td>\n",
       "      <td>4</td>\n",
       "      <td>1</td>\n",
       "      <td>0</td>\n",
       "      <td>0</td>\n",
       "      <td>0</td>\n",
       "      <td>3</td>\n",
       "      <td>2</td>\n",
       "    </tr>\n",
       "  </tbody>\n",
       "</table>\n",
       "<p>227 rows × 25 columns</p>\n",
       "</div>"
      ],
      "text/plain": [
       "          Pesticide Name     LOD EPA Tolerance (ppm)  ExactMolWt  \\\n",
       "0            Desmedipham  0.0269                  NT  300.111007   \n",
       "1            Thiacloprid  0.0004                  NT  252.023645   \n",
       "2             Phenthoate  0.0060                  NT  320.030588   \n",
       "3               Fenthion  0.0024                  NT  278.020023   \n",
       "4            Dinotefuran  0.0100                  NT  202.106590   \n",
       "..                   ...     ...                 ...         ...   \n",
       "222               Oxamyl  0.0080                   T  219.067762   \n",
       "223  Carfentrazone ethyl  0.0030                   T  411.036431   \n",
       "224   Endosulfan sulfate  0.0070                   T  419.811796   \n",
       "225          Acetamiprid  0.0010                   T  222.067224   \n",
       "226        Thiabendazole  0.0300                   T  201.036068   \n",
       "\n",
       "     HeavyAtomMolWt  NumRadicalElectrons  NumValenceElectrons  HeavyAtomCount  \\\n",
       "0           284.186                    0                  114              22   \n",
       "1           243.658                    0                   82              16   \n",
       "2           303.236                    0                  106              19   \n",
       "3           263.215                    0                   90              16   \n",
       "4           188.102                    0                   80              14   \n",
       "..              ...                  ...                  ...             ...   \n",
       "222         206.162                    0                   80              14   \n",
       "223         398.083                    0                  142              26   \n",
       "224         416.880                    0                  114              20   \n",
       "225         211.591                    0                   78              15   \n",
       "226         194.198                    0                   68              14   \n",
       "\n",
       "     NHOHCount  NOCount  ...  NumAromaticRings  NumHAcceptors  NumHDonors  \\\n",
       "0            2        6  ...                 2              4           2   \n",
       "1            0        4  ...                 1              4           0   \n",
       "2            0        4  ...                 1              6           0   \n",
       "3            0        3  ...                 1              5           0   \n",
       "4            2        7  ...                 0              4           2   \n",
       "..         ...      ...  ...               ...            ...         ...   \n",
       "222          1        6  ...                 0              5           1   \n",
       "223          0        6  ...                 2              6           0   \n",
       "224          0        4  ...                 0              4           0   \n",
       "225          0        4  ...                 1              3           0   \n",
       "226          1        3  ...                 3              3           1   \n",
       "\n",
       "     NumHeteroatoms  NumRotatableBonds  NumSaturatedCarbocycles  \\\n",
       "0                 6                  4                        0   \n",
       "1                 6                  2                        0   \n",
       "2                 7                  7                        0   \n",
       "3                 6                  5                        0   \n",
       "4                 7                  3                        0   \n",
       "..              ...                ...                      ...   \n",
       "222               7                  1                        0   \n",
       "223              11                  6                        0   \n",
       "224              11                  0                        1   \n",
       "225               5                  2                        0   \n",
       "226               4                  1                        0   \n",
       "\n",
       "     NumSaturatedHeterocycles  NumSaturatedRings  RingCount  Class  \n",
       "0                           0                  0          2      1  \n",
       "1                           1                  1          2      1  \n",
       "2                           0                  0          1      1  \n",
       "3                           0                  0          1      1  \n",
       "4                           1                  1          1      1  \n",
       "..                        ...                ...        ...    ...  \n",
       "222                         0                  0          0      2  \n",
       "223                         0                  0          2      2  \n",
       "224                         1                  2          3      2  \n",
       "225                         0                  0          1      2  \n",
       "226                         0                  0          3      2  \n",
       "\n",
       "[227 rows x 25 columns]"
      ]
     },
     "execution_count": 2,
     "metadata": {},
     "output_type": "execute_result"
    }
   ],
   "source": [
    "pest_data = pd.read_csv(\"BinaryPesticideData.csv\")\n",
    "pest_data"
   ]
  },
  {
   "cell_type": "code",
   "execution_count": 3,
   "metadata": {
    "colab": {
     "base_uri": "https://localhost:8080/",
     "height": 320
    },
    "id": "_yvPCN1Rl-vW",
    "outputId": "70d4d0f5-f4b5-4642-8a14-09623db0d1f1"
   },
   "outputs": [
    {
     "data": {
      "text/html": [
       "<div>\n",
       "<style scoped>\n",
       "    .dataframe tbody tr th:only-of-type {\n",
       "        vertical-align: middle;\n",
       "    }\n",
       "\n",
       "    .dataframe tbody tr th {\n",
       "        vertical-align: top;\n",
       "    }\n",
       "\n",
       "    .dataframe thead th {\n",
       "        text-align: right;\n",
       "    }\n",
       "</style>\n",
       "<table border=\"1\" class=\"dataframe\">\n",
       "  <thead>\n",
       "    <tr style=\"text-align: right;\">\n",
       "      <th></th>\n",
       "      <th>LOD</th>\n",
       "      <th>ExactMolWt</th>\n",
       "      <th>HeavyAtomMolWt</th>\n",
       "      <th>NumValenceElectrons</th>\n",
       "      <th>HeavyAtomCount</th>\n",
       "      <th>NHOHCount</th>\n",
       "      <th>NOCount</th>\n",
       "      <th>NumAliphaticCarbocycles</th>\n",
       "      <th>NumAliphaticHeterocycles</th>\n",
       "      <th>NumAliphaticRings</th>\n",
       "      <th>...</th>\n",
       "      <th>NumAromaticRings</th>\n",
       "      <th>NumHAcceptors</th>\n",
       "      <th>NumHDonors</th>\n",
       "      <th>NumHeteroatoms</th>\n",
       "      <th>NumRotatableBonds</th>\n",
       "      <th>NumSaturatedCarbocycles</th>\n",
       "      <th>NumSaturatedHeterocycles</th>\n",
       "      <th>NumSaturatedRings</th>\n",
       "      <th>RingCount</th>\n",
       "      <th>Class</th>\n",
       "    </tr>\n",
       "  </thead>\n",
       "  <tbody>\n",
       "    <tr>\n",
       "      <th>count</th>\n",
       "      <td>227.000000</td>\n",
       "      <td>227.000000</td>\n",
       "      <td>227.000000</td>\n",
       "      <td>227.000000</td>\n",
       "      <td>227.000000</td>\n",
       "      <td>227.000000</td>\n",
       "      <td>227.000000</td>\n",
       "      <td>227.000000</td>\n",
       "      <td>227.000000</td>\n",
       "      <td>227.000000</td>\n",
       "      <td>...</td>\n",
       "      <td>227.000000</td>\n",
       "      <td>227.000000</td>\n",
       "      <td>227.000000</td>\n",
       "      <td>227.000000</td>\n",
       "      <td>227.000000</td>\n",
       "      <td>227.000000</td>\n",
       "      <td>227.000000</td>\n",
       "      <td>227.000000</td>\n",
       "      <td>227.000000</td>\n",
       "      <td>227.000000</td>\n",
       "    </tr>\n",
       "    <tr>\n",
       "      <th>mean</th>\n",
       "      <td>0.013992</td>\n",
       "      <td>314.329044</td>\n",
       "      <td>298.101727</td>\n",
       "      <td>110.634361</td>\n",
       "      <td>20.356828</td>\n",
       "      <td>0.722467</td>\n",
       "      <td>4.577093</td>\n",
       "      <td>0.215859</td>\n",
       "      <td>0.312775</td>\n",
       "      <td>0.528634</td>\n",
       "      <td>...</td>\n",
       "      <td>1.268722</td>\n",
       "      <td>4.281938</td>\n",
       "      <td>0.660793</td>\n",
       "      <td>6.590308</td>\n",
       "      <td>4.383260</td>\n",
       "      <td>0.145374</td>\n",
       "      <td>0.189427</td>\n",
       "      <td>0.334802</td>\n",
       "      <td>1.797357</td>\n",
       "      <td>1.713656</td>\n",
       "    </tr>\n",
       "    <tr>\n",
       "      <th>std</th>\n",
       "      <td>0.027355</td>\n",
       "      <td>141.878676</td>\n",
       "      <td>132.130233</td>\n",
       "      <td>56.013772</td>\n",
       "      <td>10.205000</td>\n",
       "      <td>1.033756</td>\n",
       "      <td>2.493710</td>\n",
       "      <td>0.596535</td>\n",
       "      <td>1.040747</td>\n",
       "      <td>1.399374</td>\n",
       "      <td>...</td>\n",
       "      <td>0.969919</td>\n",
       "      <td>2.494202</td>\n",
       "      <td>0.914197</td>\n",
       "      <td>2.954596</td>\n",
       "      <td>2.672091</td>\n",
       "      <td>0.452147</td>\n",
       "      <td>0.719066</td>\n",
       "      <td>0.932584</td>\n",
       "      <td>1.491389</td>\n",
       "      <td>0.453051</td>\n",
       "    </tr>\n",
       "    <tr>\n",
       "      <th>min</th>\n",
       "      <td>0.000100</td>\n",
       "      <td>44.026215</td>\n",
       "      <td>40.021000</td>\n",
       "      <td>18.000000</td>\n",
       "      <td>3.000000</td>\n",
       "      <td>0.000000</td>\n",
       "      <td>0.000000</td>\n",
       "      <td>0.000000</td>\n",
       "      <td>0.000000</td>\n",
       "      <td>0.000000</td>\n",
       "      <td>...</td>\n",
       "      <td>0.000000</td>\n",
       "      <td>1.000000</td>\n",
       "      <td>0.000000</td>\n",
       "      <td>1.000000</td>\n",
       "      <td>0.000000</td>\n",
       "      <td>0.000000</td>\n",
       "      <td>0.000000</td>\n",
       "      <td>0.000000</td>\n",
       "      <td>0.000000</td>\n",
       "      <td>1.000000</td>\n",
       "    </tr>\n",
       "    <tr>\n",
       "      <th>25%</th>\n",
       "      <td>0.002000</td>\n",
       "      <td>243.987613</td>\n",
       "      <td>228.380000</td>\n",
       "      <td>84.000000</td>\n",
       "      <td>15.000000</td>\n",
       "      <td>0.000000</td>\n",
       "      <td>3.000000</td>\n",
       "      <td>0.000000</td>\n",
       "      <td>0.000000</td>\n",
       "      <td>0.000000</td>\n",
       "      <td>...</td>\n",
       "      <td>0.000000</td>\n",
       "      <td>3.000000</td>\n",
       "      <td>0.000000</td>\n",
       "      <td>5.000000</td>\n",
       "      <td>2.000000</td>\n",
       "      <td>0.000000</td>\n",
       "      <td>0.000000</td>\n",
       "      <td>0.000000</td>\n",
       "      <td>1.000000</td>\n",
       "      <td>1.000000</td>\n",
       "    </tr>\n",
       "    <tr>\n",
       "      <th>50%</th>\n",
       "      <td>0.006000</td>\n",
       "      <td>302.012602</td>\n",
       "      <td>285.065000</td>\n",
       "      <td>106.000000</td>\n",
       "      <td>19.000000</td>\n",
       "      <td>0.000000</td>\n",
       "      <td>4.000000</td>\n",
       "      <td>0.000000</td>\n",
       "      <td>0.000000</td>\n",
       "      <td>0.000000</td>\n",
       "      <td>...</td>\n",
       "      <td>1.000000</td>\n",
       "      <td>4.000000</td>\n",
       "      <td>0.000000</td>\n",
       "      <td>6.000000</td>\n",
       "      <td>4.000000</td>\n",
       "      <td>0.000000</td>\n",
       "      <td>0.000000</td>\n",
       "      <td>0.000000</td>\n",
       "      <td>2.000000</td>\n",
       "      <td>2.000000</td>\n",
       "    </tr>\n",
       "    <tr>\n",
       "      <th>75%</th>\n",
       "      <td>0.015000</td>\n",
       "      <td>352.158152</td>\n",
       "      <td>332.715000</td>\n",
       "      <td>124.000000</td>\n",
       "      <td>23.000000</td>\n",
       "      <td>1.000000</td>\n",
       "      <td>5.500000</td>\n",
       "      <td>0.000000</td>\n",
       "      <td>0.000000</td>\n",
       "      <td>1.000000</td>\n",
       "      <td>...</td>\n",
       "      <td>2.000000</td>\n",
       "      <td>5.000000</td>\n",
       "      <td>1.000000</td>\n",
       "      <td>8.000000</td>\n",
       "      <td>6.000000</td>\n",
       "      <td>0.000000</td>\n",
       "      <td>0.000000</td>\n",
       "      <td>0.000000</td>\n",
       "      <td>2.000000</td>\n",
       "      <td>2.000000</td>\n",
       "    </tr>\n",
       "    <tr>\n",
       "      <th>max</th>\n",
       "      <td>0.250000</td>\n",
       "      <td>1730.968764</td>\n",
       "      <td>1589.017000</td>\n",
       "      <td>690.000000</td>\n",
       "      <td>123.000000</td>\n",
       "      <td>6.000000</td>\n",
       "      <td>28.000000</td>\n",
       "      <td>4.000000</td>\n",
       "      <td>12.000000</td>\n",
       "      <td>14.000000</td>\n",
       "      <td>...</td>\n",
       "      <td>3.000000</td>\n",
       "      <td>28.000000</td>\n",
       "      <td>6.000000</td>\n",
       "      <td>28.000000</td>\n",
       "      <td>15.000000</td>\n",
       "      <td>4.000000</td>\n",
       "      <td>8.000000</td>\n",
       "      <td>8.000000</td>\n",
       "      <td>14.000000</td>\n",
       "      <td>2.000000</td>\n",
       "    </tr>\n",
       "  </tbody>\n",
       "</table>\n",
       "<p>8 rows × 22 columns</p>\n",
       "</div>"
      ],
      "text/plain": [
       "              LOD   ExactMolWt  HeavyAtomMolWt  NumValenceElectrons  \\\n",
       "count  227.000000   227.000000      227.000000           227.000000   \n",
       "mean     0.013992   314.329044      298.101727           110.634361   \n",
       "std      0.027355   141.878676      132.130233            56.013772   \n",
       "min      0.000100    44.026215       40.021000            18.000000   \n",
       "25%      0.002000   243.987613      228.380000            84.000000   \n",
       "50%      0.006000   302.012602      285.065000           106.000000   \n",
       "75%      0.015000   352.158152      332.715000           124.000000   \n",
       "max      0.250000  1730.968764     1589.017000           690.000000   \n",
       "\n",
       "       HeavyAtomCount   NHOHCount     NOCount  NumAliphaticCarbocycles  \\\n",
       "count      227.000000  227.000000  227.000000               227.000000   \n",
       "mean        20.356828    0.722467    4.577093                 0.215859   \n",
       "std         10.205000    1.033756    2.493710                 0.596535   \n",
       "min          3.000000    0.000000    0.000000                 0.000000   \n",
       "25%         15.000000    0.000000    3.000000                 0.000000   \n",
       "50%         19.000000    0.000000    4.000000                 0.000000   \n",
       "75%         23.000000    1.000000    5.500000                 0.000000   \n",
       "max        123.000000    6.000000   28.000000                 4.000000   \n",
       "\n",
       "       NumAliphaticHeterocycles  NumAliphaticRings  ...  NumAromaticRings  \\\n",
       "count                227.000000         227.000000  ...        227.000000   \n",
       "mean                   0.312775           0.528634  ...          1.268722   \n",
       "std                    1.040747           1.399374  ...          0.969919   \n",
       "min                    0.000000           0.000000  ...          0.000000   \n",
       "25%                    0.000000           0.000000  ...          0.000000   \n",
       "50%                    0.000000           0.000000  ...          1.000000   \n",
       "75%                    0.000000           1.000000  ...          2.000000   \n",
       "max                   12.000000          14.000000  ...          3.000000   \n",
       "\n",
       "       NumHAcceptors  NumHDonors  NumHeteroatoms  NumRotatableBonds  \\\n",
       "count     227.000000  227.000000      227.000000         227.000000   \n",
       "mean        4.281938    0.660793        6.590308           4.383260   \n",
       "std         2.494202    0.914197        2.954596           2.672091   \n",
       "min         1.000000    0.000000        1.000000           0.000000   \n",
       "25%         3.000000    0.000000        5.000000           2.000000   \n",
       "50%         4.000000    0.000000        6.000000           4.000000   \n",
       "75%         5.000000    1.000000        8.000000           6.000000   \n",
       "max        28.000000    6.000000       28.000000          15.000000   \n",
       "\n",
       "       NumSaturatedCarbocycles  NumSaturatedHeterocycles  NumSaturatedRings  \\\n",
       "count               227.000000                227.000000         227.000000   \n",
       "mean                  0.145374                  0.189427           0.334802   \n",
       "std                   0.452147                  0.719066           0.932584   \n",
       "min                   0.000000                  0.000000           0.000000   \n",
       "25%                   0.000000                  0.000000           0.000000   \n",
       "50%                   0.000000                  0.000000           0.000000   \n",
       "75%                   0.000000                  0.000000           0.000000   \n",
       "max                   4.000000                  8.000000           8.000000   \n",
       "\n",
       "        RingCount       Class  \n",
       "count  227.000000  227.000000  \n",
       "mean     1.797357    1.713656  \n",
       "std      1.491389    0.453051  \n",
       "min      0.000000    1.000000  \n",
       "25%      1.000000    1.000000  \n",
       "50%      2.000000    2.000000  \n",
       "75%      2.000000    2.000000  \n",
       "max     14.000000    2.000000  \n",
       "\n",
       "[8 rows x 22 columns]"
      ]
     },
     "execution_count": 3,
     "metadata": {},
     "output_type": "execute_result"
    }
   ],
   "source": [
    "pest_data.describe()\n",
    "pest_data.drop(columns=\"NumRadicalElectrons\", axis=1, inplace=True)\n",
    "pest_data.describe()"
   ]
  },
  {
   "cell_type": "code",
   "execution_count": 4,
   "metadata": {
    "colab": {
     "base_uri": "https://localhost:8080/"
    },
    "id": "64Ey4nUmrBUI",
    "outputId": "4a514f21-cbff-44d8-ee69-2ba58e27e269"
   },
   "outputs": [
    {
     "data": {
      "text/plain": [
       "Pesticide Name               object\n",
       "LOD                         float64\n",
       "EPA Tolerance (ppm)          object\n",
       "ExactMolWt                  float64\n",
       "HeavyAtomMolWt              float64\n",
       "NumValenceElectrons           int64\n",
       "HeavyAtomCount                int64\n",
       "NHOHCount                     int64\n",
       "NOCount                       int64\n",
       "NumAliphaticCarbocycles       int64\n",
       "NumAliphaticHeterocycles      int64\n",
       "NumAliphaticRings             int64\n",
       "NumAromaticCarbocycles        int64\n",
       "NumAromaticHeterocycles       int64\n",
       "NumAromaticRings              int64\n",
       "NumHAcceptors                 int64\n",
       "NumHDonors                    int64\n",
       "NumHeteroatoms                int64\n",
       "NumRotatableBonds             int64\n",
       "NumSaturatedCarbocycles       int64\n",
       "NumSaturatedHeterocycles      int64\n",
       "NumSaturatedRings             int64\n",
       "RingCount                     int64\n",
       "Class                         int64\n",
       "dtype: object"
      ]
     },
     "execution_count": 4,
     "metadata": {},
     "output_type": "execute_result"
    }
   ],
   "source": [
    "pest_data.dtypes"
   ]
  },
  {
   "cell_type": "markdown",
   "metadata": {
    "id": "S2Sn37ACrKAx"
   },
   "source": [
    "# *Data Split/Prep*"
   ]
  },
  {
   "cell_type": "code",
   "execution_count": 5,
   "metadata": {
    "colab": {
     "base_uri": "https://localhost:8080/"
    },
    "id": "1CKCuFbPrEj5",
    "outputId": "c3f555fc-2105-43e6-e4ad-bc658430db87"
   },
   "outputs": [
    {
     "data": {
      "text/plain": [
       "array([[300.11100699, 284.186     , 114.        , ...,   0.        ,\n",
       "          0.        ,   2.        ],\n",
       "       [252.02364497, 243.658     ,  82.        , ...,   1.        ,\n",
       "          1.        ,   2.        ],\n",
       "       [320.03058765, 303.236     , 106.        , ...,   0.        ,\n",
       "          0.        ,   1.        ],\n",
       "       ...,\n",
       "       [419.81179575, 416.88      , 114.        , ...,   1.        ,\n",
       "          2.        ,   3.        ],\n",
       "       [222.06722403, 211.591     ,  78.        , ...,   0.        ,\n",
       "          0.        ,   1.        ],\n",
       "       [201.03606822, 194.198     ,  68.        , ...,   0.        ,\n",
       "          0.        ,   3.        ]])"
      ]
     },
     "execution_count": 5,
     "metadata": {},
     "output_type": "execute_result"
    }
   ],
   "source": [
    "pest_feats = pest_data[['ExactMolWt', 'HeavyAtomMolWt', 'NumValenceElectrons', 'HeavyAtomCount', 'NHOHCount', \n",
    "                        'NOCount', 'NumAliphaticCarbocycles', 'NumAliphaticHeterocycles', 'NumAliphaticRings', \n",
    "                        'NumAromaticCarbocycles', 'NumAromaticHeterocycles', 'NumAromaticRings', 'NumHAcceptors', \n",
    "                        'NumHDonors', 'NumHeteroatoms', 'NumRotatableBonds', 'NumSaturatedCarbocycles', \n",
    "                        'NumSaturatedHeterocycles', 'NumSaturatedRings', 'RingCount']] # Removed LOD\n",
    "pest_feats[0:20]\n",
    "pest_feats.shape\n",
    "pest_feats_array = pest_feats.values\n",
    "pest_feats_array"
   ]
  },
  {
   "cell_type": "code",
   "execution_count": 6,
   "metadata": {
    "colab": {
     "base_uri": "https://localhost:8080/"
    },
    "id": "Te1spoKzaFqL",
    "outputId": "95c11951-ad63-4d90-fbb3-072cde692752"
   },
   "outputs": [
    {
     "data": {
      "text/plain": [
       "array([[-0.06540902, -1.27481012, -0.82972949, ..., -1.54092359,\n",
       "         0.77158139,  0.16882798],\n",
       "       [-0.22807388,  0.83030492,  0.06828323, ...,  1.74832324,\n",
       "        -1.87575783, -0.47576606],\n",
       "       [-0.49175646, -0.28671791,  0.08667064, ..., -0.50544296,\n",
       "         0.02085908, -0.08534201],\n",
       "       ...,\n",
       "       [ 2.81988053,  3.89969809,  1.59914926, ...,  0.86904859,\n",
       "        -0.45699914,  2.12290421],\n",
       "       [-1.92676775,  0.43405038, -0.04877979, ...,  1.59251151,\n",
       "        -0.82708818, -0.1433168 ],\n",
       "       [-1.84751632, -1.53616544,  0.60680837, ...,  2.50524897,\n",
       "        -0.24091935, -0.7765139 ]])"
      ]
     },
     "execution_count": 6,
     "metadata": {},
     "output_type": "execute_result"
    }
   ],
   "source": [
    "from sklearn.preprocessing import StandardScaler\n",
    "\n",
    "pest_feats_scaled = StandardScaler().fit_transform(pest_feats_array)  # Previously, a huge bias without scaling\n",
    "\n",
    "# one feature had 99% explanation\n",
    "\n",
    "pest_feats_pca = PCA(n_components=7).fit(pest_feats_scaled)\n",
    "pest_feats_pca_values = pest_feats_pca.transform(pest_feats_scaled)\n",
    "pest_feats_pca_values"
   ]
  },
  {
   "cell_type": "code",
   "execution_count": 7,
   "metadata": {
    "colab": {
     "base_uri": "https://localhost:8080/"
    },
    "id": "gZDwJWWebCpT",
    "outputId": "09763367-089f-4a2a-fc0c-83d33c2ecee5"
   },
   "outputs": [
    {
     "data": {
      "text/plain": [
       "array([0.49264112, 0.14572025, 0.12246059, 0.08576058, 0.05366027,\n",
       "       0.03996117, 0.02622315])"
      ]
     },
     "execution_count": 7,
     "metadata": {},
     "output_type": "execute_result"
    }
   ],
   "source": [
    "pest_feats_pca.explained_variance_ratio_"
   ]
  },
  {
   "cell_type": "code",
   "execution_count": 8,
   "metadata": {
    "id": "UvrWlU-F_j_8",
    "outputId": "e3c3f7be-02ef-4be2-947e-36bf2586d376"
   },
   "outputs": [
    {
     "data": {
      "text/plain": [
       "0.9664271451575587"
      ]
     },
     "execution_count": 8,
     "metadata": {},
     "output_type": "execute_result"
    }
   ],
   "source": [
    "pest_feats_pca.explained_variance_ratio_.sum()"
   ]
  },
  {
   "cell_type": "code",
   "execution_count": 9,
   "metadata": {
    "colab": {
     "base_uri": "https://localhost:8080/"
    },
    "id": "Mg-Jjv4krLQb",
    "outputId": "ae72dfa3-1fce-4d58-d2d3-ecd47a53c821"
   },
   "outputs": [
    {
     "data": {
      "text/plain": [
       "(227, 20)"
      ]
     },
     "execution_count": 9,
     "metadata": {},
     "output_type": "execute_result"
    }
   ],
   "source": [
    "pest_data['Class'] = pest_data['Class'].astype(int)\n",
    "y = np.asanyarray(pest_data['Class'])\n",
    "y[0:5]\n",
    "\n",
    "X = pest_feats[:]\n",
    "X.shape"
   ]
  },
  {
   "cell_type": "code",
   "execution_count": 10,
   "metadata": {
    "colab": {
     "base_uri": "https://localhost:8080/"
    },
    "id": "S6oQWHajrRck",
    "outputId": "9a9ffdee-66ef-4743-cef7-70506bace38a"
   },
   "outputs": [
    {
     "name": "stdout",
     "output_type": "stream",
     "text": [
      "X_train and y_train shape:  (181, 7) (181,)\n",
      "X_test and y_test shape:  (46, 7) (46,)\n"
     ]
    }
   ],
   "source": [
    "X_train, X_test, y_train, y_test = train_test_split (pest_feats_pca_values, y, test_size=0.2, shuffle=True)\n",
    "print ('X_train and y_train shape: ', X_train.shape, y_train.shape)\n",
    "print ('X_test and y_test shape: ', X_test.shape, y_test.shape)"
   ]
  },
  {
   "cell_type": "code",
   "execution_count": 11,
   "metadata": {
    "id": "ZriaoppMUd6y"
   },
   "outputs": [],
   "source": [
    "X_train = StandardScaler().fit_transform(X_train)\n",
    "X_test = StandardScaler().fit_transform(X_test)"
   ]
  },
  {
   "cell_type": "code",
   "execution_count": 12,
   "metadata": {
    "id": "Aj-IpOiy_kAG",
    "outputId": "048a7eb1-3057-4c67-dbae-7027beac4d60"
   },
   "outputs": [
    {
     "data": {
      "text/plain": [
       "array([[ 0.37477983, -1.11007537,  0.60767688, ..., -0.94177047,\n",
       "         0.33385039,  0.81723636],\n",
       "       [-0.40789456, -1.0246495 ,  1.41328117, ...,  0.40911207,\n",
       "        -0.75492685,  0.0615994 ],\n",
       "       [ 0.88007708,  2.52837026,  1.17968016, ...,  0.71547884,\n",
       "        -0.63319693,  2.60698494],\n",
       "       ...,\n",
       "       [-0.4382954 ,  0.75290964, -1.24152244, ..., -0.07999418,\n",
       "         0.06126327,  0.05077998],\n",
       "       [ 0.34648366, -1.12629665,  0.30084301, ...,  1.28418383,\n",
       "         0.3271502 ,  1.04188408],\n",
       "       [-0.58963635,  0.27166842, -0.07738258, ...,  1.75658686,\n",
       "        -0.93362058,  0.47301213]])"
      ]
     },
     "execution_count": 12,
     "metadata": {},
     "output_type": "execute_result"
    }
   ],
   "source": [
    "X_train"
   ]
  },
  {
   "cell_type": "code",
   "execution_count": 13,
   "metadata": {
    "id": "xb35es3t_kAI",
    "outputId": "eb8a8d99-2449-473e-be21-e5b7202c79d0"
   },
   "outputs": [
    {
     "data": {
      "text/plain": [
       "array([[-0.383252  ,  0.31048189, -0.24089188,  2.14634075, -0.82707235,\n",
       "         0.51350751, -2.14505445],\n",
       "       [ 0.12326276,  0.04128644, -0.46887092, -0.54675242, -0.67770352,\n",
       "        -1.19477018,  0.83593574],\n",
       "       [-0.49519382,  0.02157642, -0.4655678 , -0.46848736, -0.8310168 ,\n",
       "        -0.20551645,  0.81170686],\n",
       "       [-0.18025304, -0.89257922,  0.56174611,  0.31107016,  0.72345197,\n",
       "        -0.03110676,  0.64215115],\n",
       "       [ 0.00329881, -1.58238513,  1.37816786,  0.27717164, -1.82501254,\n",
       "         0.42933701, -0.27570067]])"
      ]
     },
     "execution_count": 13,
     "metadata": {},
     "output_type": "execute_result"
    }
   ],
   "source": [
    "X_test[0:5]"
   ]
  },
  {
   "cell_type": "code",
   "execution_count": 14,
   "metadata": {
    "id": "6_yeXRc2_kAJ",
    "outputId": "2c822502-226f-4487-b02b-35455fea3d18"
   },
   "outputs": [
    {
     "data": {
      "text/plain": [
       "array([2, 2, 2, 2, 2, 2, 2, 2, 2, 2, 2, 1, 1, 2, 2, 1, 2, 1, 2, 2, 2, 2,\n",
       "       2, 2, 2, 2, 1, 2, 2, 2, 2, 2, 1, 2, 1, 1, 1, 1, 2, 2, 2, 2, 2, 2,\n",
       "       2, 1, 1, 2, 2, 1, 1, 2, 2, 2, 2, 1, 1, 2, 2, 2, 1, 1, 2, 1, 2, 2,\n",
       "       1, 2, 1, 1, 2, 2, 2, 2, 1, 2, 2, 1, 1, 1, 1, 1, 2, 2, 1, 2, 1, 2,\n",
       "       2, 1, 2, 2, 2, 1, 2, 2, 1, 2, 2, 2, 1, 2, 1, 1, 1, 2, 2, 1, 2, 2,\n",
       "       1, 2, 2, 2, 2, 1, 2, 2, 2, 2, 2, 2, 2, 2, 2, 2, 2, 2, 2, 1, 2, 1,\n",
       "       2, 2, 2, 2, 1, 2, 2, 2, 1, 1, 2, 2, 1, 2, 2, 2, 2, 2, 2, 2, 2, 1,\n",
       "       2, 2, 1, 1, 2, 2, 2, 1, 2, 2, 2, 2, 1, 2, 1, 2, 2, 2, 2, 2, 1, 2,\n",
       "       2, 2, 2, 2, 2])"
      ]
     },
     "execution_count": 14,
     "metadata": {},
     "output_type": "execute_result"
    }
   ],
   "source": [
    "y_train"
   ]
  },
  {
   "cell_type": "code",
   "execution_count": 15,
   "metadata": {
    "id": "0BTpLfjb_kAK",
    "outputId": "1b9a70ce-5467-4c68-fa88-ae8b64902e43"
   },
   "outputs": [
    {
     "data": {
      "text/plain": [
       "array([2, 2, 2, 2, 2, 2, 2, 1, 1, 2, 2, 2, 2, 2, 2, 2, 2, 1, 2, 2, 2, 2,\n",
       "       2, 2, 2, 1, 2, 2, 1, 1, 1, 1, 1, 2, 2, 2, 2, 1, 2, 1, 2, 1, 2, 2,\n",
       "       2, 2])"
      ]
     },
     "execution_count": 15,
     "metadata": {},
     "output_type": "execute_result"
    }
   ],
   "source": [
    "y_test"
   ]
  },
  {
   "cell_type": "code",
   "execution_count": null,
   "metadata": {
    "id": "IOC8mYGE_kAM"
   },
   "outputs": [],
   "source": []
  },
  {
   "cell_type": "markdown",
   "metadata": {
    "id": "JqIr_4b7rVrn"
   },
   "source": [
    "# SVM Model Dev"
   ]
  },
  {
   "cell_type": "code",
   "execution_count": 16,
   "metadata": {
    "colab": {
     "base_uri": "https://localhost:8080/"
    },
    "id": "eiQm6VklrUWZ",
    "outputId": "de5d6fde-aef9-46eb-abf3-a8cdc61c17f8"
   },
   "outputs": [
    {
     "data": {
      "text/plain": [
       "SVC(class_weight='balanced')"
      ]
     },
     "execution_count": 16,
     "metadata": {},
     "output_type": "execute_result"
    }
   ],
   "source": [
    "clf = svm.SVC(kernel='rbf', class_weight=\"balanced\")\n",
    "clf.fit(X_train, y_train.ravel())"
   ]
  },
  {
   "cell_type": "code",
   "execution_count": 17,
   "metadata": {
    "id": "18D2ob4nrbet"
   },
   "outputs": [],
   "source": [
    "# import pickle\n",
    "# s = pickle.dumps(clf)"
   ]
  },
  {
   "cell_type": "code",
   "execution_count": 18,
   "metadata": {
    "colab": {
     "base_uri": "https://localhost:8080/"
    },
    "id": "6YOKMWa9wcNt",
    "outputId": "9aedcb35-6cc5-4e28-b763-d7cbbda2e972"
   },
   "outputs": [
    {
     "data": {
      "text/plain": [
       "array([2, 2, 1, 2, 2, 1, 1, 2, 2, 1, 1, 2, 1, 2, 1, 1, 2, 1, 2, 1, 2, 2,\n",
       "       1, 2, 2, 1, 2, 1, 2, 1, 2, 1, 1, 2, 2, 2, 2, 2, 1, 1, 2, 2, 2, 1,\n",
       "       1, 1])"
      ]
     },
     "execution_count": 18,
     "metadata": {},
     "output_type": "execute_result"
    }
   ],
   "source": [
    "y_hat_svm = clf.predict(X_test)\n",
    "y_hat_svm"
   ]
  },
  {
   "cell_type": "markdown",
   "metadata": {
    "id": "u_oQufJjwibZ"
   },
   "source": [
    "## Model Eval"
   ]
  },
  {
   "cell_type": "code",
   "execution_count": 19,
   "metadata": {
    "colab": {
     "base_uri": "https://localhost:8080/"
    },
    "id": "vgx6O7upwobs",
    "outputId": "2e7767ff-e5ad-4811-b671-df866e8689a0"
   },
   "outputs": [
    {
     "name": "stdout",
     "output_type": "stream",
     "text": [
      "              precision    recall  f1-score   support\n",
      "\n",
      "           1       0.29      0.50      0.36        12\n",
      "           2       0.76      0.56      0.64        34\n",
      "\n",
      "    accuracy                           0.54        46\n",
      "   macro avg       0.52      0.53      0.50        46\n",
      "weighted avg       0.64      0.54      0.57        46\n",
      "\n"
     ]
    }
   ],
   "source": [
    "print (classification_report(y_test, y_hat_svm))"
   ]
  },
  {
   "cell_type": "code",
   "execution_count": 20,
   "metadata": {
    "colab": {
     "base_uri": "https://localhost:8080/"
    },
    "id": "ywAebt6gwu7b",
    "outputId": "e6753762-cd8a-47f5-b32c-d17549ed3c97"
   },
   "outputs": [
    {
     "data": {
      "text/plain": [
       "0.5709117706170028"
      ]
     },
     "execution_count": 20,
     "metadata": {},
     "output_type": "execute_result"
    }
   ],
   "source": [
    "f1_score(y_test, y_hat_svm, average='weighted')"
   ]
  },
  {
   "cell_type": "code",
   "execution_count": 21,
   "metadata": {
    "colab": {
     "base_uri": "https://localhost:8080/"
    },
    "id": "osH0vs8LwxVj",
    "outputId": "ff5ba5e4-69d6-4ae5-8482-f407ebdf3ce2"
   },
   "outputs": [
    {
     "ename": "NameError",
     "evalue": "name 'jaccard_similarity_score' is not defined",
     "output_type": "error",
     "traceback": [
      "\u001b[1;31m---------------------------------------------------------------------------\u001b[0m",
      "\u001b[1;31mNameError\u001b[0m                                 Traceback (most recent call last)",
      "\u001b[1;32m<ipython-input-21-ec0d5cb97217>\u001b[0m in \u001b[0;36m<module>\u001b[1;34m\u001b[0m\n\u001b[1;32m----> 1\u001b[1;33m \u001b[0mjaccard_similarity_score\u001b[0m\u001b[1;33m(\u001b[0m\u001b[0my_test\u001b[0m\u001b[1;33m,\u001b[0m \u001b[0my_hat_svm\u001b[0m\u001b[1;33m)\u001b[0m\u001b[1;33m\u001b[0m\u001b[1;33m\u001b[0m\u001b[0m\n\u001b[0m",
      "\u001b[1;31mNameError\u001b[0m: name 'jaccard_similarity_score' is not defined"
     ]
    }
   ],
   "source": [
    "jaccard_similarity_score(y_test, y_hat_svm)"
   ]
  },
  {
   "cell_type": "code",
   "execution_count": null,
   "metadata": {
    "colab": {
     "base_uri": "https://localhost:8080/"
    },
    "id": "ifbJFjFhwzzX",
    "outputId": "0ca5a570-0b62-43e8-853d-5b2a2ca5463c"
   },
   "outputs": [],
   "source": [
    "confusion_matrix(y_test, y_hat_svm, labels=[1,2])"
   ]
  },
  {
   "cell_type": "markdown",
   "metadata": {
    "id": "DLf9kY_e15V-"
   },
   "source": [
    "# Decision Tree\n"
   ]
  },
  {
   "cell_type": "code",
   "execution_count": null,
   "metadata": {
    "colab": {
     "base_uri": "https://localhost:8080/"
    },
    "id": "HLMX6mvQ14eE",
    "outputId": "ad357863-d570-4ba1-a782-b654424556a1"
   },
   "outputs": [],
   "source": [
    "pestTree = DecisionTreeClassifier(criterion=\"entropy\", splitter='best', max_depth = 10)\n",
    "pestTree.fit(X_train, y_train)"
   ]
  },
  {
   "cell_type": "code",
   "execution_count": null,
   "metadata": {
    "colab": {
     "base_uri": "https://localhost:8080/"
    },
    "id": "piGCWnUx2G6a",
    "outputId": "f3337f32-d582-4e53-b9ef-f0a7c334945c"
   },
   "outputs": [],
   "source": [
    "predTree = pestTree.predict(X_test)\n",
    "predTree[0:5]"
   ]
  },
  {
   "cell_type": "code",
   "execution_count": null,
   "metadata": {
    "colab": {
     "base_uri": "https://localhost:8080/"
    },
    "id": "KHiSy2Ky2MeG",
    "outputId": "65c31b00-01b3-491d-e836-ebee573045c3"
   },
   "outputs": [],
   "source": [
    "print(\"DecisionTrees's Accuracy: \", metrics.accuracy_score(y_test, predTree))"
   ]
  },
  {
   "cell_type": "code",
   "execution_count": null,
   "metadata": {
    "colab": {
     "base_uri": "https://localhost:8080/"
    },
    "id": "I8oOUBzi2N4W",
    "outputId": "dbf813c4-9321-43b7-ab37-92f2edb1754d"
   },
   "outputs": [],
   "source": [
    "pestTree.tree_.max_depth"
   ]
  },
  {
   "cell_type": "code",
   "execution_count": null,
   "metadata": {
    "colab": {
     "base_uri": "https://localhost:8080/"
    },
    "id": "zDpRLdivS_RD",
    "outputId": "58ec44f0-70e2-429e-b486-1d381761d768"
   },
   "outputs": [],
   "source": [
    "print (classification_report(y_test, predTree))"
   ]
  },
  {
   "cell_type": "code",
   "execution_count": null,
   "metadata": {
    "id": "ZMQPra6nWLNw"
   },
   "outputs": [],
   "source": [
    "#for i in 50: \n",
    "#  feat_arr = pestTree.feature_importances_"
   ]
  },
  {
   "cell_type": "code",
   "execution_count": null,
   "metadata": {
    "colab": {
     "base_uri": "https://localhost:8080/"
    },
    "id": "j5aM3kCBXSF-",
    "outputId": "e7bf7c0e-757e-437e-eca3-441b139b7839"
   },
   "outputs": [],
   "source": [
    "pestTree.feature_importances_"
   ]
  },
  {
   "cell_type": "code",
   "execution_count": null,
   "metadata": {
    "colab": {
     "base_uri": "https://localhost:8080/"
    },
    "id": "qiC4HA_bWSGD",
    "outputId": "1814cc3f-cd4a-457b-f4d2-118f2960770a"
   },
   "outputs": [],
   "source": [
    "pest_feats.columns"
   ]
  },
  {
   "cell_type": "code",
   "execution_count": null,
   "metadata": {
    "id": "6A1yaIQxQLk3"
   },
   "outputs": [],
   "source": [
    "#from sklearn.externals.six import StringIO\n",
    "# import pydotplus # provides a Python Interface to the Graphviz Dot language.\n",
    "# import matplotlib.image as mpimg\n",
    "# from sklearn import tree\n",
    "# %matplotlib inline \n",
    "\n",
    "# dot_data = StringIO()\n",
    "# filename = \"pesttree.png\"\n",
    "# featureNames = pest_feats.columns[0:22]\n",
    "# targetNames = pest_data[\"Class\"].unique().tolist()\n",
    "\n",
    "# out=tree.export_graphviz(pestTree,feature_names=featureNames, out_file=dot_data, class_names= np.unique(y_train), filled=True,  special_characters=True,rotate=False)  \n",
    "# graph = pydotplus.graph_from_dot_data(dot_data.getvalue())  \n",
    "# graph.write_png(filename)\n",
    "\n",
    "# img = mpimg.imread(filename)\n",
    "# plt.figure(figsize=(100, 200))\n",
    "# plt.imshow(img,interpolation='nearest')"
   ]
  },
  {
   "cell_type": "markdown",
   "metadata": {
    "id": "UFVSqxtP2VMW"
   },
   "source": [
    "# Logistic Regression"
   ]
  },
  {
   "cell_type": "code",
   "execution_count": null,
   "metadata": {
    "colab": {
     "base_uri": "https://localhost:8080/"
    },
    "id": "hft8GOTd2VoT",
    "outputId": "e67df85a-3583-4611-eb7e-3f7f792a2d23"
   },
   "outputs": [],
   "source": [
    "LR = LogisticRegression(C=100, solver='saga').fit(X_train, y_train)\n",
    "y_hat_lr = LR.predict(X_test)\n",
    "y_hat_lr[0:10]"
   ]
  },
  {
   "cell_type": "code",
   "execution_count": null,
   "metadata": {
    "colab": {
     "base_uri": "https://localhost:8080/"
    },
    "id": "vi72rlie2bko",
    "outputId": "41fffc83-cd95-489d-9c77-e64115231694"
   },
   "outputs": [],
   "source": [
    "y_hat_prob = LR.predict_proba(X_test)\n",
    "y_hat_prob[0:10]"
   ]
  },
  {
   "cell_type": "code",
   "execution_count": null,
   "metadata": {
    "colab": {
     "base_uri": "https://localhost:8080/"
    },
    "id": "Wz0SrVM8SXSA",
    "outputId": "1c13214b-fead-445b-e656-0f2b79f88825"
   },
   "outputs": [],
   "source": [
    "print (classification_report(y_test, y_hat_lr))"
   ]
  },
  {
   "cell_type": "code",
   "execution_count": null,
   "metadata": {
    "id": "ynTsYvPa_kAe"
   },
   "outputs": [],
   "source": []
  },
  {
   "cell_type": "code",
   "execution_count": null,
   "metadata": {
    "id": "CuAWqHOi_kAf"
   },
   "outputs": [],
   "source": []
  },
  {
   "cell_type": "code",
   "execution_count": null,
   "metadata": {},
   "outputs": [],
   "source": []
  }
 ],
 "metadata": {
  "colab": {
   "name": "PesticideBinary_updated_with_PCA.ipynb",
   "provenance": []
  },
  "kernelspec": {
   "display_name": "Python 3",
   "language": "python",
   "name": "python3"
  },
  "language_info": {
   "codemirror_mode": {
    "name": "ipython",
    "version": 3
   },
   "file_extension": ".py",
   "mimetype": "text/x-python",
   "name": "python",
   "nbconvert_exporter": "python",
   "pygments_lexer": "ipython3",
   "version": "3.8.8"
  },
  "toc": {
   "base_numbering": 1,
   "nav_menu": {},
   "number_sections": true,
   "sideBar": true,
   "skip_h1_title": false,
   "title_cell": "Table of Contents",
   "title_sidebar": "Contents",
   "toc_cell": false,
   "toc_position": {},
   "toc_section_display": true,
   "toc_window_display": false
  }
 },
 "nbformat": 4,
 "nbformat_minor": 1
}
