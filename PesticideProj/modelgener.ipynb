{
 "cells": [
  {
   "cell_type": "code",
   "execution_count": 2,
   "metadata": {},
   "outputs": [],
   "source": [
    "import numpy as np\n",
    "import pandas as pd\n",
    "pest_data = pd.read_csv(\"Data/BinaryPesticideData.csv\", delimiter=\",\")\n",
    "pest_data = pest_data.drop(['LOD'], axis=1)\n",
    "\n",
    "X = pest_data[['ExactMolWt', 'HeavyAtomMolWt', 'NumValenceElectrons', 'HeavyAtomCount', 'NHOHCount', \n",
    "                        'NOCount', 'NumAliphaticCarbocycles', 'NumAliphaticHeterocycles', 'NumAliphaticRings', \n",
    "                        'NumAromaticCarbocycles', 'NumAromaticHeterocycles', 'NumAromaticRings', 'NumHAcceptors', \n",
    "                        'NumHDonors', 'NumHeteroatoms', 'NumRotatableBonds', 'NumSaturatedCarbocycles', \n",
    "                        'NumSaturatedHeterocycles', 'NumSaturatedRings', 'RingCount', 'Halogens', \"MolecularWeight\", \n",
    "                        \"XLogP\", \"ExactMass\", \"TPSA\", \"Complexity\", \"Charge\", \"HBondDonorCount\", \n",
    "                        \"HBondAcceptorCount\", \"RotatableBondCount\", \"HeavyAtomCount\", \"IsotopeAtomCount\", \"AtomStereoCount\", \n",
    "                        \"DefinedAtomStereoCount\", \"UndefinedAtomStereoCount\", \"BondStereoCount\", \"DefinedBondStereoCount\", \n",
    "                        \"UndefinedBondStereoCount\", \"CovalentUnitCount\",\"Volume3D\", \"XStericQuadrupole3D\", \"YStericQuadrupole3D\", \n",
    "                        \"ZStericQuadrupole3D\", \"FeatureCount3D\", \"FeatureAcceptorCount3D\", \"FeatureDonorCount3D\", \"FeatureAnionCount3D\", \n",
    "                        \"FeatureCationCount3D\", \"FeatureRingCount3D\", \"FeatureHydrophobeCount3D\", \"ConformerModelRMSD3D\", \n",
    "                        \"EffectiveRotorCount3D\", \"ConformerCount3D\"]].values\n",
    "\n",
    "\n",
    "y = pest_data[['Class']].values\n",
    "y_array = pest_data[['Class']].to_numpy()\n",
    "\n",
    "from sklearn.model_selection import train_test_split\n",
    "X_train, X_test, y_train, y_test = train_test_split(X, y, test_size = 0.2, shuffle=True) #random_state = 3\n",
    "\n"
   ]
  },
  {
   "cell_type": "code",
   "execution_count": 85,
   "metadata": {},
   "outputs": [
    {
     "name": "stdout",
     "output_type": "stream",
     "text": [
      "100%|██████████| 1/1 [00:18<00:00, 18.08s/trial, best loss: 0.4358974358974359]\n",
      "100%|██████████| 2/2 [00:14<00:00, 14.24s/trial, best loss: 0.28205128205128205]\n",
      "100%|██████████| 3/3 [00:06<00:00,  6.85s/trial, best loss: 0.28205128205128205]\n",
      "100%|██████████| 4/4 [00:07<00:00,  7.51s/trial, best loss: 0.28205128205128205]\n",
      "100%|██████████| 5/5 [00:07<00:00,  7.77s/trial, best loss: 0.28205128205128205]\n",
      "100%|██████████| 6/6 [00:06<00:00,  6.53s/trial, best loss: 0.28205128205128205]\n",
      "100%|██████████| 7/7 [00:12<00:00, 12.24s/trial, best loss: 0.2564102564102564]\n",
      "100%|██████████| 8/8 [00:14<00:00, 14.58s/trial, best loss: 0.2564102564102564]\n",
      "100%|██████████| 9/9 [00:09<00:00,  9.31s/trial, best loss: 0.2564102564102564]\n",
      "100%|██████████| 10/10 [00:08<00:00,  8.49s/trial, best loss: 0.2564102564102564]\n",
      "100%|██████████| 11/11 [00:09<00:00,  9.56s/trial, best loss: 0.2564102564102564]\n",
      "100%|██████████| 12/12 [00:10<00:00, 10.60s/trial, best loss: 0.2564102564102564]\n",
      "100%|██████████| 13/13 [00:09<00:00,  9.99s/trial, best loss: 0.2564102564102564]\n",
      "100%|██████████| 14/14 [00:10<00:00, 10.74s/trial, best loss: 0.2564102564102564]\n",
      "100%|██████████| 15/15 [00:12<00:00, 12.07s/trial, best loss: 0.2564102564102564]\n",
      "100%|██████████| 16/16 [00:13<00:00, 13.75s/trial, best loss: 0.2564102564102564]\n",
      "100%|██████████| 17/17 [00:13<00:00, 13.61s/trial, best loss: 0.2564102564102564]\n",
      "100%|██████████| 18/18 [00:09<00:00,  9.71s/trial, best loss: 0.23076923076923073]\n",
      "100%|██████████| 19/19 [00:10<00:00, 10.72s/trial, best loss: 0.23076923076923073]\n",
      "100%|██████████| 20/20 [00:09<00:00,  9.04s/trial, best loss: 0.23076923076923073]\n",
      "100%|██████████| 21/21 [00:06<00:00,  6.71s/trial, best loss: 0.23076923076923073]\n",
      "100%|██████████| 22/22 [00:05<00:00,  5.95s/trial, best loss: 0.23076923076923073]\n",
      "100%|██████████| 23/23 [00:12<00:00, 12.84s/trial, best loss: 0.23076923076923073]\n",
      "100%|██████████| 24/24 [00:08<00:00,  8.17s/trial, best loss: 0.23076923076923073]\n",
      "100%|██████████| 25/25 [00:06<00:00,  6.60s/trial, best loss: 0.23076923076923073]\n",
      "100%|██████████| 26/26 [00:20<00:00, 20.71s/trial, best loss: 0.23076923076923073]\n",
      "100%|██████████| 27/27 [00:21<00:00, 21.86s/trial, best loss: 0.23076923076923073]\n",
      "100%|██████████| 28/28 [00:39<00:00, 39.64s/trial, best loss: 0.23076923076923073]\n",
      " 97%|█████████▋| 28/29 [00:23<?, ?trial/s, best loss=?]\n"
     ]
    }
   ],
   "source": [
    "from hpsklearn import HyperoptEstimator #any_sparse_classifier\n",
    "from hyperopt import tpe\n",
    "from hpsklearn import k_neighbors_classifier\n",
    "\n",
    "model_KNN = HyperoptEstimator(classifier=k_neighbors_classifier('myKNN'), algo=tpe.suggest, max_evals=300, trial_timeout=500)\n",
    "# perform the search\n",
    "model_KNN.fit(X_train, y_train.ravel())"
   ]
  },
  {
   "cell_type": "code",
   "execution_count": 4,
   "metadata": {},
   "outputs": [
    {
     "name": "stdout",
     "output_type": "stream",
     "text": [
      "0.5208333333333334\n",
      "{'learner': DecisionTreeClassifier(criterion='entropy', max_features=0.025940389422746013,\n",
      "                       random_state=2), 'preprocs': (Normalizer(norm='max'),), 'ex_preprocs': ()}\n"
     ]
    }
   ],
   "source": [
    "# show the results\n",
    "print(model_KNN.score(X_test, y_test))\n",
    "print(model_KNN.best_model())"
   ]
  },
  {
   "cell_type": "code",
   "execution_count": 5,
   "metadata": {},
   "outputs": [
    {
     "data": {
      "text/plain": [
       "array([2, 2, 1, 2, 2, 2, 1, 2, 2, 2, 2, 2, 2, 2, 2, 2, 2, 2, 2, 1, 2, 2,\n",
       "       1, 1, 1, 1, 2, 2, 1, 2, 2, 2, 2, 2, 2, 2, 2, 2, 1, 2, 2, 1, 2, 2,\n",
       "       2, 2, 1, 1], dtype=int64)"
      ]
     },
     "execution_count": 5,
     "metadata": {},
     "output_type": "execute_result"
    }
   ],
   "source": [
    "model_KNN.predict(X_test)"
   ]
  },
  {
   "cell_type": "code",
   "execution_count": 80,
   "metadata": {},
   "outputs": [],
   "source": [
    "import flask\n",
    "import pickle\n",
    "from urllib.request import urlopen\n",
    "from urllib.parse import quote\n",
    "from rdkit import Chem\n",
    "from rdkit.Chem import Descriptors\n",
    "from rdkit.Chem import Lipinski\n",
    "from rdkit.Chem import Fragments\n",
    "import pubchempy as pcp\n",
    "\n",
    "\n",
    "def genDesc(name):\n",
    "    sm = CIRconvert(name)\n",
    "    mol = Chem.MolFromSmiles(sm)\n",
    "    desc = []\n",
    "\n",
    "    #RDKit descriptors\n",
    "    desc.append(Descriptors.ExactMolWt(mol))\n",
    "    desc.append(Descriptors.HeavyAtomMolWt(mol))\n",
    "    desc.append(Descriptors.NumValenceElectrons(mol))\n",
    "    desc.append(Lipinski.HeavyAtomCount(mol))\n",
    "    desc.append(Lipinski.NHOHCount(mol))\n",
    "    desc.append(Lipinski.NOCount(mol))\n",
    "    desc.append(Lipinski.NumAliphaticCarbocycles(mol))\n",
    "    desc.append(Lipinski.NumAliphaticHeterocycles(mol))\n",
    "    desc.append(Lipinski.NumAliphaticRings(mol))\n",
    "    desc.append(Lipinski.NumAromaticCarbocycles(mol))\n",
    "    desc.append(Lipinski.NumAromaticHeterocycles(mol))\n",
    "    desc.append(Lipinski.NumAromaticRings(mol))\n",
    "    desc.append(Lipinski.NumHAcceptors(mol))\n",
    "    desc.append(Lipinski.NumHDonors(mol))\n",
    "    desc.append(Lipinski.NumHeteroatoms(mol))\n",
    "    desc.append(Lipinski.NumRotatableBonds(mol))\n",
    "    desc.append(Lipinski.NumSaturatedCarbocycles(mol))\n",
    "    desc.append(Lipinski.NumSaturatedHeterocycles(mol))\n",
    "    desc.append(Lipinski.NumSaturatedRings(mol))\n",
    "    desc.append(Lipinski.RingCount(mol))\n",
    "    desc.append(Fragments.fr_halogen(mol))\n",
    "    #return desc.values\n",
    "\n",
    "    descDF = pd.DataFrame(np.reshape(desc, (1, -1)), columns = ['ExactMolWt', 'HeavyAtomMolWt', 'NumValenceElectrons', 'HeavyAtomCount', 'NHOHCount', \n",
    "                        'NOCount', 'NumAliphaticCarbocycles', 'NumAliphaticHeterocycles', 'NumAliphaticRings', \n",
    "                        'NumAromaticCarbocycles', 'NumAromaticHeterocycles', 'NumAromaticRings', 'NumHAcceptors', \n",
    "                        'NumHDonors', 'NumHeteroatoms', 'NumRotatableBonds', 'NumSaturatedCarbocycles', \n",
    "                        'NumSaturatedHeterocycles', 'NumSaturatedRings', 'RingCount', 'Halogens'], index = [pcp.get_compounds(sm, \"smiles\")[0].cid])\n",
    "\n",
    "    #PubChem descriptors\n",
    "    features_2D = [\"MolecularWeight\", \"XLogP\", \"ExactMass\", \"TPSA\",\n",
    "                   \"Complexity\", \"Charge\", \"HBondDonorCount\", \"HBondAcceptorCount\", \"RotatableBondCount\",\n",
    "               \"HeavyAtomCount\", \"IsotopeAtomCount\", \"AtomStereoCount\", \"DefinedAtomStereoCount\", \"UndefinedAtomStereoCount\",\n",
    "               \"BondStereoCount\", \"DefinedBondStereoCount\", \"UndefinedBondStereoCount\", \"CovalentUnitCount\"]\n",
    "    desc_2D = pcp.get_properties(features_2D, sm, \"smiles\", as_dataframe=True)\n",
    "\n",
    "    features_3D = [\"Volume3D\", \"XStericQuadrupole3D\", \"YStericQuadrupole3D\", \"ZStericQuadrupole3D\", \"FeatureCount3D\",\n",
    "               \"FeatureAcceptorCount3D\", \"FeatureDonorCount3D\", \"FeatureAnionCount3D\", \"FeatureCationCount3D\",\n",
    "               \"FeatureRingCount3D\", \"FeatureHydrophobeCount3D\", \"ConformerModelRMSD3D\", \"EffectiveRotorCount3D\",\n",
    "               \"ConformerCount3D\"]\n",
    "    desc_3D = pcp.get_properties(features_3D, sm, \"smiles\", as_dataframe=True)\n",
    "    \n",
    "    overall = pd.concat([descDF, desc_2D, desc_3D], axis=1)\n",
    "    return overall\n",
    "\n",
    "def CIRconvert(ids):\n",
    "    try:\n",
    "        url = 'http://cactus.nci.nih.gov/chemical/structure/' + quote(ids) + '/smiles'\n",
    "        ans = urlopen(url).read().decode('utf8')\n",
    "        return ans\n",
    "    except:\n",
    "        return 'Did not work'\n",
    "\n"
   ]
  },
  {
   "cell_type": "code",
   "execution_count": 83,
   "metadata": {},
   "outputs": [
    {
     "data": {
      "text/plain": [
       "2"
      ]
     },
     "execution_count": 83,
     "metadata": {},
     "output_type": "execute_result"
    }
   ],
   "source": [
    "input_variables = genDesc(\"Carfentrazone ethyl\")\n",
    "model_DT.predict(input_variables)[0]"
   ]
  },
  {
   "cell_type": "markdown",
   "metadata": {},
   "source": []
  },
  {
   "cell_type": "code",
   "execution_count": null,
   "metadata": {},
   "outputs": [],
   "source": [
    "# save the best model\n",
    "import pickle\n",
    "with open('model_DT.pkl', 'wb') as f:\n",
    "    pickle.dump(model_DT, f)\n"
   ]
  }
 ],
 "metadata": {
  "kernelspec": {
   "display_name": "Python 3.10.8 64-bit",
   "language": "python",
   "name": "python3"
  },
  "language_info": {
   "codemirror_mode": {
    "name": "ipython",
    "version": 3
   },
   "file_extension": ".py",
   "mimetype": "text/x-python",
   "name": "python",
   "nbconvert_exporter": "python",
   "pygments_lexer": "ipython3",
   "version": "3.10.8"
  },
  "orig_nbformat": 4,
  "vscode": {
   "interpreter": {
    "hash": "521de7ff804989fc31d613f27fd0adb1b30586ac386b7ed63c994752af7c36a5"
   }
  }
 },
 "nbformat": 4,
 "nbformat_minor": 2
}
